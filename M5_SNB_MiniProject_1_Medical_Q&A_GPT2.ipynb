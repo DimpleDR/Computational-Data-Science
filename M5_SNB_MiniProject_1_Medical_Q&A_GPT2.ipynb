{
  "cells": [
    {
      "cell_type": "markdown",
      "metadata": {
        "id": "view-in-github",
        "colab_type": "text"
      },
      "source": [
        "<a href=\"https://colab.research.google.com/github/DimpleDR/Computational-Data-Science/blob/Projects/M5_SNB_MiniProject_1_Medical_Q%26A_GPT2.ipynb\" target=\"_parent\"><img src=\"https://colab.research.google.com/assets/colab-badge.svg\" alt=\"Open In Colab\"/></a>"
      ]
    },
    {
      "cell_type": "markdown",
      "metadata": {
        "id": "hNgLag1Euy3H"
      },
      "source": [
        "# Advanced Certification Program in Computational Data Science\n",
        "## A programme by IISc and TalentSprint\n",
        "### Mini-Project: Medical Q&A using GPT2"
      ]
    },
    {
      "cell_type": "markdown",
      "metadata": {
        "id": "n-kxaHhwXEp9"
      },
      "source": [
        "**DISCLAIMER:** THIS NOTEBOOK IS PROVIDED ONLY AS A REFERENCE SOLUTION NOTEBOOK FOR THE MINI-PROJECT. THERE MAY BE OTHER POSSIBLE APPROACHES/METHODS TO ACHIEVE THE SAME RESULTS."
      ]
    },
    {
      "cell_type": "markdown",
      "metadata": {
        "id": "-tdtrlAhvIHY"
      },
      "source": [
        "## Learning Objectives\n",
        "\n",
        "At the end of the experiment, you will be able to:\n",
        "\n",
        "* perform data preprocessing, EDA and feature extraction on the Medical Q&A dataset\n",
        "* load a pre-trained tokenizer\n",
        "* finetune a GPT-2 language model for medical question-answering"
      ]
    },
    {
      "cell_type": "markdown",
      "metadata": {
        "id": "2nmP8OaXuO--"
      },
      "source": [
        "## Dataset Description\n",
        "\n",
        "The dataset used in this project is the *Medical Question Answering Dataset* ([MedQuAD](https://github.com/abachaa/MedQuAD/tree/master)). It includes medical question-answer pairs along with additional information, such as the question type, the question *focus*, its UMLS(Unified Medical Language System) details like - Concept Unique Identifier(*CUI*) and Semantic *Type* and *Group*.\n",
        "\n",
        "To know more about this data's collection, and construction method, refer to this [paper](https://bmcbioinformatics.biomedcentral.com/articles/10.1186/s12859-019-3119-4).\n",
        "\n",
        "The data is extracted and is in CSV format with below features:\n",
        "\n",
        "- **Focus**: the question focus\n",
        "- **CUI**: concept unique identifier\n",
        "- **SemanticType**\n",
        "- **SemanticGroup**\n",
        "- **Question**\n",
        "- **Answer**"
      ]
    },
    {
      "cell_type": "markdown",
      "metadata": {
        "id": "R7ZV5ryMP07f"
      },
      "source": [
        "## Part-A: Grading = 10 Points"
      ]
    },
    {
      "cell_type": "markdown",
      "metadata": {
        "id": "4Pped-3NPaDV"
      },
      "source": [
        "## Information"
      ]
    },
    {
      "cell_type": "markdown",
      "metadata": {
        "id": "dW4w8T3jEPhi"
      },
      "source": [
        "Healthcare professionals often have to refer to medical literature and documents while seeking answers to medical queries. Medical databases or search engines are powerful resources of upto date medical knowledge. However, the existing documentation is large and makes it difficult for professionals to retrieve answers quickly in a clinical setting. The problem with search engines and informative retrieval engines is that these systems return a list of documents rather than answers. Instead, healthcare professionals can use question answering systems to retrieve short sentences or paragraphs in response to medical queries. Such systems have the biggest advantage of generating answers and providing hints in a few seconds."
      ]
    },
    {
      "cell_type": "markdown",
      "metadata": {
        "id": "YN15WtbfwPkB"
      },
      "source": [
        "### Problem Statement"
      ]
    },
    {
      "cell_type": "markdown",
      "metadata": {
        "id": "R8_CoX7swR14"
      },
      "source": [
        "Fine-tune gpt2 model on medical-question-answering-dataset for performing response generation for medical queries.\n",
        "\n",
        "Please refer to ***M6 Assignment-1 Fine-tune GPT2*** to get familiar with how to load pre-trained gpt2 tokenizer and model."
      ]
    },
    {
      "cell_type": "markdown",
      "metadata": {
        "id": "9RH8Ecq9sbYU"
      },
      "source": [
        "### Import required packages"
      ]
    },
    {
      "cell_type": "code",
      "execution_count": 1,
      "metadata": {
        "id": "74vfKQ0RtRkR",
        "colab": {
          "base_uri": "https://localhost:8080/"
        },
        "outputId": "c2dde294-11fb-4625-a1c4-aede97297be1"
      },
      "outputs": [
        {
          "output_type": "stream",
          "name": "stdout",
          "text": [
            "\u001b[2K   \u001b[90m━━━━━━━━━━━━━━━━━━━━━━━━━━━━━━━━━━━━━━━━\u001b[0m \u001b[32m336.4/336.4 kB\u001b[0m \u001b[31m18.7 MB/s\u001b[0m eta \u001b[36m0:00:00\u001b[0m\n",
            "\u001b[2K     \u001b[90m━━━━━━━━━━━━━━━━━━━━━━━━━━━━━━━━━━━━━━━━\u001b[0m \u001b[32m44.1/44.1 kB\u001b[0m \u001b[31m3.1 MB/s\u001b[0m eta \u001b[36m0:00:00\u001b[0m\n",
            "\u001b[2K   \u001b[90m━━━━━━━━━━━━━━━━━━━━━━━━━━━━━━━━━━━━━━━━\u001b[0m \u001b[32m10.1/10.1 MB\u001b[0m \u001b[31m69.2 MB/s\u001b[0m eta \u001b[36m0:00:00\u001b[0m\n",
            "\u001b[2K   \u001b[90m━━━━━━━━━━━━━━━━━━━━━━━━━━━━━━━━━━━━━━━━\u001b[0m \u001b[32m3.0/3.0 MB\u001b[0m \u001b[31m60.5 MB/s\u001b[0m eta \u001b[36m0:00:00\u001b[0m\n",
            "\u001b[?25h"
          ]
        }
      ],
      "source": [
        "!pip -q install -U accelerate\n",
        "!pip -q install -U transformers\n",
        "!pip -q install torch"
      ]
    },
    {
      "cell_type": "code",
      "execution_count": 2,
      "metadata": {
        "id": "JfqnHAnMYfWF"
      },
      "outputs": [],
      "source": [
        "import os\n",
        "import re\n",
        "import numpy as np\n",
        "import pandas as pd\n",
        "import matplotlib.pyplot as plt\n",
        "from sklearn.model_selection import train_test_split\n",
        "import torch\n",
        "from transformers import GPT2Tokenizer, GPT2LMHeadModel, TextDataset, DataCollatorForLanguageModeling\n",
        "from transformers import Trainer, TrainingArguments\n",
        "\n",
        "import warnings\n",
        "warnings.filterwarnings('ignore')"
      ]
    },
    {
      "cell_type": "code",
      "execution_count": 3,
      "metadata": {
        "cellView": "form",
        "id": "G0_3Qr2nI7B6",
        "colab": {
          "base_uri": "https://localhost:8080/"
        },
        "outputId": "06d6e011-f049-4171-e82a-f87e403a3d7a"
      },
      "outputs": [
        {
          "output_type": "stream",
          "name": "stdout",
          "text": [
            "MedQuAD.csv\n"
          ]
        }
      ],
      "source": [
        "#@title Download the dataset\n",
        "!wget -q https://cdn.iisc.talentsprint.com/AIandMLOps/MiniProjects/Datasets/MedQuAD.csv\n",
        "!ls | grep \".csv\""
      ]
    },
    {
      "cell_type": "markdown",
      "metadata": {
        "id": "T3FkLI6wcaat"
      },
      "source": [
        "**Exercise 1: Read the MedQuAD.csv dataset**\n",
        "\n",
        "**Hint:** pd.read_csv()"
      ]
    },
    {
      "cell_type": "code",
      "execution_count": 4,
      "metadata": {
        "id": "m8Uwi8cYJ0Ia",
        "colab": {
          "base_uri": "https://localhost:8080/"
        },
        "outputId": "e21d7507-7fc4-4f8c-81f8-2e1b15a80a22"
      },
      "outputs": [
        {
          "output_type": "execute_result",
          "data": {
            "text/plain": [
              "(16412, 6)"
            ]
          },
          "metadata": {},
          "execution_count": 4
        }
      ],
      "source": [
        "df = pd.read_csv(\"MedQuAD.csv\")\n",
        "df.shape"
      ]
    },
    {
      "cell_type": "code",
      "execution_count": 5,
      "metadata": {
        "id": "P-J6gSL_J9kQ",
        "colab": {
          "base_uri": "https://localhost:8080/",
          "height": 292
        },
        "outputId": "c8676208-98f3-4f2d-c77c-8f04d98b58ed"
      },
      "outputs": [
        {
          "output_type": "execute_result",
          "data": {
            "text/plain": [
              "                                Focus       CUI SemanticType SemanticGroup  \\\n",
              "0  Adult Acute Lymphoblastic Leukemia  C0751606         T191     Disorders   \n",
              "1  Adult Acute Lymphoblastic Leukemia  C0751606         T191     Disorders   \n",
              "2  Adult Acute Lymphoblastic Leukemia  C0751606         T191     Disorders   \n",
              "3  Adult Acute Lymphoblastic Leukemia  C0751606         T191     Disorders   \n",
              "4  Adult Acute Lymphoblastic Leukemia  C0751606         T191     Disorders   \n",
              "\n",
              "                                            Question  \\\n",
              "0  What is (are) Adult Acute Lymphoblastic Leukem...   \n",
              "1  What are the symptoms of Adult Acute Lymphobla...   \n",
              "2  How to diagnose Adult Acute Lymphoblastic Leuk...   \n",
              "3  What is the outlook for Adult Acute Lymphoblas...   \n",
              "4  Who is at risk for Adult Acute Lymphoblastic L...   \n",
              "\n",
              "                                              Answer  \n",
              "0  Key Points - Adult acute lymphoblastic leukemi...  \n",
              "1  Signs and symptoms of adult ALL include fever,...  \n",
              "2  Tests that examine the blood and bone marrow a...  \n",
              "3  Certain factors affect prognosis (chance of re...  \n",
              "4  Previous chemotherapy and exposure to radiatio...  "
            ],
            "text/html": [
              "\n",
              "  <div id=\"df-2ac48963-cd9f-49c0-8a3e-78589f5c627a\" class=\"colab-df-container\">\n",
              "    <div>\n",
              "<style scoped>\n",
              "    .dataframe tbody tr th:only-of-type {\n",
              "        vertical-align: middle;\n",
              "    }\n",
              "\n",
              "    .dataframe tbody tr th {\n",
              "        vertical-align: top;\n",
              "    }\n",
              "\n",
              "    .dataframe thead th {\n",
              "        text-align: right;\n",
              "    }\n",
              "</style>\n",
              "<table border=\"1\" class=\"dataframe\">\n",
              "  <thead>\n",
              "    <tr style=\"text-align: right;\">\n",
              "      <th></th>\n",
              "      <th>Focus</th>\n",
              "      <th>CUI</th>\n",
              "      <th>SemanticType</th>\n",
              "      <th>SemanticGroup</th>\n",
              "      <th>Question</th>\n",
              "      <th>Answer</th>\n",
              "    </tr>\n",
              "  </thead>\n",
              "  <tbody>\n",
              "    <tr>\n",
              "      <th>0</th>\n",
              "      <td>Adult Acute Lymphoblastic Leukemia</td>\n",
              "      <td>C0751606</td>\n",
              "      <td>T191</td>\n",
              "      <td>Disorders</td>\n",
              "      <td>What is (are) Adult Acute Lymphoblastic Leukem...</td>\n",
              "      <td>Key Points - Adult acute lymphoblastic leukemi...</td>\n",
              "    </tr>\n",
              "    <tr>\n",
              "      <th>1</th>\n",
              "      <td>Adult Acute Lymphoblastic Leukemia</td>\n",
              "      <td>C0751606</td>\n",
              "      <td>T191</td>\n",
              "      <td>Disorders</td>\n",
              "      <td>What are the symptoms of Adult Acute Lymphobla...</td>\n",
              "      <td>Signs and symptoms of adult ALL include fever,...</td>\n",
              "    </tr>\n",
              "    <tr>\n",
              "      <th>2</th>\n",
              "      <td>Adult Acute Lymphoblastic Leukemia</td>\n",
              "      <td>C0751606</td>\n",
              "      <td>T191</td>\n",
              "      <td>Disorders</td>\n",
              "      <td>How to diagnose Adult Acute Lymphoblastic Leuk...</td>\n",
              "      <td>Tests that examine the blood and bone marrow a...</td>\n",
              "    </tr>\n",
              "    <tr>\n",
              "      <th>3</th>\n",
              "      <td>Adult Acute Lymphoblastic Leukemia</td>\n",
              "      <td>C0751606</td>\n",
              "      <td>T191</td>\n",
              "      <td>Disorders</td>\n",
              "      <td>What is the outlook for Adult Acute Lymphoblas...</td>\n",
              "      <td>Certain factors affect prognosis (chance of re...</td>\n",
              "    </tr>\n",
              "    <tr>\n",
              "      <th>4</th>\n",
              "      <td>Adult Acute Lymphoblastic Leukemia</td>\n",
              "      <td>C0751606</td>\n",
              "      <td>T191</td>\n",
              "      <td>Disorders</td>\n",
              "      <td>Who is at risk for Adult Acute Lymphoblastic L...</td>\n",
              "      <td>Previous chemotherapy and exposure to radiatio...</td>\n",
              "    </tr>\n",
              "  </tbody>\n",
              "</table>\n",
              "</div>\n",
              "    <div class=\"colab-df-buttons\">\n",
              "\n",
              "  <div class=\"colab-df-container\">\n",
              "    <button class=\"colab-df-convert\" onclick=\"convertToInteractive('df-2ac48963-cd9f-49c0-8a3e-78589f5c627a')\"\n",
              "            title=\"Convert this dataframe to an interactive table.\"\n",
              "            style=\"display:none;\">\n",
              "\n",
              "  <svg xmlns=\"http://www.w3.org/2000/svg\" height=\"24px\" viewBox=\"0 -960 960 960\">\n",
              "    <path d=\"M120-120v-720h720v720H120Zm60-500h600v-160H180v160Zm220 220h160v-160H400v160Zm0 220h160v-160H400v160ZM180-400h160v-160H180v160Zm440 0h160v-160H620v160ZM180-180h160v-160H180v160Zm440 0h160v-160H620v160Z\"/>\n",
              "  </svg>\n",
              "    </button>\n",
              "\n",
              "  <style>\n",
              "    .colab-df-container {\n",
              "      display:flex;\n",
              "      gap: 12px;\n",
              "    }\n",
              "\n",
              "    .colab-df-convert {\n",
              "      background-color: #E8F0FE;\n",
              "      border: none;\n",
              "      border-radius: 50%;\n",
              "      cursor: pointer;\n",
              "      display: none;\n",
              "      fill: #1967D2;\n",
              "      height: 32px;\n",
              "      padding: 0 0 0 0;\n",
              "      width: 32px;\n",
              "    }\n",
              "\n",
              "    .colab-df-convert:hover {\n",
              "      background-color: #E2EBFA;\n",
              "      box-shadow: 0px 1px 2px rgba(60, 64, 67, 0.3), 0px 1px 3px 1px rgba(60, 64, 67, 0.15);\n",
              "      fill: #174EA6;\n",
              "    }\n",
              "\n",
              "    .colab-df-buttons div {\n",
              "      margin-bottom: 4px;\n",
              "    }\n",
              "\n",
              "    [theme=dark] .colab-df-convert {\n",
              "      background-color: #3B4455;\n",
              "      fill: #D2E3FC;\n",
              "    }\n",
              "\n",
              "    [theme=dark] .colab-df-convert:hover {\n",
              "      background-color: #434B5C;\n",
              "      box-shadow: 0px 1px 3px 1px rgba(0, 0, 0, 0.15);\n",
              "      filter: drop-shadow(0px 1px 2px rgba(0, 0, 0, 0.3));\n",
              "      fill: #FFFFFF;\n",
              "    }\n",
              "  </style>\n",
              "\n",
              "    <script>\n",
              "      const buttonEl =\n",
              "        document.querySelector('#df-2ac48963-cd9f-49c0-8a3e-78589f5c627a button.colab-df-convert');\n",
              "      buttonEl.style.display =\n",
              "        google.colab.kernel.accessAllowed ? 'block' : 'none';\n",
              "\n",
              "      async function convertToInteractive(key) {\n",
              "        const element = document.querySelector('#df-2ac48963-cd9f-49c0-8a3e-78589f5c627a');\n",
              "        const dataTable =\n",
              "          await google.colab.kernel.invokeFunction('convertToInteractive',\n",
              "                                                    [key], {});\n",
              "        if (!dataTable) return;\n",
              "\n",
              "        const docLinkHtml = 'Like what you see? Visit the ' +\n",
              "          '<a target=\"_blank\" href=https://colab.research.google.com/notebooks/data_table.ipynb>data table notebook</a>'\n",
              "          + ' to learn more about interactive tables.';\n",
              "        element.innerHTML = '';\n",
              "        dataTable['output_type'] = 'display_data';\n",
              "        await google.colab.output.renderOutput(dataTable, element);\n",
              "        const docLink = document.createElement('div');\n",
              "        docLink.innerHTML = docLinkHtml;\n",
              "        element.appendChild(docLink);\n",
              "      }\n",
              "    </script>\n",
              "  </div>\n",
              "\n",
              "\n",
              "<div id=\"df-ff17a1a4-7c12-4e34-992b-7d9a30be9b55\">\n",
              "  <button class=\"colab-df-quickchart\" onclick=\"quickchart('df-ff17a1a4-7c12-4e34-992b-7d9a30be9b55')\"\n",
              "            title=\"Suggest charts\"\n",
              "            style=\"display:none;\">\n",
              "\n",
              "<svg xmlns=\"http://www.w3.org/2000/svg\" height=\"24px\"viewBox=\"0 0 24 24\"\n",
              "     width=\"24px\">\n",
              "    <g>\n",
              "        <path d=\"M19 3H5c-1.1 0-2 .9-2 2v14c0 1.1.9 2 2 2h14c1.1 0 2-.9 2-2V5c0-1.1-.9-2-2-2zM9 17H7v-7h2v7zm4 0h-2V7h2v10zm4 0h-2v-4h2v4z\"/>\n",
              "    </g>\n",
              "</svg>\n",
              "  </button>\n",
              "\n",
              "<style>\n",
              "  .colab-df-quickchart {\n",
              "      --bg-color: #E8F0FE;\n",
              "      --fill-color: #1967D2;\n",
              "      --hover-bg-color: #E2EBFA;\n",
              "      --hover-fill-color: #174EA6;\n",
              "      --disabled-fill-color: #AAA;\n",
              "      --disabled-bg-color: #DDD;\n",
              "  }\n",
              "\n",
              "  [theme=dark] .colab-df-quickchart {\n",
              "      --bg-color: #3B4455;\n",
              "      --fill-color: #D2E3FC;\n",
              "      --hover-bg-color: #434B5C;\n",
              "      --hover-fill-color: #FFFFFF;\n",
              "      --disabled-bg-color: #3B4455;\n",
              "      --disabled-fill-color: #666;\n",
              "  }\n",
              "\n",
              "  .colab-df-quickchart {\n",
              "    background-color: var(--bg-color);\n",
              "    border: none;\n",
              "    border-radius: 50%;\n",
              "    cursor: pointer;\n",
              "    display: none;\n",
              "    fill: var(--fill-color);\n",
              "    height: 32px;\n",
              "    padding: 0;\n",
              "    width: 32px;\n",
              "  }\n",
              "\n",
              "  .colab-df-quickchart:hover {\n",
              "    background-color: var(--hover-bg-color);\n",
              "    box-shadow: 0 1px 2px rgba(60, 64, 67, 0.3), 0 1px 3px 1px rgba(60, 64, 67, 0.15);\n",
              "    fill: var(--button-hover-fill-color);\n",
              "  }\n",
              "\n",
              "  .colab-df-quickchart-complete:disabled,\n",
              "  .colab-df-quickchart-complete:disabled:hover {\n",
              "    background-color: var(--disabled-bg-color);\n",
              "    fill: var(--disabled-fill-color);\n",
              "    box-shadow: none;\n",
              "  }\n",
              "\n",
              "  .colab-df-spinner {\n",
              "    border: 2px solid var(--fill-color);\n",
              "    border-color: transparent;\n",
              "    border-bottom-color: var(--fill-color);\n",
              "    animation:\n",
              "      spin 1s steps(1) infinite;\n",
              "  }\n",
              "\n",
              "  @keyframes spin {\n",
              "    0% {\n",
              "      border-color: transparent;\n",
              "      border-bottom-color: var(--fill-color);\n",
              "      border-left-color: var(--fill-color);\n",
              "    }\n",
              "    20% {\n",
              "      border-color: transparent;\n",
              "      border-left-color: var(--fill-color);\n",
              "      border-top-color: var(--fill-color);\n",
              "    }\n",
              "    30% {\n",
              "      border-color: transparent;\n",
              "      border-left-color: var(--fill-color);\n",
              "      border-top-color: var(--fill-color);\n",
              "      border-right-color: var(--fill-color);\n",
              "    }\n",
              "    40% {\n",
              "      border-color: transparent;\n",
              "      border-right-color: var(--fill-color);\n",
              "      border-top-color: var(--fill-color);\n",
              "    }\n",
              "    60% {\n",
              "      border-color: transparent;\n",
              "      border-right-color: var(--fill-color);\n",
              "    }\n",
              "    80% {\n",
              "      border-color: transparent;\n",
              "      border-right-color: var(--fill-color);\n",
              "      border-bottom-color: var(--fill-color);\n",
              "    }\n",
              "    90% {\n",
              "      border-color: transparent;\n",
              "      border-bottom-color: var(--fill-color);\n",
              "    }\n",
              "  }\n",
              "</style>\n",
              "\n",
              "  <script>\n",
              "    async function quickchart(key) {\n",
              "      const quickchartButtonEl =\n",
              "        document.querySelector('#' + key + ' button');\n",
              "      quickchartButtonEl.disabled = true;  // To prevent multiple clicks.\n",
              "      quickchartButtonEl.classList.add('colab-df-spinner');\n",
              "      try {\n",
              "        const charts = await google.colab.kernel.invokeFunction(\n",
              "            'suggestCharts', [key], {});\n",
              "      } catch (error) {\n",
              "        console.error('Error during call to suggestCharts:', error);\n",
              "      }\n",
              "      quickchartButtonEl.classList.remove('colab-df-spinner');\n",
              "      quickchartButtonEl.classList.add('colab-df-quickchart-complete');\n",
              "    }\n",
              "    (() => {\n",
              "      let quickchartButtonEl =\n",
              "        document.querySelector('#df-ff17a1a4-7c12-4e34-992b-7d9a30be9b55 button');\n",
              "      quickchartButtonEl.style.display =\n",
              "        google.colab.kernel.accessAllowed ? 'block' : 'none';\n",
              "    })();\n",
              "  </script>\n",
              "</div>\n",
              "\n",
              "    </div>\n",
              "  </div>\n"
            ],
            "application/vnd.google.colaboratory.intrinsic+json": {
              "type": "dataframe",
              "variable_name": "df",
              "summary": "{\n  \"name\": \"df\",\n  \"rows\": 16412,\n  \"fields\": [\n    {\n      \"column\": \"Focus\",\n      \"properties\": {\n        \"dtype\": \"category\",\n        \"num_unique_values\": 5126,\n        \"samples\": [\n          \"Sexual Problems in Women\",\n          \"Essential tremor\",\n          \"Low Vision\"\n        ],\n        \"semantic_type\": \"\",\n        \"description\": \"\"\n      }\n    },\n    {\n      \"column\": \"CUI\",\n      \"properties\": {\n        \"dtype\": \"category\",\n        \"num_unique_values\": 3329,\n        \"samples\": [\n          \"C1843173\",\n          \"C3536714\",\n          \"C0427480\"\n        ],\n        \"semantic_type\": \"\",\n        \"description\": \"\"\n      }\n    },\n    {\n      \"column\": \"SemanticType\",\n      \"properties\": {\n        \"dtype\": \"category\",\n        \"num_unique_values\": 14,\n        \"samples\": [\n          \"T037\",\n          \"T028\",\n          \"T191\"\n        ],\n        \"semantic_type\": \"\",\n        \"description\": \"\"\n      }\n    },\n    {\n      \"column\": \"SemanticGroup\",\n      \"properties\": {\n        \"dtype\": \"category\",\n        \"num_unique_values\": 1,\n        \"samples\": [\n          \"Disorders\"\n        ],\n        \"semantic_type\": \"\",\n        \"description\": \"\"\n      }\n    },\n    {\n      \"column\": \"Question\",\n      \"properties\": {\n        \"dtype\": \"string\",\n        \"num_unique_values\": 14984,\n        \"samples\": [\n          \"Is prostate cancer inherited ?\"\n        ],\n        \"semantic_type\": \"\",\n        \"description\": \"\"\n      }\n    },\n    {\n      \"column\": \"Answer\",\n      \"properties\": {\n        \"dtype\": \"string\",\n        \"num_unique_values\": 15809,\n        \"samples\": [\n          \"Some people may experience relief from symptoms of indigestion by - eating several small, low-fat meals throughout the day at a slow pace - refraining from smoking - abstaining from consuming coffee, carbonated beverages, and alcohol - stopping use of medications that may irritate the stomach liningsuch as aspirin or anti-inflammatory drugs - getting enough rest - finding ways to decrease emotional and physical stress, such as relaxation therapy or yoga The doctor may recommend over-the-counter antacids or medications that reduce acid production or help the stomach move food more quickly into the small intestine. Many of these medications can be purchased without a prescription. Nonprescription medications should only be used at the dose and for the length of time recommended on the label unless advised differently by a doctor. Informing the doctor when starting a new medication is important. Antacids, such as Alka-Seltzer, Maalox, Mylanta, Rolaids, and Riopan, are usually the first drugs recommended to relieve symptoms of indigestion. Many brands on the market use different combinations of three basic saltsmagnesium, calcium, and aluminumwith hydroxide or bicarbonate ions to neutralize the acid in the stomach. Antacids, however, can have side effects. Magnesium salt can lead to diarrhea, and aluminum salt may cause constipation. Aluminum and magnesium salts are often combined in a single product to balance these effects. Calcium carbonate antacids, such as Tums, Titralac, and Alka-2, can also be a supplemental source of calcium, though they may cause constipation. H2 receptor antagonists (H2RAs) include ranitidine (Zantac), cimetidine (Tagamet), famotidine (Pepcid), and nizatidine (Axid) and are available both by prescription and over-the-counter. H2RAs treat symptoms of indigestion by reducing stomach acid. They work longer than but not as quickly as antacids. Side effects of H2RAs may include headache, nausea, vomiting, constipation, diarrhea, and unusual bleeding or bruising. Proton pump inhibitors (PPIs) include omeprazole (Prilosec, Zegerid), lansoprazole (Prevacid), pantoprazole (Protonix), rabeprazole (Aciphex), and esomeprazole (Nexium) and are available by prescription. Prilosec is also available in over-the-counter strength. PPIs, which are stronger than H2RAs, also treat indigestion symptoms by reducing stomach acid. PPIs are most effective in treating symptoms of indigestion in people who also have GERD. Side effects of PPIs may include back pain, aching, cough, headache, dizziness, abdominal pain, gas, nausea, vomiting, constipation, and diarrhea. Prokinetics such as metoclopramide (Reglan) may be helpful for people who have a problem with the stomach emptying too slowly. Metoclopramide also improves muscle action in the digestive tract. Prokinetics have frequent side effects that limit their usefulness, including fatigue, sleepiness, depression, anxiety, and involuntary muscle spasms or movements. If testing shows the type of bacteria that causes peptic ulcer disease, the doctor may prescribe antibiotics to treat the condition.\"\n        ],\n        \"semantic_type\": \"\",\n        \"description\": \"\"\n      }\n    }\n  ]\n}"
            }
          },
          "metadata": {},
          "execution_count": 5
        }
      ],
      "source": [
        "df.head()"
      ]
    },
    {
      "cell_type": "markdown",
      "metadata": {
        "id": "QvddL7X69NiB"
      },
      "source": [
        "### Pre-processing and EDA"
      ]
    },
    {
      "cell_type": "markdown",
      "metadata": {
        "id": "xgB7KCn88Vmj"
      },
      "source": [
        "**Exercise 2: Perform below operations on the dataset [0.5 Mark]**\n",
        "\n",
        "- Handle missing values\n",
        "- Remove duplicates from data considering `Question` and `Answer` columns"
      ]
    },
    {
      "cell_type": "markdown",
      "metadata": {
        "id": "TkabbxoGKFkm"
      },
      "source": [
        "- **Handle missing values**"
      ]
    },
    {
      "cell_type": "code",
      "execution_count": 6,
      "metadata": {
        "id": "H6mM7DM1KH_i",
        "colab": {
          "base_uri": "https://localhost:8080/",
          "height": 272
        },
        "outputId": "67eaea37-aa4c-4cdf-f42e-f2f7fb7a4e7f"
      },
      "outputs": [
        {
          "output_type": "execute_result",
          "data": {
            "text/plain": [
              "Focus             14\n",
              "CUI              565\n",
              "SemanticType     597\n",
              "SemanticGroup    565\n",
              "Question           0\n",
              "Answer             5\n",
              "dtype: int64"
            ],
            "text/html": [
              "<div>\n",
              "<style scoped>\n",
              "    .dataframe tbody tr th:only-of-type {\n",
              "        vertical-align: middle;\n",
              "    }\n",
              "\n",
              "    .dataframe tbody tr th {\n",
              "        vertical-align: top;\n",
              "    }\n",
              "\n",
              "    .dataframe thead th {\n",
              "        text-align: right;\n",
              "    }\n",
              "</style>\n",
              "<table border=\"1\" class=\"dataframe\">\n",
              "  <thead>\n",
              "    <tr style=\"text-align: right;\">\n",
              "      <th></th>\n",
              "      <th>0</th>\n",
              "    </tr>\n",
              "  </thead>\n",
              "  <tbody>\n",
              "    <tr>\n",
              "      <th>Focus</th>\n",
              "      <td>14</td>\n",
              "    </tr>\n",
              "    <tr>\n",
              "      <th>CUI</th>\n",
              "      <td>565</td>\n",
              "    </tr>\n",
              "    <tr>\n",
              "      <th>SemanticType</th>\n",
              "      <td>597</td>\n",
              "    </tr>\n",
              "    <tr>\n",
              "      <th>SemanticGroup</th>\n",
              "      <td>565</td>\n",
              "    </tr>\n",
              "    <tr>\n",
              "      <th>Question</th>\n",
              "      <td>0</td>\n",
              "    </tr>\n",
              "    <tr>\n",
              "      <th>Answer</th>\n",
              "      <td>5</td>\n",
              "    </tr>\n",
              "  </tbody>\n",
              "</table>\n",
              "</div><br><label><b>dtype:</b> int64</label>"
            ]
          },
          "metadata": {},
          "execution_count": 6
        }
      ],
      "source": [
        "df.isna().sum()"
      ]
    },
    {
      "cell_type": "code",
      "execution_count": 7,
      "metadata": {
        "id": "uNyjYvNu_48E",
        "colab": {
          "base_uri": "https://localhost:8080/"
        },
        "outputId": "2c7c0a65-a162-4429-9770-ffa5e8f0137b"
      },
      "outputs": [
        {
          "output_type": "execute_result",
          "data": {
            "text/plain": [
              "(15810, 6)"
            ]
          },
          "metadata": {},
          "execution_count": 7
        }
      ],
      "source": [
        "# Drop missing values\n",
        "df = df.dropna()\n",
        "df.shape"
      ]
    },
    {
      "cell_type": "markdown",
      "metadata": {
        "id": "0KpssAWUBiok"
      },
      "source": [
        "- **Remove duplicates from data considering `Question` and `Answer` columns**"
      ]
    },
    {
      "cell_type": "code",
      "execution_count": 8,
      "metadata": {
        "id": "YEv2TMQPs-Ku",
        "colab": {
          "base_uri": "https://localhost:8080/"
        },
        "outputId": "6c247e6f-59c7-4e9b-fbaa-5f6af039a910"
      },
      "outputs": [
        {
          "output_type": "execute_result",
          "data": {
            "text/plain": [
              "48"
            ]
          },
          "metadata": {},
          "execution_count": 8
        }
      ],
      "source": [
        "# Check duplicates\n",
        "df.duplicated(subset=['Question', 'Answer']).sum()"
      ]
    },
    {
      "cell_type": "code",
      "execution_count": 9,
      "metadata": {
        "id": "EYg8zF7itkf3"
      },
      "outputs": [],
      "source": [
        "# Drop duplicates\n",
        "df = df.drop_duplicates(subset=['Question', 'Answer'])"
      ]
    },
    {
      "cell_type": "code",
      "execution_count": 10,
      "metadata": {
        "id": "5haFMucZtwiy",
        "colab": {
          "base_uri": "https://localhost:8080/"
        },
        "outputId": "d57670da-c68a-486d-d5f8-3db51fab8113"
      },
      "outputs": [
        {
          "output_type": "execute_result",
          "data": {
            "text/plain": [
              "0"
            ]
          },
          "metadata": {},
          "execution_count": 10
        }
      ],
      "source": [
        "# Check duplicates\n",
        "df.duplicated(subset=['Question', 'Answer']).sum()"
      ]
    },
    {
      "cell_type": "markdown",
      "metadata": {
        "id": "EA1d25HrzTGW"
      },
      "source": [
        "**Exercise 3: Display the category name, and the number of records belonging to top 100 categories of `Focus` column [1 Mark]**"
      ]
    },
    {
      "cell_type": "code",
      "execution_count": 11,
      "metadata": {
        "id": "kRxuMduGSWYB",
        "colab": {
          "base_uri": "https://localhost:8080/"
        },
        "outputId": "915d30da-9cd8-43fa-b176-fbd83d77511f"
      },
      "outputs": [
        {
          "output_type": "stream",
          "name": "stdout",
          "text": [
            "4770\n"
          ]
        }
      ],
      "source": [
        "# Total categories in Focus column\n",
        "print(df['Focus'].nunique())"
      ]
    },
    {
      "cell_type": "code",
      "execution_count": 12,
      "metadata": {
        "id": "YtIjY7ji9va5",
        "colab": {
          "base_uri": "https://localhost:8080/"
        },
        "outputId": "f0ac666d-a830-4c44-85c8-d99cc33e8b79"
      },
      "outputs": [
        {
          "output_type": "stream",
          "name": "stdout",
          "text": [
            "Focus\n",
            "Breast Cancer                                                       53\n",
            "Prostate Cancer                                                     43\n",
            "Stroke                                                              35\n",
            "Skin Cancer                                                         34\n",
            "Alzheimer's Disease                                                 30\n",
            "                                                                    ..\n",
            "Sarcoidosis                                                         11\n",
            "Polycythemia Vera                                                   11\n",
            "Celiac Disease                                                      11\n",
            "Down syndrome                                                       10\n",
            "Microscopic Colitis: Collagenous Colitis and Lymphocytic Colitis    10\n",
            "Name: count, Length: 100, dtype: int64\n"
          ]
        }
      ],
      "source": [
        "# Displaying the distinct categories of Focus column and the number of records belonging to each category\n",
        "# (Top 100 only)\n",
        "\n",
        "print(df['Focus'].value_counts()[:100])"
      ]
    },
    {
      "cell_type": "code",
      "execution_count": 13,
      "metadata": {
        "id": "_Xa8jp6AKVkC",
        "colab": {
          "base_uri": "https://localhost:8080/"
        },
        "outputId": "61f5f61d-8bb8-4442-cf3b-5305ab3fbd76"
      },
      "outputs": [
        {
          "output_type": "execute_result",
          "data": {
            "text/plain": [
              "Index(['Breast Cancer', 'Prostate Cancer', 'Stroke', 'Skin Cancer',\n",
              "       'Alzheimer's Disease', 'Colorectal Cancer', 'Lung Cancer',\n",
              "       'High Blood Cholesterol', 'Heart Failure', 'Heart Attack',\n",
              "       'High Blood Pressure', 'Parkinson's Disease', 'Leukemia', 'Shingles',\n",
              "       'Osteoporosis', 'Age-related Macular Degeneration', 'Diabetes',\n",
              "       'Hemochromatosis', 'Diabetic Retinopathy', 'Gum (Periodontal) Disease',\n",
              "       'Psoriasis', 'Kidney Disease', 'Balance Problems', 'Dry Mouth', 'COPD',\n",
              "       'Cataract', 'Glaucoma', 'Prescription and Illicit Drug Abuse',\n",
              "       'Medicare and Continuing Care', 'Gout', 'Wilson Disease',\n",
              "       'Osteoarthritis', 'Narcolepsy', 'Problems with Taste',\n",
              "       'Endometrial Cancer', 'Neuroblastoma', 'Short Bowel Syndrome',\n",
              "       'Rheumatoid Arthritis', 'Dry Eye',\n",
              "       'Peripheral Arterial Disease (P.A.D.)', 'Anxiety Disorders',\n",
              "       'Surviving Cancer', 'Pituitary Tumors', 'Kidney Dysplasia',\n",
              "       'Problems with Smell', 'Urinary Tract Infections in Children',\n",
              "       'Prostate Enlargement: Benign Prostatic Hyperplasia', 'Depression',\n",
              "       'Knee Replacement',\n",
              "       'National Hormone and Pituitary Program (NHPP): Information for People Treated with Pituitary Human Growth Hormone (Comprehensive Report)',\n",
              "       'Cyclic Vomiting Syndrome', 'Abdominal Adhesions',\n",
              "       'Polycystic Kidney Disease', 'Creating a Family Health History',\n",
              "       'What I need to know about Kidney Failure and How Its Treated',\n",
              "       'Diabetic Neuropathies: The Nerve Damage of Diabetes',\n",
              "       'Adrenal Insufficiency and Addison's Disease',\n",
              "       'Amyloidosis and Kidney Disease',\n",
              "       'Nutrition for Advanced Chronic Kidney Disease in Adults',\n",
              "       'Medullary Sponge Kidney', 'Vesicoureteral Reflux', 'IgA Nephropathy',\n",
              "       'Urinary Retention', 'Diabetes, Heart Disease, and Stroke',\n",
              "       'Diverticular Disease', 'Alcohol Use and Older Adults',\n",
              "       'Alzheimer's Caregiving', 'Sleep Apnea', 'Urinary Incontinence',\n",
              "       'Camurati-Engelmann disease', 'Paget's Disease of Bone', 'Porphyria',\n",
              "       'Klinefelter syndrome', 'Bartter syndrome', 'Opitz G/BBB syndrome',\n",
              "       'MECP2 duplication syndrome', 'Gallstones', 'Liddle syndrome',\n",
              "       'Laron syndrome', 'Langerhans cell histiocytosis', 'Huntington disease',\n",
              "       'Poland syndrome', 'Holt-Oram syndrome',\n",
              "       'Greig cephalopolysyndactyly syndrome', 'GM1 gangliosidosis',\n",
              "       'Ehlers-Danlos syndrome', 'Danon disease', 'Cowden syndrome',\n",
              "       'Cornelia de Lange syndrome', 'Peters plus syndrome',\n",
              "       'Alagille Syndrome', 'Wolfram syndrome', 'Prader-Willi syndrome',\n",
              "       '21-hydroxylase deficiency', 'Cushing's Syndrome', 'Sarcoidosis',\n",
              "       'Polycythemia Vera', 'Celiac Disease', 'Down syndrome',\n",
              "       'Microscopic Colitis: Collagenous Colitis and Lymphocytic Colitis'],\n",
              "      dtype='object', name='Focus')"
            ]
          },
          "metadata": {},
          "execution_count": 13
        }
      ],
      "source": [
        "# Top 100 Focus categories names\n",
        "\n",
        "top_100_focuses = df['Focus'].value_counts()[:100].index\n",
        "top_100_focuses"
      ]
    },
    {
      "cell_type": "markdown",
      "metadata": {
        "id": "clJZkJLzwDWR"
      },
      "source": [
        "### Create Training and Validation set"
      ]
    },
    {
      "cell_type": "markdown",
      "metadata": {
        "id": "JDQOWgthKgGG"
      },
      "source": [
        "**Exercise 4: Create training and validation set [2 Marks]**\n",
        "\n",
        "- Consider 4 samples per `Focus` category, for each top 100 categories, from the dataset (It will give 400 samples for training)\n",
        "\n",
        "- Consider 1 sample per `Focus` category (different from training set), for each top 100 categories, from the dataset (It will give 100 samples for validation)"
      ]
    },
    {
      "cell_type": "code",
      "execution_count": 14,
      "metadata": {
        "id": "CWoHsbibKtdo"
      },
      "outputs": [],
      "source": [
        "train_ques = []\n",
        "train_ans = []\n",
        "val_ques = []\n",
        "val_ans = []\n",
        "\n",
        "for i in top_100_focuses:\n",
        "    tmp = df[df['Focus'] == i]\n",
        "    train_ques.extend(tmp['Question'].values[:4].tolist())\n",
        "    train_ans.extend(tmp['Answer'].values[:4].tolist())\n",
        "    val_ques.extend(tmp['Question'].values[4:5].tolist())\n",
        "    val_ans.extend(tmp['Answer'].values[4:5].tolist())"
      ]
    },
    {
      "cell_type": "code",
      "execution_count": 15,
      "metadata": {
        "id": "7CVZqBS1L5qv",
        "colab": {
          "base_uri": "https://localhost:8080/"
        },
        "outputId": "0af8b708-89cd-4a67-f294-6d3249688863"
      },
      "outputs": [
        {
          "output_type": "execute_result",
          "data": {
            "text/plain": [
              "(400, 400, 100, 100)"
            ]
          },
          "metadata": {},
          "execution_count": 15
        }
      ],
      "source": [
        "len(train_ques), len(train_ans), len(val_ques), len(val_ans)"
      ]
    },
    {
      "cell_type": "markdown",
      "metadata": {
        "id": "YxjnEkqScZEJ"
      },
      "source": [
        "### Pre-process `Question` and `Answer` text\n",
        "\n",
        "**Exercise 5: Perform below tasks: [1.5 Marks]**\n",
        "\n",
        "- Combine `Question` and `Answer` for train and validation data as shown below:\n",
        "    - sequence = *'\\<question\\>' + question-text + '\\<answer\\>' + answer-text*\n",
        "\n",
        "- Join the combined text using '\\n' into a single string for training and validation separately\n",
        "\n",
        "- Save the training and validation strings as separate text files"
      ]
    },
    {
      "cell_type": "markdown",
      "metadata": {
        "id": "48ieeFrU0vmF"
      },
      "source": [
        "- **Combine Question and Answer for train and val data**"
      ]
    },
    {
      "cell_type": "code",
      "execution_count": 16,
      "metadata": {
        "id": "nxT84SYwONaR"
      },
      "outputs": [],
      "source": [
        "# Combine Questions and Answers for train and val data\n",
        "## sequence = '<question>' + question + '<answer>' + answer\n",
        "\n",
        "train_data = []\n",
        "val_data = []\n",
        "\n",
        "for i in range(len(train_ques)):\n",
        "    train_data.append('<question> ' + train_ques[i] + ' <answer> ' + train_ans[i])\n",
        "\n",
        "for i in range(len(val_ques)):\n",
        "    val_data.append('<question> ' + val_ques[i] + ' <answer> ' + val_ans[i])\n"
      ]
    },
    {
      "cell_type": "code",
      "execution_count": 17,
      "metadata": {
        "id": "NOEo3DMzNXtn",
        "colab": {
          "base_uri": "https://localhost:8080/"
        },
        "outputId": "19781492-7867-46b7-a4cf-91ad1c38afed"
      },
      "outputs": [
        {
          "output_type": "execute_result",
          "data": {
            "text/plain": [
              "(400, 100)"
            ]
          },
          "metadata": {},
          "execution_count": 17
        }
      ],
      "source": [
        "len(train_data), len(val_data)"
      ]
    },
    {
      "cell_type": "code",
      "execution_count": 18,
      "metadata": {
        "id": "q8ANC73CNsYN",
        "colab": {
          "base_uri": "https://localhost:8080/",
          "height": 157
        },
        "outputId": "ec80e7a9-4d9d-497a-c1b7-9d9419639706"
      },
      "outputs": [
        {
          "output_type": "execute_result",
          "data": {
            "text/plain": [
              "'<question> What is (are) Breast Cancer ? <answer> Key Points - Breast cancer is a disease in which malignant (cancer) cells form in the tissues of the breast. - A family history of breast cancer and other factors increase the risk of breast cancer. - Breast cancer is sometimes caused by inherited gene mutations (changes). - The use of certain medicines and other factors decrease the risk of breast cancer. - Signs of breast cancer include a lump or change in the breast. - Tests that examine the breasts are used to detect (find) and diagnose breast cancer. - If cancer is found, tests are done to study the cancer cells. - Certain factors affect prognosis (chance of recovery) and treatment options. Breast cancer is a disease in which malignant (cancer) cells form in the tissues of the breast. The breast is made up of lobes and ducts. Each breast has 15 to 20 sections called lobes. Each lobe has many smaller sections called lobules. Lobules end in dozens of tiny bulbs that can make milk. The lobes, lobules, and bulbs are linked by thin tubes called ducts. Each breast also has blood vessels and lymph vessels. The lymph vessels carry an almost colorless fluid called lymph. Lymph vessels carry lymph between lymph nodes. Lymph nodes are small bean-shaped structures that are found throughout the body. They filter substances in lymph and help fight infection and disease. Clusters of lymph nodes are found near the breast in the axilla (under the arm), above the collarbone, and in the chest. The most common type of breast cancer is ductal carcinoma, which begins in the cells of the ducts. Cancer that begins in the lobes or lobules is called lobular carcinoma and is more often found in both breasts than are other types of breast cancer. Inflammatory breast cancer is an uncommon type of breast cancer in which the breast is warm, red, and swollen. See the following PDQ summaries for more information about breast cancer: - Breast Cancer Prevention - Breast Cancer Screening - Breast Cancer Treatment and Pregnancy - Male Breast Cancer Treatment - Unusual Cancers of Childhood Treatment (for information about breast cancer in childhood)'"
            ],
            "application/vnd.google.colaboratory.intrinsic+json": {
              "type": "string"
            }
          },
          "metadata": {},
          "execution_count": 18
        }
      ],
      "source": [
        "train_data[0]"
      ]
    },
    {
      "cell_type": "code",
      "execution_count": 19,
      "metadata": {
        "id": "xXkOHWBLNvSp",
        "colab": {
          "base_uri": "https://localhost:8080/",
          "height": 122
        },
        "outputId": "d0b08402-1fbd-45a6-e89e-f32474370315"
      },
      "outputs": [
        {
          "output_type": "execute_result",
          "data": {
            "text/plain": [
              "\"<question> What are the symptoms of Breast Cancer ? <answer> Signs of breast cancer include a lump or change in the breast. These and other signs may be caused by breast cancer or by other conditions. Check with your doctor if you have any of the following: - A lump or thickening in or near the breast or in the underarm area. - A change in the size or shape of the breast. - A dimple or puckering in the skin of the breast. - A nipple turned inward into the breast. - Fluid, other than breast milk, from the nipple, especially if it's bloody. - Scaly, red, or swollen skin on the breast, nipple, or areola (the dark area of skin around the nipple). - Dimples in the breast that look like the skin of an orange, called peau dorange.\""
            ],
            "application/vnd.google.colaboratory.intrinsic+json": {
              "type": "string"
            }
          },
          "metadata": {},
          "execution_count": 19
        }
      ],
      "source": [
        "val_data[0]"
      ]
    },
    {
      "cell_type": "markdown",
      "metadata": {
        "id": "Uzny8Cci1ZOw"
      },
      "source": [
        "- **Join the combined text using '\\n' into a single string for training and validation separately**"
      ]
    },
    {
      "cell_type": "code",
      "execution_count": 20,
      "metadata": {
        "id": "vwKbaMAfPCM_"
      },
      "outputs": [],
      "source": [
        "# Train and Validation text for all Q&As\n",
        "\n",
        "train_text = '\\n'.join(list(train_data))\n",
        "\n",
        "val_text = '\\n'.join(list(val_data))"
      ]
    },
    {
      "cell_type": "markdown",
      "metadata": {
        "id": "GJZ9GHGSwNtm"
      },
      "source": [
        "- **Save the training and validation strings as text files**"
      ]
    },
    {
      "cell_type": "code",
      "execution_count": 21,
      "metadata": {
        "id": "pLQaAIhYMRvj"
      },
      "outputs": [],
      "source": [
        "# Save the training and validation data as text files\n",
        "\n",
        "with open(\"train.txt\", \"w\") as f:\n",
        "    f.write(train_text)\n",
        "\n",
        "with open(\"val.txt\", \"w\") as f:\n",
        "    f.write(val_text)"
      ]
    },
    {
      "cell_type": "markdown",
      "metadata": {
        "id": "Y1hlYtjjML1r"
      },
      "source": [
        "**Exercise 6: Load pre-trained GPT2Tokenizer [0.5 Mark]**\n",
        "\n",
        "- Use checkpoint = \"gpt2\""
      ]
    },
    {
      "cell_type": "code",
      "execution_count": 22,
      "metadata": {
        "id": "-qiMe9TAplyj",
        "colab": {
          "base_uri": "https://localhost:8080/",
          "height": 177,
          "referenced_widgets": [
            "0640dbc4ce194fc99bd054426cd67a41",
            "1334cf0497c64dbb90c409007ae5350c",
            "4d5f9462428d4fa7ba400a3a8da4aad8",
            "18579d8761734a34b6efd95b350f18e0",
            "2495bb3ef85d4f0c96b092cd82935a11",
            "6095c38ec52f450d9ecbeccbc9113ed7",
            "9a82f351dd2f4654b56a76111195d872",
            "f975959a25ba46ecb0eaff4a6a6b757f",
            "a9ee71bc277e4c76b73c06f94a808381",
            "5e57069867be4fa38a2c0d23b1b1db2c",
            "c1a02406f6314822abe50852211e8dc7",
            "39055ddfba2341be857dc4fdbf45fbef",
            "de3fa7639d05493db1b413c07f71f3d0",
            "744be63f76d14d608fad09a571972ee6",
            "3a13b7debf4d4243a1eb4d8ce6cefcad",
            "97bd3c0e7b0a423b9725772d4b7a6eff",
            "1cf40030fe7640d79d954be8c5969a49",
            "4893bda5ddc14ff9a67ef234bf8dbf88",
            "f6842cbcf35b4e39888cc14a646ba00a",
            "92b1e29e5b2b473fbce4d1240bf850c8",
            "72cd9ca8d5a7445598e1937b5be9ecc8",
            "8af1fb6fb4d04a4d874ddd806f6fbfea",
            "e85ebf15035b4c7bb239419c6b0702b3",
            "7b9ff9b677164cd0a2d0dab2742cd1a9",
            "43e46d1460ca45df8837fd5a59570379",
            "7410400bd913410f9259fe5214338ec5",
            "71bad26d0bb14994a078c2625e8daf4f",
            "9030a152b80c4a15831d40de6e04a109",
            "21655d0a5582466e81f7ae684ce1eb1a",
            "28895a632d6d44b5b20840149852948a",
            "613a80947f04439292ad1fbef4635864",
            "27ccd38e79d04405a8297c41af6d8ac6",
            "eb73f505dca6445289c1834e6a0424bb",
            "fa5d1783c8b343d4b215f936ac89cf40",
            "0f72a31edfd340c1b06aeabdcbc91ade",
            "ef6cedc246a14cb58d211fe387ce2909",
            "5b0bbbe1d3f3451b82d4b90e57d2f92f",
            "f55e8431cee544928444ccdcf50be867",
            "7a7a41a6a6e44b74b9d4c831f751b780",
            "179cf3aca4044c58aa88d621e77a2c24",
            "056aa17556e0422393bc18449d5ebae1",
            "1a818f71b3044d3b82e180c10713e852",
            "69afd4ece0e9428496ecfbc1621b8cae",
            "f2b7fa02baec4176825dbca78145dd11",
            "192f60580eaa419d83d81446e14f3cec",
            "a3cfe1b2911a426482b07bac15928960",
            "9c6f6c2945574d179d32c6a3a9f802d9",
            "7750375748ab439e91fb8d0343e3c32c",
            "2932adce3a3241d4b86e0572a436b51c",
            "cb4d406f01f8492f9869c3cdd7f030ac",
            "999c97515f3941f7bf8262b14841cfaf",
            "0118b77b5f05439190fcacb31c4a48c9",
            "ad74f106193a4ad8bdec95bd46e59cde",
            "a68f06eedf32493a9128ccee67af79bb",
            "e04e987933a8448797ec7d82254acebe"
          ]
        },
        "outputId": "880a9919-79d8-475b-f188-585aecf03294"
      },
      "outputs": [
        {
          "output_type": "display_data",
          "data": {
            "text/plain": [
              "tokenizer_config.json:   0%|          | 0.00/26.0 [00:00<?, ?B/s]"
            ],
            "application/vnd.jupyter.widget-view+json": {
              "version_major": 2,
              "version_minor": 0,
              "model_id": "0640dbc4ce194fc99bd054426cd67a41"
            }
          },
          "metadata": {}
        },
        {
          "output_type": "display_data",
          "data": {
            "text/plain": [
              "vocab.json:   0%|          | 0.00/1.04M [00:00<?, ?B/s]"
            ],
            "application/vnd.jupyter.widget-view+json": {
              "version_major": 2,
              "version_minor": 0,
              "model_id": "39055ddfba2341be857dc4fdbf45fbef"
            }
          },
          "metadata": {}
        },
        {
          "output_type": "display_data",
          "data": {
            "text/plain": [
              "merges.txt:   0%|          | 0.00/456k [00:00<?, ?B/s]"
            ],
            "application/vnd.jupyter.widget-view+json": {
              "version_major": 2,
              "version_minor": 0,
              "model_id": "e85ebf15035b4c7bb239419c6b0702b3"
            }
          },
          "metadata": {}
        },
        {
          "output_type": "display_data",
          "data": {
            "text/plain": [
              "tokenizer.json:   0%|          | 0.00/1.36M [00:00<?, ?B/s]"
            ],
            "application/vnd.jupyter.widget-view+json": {
              "version_major": 2,
              "version_minor": 0,
              "model_id": "fa5d1783c8b343d4b215f936ac89cf40"
            }
          },
          "metadata": {}
        },
        {
          "output_type": "display_data",
          "data": {
            "text/plain": [
              "config.json:   0%|          | 0.00/665 [00:00<?, ?B/s]"
            ],
            "application/vnd.jupyter.widget-view+json": {
              "version_major": 2,
              "version_minor": 0,
              "model_id": "192f60580eaa419d83d81446e14f3cec"
            }
          },
          "metadata": {}
        }
      ],
      "source": [
        "# Set up the tokenizer\n",
        "checkpoint = \"gpt2\"\n",
        "tokenizer = GPT2Tokenizer.from_pretrained(checkpoint)    # also try gpt2, gpt2-large and gpt2-medium, also gpt2-xl"
      ]
    },
    {
      "cell_type": "markdown",
      "metadata": {
        "id": "InX4FOvgP0mi"
      },
      "source": [
        "**Exercise 7: Tokenize train and validation data and form TextDataset objects [0.5 Mark]**\n",
        "\n",
        "- Use the loaded pre-trained tokenizer\n",
        "- Use training and validation data saved in text files"
      ]
    },
    {
      "cell_type": "code",
      "execution_count": 23,
      "metadata": {
        "id": "crjMEbLfVOpq"
      },
      "outputs": [],
      "source": [
        "# Tokenize train text\n",
        "train_dataset = TextDataset(tokenizer=tokenizer, file_path=\"train.txt\", block_size=128)\n",
        "\n",
        "# Tokenize validation text\n",
        "val_dataset = TextDataset(tokenizer=tokenizer, file_path=\"val.txt\", block_size=128)"
      ]
    },
    {
      "cell_type": "code",
      "execution_count": 24,
      "metadata": {
        "id": "lt_7A82xPmI0",
        "colab": {
          "base_uri": "https://localhost:8080/"
        },
        "outputId": "834bf583-9cc5-4d25-b7b4-b588cc0fd763"
      },
      "outputs": [
        {
          "output_type": "execute_result",
          "data": {
            "text/plain": [
              "(1275, 324)"
            ]
          },
          "metadata": {},
          "execution_count": 24
        }
      ],
      "source": [
        "# Length of train and validation set\n",
        "len(train_dataset), len(val_dataset)"
      ]
    },
    {
      "cell_type": "code",
      "execution_count": 25,
      "metadata": {
        "id": "0rMVANA2PzMv",
        "colab": {
          "base_uri": "https://localhost:8080/"
        },
        "outputId": "42ecbd9c-fe5f-445b-9bdb-2113a542c82d"
      },
      "outputs": [
        {
          "output_type": "execute_result",
          "data": {
            "text/plain": [
              "(torch.Size([128]), torch.Size([128]))"
            ]
          },
          "metadata": {},
          "execution_count": 25
        }
      ],
      "source": [
        "# Batch-size\n",
        "train_dataset[0].shape, val_dataset[0].shape"
      ]
    },
    {
      "cell_type": "markdown",
      "metadata": {
        "id": "QjN3cYyMkV74"
      },
      "source": [
        "**Exercise 8: Create a DataCollator object [0.5 Mark]**"
      ]
    },
    {
      "cell_type": "code",
      "execution_count": 26,
      "metadata": {
        "id": "Z_XWmIF3cmhU"
      },
      "outputs": [],
      "source": [
        "# Create a Data collator object\n",
        "data_collator = DataCollatorForLanguageModeling(tokenizer=tokenizer, mlm=False, return_tensors=\"pt\")"
      ]
    },
    {
      "cell_type": "markdown",
      "metadata": {
        "id": "uophCXjYq9MO"
      },
      "source": [
        "**Exercise 9: Load pre-trained GPT2LMHeadModel [0.5 Mark]**"
      ]
    },
    {
      "cell_type": "code",
      "execution_count": 27,
      "metadata": {
        "id": "HxQWgssCqy7j",
        "colab": {
          "base_uri": "https://localhost:8080/",
          "height": 81,
          "referenced_widgets": [
            "a0092d9394bc4b0f86d45439328d3a00",
            "edf58080b5ae4123ad72fbe5f7045083",
            "07dd253961f84ca0aa1cb09a896a5779",
            "fb58f50d98d944d5a3231d11fb04c01b",
            "9ca0348924be4dffab5e86ffbd0ee5c4",
            "8e74a10fb43440f0accf8f48b23eb830",
            "04ed1645d7fd4b66a48587db689dce8b",
            "90bd8006f97342d0b7416c65c0a9eb95",
            "79910b27ea584e22b1638982c4581c2b",
            "0656255741d04ff7ae02d7669e47a59a",
            "7ab0782824b241709be23ef6f776a250",
            "3db9b44b0be742a9af8886bde5f21b58",
            "34a4faf33a0547aea9ef475cc9db9911",
            "7db15ed84fae41dda657239d4bef8363",
            "4ef7ded53ffa4bffbae93f83c27ac6de",
            "bf7413e3ccb94921ba7791fb5a3187d5",
            "f324c82a94704a4a952c457ab9d8c47a",
            "5e3380dc9fa34b42bdb09aa3eb3b54d8",
            "c91afa2b2a2946cc8de7f7af99c0c94e",
            "bc7b5aef55c440459e2840b02e9f8998",
            "0ee7333392dd43fb95c5b922d1f3ecbc",
            "c615f4530cbd4d968ccc69e07de80b60"
          ]
        },
        "outputId": "e2b23d15-5689-4a46-dc9e-9a0ae06ddb53"
      },
      "outputs": [
        {
          "output_type": "display_data",
          "data": {
            "text/plain": [
              "model.safetensors:   0%|          | 0.00/548M [00:00<?, ?B/s]"
            ],
            "application/vnd.jupyter.widget-view+json": {
              "version_major": 2,
              "version_minor": 0,
              "model_id": "a0092d9394bc4b0f86d45439328d3a00"
            }
          },
          "metadata": {}
        },
        {
          "output_type": "display_data",
          "data": {
            "text/plain": [
              "generation_config.json:   0%|          | 0.00/124 [00:00<?, ?B/s]"
            ],
            "application/vnd.jupyter.widget-view+json": {
              "version_major": 2,
              "version_minor": 0,
              "model_id": "3db9b44b0be742a9af8886bde5f21b58"
            }
          },
          "metadata": {}
        }
      ],
      "source": [
        "# Set up the model\n",
        "model = GPT2LMHeadModel.from_pretrained(checkpoint)    # also try gpt2, gpt2-large and gpt2-medium, also gpt2-xl"
      ]
    },
    {
      "cell_type": "markdown",
      "metadata": {
        "id": "LdcpMx9QOPnU"
      },
      "source": [
        "**Exercise 10: Fine-tune GPT2 Model [1 Mark]**\n",
        "\n",
        "- Specify training arguments and create a TrainingArguments object (Use 30 epochs)\n",
        "\n",
        "- Train a GPT-2 model using the provided training arguments\n",
        "\n",
        "- Save the resulting trained model and tokenizer to a specified output directory"
      ]
    },
    {
      "cell_type": "code",
      "execution_count": 28,
      "metadata": {
        "id": "UPZiEvn2cuPR"
      },
      "outputs": [],
      "source": [
        "# Set up the training arguments\n",
        "\n",
        "model_output_path = \"/content/gpt_model\"\n",
        "\n",
        "training_args = TrainingArguments(\n",
        "    output_dir = model_output_path,\n",
        "    overwrite_output_dir = True,\n",
        "    per_device_train_batch_size = 4,\n",
        "    per_device_eval_batch_size = 4,\n",
        "    num_train_epochs = 30,\n",
        "    save_steps = 1_000,\n",
        "    save_total_limit = 2,\n",
        "    logging_dir = './logs',\n",
        "    )"
      ]
    },
    {
      "cell_type": "code",
      "execution_count": 29,
      "metadata": {
        "id": "drF9-oZwQLYl",
        "colab": {
          "base_uri": "https://localhost:8080/",
          "height": 986
        },
        "outputId": "51448e77-f52c-4dbc-cd21-ccf052f61392"
      },
      "outputs": [
        {
          "output_type": "stream",
          "name": "stderr",
          "text": [
            "\u001b[34m\u001b[1mwandb\u001b[0m: \u001b[33mWARNING\u001b[0m The `run_name` is currently set to the same value as `TrainingArguments.output_dir`. If this was not intended, please specify a different run name by setting the `TrainingArguments.run_name` parameter.\n",
            "\u001b[34m\u001b[1mwandb\u001b[0m: Using wandb-core as the SDK backend.  Please refer to https://wandb.me/wandb-core for more information.\n"
          ]
        },
        {
          "output_type": "display_data",
          "data": {
            "text/plain": [
              "<IPython.core.display.Javascript object>"
            ],
            "application/javascript": [
              "\n",
              "        window._wandbApiKey = new Promise((resolve, reject) => {\n",
              "            function loadScript(url) {\n",
              "            return new Promise(function(resolve, reject) {\n",
              "                let newScript = document.createElement(\"script\");\n",
              "                newScript.onerror = reject;\n",
              "                newScript.onload = resolve;\n",
              "                document.body.appendChild(newScript);\n",
              "                newScript.src = url;\n",
              "            });\n",
              "            }\n",
              "            loadScript(\"https://cdn.jsdelivr.net/npm/postmate/build/postmate.min.js\").then(() => {\n",
              "            const iframe = document.createElement('iframe')\n",
              "            iframe.style.cssText = \"width:0;height:0;border:none\"\n",
              "            document.body.appendChild(iframe)\n",
              "            const handshake = new Postmate({\n",
              "                container: iframe,\n",
              "                url: 'https://wandb.ai/authorize'\n",
              "            });\n",
              "            const timeout = setTimeout(() => reject(\"Couldn't auto authenticate\"), 5000)\n",
              "            handshake.then(function(child) {\n",
              "                child.on('authorize', data => {\n",
              "                    clearTimeout(timeout)\n",
              "                    resolve(data)\n",
              "                });\n",
              "            });\n",
              "            })\n",
              "        });\n",
              "    "
            ]
          },
          "metadata": {}
        },
        {
          "output_type": "stream",
          "name": "stderr",
          "text": [
            "\u001b[34m\u001b[1mwandb\u001b[0m: Logging into wandb.ai. (Learn how to deploy a W&B server locally: https://wandb.me/wandb-server)\n",
            "\u001b[34m\u001b[1mwandb\u001b[0m: You can find your API key in your browser here: https://wandb.ai/authorize\n",
            "wandb: Paste an API key from your profile and hit enter, or press ctrl+c to quit:"
          ]
        },
        {
          "name": "stdout",
          "output_type": "stream",
          "text": [
            " ··········\n"
          ]
        },
        {
          "output_type": "stream",
          "name": "stderr",
          "text": [
            "\u001b[34m\u001b[1mwandb\u001b[0m: Appending key for api.wandb.ai to your netrc file: /root/.netrc\n"
          ]
        },
        {
          "output_type": "display_data",
          "data": {
            "text/plain": [
              "<IPython.core.display.HTML object>"
            ],
            "text/html": [
              "Tracking run with wandb version 0.18.7"
            ]
          },
          "metadata": {}
        },
        {
          "output_type": "display_data",
          "data": {
            "text/plain": [
              "<IPython.core.display.HTML object>"
            ],
            "text/html": [
              "Run data is saved locally in <code>/content/wandb/run-20241218_160905-hyc6bt0l</code>"
            ]
          },
          "metadata": {}
        },
        {
          "output_type": "display_data",
          "data": {
            "text/plain": [
              "<IPython.core.display.HTML object>"
            ],
            "text/html": [
              "Syncing run <strong><a href='https://wandb.ai/dimple7lakra-iisc/huggingface/runs/hyc6bt0l' target=\"_blank\">/content/gpt_model</a></strong> to <a href='https://wandb.ai/dimple7lakra-iisc/huggingface' target=\"_blank\">Weights & Biases</a> (<a href='https://wandb.me/developer-guide' target=\"_blank\">docs</a>)<br/>"
            ]
          },
          "metadata": {}
        },
        {
          "output_type": "display_data",
          "data": {
            "text/plain": [
              "<IPython.core.display.HTML object>"
            ],
            "text/html": [
              " View project at <a href='https://wandb.ai/dimple7lakra-iisc/huggingface' target=\"_blank\">https://wandb.ai/dimple7lakra-iisc/huggingface</a>"
            ]
          },
          "metadata": {}
        },
        {
          "output_type": "display_data",
          "data": {
            "text/plain": [
              "<IPython.core.display.HTML object>"
            ],
            "text/html": [
              " View run at <a href='https://wandb.ai/dimple7lakra-iisc/huggingface/runs/hyc6bt0l' target=\"_blank\">https://wandb.ai/dimple7lakra-iisc/huggingface/runs/hyc6bt0l</a>"
            ]
          },
          "metadata": {}
        },
        {
          "output_type": "display_data",
          "data": {
            "text/plain": [
              "<IPython.core.display.HTML object>"
            ],
            "text/html": [
              "\n",
              "    <div>\n",
              "      \n",
              "      <progress value='9570' max='9570' style='width:300px; height:20px; vertical-align: middle;'></progress>\n",
              "      [9570/9570 31:56, Epoch 30/30]\n",
              "    </div>\n",
              "    <table border=\"1\" class=\"dataframe\">\n",
              "  <thead>\n",
              " <tr style=\"text-align: left;\">\n",
              "      <th>Step</th>\n",
              "      <th>Training Loss</th>\n",
              "    </tr>\n",
              "  </thead>\n",
              "  <tbody>\n",
              "    <tr>\n",
              "      <td>500</td>\n",
              "      <td>2.502200</td>\n",
              "    </tr>\n",
              "    <tr>\n",
              "      <td>1000</td>\n",
              "      <td>2.008500</td>\n",
              "    </tr>\n",
              "    <tr>\n",
              "      <td>1500</td>\n",
              "      <td>1.680600</td>\n",
              "    </tr>\n",
              "    <tr>\n",
              "      <td>2000</td>\n",
              "      <td>1.432700</td>\n",
              "    </tr>\n",
              "    <tr>\n",
              "      <td>2500</td>\n",
              "      <td>1.225000</td>\n",
              "    </tr>\n",
              "    <tr>\n",
              "      <td>3000</td>\n",
              "      <td>1.042500</td>\n",
              "    </tr>\n",
              "    <tr>\n",
              "      <td>3500</td>\n",
              "      <td>0.910500</td>\n",
              "    </tr>\n",
              "    <tr>\n",
              "      <td>4000</td>\n",
              "      <td>0.773200</td>\n",
              "    </tr>\n",
              "    <tr>\n",
              "      <td>4500</td>\n",
              "      <td>0.690100</td>\n",
              "    </tr>\n",
              "    <tr>\n",
              "      <td>5000</td>\n",
              "      <td>0.600600</td>\n",
              "    </tr>\n",
              "    <tr>\n",
              "      <td>5500</td>\n",
              "      <td>0.539200</td>\n",
              "    </tr>\n",
              "    <tr>\n",
              "      <td>6000</td>\n",
              "      <td>0.483800</td>\n",
              "    </tr>\n",
              "    <tr>\n",
              "      <td>6500</td>\n",
              "      <td>0.433800</td>\n",
              "    </tr>\n",
              "    <tr>\n",
              "      <td>7000</td>\n",
              "      <td>0.400700</td>\n",
              "    </tr>\n",
              "    <tr>\n",
              "      <td>7500</td>\n",
              "      <td>0.369900</td>\n",
              "    </tr>\n",
              "    <tr>\n",
              "      <td>8000</td>\n",
              "      <td>0.347000</td>\n",
              "    </tr>\n",
              "    <tr>\n",
              "      <td>8500</td>\n",
              "      <td>0.328900</td>\n",
              "    </tr>\n",
              "    <tr>\n",
              "      <td>9000</td>\n",
              "      <td>0.311400</td>\n",
              "    </tr>\n",
              "    <tr>\n",
              "      <td>9500</td>\n",
              "      <td>0.305300</td>\n",
              "    </tr>\n",
              "  </tbody>\n",
              "</table><p>"
            ]
          },
          "metadata": {}
        },
        {
          "output_type": "execute_result",
          "data": {
            "text/plain": [
              "('/content/gpt_model/tokenizer_config.json',\n",
              " '/content/gpt_model/special_tokens_map.json',\n",
              " '/content/gpt_model/vocab.json',\n",
              " '/content/gpt_model/merges.txt',\n",
              " '/content/gpt_model/added_tokens.json')"
            ]
          },
          "metadata": {},
          "execution_count": 29
        }
      ],
      "source": [
        "# Train the model\n",
        "trainer = Trainer(\n",
        "    model = model,\n",
        "    args = training_args,\n",
        "    data_collator = data_collator,\n",
        "    train_dataset = train_dataset,\n",
        "    eval_dataset = val_dataset,\n",
        ")\n",
        "\n",
        "trainer.train()\n",
        "\n",
        "# Save the model\n",
        "trainer.save_model(model_output_path)\n",
        "\n",
        "# Save the tokenizer\n",
        "tokenizer.save_pretrained(model_output_path)"
      ]
    },
    {
      "cell_type": "markdown",
      "metadata": {
        "id": "4izo_-go8cDP"
      },
      "source": [
        "**Exercise 11: Test Model with user input prompts [1 Mark]**\n",
        "\n",
        "- Create `generate_response()` function that takes a trained *model*, *tokenizer*, and a *prompt* string as input and generates a response using the GPT-2 model\n",
        "\n",
        "- Test it with some user input prompts"
      ]
    },
    {
      "cell_type": "code",
      "execution_count": 30,
      "metadata": {
        "id": "qeTKPArfgDJW"
      },
      "outputs": [],
      "source": [
        "def generate_response(model, tokenizer, prompt, max_length=200):\n",
        "\n",
        "    input_ids = tokenizer.encode(prompt, return_tensors=\"pt\")\n",
        "\n",
        "    # Create the attention mask and pad token id\n",
        "    attention_mask = torch.ones_like(input_ids)\n",
        "    pad_token_id = tokenizer.eos_token_id\n",
        "\n",
        "    output = model.generate(\n",
        "        input_ids,\n",
        "        max_length=max_length,\n",
        "        num_return_sequences=1,\n",
        "        attention_mask=attention_mask,\n",
        "        pad_token_id=pad_token_id\n",
        "    )\n",
        "\n",
        "    return tokenizer.decode(output[0], skip_special_tokens=True)\n"
      ]
    },
    {
      "cell_type": "code",
      "execution_count": 31,
      "metadata": {
        "id": "pJJ3bzD9fsJv"
      },
      "outputs": [],
      "source": [
        "# Load the fine-tuned model and tokenizer\n",
        "\n",
        "my_model = GPT2LMHeadModel.from_pretrained(model_output_path)\n",
        "my_tokenizer = GPT2Tokenizer.from_pretrained(model_output_path)"
      ]
    },
    {
      "cell_type": "code",
      "execution_count": 32,
      "metadata": {
        "id": "0fsu3PLKhVlO",
        "colab": {
          "base_uri": "https://localhost:8080/",
          "height": 35
        },
        "outputId": "d7c18460-2d0a-4574-d036-195fde761173"
      },
      "outputs": [
        {
          "output_type": "execute_result",
          "data": {
            "text/plain": [
              "'What is the outlook for Skin Cancer ?'"
            ],
            "application/vnd.google.colaboratory.intrinsic+json": {
              "type": "string"
            }
          },
          "metadata": {},
          "execution_count": 32
        }
      ],
      "source": [
        "# Training sample question\n",
        "train_ques[15]"
      ]
    },
    {
      "cell_type": "code",
      "execution_count": 33,
      "metadata": {
        "id": "Dg45o3tthcf8",
        "colab": {
          "base_uri": "https://localhost:8080/",
          "height": 87
        },
        "outputId": "f7023a5f-c925-4ce9-9bc9-2da7c23f63de"
      },
      "outputs": [
        {
          "output_type": "execute_result",
          "data": {
            "text/plain": [
              "'Certain factors affect prognosis (chance of recovery) and treatment options. The prognosis (chance of recovery) depends mostly on the stage of the cancer and the type of treatment used to remove the cancer. Treatment options depend on the following: - The stage of the cancer (whether it has spread deeper into the skin or to other places in the body). - The type of cancer. - The size of the tumor and what part of the body it affects. - The patients general health.'"
            ],
            "application/vnd.google.colaboratory.intrinsic+json": {
              "type": "string"
            }
          },
          "metadata": {},
          "execution_count": 33
        }
      ],
      "source": [
        "# Training sample answer\n",
        "train_ans[15]"
      ]
    },
    {
      "cell_type": "code",
      "execution_count": 34,
      "metadata": {
        "id": "UCkZjYC_ht7r",
        "colab": {
          "base_uri": "https://localhost:8080/",
          "height": 139
        },
        "outputId": "0a0aaff8-2734-4d38-bcc4-e95b933b3d78"
      },
      "outputs": [
        {
          "output_type": "execute_result",
          "data": {
            "text/plain": [
              "'What is the outlook for Skin Cancer ? <answer> Certain factors affect prognosis (chance of recovery) and treatment options. The prognosis (chance of recovery) depends on the following: - The stage of the cancer (whether it has spread deeper into the skin or to other places in the body). - The type of cancer. - The size of the tumor and how many years and how many years it has been diagnosed. - The patients general health.\\n<question> What is (are) Skin Cancer ? <answer> Key Points - Skin cancer is a disease in which malignant (cancer) cells form in the tissues of the skin. - The skin is the bodys largest organ. - The skin is made up of three main groups: - Skin cells: Squamous cells, keratinized cells and epidermis. - Melanocytes: Cells that make melanin. Skin also makes white blood cells, red blood cells, and platelets. Skin also makes hormones and'"
            ],
            "application/vnd.google.colaboratory.intrinsic+json": {
              "type": "string"
            }
          },
          "metadata": {},
          "execution_count": 34
        }
      ],
      "source": [
        "# Response from model\n",
        "\n",
        "prompt = \"What is the outlook for Skin Cancer ?\"\n",
        "response = generate_response(my_model, my_tokenizer, prompt)\n",
        "response"
      ]
    },
    {
      "cell_type": "code",
      "execution_count": 35,
      "metadata": {
        "id": "DlVNC0LliaMK",
        "colab": {
          "base_uri": "https://localhost:8080/",
          "height": 157
        },
        "outputId": "41aa560f-cc95-42a2-8d5a-a017d7e33e61"
      },
      "outputs": [
        {
          "output_type": "execute_result",
          "data": {
            "text/plain": [
              "\"What are the treatments for Skin Cancer? ? <answer> Certain factors affect prognosis (chance of recovery) and treatment options. The prognosis (chance of recovery) depends on the following: - The stage of the cancer (whether it has spread deeper into the skin or to other places in the body). - The type of cancer. - The size of the tumor and how much of the body's tissue is affected. - The patients general health.\\n<question> What are the treatments for Skin Cancer ? <answer> The prognosis (chance of recovery) depends on the following: - The stage of the cancer (whether it has spread deeper into the skin or to other places in the body). - The type of cancer. - The size of the tumor and how much of the body's tissue is affected. The patients general health. - The patients general health. The patients general health. The patients general health. The patients general health. The patients general health. The patients general health\""
            ],
            "application/vnd.google.colaboratory.intrinsic+json": {
              "type": "string"
            }
          },
          "metadata": {},
          "execution_count": 35
        }
      ],
      "source": [
        "# Testing with given prompt 1\n",
        "\n",
        "prompt = \"What are the treatments for Skin Cancer?\"\n",
        "response = generate_response(my_model, my_tokenizer, prompt)\n",
        "response"
      ]
    },
    {
      "cell_type": "code",
      "execution_count": 36,
      "metadata": {
        "id": "WWOTby9IiyQ8",
        "colab": {
          "base_uri": "https://localhost:8080/",
          "height": 157
        },
        "outputId": "9c6d8240-e8e6-4de1-e178-a04e3e399d85"
      },
      "outputs": [
        {
          "output_type": "execute_result",
          "data": {
            "text/plain": [
              "\"What are the precautions for Skin Cancer? ? <answer> Take every day precautions to prevent infection. Avoid contact with other people's medicines, including those that contain carcinogens, radiation, or thyroid medications. Talk to your doctor about the medicines you are taking and what you can do to protect your eyes and skin. Follow your treatments for Skin Cancer exactly as your doctor prescribes. Don't smoke. Eat a healthy diet. If you smoke, quit. For important information about quitting, visit www.Smokefree.gov or call 1-800-QUIT NOW (1-800-784-8669). See Also - How to Quit Smoking - The Effects of Smoking - The Effects of Smoking - The Effects of Alcohol - Cigarette Smoking: Health Effects of Tobacco Smoking The Effects of Alcohol Cigarette smoking is the most concentrated form of pollution that most people are exposed to. As a result, the amount of carbon dioxide released into the air increases, the higher the cigarette smoking level. In\""
            ],
            "application/vnd.google.colaboratory.intrinsic+json": {
              "type": "string"
            }
          },
          "metadata": {},
          "execution_count": 36
        }
      ],
      "source": [
        "# Testing with given prompt 2\n",
        "\n",
        "prompt = \"What are the precautions for Skin Cancer?\"\n",
        "response = generate_response(my_model, my_tokenizer, prompt)\n",
        "response"
      ]
    },
    {
      "cell_type": "markdown",
      "metadata": {
        "id": "NO_AdtZc8ThO"
      },
      "source": [
        "**Exercise 12: Compare the performance of a *GPT2 model* with the *GPT2 model fine-tuned* on MedQuAD data [1 Mark]**\n",
        "\n",
        "- Load another pre-trained GPT2LMHeadModel and do not fine-tune it\n",
        "\n",
        "- To generate response using the untuned model, pass it as a parameter to `generate_response()` function\n",
        "\n",
        "- Test both models (fine-tuned and untuned) with below user input prompts:\n",
        "\n",
        "    - \"What precautions to take for a healthy life?\"\n",
        "    - \"What to do after being diagnosed with cancer?\"\n",
        "    - \"What to do when feeling sick?\""
      ]
    },
    {
      "cell_type": "code",
      "execution_count": 37,
      "metadata": {
        "id": "u7Inq43Q524A"
      },
      "outputs": [],
      "source": [
        "# Load a pre-trained GPT2 model, do not finetune it with MedQuAD data\n",
        "\n",
        "untuned_model = GPT2LMHeadModel.from_pretrained(\"gpt2\")"
      ]
    },
    {
      "cell_type": "code",
      "execution_count": 38,
      "metadata": {
        "id": "wb58jO6b4gC4",
        "colab": {
          "base_uri": "https://localhost:8080/",
          "height": 157
        },
        "outputId": "1d4e4f9e-599e-4ce9-cf85-bc7baf3481d8"
      },
      "outputs": [
        {
          "output_type": "execute_result",
          "data": {
            "text/plain": [
              "'What precautions to take for a healthy life? - Ask your doctor about the medicines you are taking. - Check with your doctor before beginning any exercise program. - Talk with your doctor about any medications that may affect blood pressure. - Answer honestly if a doctor or other health care professional asks you about other conditions or risks of exercising. - Answer honestly if a doctor or other health care professional asks you about other conditions or risks of smoking. - Answer honestly if a doctor or other health care professional asks you about other health problems such as stroke or heart disease. Learn more about the risks of smoking. Get tips on quitting smoking.\\n<question> What is (are) High Blood Pressure ? <answer> High blood pressure is the force of blood pushing against the walls of the arteries. If your blood pressure rises and stays high over time, it can affect your heart rate, which can then affect your ability to pump blood. Many things can affect blood pressure, including - your heart rate - your blood'"
            ],
            "application/vnd.google.colaboratory.intrinsic+json": {
              "type": "string"
            }
          },
          "metadata": {},
          "execution_count": 38
        }
      ],
      "source": [
        "# Testing with finetuned model: prompt 1\n",
        "\n",
        "prompt = \"What precautions to take for a healthy life?\"\n",
        "response = generate_response(my_model, my_tokenizer, prompt)\n",
        "response"
      ]
    },
    {
      "cell_type": "code",
      "execution_count": 39,
      "metadata": {
        "id": "q3rN6ETD46PS",
        "colab": {
          "base_uri": "https://localhost:8080/",
          "height": 139
        },
        "outputId": "7047d2b2-90da-4eaf-e13f-4517e67abac6"
      },
      "outputs": [
        {
          "output_type": "execute_result",
          "data": {
            "text/plain": [
              "\"What precautions to take for a healthy life?\\n\\nThe following are some of the most common questions you'll hear from your doctor or nurse about your health.\\n\\nWhat are the risks of taking a drug that can cause cancer?\\n\\nThe risks of taking a drug that can cause cancer are very high.\\n\\nWhat are the risks of taking a drug that can cause cancer?\\n\\nThe risks of taking a drug that can cause cancer are very high.\\n\\nWhat are the risks of taking a drug that can cause cancer?\\n\\nThe risks of taking a drug that can cause cancer are very high.\\n\\nWhat are the risks of taking a drug that can cause cancer?\\n\\nThe risks of taking a drug that can cause cancer are very high.\\n\\nWhat are the risks of taking a drug that can cause cancer?\\n\\nThe risks of taking a drug that can cause cancer are very high.\\n\\nWhat are the risks of taking a drug that can cause\""
            ],
            "application/vnd.google.colaboratory.intrinsic+json": {
              "type": "string"
            }
          },
          "metadata": {},
          "execution_count": 39
        }
      ],
      "source": [
        "# Testing with untuned model: prompt 1\n",
        "\n",
        "prompt = \"What precautions to take for a healthy life?\"\n",
        "response = generate_response(untuned_model, my_tokenizer, prompt)\n",
        "response"
      ]
    },
    {
      "cell_type": "code",
      "execution_count": 40,
      "metadata": {
        "id": "Pl0ChnZn6XVq",
        "colab": {
          "base_uri": "https://localhost:8080/",
          "height": 157
        },
        "outputId": "b317e0a4-a252-4a07-c49a-e064f94a4122"
      },
      "outputs": [
        {
          "output_type": "execute_result",
          "data": {
            "text/plain": [
              "'What to do after being diagnosed with cancer?\\n<question> What to do after Being Diagnosed with Cancer ? <answer> Recovering the Ability To Smell Some cancer patients recover their ability to smell when they recover from the cancer. Smell is regained through a process called recovery, in which the patient recites a list of questions and/or details about the illness that caused the loss of smell. The following questions and answers may be asked of patients who have recovered their ability to smell: - When did you first become aware of the illness that is responsible for loss of smell? - Did you have any symptoms or changes during the course of the illness? - Did you have any family members with the illness or was there a close relative who had the illness? - Was the illness caused by a previous diagnosis of the illness or by a new one? Was the loss of smell caused by a previous diagnosis of the illness or by a new one? - Was the smell disorder caused by a substance'"
            ],
            "application/vnd.google.colaboratory.intrinsic+json": {
              "type": "string"
            }
          },
          "metadata": {},
          "execution_count": 40
        }
      ],
      "source": [
        "# Testing with finetuned model: prompt 2\n",
        "\n",
        "prompt = \"What to do after being diagnosed with cancer?\"\n",
        "response = generate_response(my_model, my_tokenizer, prompt)\n",
        "response"
      ]
    },
    {
      "cell_type": "code",
      "execution_count": 41,
      "metadata": {
        "id": "gG4lVy3F6u2B",
        "colab": {
          "base_uri": "https://localhost:8080/",
          "height": 139
        },
        "outputId": "c30aef6e-7537-459d-e4ed-bd9f3be82e80"
      },
      "outputs": [
        {
          "output_type": "execute_result",
          "data": {
            "text/plain": [
              "\"What to do after being diagnosed with cancer?\\n\\nThe first step is to get your doctor's approval for a treatment.\\n\\nIf you have a cancer diagnosis, you may need to get a second opinion.\\n\\nIf you have a cancer diagnosis, you may need to get a second opinion. If you have a cancer diagnosis, you may need to get a third opinion.\\n\\nIf you have a cancer diagnosis, you may need to get a third opinion. If you have a cancer diagnosis, you may need to get a fourth opinion.\\n\\nIf you have a cancer diagnosis, you may need to get a fourth opinion. If you have a cancer diagnosis, you may need to get a fifth opinion.\\n\\nIf you have a cancer diagnosis, you may need to get a fifth opinion. If you have a cancer diagnosis, you may need to get a sixth opinion.\\n\\nIf you have a cancer diagnosis, you may need to get a sixth opinion. If you have\""
            ],
            "application/vnd.google.colaboratory.intrinsic+json": {
              "type": "string"
            }
          },
          "metadata": {},
          "execution_count": 41
        }
      ],
      "source": [
        "# Testing with untuned model: prompt 2\n",
        "\n",
        "prompt = \"What to do after being diagnosed with cancer?\"\n",
        "response = generate_response(untuned_model, my_tokenizer, prompt)\n",
        "response"
      ]
    },
    {
      "cell_type": "code",
      "execution_count": 42,
      "metadata": {
        "id": "yqu9MAci7dvN",
        "colab": {
          "base_uri": "https://localhost:8080/",
          "height": 157
        },
        "outputId": "45321478-df8e-4439-806a-2ad7a60ae4d5"
      },
      "outputs": [
        {
          "output_type": "execute_result",
          "data": {
            "text/plain": [
              "'What to do when feeling sick? How to manage your dizziness and balance problems. How to prevent falls. How to prevent fall damage. How to manage joint hypermobility. How to manage joint hypermobility.\\n<question> What causes Balance Problems ? <answer> Problems Caused by Balance Problems Are Often Temporary When a person has a balance problem, it is often temporary and minor. When a person has a balance problem, it is often minor and goes away when the illness or injury clears up. Many balance problems are caused by problems in the inner ear. Some people have balance disorders in the middle of the inner ear. Others may have a balance problem in the upper or outer ear. The inner ear is where our inner ear, nose, and throat are. It is where we experience the most intense sensations of balance and balance. The inner ear is also where the balance problem first begins. There are two types of balance disorders. One affects the middle of the inner ear, called'"
            ],
            "application/vnd.google.colaboratory.intrinsic+json": {
              "type": "string"
            }
          },
          "metadata": {},
          "execution_count": 42
        }
      ],
      "source": [
        "# Testing with finetuned model: prompt 3\n",
        "\n",
        "prompt = \"What to do when feeling sick?\"\n",
        "response = generate_response(my_model, my_tokenizer, prompt)\n",
        "response"
      ]
    },
    {
      "cell_type": "code",
      "execution_count": 43,
      "metadata": {
        "id": "jdj0En4o61Zj",
        "colab": {
          "base_uri": "https://localhost:8080/",
          "height": 139
        },
        "outputId": "c1229692-a958-45e1-9173-281f8415f1a9"
      },
      "outputs": [
        {
          "output_type": "execute_result",
          "data": {
            "text/plain": [
              "\"What to do when feeling sick?\\n\\nThe first thing you should do is to get your body to relax.\\n\\nIf you're feeling sick, you should take a few minutes to relax.\\n\\nIf you're feeling sick, you should take a few minutes to relax.\\n\\nIf you're feeling sick, you should take a few minutes to relax.\\n\\nIf you're feeling sick, you should take a few minutes to relax.\\n\\nIf you're feeling sick, you should take a few minutes to relax.\\n\\nIf you're feeling sick, you should take a few minutes to relax.\\n\\nIf you're feeling sick, you should take a few minutes to relax.\\n\\nIf you're feeling sick, you should take a few minutes to relax.\\n\\nIf you're feeling sick, you should take a few minutes to relax.\\n\\nIf you're feeling sick, you should take a few minutes to relax.\\n\\nIf you're feeling sick\""
            ],
            "application/vnd.google.colaboratory.intrinsic+json": {
              "type": "string"
            }
          },
          "metadata": {},
          "execution_count": 43
        }
      ],
      "source": [
        "# Testing with untuned model: prompt 3\n",
        "\n",
        "prompt = \"What to do when feeling sick?\"\n",
        "response = generate_response(untuned_model, my_tokenizer, prompt)\n",
        "response"
      ]
    }
  ],
  "metadata": {
    "accelerator": "GPU",
    "colab": {
      "gpuType": "T4",
      "provenance": [],
      "include_colab_link": true
    },
    "kernelspec": {
      "display_name": "Python 3",
      "name": "python3"
    },
    "language_info": {
      "name": "python"
    },
    "widgets": {
      "application/vnd.jupyter.widget-state+json": {
        "0640dbc4ce194fc99bd054426cd67a41": {
          "model_module": "@jupyter-widgets/controls",
          "model_name": "HBoxModel",
          "model_module_version": "1.5.0",
          "state": {
            "_dom_classes": [],
            "_model_module": "@jupyter-widgets/controls",
            "_model_module_version": "1.5.0",
            "_model_name": "HBoxModel",
            "_view_count": null,
            "_view_module": "@jupyter-widgets/controls",
            "_view_module_version": "1.5.0",
            "_view_name": "HBoxView",
            "box_style": "",
            "children": [
              "IPY_MODEL_1334cf0497c64dbb90c409007ae5350c",
              "IPY_MODEL_4d5f9462428d4fa7ba400a3a8da4aad8",
              "IPY_MODEL_18579d8761734a34b6efd95b350f18e0"
            ],
            "layout": "IPY_MODEL_2495bb3ef85d4f0c96b092cd82935a11"
          }
        },
        "1334cf0497c64dbb90c409007ae5350c": {
          "model_module": "@jupyter-widgets/controls",
          "model_name": "HTMLModel",
          "model_module_version": "1.5.0",
          "state": {
            "_dom_classes": [],
            "_model_module": "@jupyter-widgets/controls",
            "_model_module_version": "1.5.0",
            "_model_name": "HTMLModel",
            "_view_count": null,
            "_view_module": "@jupyter-widgets/controls",
            "_view_module_version": "1.5.0",
            "_view_name": "HTMLView",
            "description": "",
            "description_tooltip": null,
            "layout": "IPY_MODEL_6095c38ec52f450d9ecbeccbc9113ed7",
            "placeholder": "​",
            "style": "IPY_MODEL_9a82f351dd2f4654b56a76111195d872",
            "value": "tokenizer_config.json: 100%"
          }
        },
        "4d5f9462428d4fa7ba400a3a8da4aad8": {
          "model_module": "@jupyter-widgets/controls",
          "model_name": "FloatProgressModel",
          "model_module_version": "1.5.0",
          "state": {
            "_dom_classes": [],
            "_model_module": "@jupyter-widgets/controls",
            "_model_module_version": "1.5.0",
            "_model_name": "FloatProgressModel",
            "_view_count": null,
            "_view_module": "@jupyter-widgets/controls",
            "_view_module_version": "1.5.0",
            "_view_name": "ProgressView",
            "bar_style": "success",
            "description": "",
            "description_tooltip": null,
            "layout": "IPY_MODEL_f975959a25ba46ecb0eaff4a6a6b757f",
            "max": 26,
            "min": 0,
            "orientation": "horizontal",
            "style": "IPY_MODEL_a9ee71bc277e4c76b73c06f94a808381",
            "value": 26
          }
        },
        "18579d8761734a34b6efd95b350f18e0": {
          "model_module": "@jupyter-widgets/controls",
          "model_name": "HTMLModel",
          "model_module_version": "1.5.0",
          "state": {
            "_dom_classes": [],
            "_model_module": "@jupyter-widgets/controls",
            "_model_module_version": "1.5.0",
            "_model_name": "HTMLModel",
            "_view_count": null,
            "_view_module": "@jupyter-widgets/controls",
            "_view_module_version": "1.5.0",
            "_view_name": "HTMLView",
            "description": "",
            "description_tooltip": null,
            "layout": "IPY_MODEL_5e57069867be4fa38a2c0d23b1b1db2c",
            "placeholder": "​",
            "style": "IPY_MODEL_c1a02406f6314822abe50852211e8dc7",
            "value": " 26.0/26.0 [00:00&lt;00:00, 440B/s]"
          }
        },
        "2495bb3ef85d4f0c96b092cd82935a11": {
          "model_module": "@jupyter-widgets/base",
          "model_name": "LayoutModel",
          "model_module_version": "1.2.0",
          "state": {
            "_model_module": "@jupyter-widgets/base",
            "_model_module_version": "1.2.0",
            "_model_name": "LayoutModel",
            "_view_count": null,
            "_view_module": "@jupyter-widgets/base",
            "_view_module_version": "1.2.0",
            "_view_name": "LayoutView",
            "align_content": null,
            "align_items": null,
            "align_self": null,
            "border": null,
            "bottom": null,
            "display": null,
            "flex": null,
            "flex_flow": null,
            "grid_area": null,
            "grid_auto_columns": null,
            "grid_auto_flow": null,
            "grid_auto_rows": null,
            "grid_column": null,
            "grid_gap": null,
            "grid_row": null,
            "grid_template_areas": null,
            "grid_template_columns": null,
            "grid_template_rows": null,
            "height": null,
            "justify_content": null,
            "justify_items": null,
            "left": null,
            "margin": null,
            "max_height": null,
            "max_width": null,
            "min_height": null,
            "min_width": null,
            "object_fit": null,
            "object_position": null,
            "order": null,
            "overflow": null,
            "overflow_x": null,
            "overflow_y": null,
            "padding": null,
            "right": null,
            "top": null,
            "visibility": null,
            "width": null
          }
        },
        "6095c38ec52f450d9ecbeccbc9113ed7": {
          "model_module": "@jupyter-widgets/base",
          "model_name": "LayoutModel",
          "model_module_version": "1.2.0",
          "state": {
            "_model_module": "@jupyter-widgets/base",
            "_model_module_version": "1.2.0",
            "_model_name": "LayoutModel",
            "_view_count": null,
            "_view_module": "@jupyter-widgets/base",
            "_view_module_version": "1.2.0",
            "_view_name": "LayoutView",
            "align_content": null,
            "align_items": null,
            "align_self": null,
            "border": null,
            "bottom": null,
            "display": null,
            "flex": null,
            "flex_flow": null,
            "grid_area": null,
            "grid_auto_columns": null,
            "grid_auto_flow": null,
            "grid_auto_rows": null,
            "grid_column": null,
            "grid_gap": null,
            "grid_row": null,
            "grid_template_areas": null,
            "grid_template_columns": null,
            "grid_template_rows": null,
            "height": null,
            "justify_content": null,
            "justify_items": null,
            "left": null,
            "margin": null,
            "max_height": null,
            "max_width": null,
            "min_height": null,
            "min_width": null,
            "object_fit": null,
            "object_position": null,
            "order": null,
            "overflow": null,
            "overflow_x": null,
            "overflow_y": null,
            "padding": null,
            "right": null,
            "top": null,
            "visibility": null,
            "width": null
          }
        },
        "9a82f351dd2f4654b56a76111195d872": {
          "model_module": "@jupyter-widgets/controls",
          "model_name": "DescriptionStyleModel",
          "model_module_version": "1.5.0",
          "state": {
            "_model_module": "@jupyter-widgets/controls",
            "_model_module_version": "1.5.0",
            "_model_name": "DescriptionStyleModel",
            "_view_count": null,
            "_view_module": "@jupyter-widgets/base",
            "_view_module_version": "1.2.0",
            "_view_name": "StyleView",
            "description_width": ""
          }
        },
        "f975959a25ba46ecb0eaff4a6a6b757f": {
          "model_module": "@jupyter-widgets/base",
          "model_name": "LayoutModel",
          "model_module_version": "1.2.0",
          "state": {
            "_model_module": "@jupyter-widgets/base",
            "_model_module_version": "1.2.0",
            "_model_name": "LayoutModel",
            "_view_count": null,
            "_view_module": "@jupyter-widgets/base",
            "_view_module_version": "1.2.0",
            "_view_name": "LayoutView",
            "align_content": null,
            "align_items": null,
            "align_self": null,
            "border": null,
            "bottom": null,
            "display": null,
            "flex": null,
            "flex_flow": null,
            "grid_area": null,
            "grid_auto_columns": null,
            "grid_auto_flow": null,
            "grid_auto_rows": null,
            "grid_column": null,
            "grid_gap": null,
            "grid_row": null,
            "grid_template_areas": null,
            "grid_template_columns": null,
            "grid_template_rows": null,
            "height": null,
            "justify_content": null,
            "justify_items": null,
            "left": null,
            "margin": null,
            "max_height": null,
            "max_width": null,
            "min_height": null,
            "min_width": null,
            "object_fit": null,
            "object_position": null,
            "order": null,
            "overflow": null,
            "overflow_x": null,
            "overflow_y": null,
            "padding": null,
            "right": null,
            "top": null,
            "visibility": null,
            "width": null
          }
        },
        "a9ee71bc277e4c76b73c06f94a808381": {
          "model_module": "@jupyter-widgets/controls",
          "model_name": "ProgressStyleModel",
          "model_module_version": "1.5.0",
          "state": {
            "_model_module": "@jupyter-widgets/controls",
            "_model_module_version": "1.5.0",
            "_model_name": "ProgressStyleModel",
            "_view_count": null,
            "_view_module": "@jupyter-widgets/base",
            "_view_module_version": "1.2.0",
            "_view_name": "StyleView",
            "bar_color": null,
            "description_width": ""
          }
        },
        "5e57069867be4fa38a2c0d23b1b1db2c": {
          "model_module": "@jupyter-widgets/base",
          "model_name": "LayoutModel",
          "model_module_version": "1.2.0",
          "state": {
            "_model_module": "@jupyter-widgets/base",
            "_model_module_version": "1.2.0",
            "_model_name": "LayoutModel",
            "_view_count": null,
            "_view_module": "@jupyter-widgets/base",
            "_view_module_version": "1.2.0",
            "_view_name": "LayoutView",
            "align_content": null,
            "align_items": null,
            "align_self": null,
            "border": null,
            "bottom": null,
            "display": null,
            "flex": null,
            "flex_flow": null,
            "grid_area": null,
            "grid_auto_columns": null,
            "grid_auto_flow": null,
            "grid_auto_rows": null,
            "grid_column": null,
            "grid_gap": null,
            "grid_row": null,
            "grid_template_areas": null,
            "grid_template_columns": null,
            "grid_template_rows": null,
            "height": null,
            "justify_content": null,
            "justify_items": null,
            "left": null,
            "margin": null,
            "max_height": null,
            "max_width": null,
            "min_height": null,
            "min_width": null,
            "object_fit": null,
            "object_position": null,
            "order": null,
            "overflow": null,
            "overflow_x": null,
            "overflow_y": null,
            "padding": null,
            "right": null,
            "top": null,
            "visibility": null,
            "width": null
          }
        },
        "c1a02406f6314822abe50852211e8dc7": {
          "model_module": "@jupyter-widgets/controls",
          "model_name": "DescriptionStyleModel",
          "model_module_version": "1.5.0",
          "state": {
            "_model_module": "@jupyter-widgets/controls",
            "_model_module_version": "1.5.0",
            "_model_name": "DescriptionStyleModel",
            "_view_count": null,
            "_view_module": "@jupyter-widgets/base",
            "_view_module_version": "1.2.0",
            "_view_name": "StyleView",
            "description_width": ""
          }
        },
        "39055ddfba2341be857dc4fdbf45fbef": {
          "model_module": "@jupyter-widgets/controls",
          "model_name": "HBoxModel",
          "model_module_version": "1.5.0",
          "state": {
            "_dom_classes": [],
            "_model_module": "@jupyter-widgets/controls",
            "_model_module_version": "1.5.0",
            "_model_name": "HBoxModel",
            "_view_count": null,
            "_view_module": "@jupyter-widgets/controls",
            "_view_module_version": "1.5.0",
            "_view_name": "HBoxView",
            "box_style": "",
            "children": [
              "IPY_MODEL_de3fa7639d05493db1b413c07f71f3d0",
              "IPY_MODEL_744be63f76d14d608fad09a571972ee6",
              "IPY_MODEL_3a13b7debf4d4243a1eb4d8ce6cefcad"
            ],
            "layout": "IPY_MODEL_97bd3c0e7b0a423b9725772d4b7a6eff"
          }
        },
        "de3fa7639d05493db1b413c07f71f3d0": {
          "model_module": "@jupyter-widgets/controls",
          "model_name": "HTMLModel",
          "model_module_version": "1.5.0",
          "state": {
            "_dom_classes": [],
            "_model_module": "@jupyter-widgets/controls",
            "_model_module_version": "1.5.0",
            "_model_name": "HTMLModel",
            "_view_count": null,
            "_view_module": "@jupyter-widgets/controls",
            "_view_module_version": "1.5.0",
            "_view_name": "HTMLView",
            "description": "",
            "description_tooltip": null,
            "layout": "IPY_MODEL_1cf40030fe7640d79d954be8c5969a49",
            "placeholder": "​",
            "style": "IPY_MODEL_4893bda5ddc14ff9a67ef234bf8dbf88",
            "value": "vocab.json: 100%"
          }
        },
        "744be63f76d14d608fad09a571972ee6": {
          "model_module": "@jupyter-widgets/controls",
          "model_name": "FloatProgressModel",
          "model_module_version": "1.5.0",
          "state": {
            "_dom_classes": [],
            "_model_module": "@jupyter-widgets/controls",
            "_model_module_version": "1.5.0",
            "_model_name": "FloatProgressModel",
            "_view_count": null,
            "_view_module": "@jupyter-widgets/controls",
            "_view_module_version": "1.5.0",
            "_view_name": "ProgressView",
            "bar_style": "success",
            "description": "",
            "description_tooltip": null,
            "layout": "IPY_MODEL_f6842cbcf35b4e39888cc14a646ba00a",
            "max": 1042301,
            "min": 0,
            "orientation": "horizontal",
            "style": "IPY_MODEL_92b1e29e5b2b473fbce4d1240bf850c8",
            "value": 1042301
          }
        },
        "3a13b7debf4d4243a1eb4d8ce6cefcad": {
          "model_module": "@jupyter-widgets/controls",
          "model_name": "HTMLModel",
          "model_module_version": "1.5.0",
          "state": {
            "_dom_classes": [],
            "_model_module": "@jupyter-widgets/controls",
            "_model_module_version": "1.5.0",
            "_model_name": "HTMLModel",
            "_view_count": null,
            "_view_module": "@jupyter-widgets/controls",
            "_view_module_version": "1.5.0",
            "_view_name": "HTMLView",
            "description": "",
            "description_tooltip": null,
            "layout": "IPY_MODEL_72cd9ca8d5a7445598e1937b5be9ecc8",
            "placeholder": "​",
            "style": "IPY_MODEL_8af1fb6fb4d04a4d874ddd806f6fbfea",
            "value": " 1.04M/1.04M [00:00&lt;00:00, 4.67MB/s]"
          }
        },
        "97bd3c0e7b0a423b9725772d4b7a6eff": {
          "model_module": "@jupyter-widgets/base",
          "model_name": "LayoutModel",
          "model_module_version": "1.2.0",
          "state": {
            "_model_module": "@jupyter-widgets/base",
            "_model_module_version": "1.2.0",
            "_model_name": "LayoutModel",
            "_view_count": null,
            "_view_module": "@jupyter-widgets/base",
            "_view_module_version": "1.2.0",
            "_view_name": "LayoutView",
            "align_content": null,
            "align_items": null,
            "align_self": null,
            "border": null,
            "bottom": null,
            "display": null,
            "flex": null,
            "flex_flow": null,
            "grid_area": null,
            "grid_auto_columns": null,
            "grid_auto_flow": null,
            "grid_auto_rows": null,
            "grid_column": null,
            "grid_gap": null,
            "grid_row": null,
            "grid_template_areas": null,
            "grid_template_columns": null,
            "grid_template_rows": null,
            "height": null,
            "justify_content": null,
            "justify_items": null,
            "left": null,
            "margin": null,
            "max_height": null,
            "max_width": null,
            "min_height": null,
            "min_width": null,
            "object_fit": null,
            "object_position": null,
            "order": null,
            "overflow": null,
            "overflow_x": null,
            "overflow_y": null,
            "padding": null,
            "right": null,
            "top": null,
            "visibility": null,
            "width": null
          }
        },
        "1cf40030fe7640d79d954be8c5969a49": {
          "model_module": "@jupyter-widgets/base",
          "model_name": "LayoutModel",
          "model_module_version": "1.2.0",
          "state": {
            "_model_module": "@jupyter-widgets/base",
            "_model_module_version": "1.2.0",
            "_model_name": "LayoutModel",
            "_view_count": null,
            "_view_module": "@jupyter-widgets/base",
            "_view_module_version": "1.2.0",
            "_view_name": "LayoutView",
            "align_content": null,
            "align_items": null,
            "align_self": null,
            "border": null,
            "bottom": null,
            "display": null,
            "flex": null,
            "flex_flow": null,
            "grid_area": null,
            "grid_auto_columns": null,
            "grid_auto_flow": null,
            "grid_auto_rows": null,
            "grid_column": null,
            "grid_gap": null,
            "grid_row": null,
            "grid_template_areas": null,
            "grid_template_columns": null,
            "grid_template_rows": null,
            "height": null,
            "justify_content": null,
            "justify_items": null,
            "left": null,
            "margin": null,
            "max_height": null,
            "max_width": null,
            "min_height": null,
            "min_width": null,
            "object_fit": null,
            "object_position": null,
            "order": null,
            "overflow": null,
            "overflow_x": null,
            "overflow_y": null,
            "padding": null,
            "right": null,
            "top": null,
            "visibility": null,
            "width": null
          }
        },
        "4893bda5ddc14ff9a67ef234bf8dbf88": {
          "model_module": "@jupyter-widgets/controls",
          "model_name": "DescriptionStyleModel",
          "model_module_version": "1.5.0",
          "state": {
            "_model_module": "@jupyter-widgets/controls",
            "_model_module_version": "1.5.0",
            "_model_name": "DescriptionStyleModel",
            "_view_count": null,
            "_view_module": "@jupyter-widgets/base",
            "_view_module_version": "1.2.0",
            "_view_name": "StyleView",
            "description_width": ""
          }
        },
        "f6842cbcf35b4e39888cc14a646ba00a": {
          "model_module": "@jupyter-widgets/base",
          "model_name": "LayoutModel",
          "model_module_version": "1.2.0",
          "state": {
            "_model_module": "@jupyter-widgets/base",
            "_model_module_version": "1.2.0",
            "_model_name": "LayoutModel",
            "_view_count": null,
            "_view_module": "@jupyter-widgets/base",
            "_view_module_version": "1.2.0",
            "_view_name": "LayoutView",
            "align_content": null,
            "align_items": null,
            "align_self": null,
            "border": null,
            "bottom": null,
            "display": null,
            "flex": null,
            "flex_flow": null,
            "grid_area": null,
            "grid_auto_columns": null,
            "grid_auto_flow": null,
            "grid_auto_rows": null,
            "grid_column": null,
            "grid_gap": null,
            "grid_row": null,
            "grid_template_areas": null,
            "grid_template_columns": null,
            "grid_template_rows": null,
            "height": null,
            "justify_content": null,
            "justify_items": null,
            "left": null,
            "margin": null,
            "max_height": null,
            "max_width": null,
            "min_height": null,
            "min_width": null,
            "object_fit": null,
            "object_position": null,
            "order": null,
            "overflow": null,
            "overflow_x": null,
            "overflow_y": null,
            "padding": null,
            "right": null,
            "top": null,
            "visibility": null,
            "width": null
          }
        },
        "92b1e29e5b2b473fbce4d1240bf850c8": {
          "model_module": "@jupyter-widgets/controls",
          "model_name": "ProgressStyleModel",
          "model_module_version": "1.5.0",
          "state": {
            "_model_module": "@jupyter-widgets/controls",
            "_model_module_version": "1.5.0",
            "_model_name": "ProgressStyleModel",
            "_view_count": null,
            "_view_module": "@jupyter-widgets/base",
            "_view_module_version": "1.2.0",
            "_view_name": "StyleView",
            "bar_color": null,
            "description_width": ""
          }
        },
        "72cd9ca8d5a7445598e1937b5be9ecc8": {
          "model_module": "@jupyter-widgets/base",
          "model_name": "LayoutModel",
          "model_module_version": "1.2.0",
          "state": {
            "_model_module": "@jupyter-widgets/base",
            "_model_module_version": "1.2.0",
            "_model_name": "LayoutModel",
            "_view_count": null,
            "_view_module": "@jupyter-widgets/base",
            "_view_module_version": "1.2.0",
            "_view_name": "LayoutView",
            "align_content": null,
            "align_items": null,
            "align_self": null,
            "border": null,
            "bottom": null,
            "display": null,
            "flex": null,
            "flex_flow": null,
            "grid_area": null,
            "grid_auto_columns": null,
            "grid_auto_flow": null,
            "grid_auto_rows": null,
            "grid_column": null,
            "grid_gap": null,
            "grid_row": null,
            "grid_template_areas": null,
            "grid_template_columns": null,
            "grid_template_rows": null,
            "height": null,
            "justify_content": null,
            "justify_items": null,
            "left": null,
            "margin": null,
            "max_height": null,
            "max_width": null,
            "min_height": null,
            "min_width": null,
            "object_fit": null,
            "object_position": null,
            "order": null,
            "overflow": null,
            "overflow_x": null,
            "overflow_y": null,
            "padding": null,
            "right": null,
            "top": null,
            "visibility": null,
            "width": null
          }
        },
        "8af1fb6fb4d04a4d874ddd806f6fbfea": {
          "model_module": "@jupyter-widgets/controls",
          "model_name": "DescriptionStyleModel",
          "model_module_version": "1.5.0",
          "state": {
            "_model_module": "@jupyter-widgets/controls",
            "_model_module_version": "1.5.0",
            "_model_name": "DescriptionStyleModel",
            "_view_count": null,
            "_view_module": "@jupyter-widgets/base",
            "_view_module_version": "1.2.0",
            "_view_name": "StyleView",
            "description_width": ""
          }
        },
        "e85ebf15035b4c7bb239419c6b0702b3": {
          "model_module": "@jupyter-widgets/controls",
          "model_name": "HBoxModel",
          "model_module_version": "1.5.0",
          "state": {
            "_dom_classes": [],
            "_model_module": "@jupyter-widgets/controls",
            "_model_module_version": "1.5.0",
            "_model_name": "HBoxModel",
            "_view_count": null,
            "_view_module": "@jupyter-widgets/controls",
            "_view_module_version": "1.5.0",
            "_view_name": "HBoxView",
            "box_style": "",
            "children": [
              "IPY_MODEL_7b9ff9b677164cd0a2d0dab2742cd1a9",
              "IPY_MODEL_43e46d1460ca45df8837fd5a59570379",
              "IPY_MODEL_7410400bd913410f9259fe5214338ec5"
            ],
            "layout": "IPY_MODEL_71bad26d0bb14994a078c2625e8daf4f"
          }
        },
        "7b9ff9b677164cd0a2d0dab2742cd1a9": {
          "model_module": "@jupyter-widgets/controls",
          "model_name": "HTMLModel",
          "model_module_version": "1.5.0",
          "state": {
            "_dom_classes": [],
            "_model_module": "@jupyter-widgets/controls",
            "_model_module_version": "1.5.0",
            "_model_name": "HTMLModel",
            "_view_count": null,
            "_view_module": "@jupyter-widgets/controls",
            "_view_module_version": "1.5.0",
            "_view_name": "HTMLView",
            "description": "",
            "description_tooltip": null,
            "layout": "IPY_MODEL_9030a152b80c4a15831d40de6e04a109",
            "placeholder": "​",
            "style": "IPY_MODEL_21655d0a5582466e81f7ae684ce1eb1a",
            "value": "merges.txt: 100%"
          }
        },
        "43e46d1460ca45df8837fd5a59570379": {
          "model_module": "@jupyter-widgets/controls",
          "model_name": "FloatProgressModel",
          "model_module_version": "1.5.0",
          "state": {
            "_dom_classes": [],
            "_model_module": "@jupyter-widgets/controls",
            "_model_module_version": "1.5.0",
            "_model_name": "FloatProgressModel",
            "_view_count": null,
            "_view_module": "@jupyter-widgets/controls",
            "_view_module_version": "1.5.0",
            "_view_name": "ProgressView",
            "bar_style": "success",
            "description": "",
            "description_tooltip": null,
            "layout": "IPY_MODEL_28895a632d6d44b5b20840149852948a",
            "max": 456318,
            "min": 0,
            "orientation": "horizontal",
            "style": "IPY_MODEL_613a80947f04439292ad1fbef4635864",
            "value": 456318
          }
        },
        "7410400bd913410f9259fe5214338ec5": {
          "model_module": "@jupyter-widgets/controls",
          "model_name": "HTMLModel",
          "model_module_version": "1.5.0",
          "state": {
            "_dom_classes": [],
            "_model_module": "@jupyter-widgets/controls",
            "_model_module_version": "1.5.0",
            "_model_name": "HTMLModel",
            "_view_count": null,
            "_view_module": "@jupyter-widgets/controls",
            "_view_module_version": "1.5.0",
            "_view_name": "HTMLView",
            "description": "",
            "description_tooltip": null,
            "layout": "IPY_MODEL_27ccd38e79d04405a8297c41af6d8ac6",
            "placeholder": "​",
            "style": "IPY_MODEL_eb73f505dca6445289c1834e6a0424bb",
            "value": " 456k/456k [00:00&lt;00:00, 2.19MB/s]"
          }
        },
        "71bad26d0bb14994a078c2625e8daf4f": {
          "model_module": "@jupyter-widgets/base",
          "model_name": "LayoutModel",
          "model_module_version": "1.2.0",
          "state": {
            "_model_module": "@jupyter-widgets/base",
            "_model_module_version": "1.2.0",
            "_model_name": "LayoutModel",
            "_view_count": null,
            "_view_module": "@jupyter-widgets/base",
            "_view_module_version": "1.2.0",
            "_view_name": "LayoutView",
            "align_content": null,
            "align_items": null,
            "align_self": null,
            "border": null,
            "bottom": null,
            "display": null,
            "flex": null,
            "flex_flow": null,
            "grid_area": null,
            "grid_auto_columns": null,
            "grid_auto_flow": null,
            "grid_auto_rows": null,
            "grid_column": null,
            "grid_gap": null,
            "grid_row": null,
            "grid_template_areas": null,
            "grid_template_columns": null,
            "grid_template_rows": null,
            "height": null,
            "justify_content": null,
            "justify_items": null,
            "left": null,
            "margin": null,
            "max_height": null,
            "max_width": null,
            "min_height": null,
            "min_width": null,
            "object_fit": null,
            "object_position": null,
            "order": null,
            "overflow": null,
            "overflow_x": null,
            "overflow_y": null,
            "padding": null,
            "right": null,
            "top": null,
            "visibility": null,
            "width": null
          }
        },
        "9030a152b80c4a15831d40de6e04a109": {
          "model_module": "@jupyter-widgets/base",
          "model_name": "LayoutModel",
          "model_module_version": "1.2.0",
          "state": {
            "_model_module": "@jupyter-widgets/base",
            "_model_module_version": "1.2.0",
            "_model_name": "LayoutModel",
            "_view_count": null,
            "_view_module": "@jupyter-widgets/base",
            "_view_module_version": "1.2.0",
            "_view_name": "LayoutView",
            "align_content": null,
            "align_items": null,
            "align_self": null,
            "border": null,
            "bottom": null,
            "display": null,
            "flex": null,
            "flex_flow": null,
            "grid_area": null,
            "grid_auto_columns": null,
            "grid_auto_flow": null,
            "grid_auto_rows": null,
            "grid_column": null,
            "grid_gap": null,
            "grid_row": null,
            "grid_template_areas": null,
            "grid_template_columns": null,
            "grid_template_rows": null,
            "height": null,
            "justify_content": null,
            "justify_items": null,
            "left": null,
            "margin": null,
            "max_height": null,
            "max_width": null,
            "min_height": null,
            "min_width": null,
            "object_fit": null,
            "object_position": null,
            "order": null,
            "overflow": null,
            "overflow_x": null,
            "overflow_y": null,
            "padding": null,
            "right": null,
            "top": null,
            "visibility": null,
            "width": null
          }
        },
        "21655d0a5582466e81f7ae684ce1eb1a": {
          "model_module": "@jupyter-widgets/controls",
          "model_name": "DescriptionStyleModel",
          "model_module_version": "1.5.0",
          "state": {
            "_model_module": "@jupyter-widgets/controls",
            "_model_module_version": "1.5.0",
            "_model_name": "DescriptionStyleModel",
            "_view_count": null,
            "_view_module": "@jupyter-widgets/base",
            "_view_module_version": "1.2.0",
            "_view_name": "StyleView",
            "description_width": ""
          }
        },
        "28895a632d6d44b5b20840149852948a": {
          "model_module": "@jupyter-widgets/base",
          "model_name": "LayoutModel",
          "model_module_version": "1.2.0",
          "state": {
            "_model_module": "@jupyter-widgets/base",
            "_model_module_version": "1.2.0",
            "_model_name": "LayoutModel",
            "_view_count": null,
            "_view_module": "@jupyter-widgets/base",
            "_view_module_version": "1.2.0",
            "_view_name": "LayoutView",
            "align_content": null,
            "align_items": null,
            "align_self": null,
            "border": null,
            "bottom": null,
            "display": null,
            "flex": null,
            "flex_flow": null,
            "grid_area": null,
            "grid_auto_columns": null,
            "grid_auto_flow": null,
            "grid_auto_rows": null,
            "grid_column": null,
            "grid_gap": null,
            "grid_row": null,
            "grid_template_areas": null,
            "grid_template_columns": null,
            "grid_template_rows": null,
            "height": null,
            "justify_content": null,
            "justify_items": null,
            "left": null,
            "margin": null,
            "max_height": null,
            "max_width": null,
            "min_height": null,
            "min_width": null,
            "object_fit": null,
            "object_position": null,
            "order": null,
            "overflow": null,
            "overflow_x": null,
            "overflow_y": null,
            "padding": null,
            "right": null,
            "top": null,
            "visibility": null,
            "width": null
          }
        },
        "613a80947f04439292ad1fbef4635864": {
          "model_module": "@jupyter-widgets/controls",
          "model_name": "ProgressStyleModel",
          "model_module_version": "1.5.0",
          "state": {
            "_model_module": "@jupyter-widgets/controls",
            "_model_module_version": "1.5.0",
            "_model_name": "ProgressStyleModel",
            "_view_count": null,
            "_view_module": "@jupyter-widgets/base",
            "_view_module_version": "1.2.0",
            "_view_name": "StyleView",
            "bar_color": null,
            "description_width": ""
          }
        },
        "27ccd38e79d04405a8297c41af6d8ac6": {
          "model_module": "@jupyter-widgets/base",
          "model_name": "LayoutModel",
          "model_module_version": "1.2.0",
          "state": {
            "_model_module": "@jupyter-widgets/base",
            "_model_module_version": "1.2.0",
            "_model_name": "LayoutModel",
            "_view_count": null,
            "_view_module": "@jupyter-widgets/base",
            "_view_module_version": "1.2.0",
            "_view_name": "LayoutView",
            "align_content": null,
            "align_items": null,
            "align_self": null,
            "border": null,
            "bottom": null,
            "display": null,
            "flex": null,
            "flex_flow": null,
            "grid_area": null,
            "grid_auto_columns": null,
            "grid_auto_flow": null,
            "grid_auto_rows": null,
            "grid_column": null,
            "grid_gap": null,
            "grid_row": null,
            "grid_template_areas": null,
            "grid_template_columns": null,
            "grid_template_rows": null,
            "height": null,
            "justify_content": null,
            "justify_items": null,
            "left": null,
            "margin": null,
            "max_height": null,
            "max_width": null,
            "min_height": null,
            "min_width": null,
            "object_fit": null,
            "object_position": null,
            "order": null,
            "overflow": null,
            "overflow_x": null,
            "overflow_y": null,
            "padding": null,
            "right": null,
            "top": null,
            "visibility": null,
            "width": null
          }
        },
        "eb73f505dca6445289c1834e6a0424bb": {
          "model_module": "@jupyter-widgets/controls",
          "model_name": "DescriptionStyleModel",
          "model_module_version": "1.5.0",
          "state": {
            "_model_module": "@jupyter-widgets/controls",
            "_model_module_version": "1.5.0",
            "_model_name": "DescriptionStyleModel",
            "_view_count": null,
            "_view_module": "@jupyter-widgets/base",
            "_view_module_version": "1.2.0",
            "_view_name": "StyleView",
            "description_width": ""
          }
        },
        "fa5d1783c8b343d4b215f936ac89cf40": {
          "model_module": "@jupyter-widgets/controls",
          "model_name": "HBoxModel",
          "model_module_version": "1.5.0",
          "state": {
            "_dom_classes": [],
            "_model_module": "@jupyter-widgets/controls",
            "_model_module_version": "1.5.0",
            "_model_name": "HBoxModel",
            "_view_count": null,
            "_view_module": "@jupyter-widgets/controls",
            "_view_module_version": "1.5.0",
            "_view_name": "HBoxView",
            "box_style": "",
            "children": [
              "IPY_MODEL_0f72a31edfd340c1b06aeabdcbc91ade",
              "IPY_MODEL_ef6cedc246a14cb58d211fe387ce2909",
              "IPY_MODEL_5b0bbbe1d3f3451b82d4b90e57d2f92f"
            ],
            "layout": "IPY_MODEL_f55e8431cee544928444ccdcf50be867"
          }
        },
        "0f72a31edfd340c1b06aeabdcbc91ade": {
          "model_module": "@jupyter-widgets/controls",
          "model_name": "HTMLModel",
          "model_module_version": "1.5.0",
          "state": {
            "_dom_classes": [],
            "_model_module": "@jupyter-widgets/controls",
            "_model_module_version": "1.5.0",
            "_model_name": "HTMLModel",
            "_view_count": null,
            "_view_module": "@jupyter-widgets/controls",
            "_view_module_version": "1.5.0",
            "_view_name": "HTMLView",
            "description": "",
            "description_tooltip": null,
            "layout": "IPY_MODEL_7a7a41a6a6e44b74b9d4c831f751b780",
            "placeholder": "​",
            "style": "IPY_MODEL_179cf3aca4044c58aa88d621e77a2c24",
            "value": "tokenizer.json: 100%"
          }
        },
        "ef6cedc246a14cb58d211fe387ce2909": {
          "model_module": "@jupyter-widgets/controls",
          "model_name": "FloatProgressModel",
          "model_module_version": "1.5.0",
          "state": {
            "_dom_classes": [],
            "_model_module": "@jupyter-widgets/controls",
            "_model_module_version": "1.5.0",
            "_model_name": "FloatProgressModel",
            "_view_count": null,
            "_view_module": "@jupyter-widgets/controls",
            "_view_module_version": "1.5.0",
            "_view_name": "ProgressView",
            "bar_style": "success",
            "description": "",
            "description_tooltip": null,
            "layout": "IPY_MODEL_056aa17556e0422393bc18449d5ebae1",
            "max": 1355256,
            "min": 0,
            "orientation": "horizontal",
            "style": "IPY_MODEL_1a818f71b3044d3b82e180c10713e852",
            "value": 1355256
          }
        },
        "5b0bbbe1d3f3451b82d4b90e57d2f92f": {
          "model_module": "@jupyter-widgets/controls",
          "model_name": "HTMLModel",
          "model_module_version": "1.5.0",
          "state": {
            "_dom_classes": [],
            "_model_module": "@jupyter-widgets/controls",
            "_model_module_version": "1.5.0",
            "_model_name": "HTMLModel",
            "_view_count": null,
            "_view_module": "@jupyter-widgets/controls",
            "_view_module_version": "1.5.0",
            "_view_name": "HTMLView",
            "description": "",
            "description_tooltip": null,
            "layout": "IPY_MODEL_69afd4ece0e9428496ecfbc1621b8cae",
            "placeholder": "​",
            "style": "IPY_MODEL_f2b7fa02baec4176825dbca78145dd11",
            "value": " 1.36M/1.36M [00:00&lt;00:00, 28.6MB/s]"
          }
        },
        "f55e8431cee544928444ccdcf50be867": {
          "model_module": "@jupyter-widgets/base",
          "model_name": "LayoutModel",
          "model_module_version": "1.2.0",
          "state": {
            "_model_module": "@jupyter-widgets/base",
            "_model_module_version": "1.2.0",
            "_model_name": "LayoutModel",
            "_view_count": null,
            "_view_module": "@jupyter-widgets/base",
            "_view_module_version": "1.2.0",
            "_view_name": "LayoutView",
            "align_content": null,
            "align_items": null,
            "align_self": null,
            "border": null,
            "bottom": null,
            "display": null,
            "flex": null,
            "flex_flow": null,
            "grid_area": null,
            "grid_auto_columns": null,
            "grid_auto_flow": null,
            "grid_auto_rows": null,
            "grid_column": null,
            "grid_gap": null,
            "grid_row": null,
            "grid_template_areas": null,
            "grid_template_columns": null,
            "grid_template_rows": null,
            "height": null,
            "justify_content": null,
            "justify_items": null,
            "left": null,
            "margin": null,
            "max_height": null,
            "max_width": null,
            "min_height": null,
            "min_width": null,
            "object_fit": null,
            "object_position": null,
            "order": null,
            "overflow": null,
            "overflow_x": null,
            "overflow_y": null,
            "padding": null,
            "right": null,
            "top": null,
            "visibility": null,
            "width": null
          }
        },
        "7a7a41a6a6e44b74b9d4c831f751b780": {
          "model_module": "@jupyter-widgets/base",
          "model_name": "LayoutModel",
          "model_module_version": "1.2.0",
          "state": {
            "_model_module": "@jupyter-widgets/base",
            "_model_module_version": "1.2.0",
            "_model_name": "LayoutModel",
            "_view_count": null,
            "_view_module": "@jupyter-widgets/base",
            "_view_module_version": "1.2.0",
            "_view_name": "LayoutView",
            "align_content": null,
            "align_items": null,
            "align_self": null,
            "border": null,
            "bottom": null,
            "display": null,
            "flex": null,
            "flex_flow": null,
            "grid_area": null,
            "grid_auto_columns": null,
            "grid_auto_flow": null,
            "grid_auto_rows": null,
            "grid_column": null,
            "grid_gap": null,
            "grid_row": null,
            "grid_template_areas": null,
            "grid_template_columns": null,
            "grid_template_rows": null,
            "height": null,
            "justify_content": null,
            "justify_items": null,
            "left": null,
            "margin": null,
            "max_height": null,
            "max_width": null,
            "min_height": null,
            "min_width": null,
            "object_fit": null,
            "object_position": null,
            "order": null,
            "overflow": null,
            "overflow_x": null,
            "overflow_y": null,
            "padding": null,
            "right": null,
            "top": null,
            "visibility": null,
            "width": null
          }
        },
        "179cf3aca4044c58aa88d621e77a2c24": {
          "model_module": "@jupyter-widgets/controls",
          "model_name": "DescriptionStyleModel",
          "model_module_version": "1.5.0",
          "state": {
            "_model_module": "@jupyter-widgets/controls",
            "_model_module_version": "1.5.0",
            "_model_name": "DescriptionStyleModel",
            "_view_count": null,
            "_view_module": "@jupyter-widgets/base",
            "_view_module_version": "1.2.0",
            "_view_name": "StyleView",
            "description_width": ""
          }
        },
        "056aa17556e0422393bc18449d5ebae1": {
          "model_module": "@jupyter-widgets/base",
          "model_name": "LayoutModel",
          "model_module_version": "1.2.0",
          "state": {
            "_model_module": "@jupyter-widgets/base",
            "_model_module_version": "1.2.0",
            "_model_name": "LayoutModel",
            "_view_count": null,
            "_view_module": "@jupyter-widgets/base",
            "_view_module_version": "1.2.0",
            "_view_name": "LayoutView",
            "align_content": null,
            "align_items": null,
            "align_self": null,
            "border": null,
            "bottom": null,
            "display": null,
            "flex": null,
            "flex_flow": null,
            "grid_area": null,
            "grid_auto_columns": null,
            "grid_auto_flow": null,
            "grid_auto_rows": null,
            "grid_column": null,
            "grid_gap": null,
            "grid_row": null,
            "grid_template_areas": null,
            "grid_template_columns": null,
            "grid_template_rows": null,
            "height": null,
            "justify_content": null,
            "justify_items": null,
            "left": null,
            "margin": null,
            "max_height": null,
            "max_width": null,
            "min_height": null,
            "min_width": null,
            "object_fit": null,
            "object_position": null,
            "order": null,
            "overflow": null,
            "overflow_x": null,
            "overflow_y": null,
            "padding": null,
            "right": null,
            "top": null,
            "visibility": null,
            "width": null
          }
        },
        "1a818f71b3044d3b82e180c10713e852": {
          "model_module": "@jupyter-widgets/controls",
          "model_name": "ProgressStyleModel",
          "model_module_version": "1.5.0",
          "state": {
            "_model_module": "@jupyter-widgets/controls",
            "_model_module_version": "1.5.0",
            "_model_name": "ProgressStyleModel",
            "_view_count": null,
            "_view_module": "@jupyter-widgets/base",
            "_view_module_version": "1.2.0",
            "_view_name": "StyleView",
            "bar_color": null,
            "description_width": ""
          }
        },
        "69afd4ece0e9428496ecfbc1621b8cae": {
          "model_module": "@jupyter-widgets/base",
          "model_name": "LayoutModel",
          "model_module_version": "1.2.0",
          "state": {
            "_model_module": "@jupyter-widgets/base",
            "_model_module_version": "1.2.0",
            "_model_name": "LayoutModel",
            "_view_count": null,
            "_view_module": "@jupyter-widgets/base",
            "_view_module_version": "1.2.0",
            "_view_name": "LayoutView",
            "align_content": null,
            "align_items": null,
            "align_self": null,
            "border": null,
            "bottom": null,
            "display": null,
            "flex": null,
            "flex_flow": null,
            "grid_area": null,
            "grid_auto_columns": null,
            "grid_auto_flow": null,
            "grid_auto_rows": null,
            "grid_column": null,
            "grid_gap": null,
            "grid_row": null,
            "grid_template_areas": null,
            "grid_template_columns": null,
            "grid_template_rows": null,
            "height": null,
            "justify_content": null,
            "justify_items": null,
            "left": null,
            "margin": null,
            "max_height": null,
            "max_width": null,
            "min_height": null,
            "min_width": null,
            "object_fit": null,
            "object_position": null,
            "order": null,
            "overflow": null,
            "overflow_x": null,
            "overflow_y": null,
            "padding": null,
            "right": null,
            "top": null,
            "visibility": null,
            "width": null
          }
        },
        "f2b7fa02baec4176825dbca78145dd11": {
          "model_module": "@jupyter-widgets/controls",
          "model_name": "DescriptionStyleModel",
          "model_module_version": "1.5.0",
          "state": {
            "_model_module": "@jupyter-widgets/controls",
            "_model_module_version": "1.5.0",
            "_model_name": "DescriptionStyleModel",
            "_view_count": null,
            "_view_module": "@jupyter-widgets/base",
            "_view_module_version": "1.2.0",
            "_view_name": "StyleView",
            "description_width": ""
          }
        },
        "192f60580eaa419d83d81446e14f3cec": {
          "model_module": "@jupyter-widgets/controls",
          "model_name": "HBoxModel",
          "model_module_version": "1.5.0",
          "state": {
            "_dom_classes": [],
            "_model_module": "@jupyter-widgets/controls",
            "_model_module_version": "1.5.0",
            "_model_name": "HBoxModel",
            "_view_count": null,
            "_view_module": "@jupyter-widgets/controls",
            "_view_module_version": "1.5.0",
            "_view_name": "HBoxView",
            "box_style": "",
            "children": [
              "IPY_MODEL_a3cfe1b2911a426482b07bac15928960",
              "IPY_MODEL_9c6f6c2945574d179d32c6a3a9f802d9",
              "IPY_MODEL_7750375748ab439e91fb8d0343e3c32c"
            ],
            "layout": "IPY_MODEL_2932adce3a3241d4b86e0572a436b51c"
          }
        },
        "a3cfe1b2911a426482b07bac15928960": {
          "model_module": "@jupyter-widgets/controls",
          "model_name": "HTMLModel",
          "model_module_version": "1.5.0",
          "state": {
            "_dom_classes": [],
            "_model_module": "@jupyter-widgets/controls",
            "_model_module_version": "1.5.0",
            "_model_name": "HTMLModel",
            "_view_count": null,
            "_view_module": "@jupyter-widgets/controls",
            "_view_module_version": "1.5.0",
            "_view_name": "HTMLView",
            "description": "",
            "description_tooltip": null,
            "layout": "IPY_MODEL_cb4d406f01f8492f9869c3cdd7f030ac",
            "placeholder": "​",
            "style": "IPY_MODEL_999c97515f3941f7bf8262b14841cfaf",
            "value": "config.json: 100%"
          }
        },
        "9c6f6c2945574d179d32c6a3a9f802d9": {
          "model_module": "@jupyter-widgets/controls",
          "model_name": "FloatProgressModel",
          "model_module_version": "1.5.0",
          "state": {
            "_dom_classes": [],
            "_model_module": "@jupyter-widgets/controls",
            "_model_module_version": "1.5.0",
            "_model_name": "FloatProgressModel",
            "_view_count": null,
            "_view_module": "@jupyter-widgets/controls",
            "_view_module_version": "1.5.0",
            "_view_name": "ProgressView",
            "bar_style": "success",
            "description": "",
            "description_tooltip": null,
            "layout": "IPY_MODEL_0118b77b5f05439190fcacb31c4a48c9",
            "max": 665,
            "min": 0,
            "orientation": "horizontal",
            "style": "IPY_MODEL_ad74f106193a4ad8bdec95bd46e59cde",
            "value": 665
          }
        },
        "7750375748ab439e91fb8d0343e3c32c": {
          "model_module": "@jupyter-widgets/controls",
          "model_name": "HTMLModel",
          "model_module_version": "1.5.0",
          "state": {
            "_dom_classes": [],
            "_model_module": "@jupyter-widgets/controls",
            "_model_module_version": "1.5.0",
            "_model_name": "HTMLModel",
            "_view_count": null,
            "_view_module": "@jupyter-widgets/controls",
            "_view_module_version": "1.5.0",
            "_view_name": "HTMLView",
            "description": "",
            "description_tooltip": null,
            "layout": "IPY_MODEL_a68f06eedf32493a9128ccee67af79bb",
            "placeholder": "​",
            "style": "IPY_MODEL_e04e987933a8448797ec7d82254acebe",
            "value": " 665/665 [00:00&lt;00:00, 19.3kB/s]"
          }
        },
        "2932adce3a3241d4b86e0572a436b51c": {
          "model_module": "@jupyter-widgets/base",
          "model_name": "LayoutModel",
          "model_module_version": "1.2.0",
          "state": {
            "_model_module": "@jupyter-widgets/base",
            "_model_module_version": "1.2.0",
            "_model_name": "LayoutModel",
            "_view_count": null,
            "_view_module": "@jupyter-widgets/base",
            "_view_module_version": "1.2.0",
            "_view_name": "LayoutView",
            "align_content": null,
            "align_items": null,
            "align_self": null,
            "border": null,
            "bottom": null,
            "display": null,
            "flex": null,
            "flex_flow": null,
            "grid_area": null,
            "grid_auto_columns": null,
            "grid_auto_flow": null,
            "grid_auto_rows": null,
            "grid_column": null,
            "grid_gap": null,
            "grid_row": null,
            "grid_template_areas": null,
            "grid_template_columns": null,
            "grid_template_rows": null,
            "height": null,
            "justify_content": null,
            "justify_items": null,
            "left": null,
            "margin": null,
            "max_height": null,
            "max_width": null,
            "min_height": null,
            "min_width": null,
            "object_fit": null,
            "object_position": null,
            "order": null,
            "overflow": null,
            "overflow_x": null,
            "overflow_y": null,
            "padding": null,
            "right": null,
            "top": null,
            "visibility": null,
            "width": null
          }
        },
        "cb4d406f01f8492f9869c3cdd7f030ac": {
          "model_module": "@jupyter-widgets/base",
          "model_name": "LayoutModel",
          "model_module_version": "1.2.0",
          "state": {
            "_model_module": "@jupyter-widgets/base",
            "_model_module_version": "1.2.0",
            "_model_name": "LayoutModel",
            "_view_count": null,
            "_view_module": "@jupyter-widgets/base",
            "_view_module_version": "1.2.0",
            "_view_name": "LayoutView",
            "align_content": null,
            "align_items": null,
            "align_self": null,
            "border": null,
            "bottom": null,
            "display": null,
            "flex": null,
            "flex_flow": null,
            "grid_area": null,
            "grid_auto_columns": null,
            "grid_auto_flow": null,
            "grid_auto_rows": null,
            "grid_column": null,
            "grid_gap": null,
            "grid_row": null,
            "grid_template_areas": null,
            "grid_template_columns": null,
            "grid_template_rows": null,
            "height": null,
            "justify_content": null,
            "justify_items": null,
            "left": null,
            "margin": null,
            "max_height": null,
            "max_width": null,
            "min_height": null,
            "min_width": null,
            "object_fit": null,
            "object_position": null,
            "order": null,
            "overflow": null,
            "overflow_x": null,
            "overflow_y": null,
            "padding": null,
            "right": null,
            "top": null,
            "visibility": null,
            "width": null
          }
        },
        "999c97515f3941f7bf8262b14841cfaf": {
          "model_module": "@jupyter-widgets/controls",
          "model_name": "DescriptionStyleModel",
          "model_module_version": "1.5.0",
          "state": {
            "_model_module": "@jupyter-widgets/controls",
            "_model_module_version": "1.5.0",
            "_model_name": "DescriptionStyleModel",
            "_view_count": null,
            "_view_module": "@jupyter-widgets/base",
            "_view_module_version": "1.2.0",
            "_view_name": "StyleView",
            "description_width": ""
          }
        },
        "0118b77b5f05439190fcacb31c4a48c9": {
          "model_module": "@jupyter-widgets/base",
          "model_name": "LayoutModel",
          "model_module_version": "1.2.0",
          "state": {
            "_model_module": "@jupyter-widgets/base",
            "_model_module_version": "1.2.0",
            "_model_name": "LayoutModel",
            "_view_count": null,
            "_view_module": "@jupyter-widgets/base",
            "_view_module_version": "1.2.0",
            "_view_name": "LayoutView",
            "align_content": null,
            "align_items": null,
            "align_self": null,
            "border": null,
            "bottom": null,
            "display": null,
            "flex": null,
            "flex_flow": null,
            "grid_area": null,
            "grid_auto_columns": null,
            "grid_auto_flow": null,
            "grid_auto_rows": null,
            "grid_column": null,
            "grid_gap": null,
            "grid_row": null,
            "grid_template_areas": null,
            "grid_template_columns": null,
            "grid_template_rows": null,
            "height": null,
            "justify_content": null,
            "justify_items": null,
            "left": null,
            "margin": null,
            "max_height": null,
            "max_width": null,
            "min_height": null,
            "min_width": null,
            "object_fit": null,
            "object_position": null,
            "order": null,
            "overflow": null,
            "overflow_x": null,
            "overflow_y": null,
            "padding": null,
            "right": null,
            "top": null,
            "visibility": null,
            "width": null
          }
        },
        "ad74f106193a4ad8bdec95bd46e59cde": {
          "model_module": "@jupyter-widgets/controls",
          "model_name": "ProgressStyleModel",
          "model_module_version": "1.5.0",
          "state": {
            "_model_module": "@jupyter-widgets/controls",
            "_model_module_version": "1.5.0",
            "_model_name": "ProgressStyleModel",
            "_view_count": null,
            "_view_module": "@jupyter-widgets/base",
            "_view_module_version": "1.2.0",
            "_view_name": "StyleView",
            "bar_color": null,
            "description_width": ""
          }
        },
        "a68f06eedf32493a9128ccee67af79bb": {
          "model_module": "@jupyter-widgets/base",
          "model_name": "LayoutModel",
          "model_module_version": "1.2.0",
          "state": {
            "_model_module": "@jupyter-widgets/base",
            "_model_module_version": "1.2.0",
            "_model_name": "LayoutModel",
            "_view_count": null,
            "_view_module": "@jupyter-widgets/base",
            "_view_module_version": "1.2.0",
            "_view_name": "LayoutView",
            "align_content": null,
            "align_items": null,
            "align_self": null,
            "border": null,
            "bottom": null,
            "display": null,
            "flex": null,
            "flex_flow": null,
            "grid_area": null,
            "grid_auto_columns": null,
            "grid_auto_flow": null,
            "grid_auto_rows": null,
            "grid_column": null,
            "grid_gap": null,
            "grid_row": null,
            "grid_template_areas": null,
            "grid_template_columns": null,
            "grid_template_rows": null,
            "height": null,
            "justify_content": null,
            "justify_items": null,
            "left": null,
            "margin": null,
            "max_height": null,
            "max_width": null,
            "min_height": null,
            "min_width": null,
            "object_fit": null,
            "object_position": null,
            "order": null,
            "overflow": null,
            "overflow_x": null,
            "overflow_y": null,
            "padding": null,
            "right": null,
            "top": null,
            "visibility": null,
            "width": null
          }
        },
        "e04e987933a8448797ec7d82254acebe": {
          "model_module": "@jupyter-widgets/controls",
          "model_name": "DescriptionStyleModel",
          "model_module_version": "1.5.0",
          "state": {
            "_model_module": "@jupyter-widgets/controls",
            "_model_module_version": "1.5.0",
            "_model_name": "DescriptionStyleModel",
            "_view_count": null,
            "_view_module": "@jupyter-widgets/base",
            "_view_module_version": "1.2.0",
            "_view_name": "StyleView",
            "description_width": ""
          }
        },
        "a0092d9394bc4b0f86d45439328d3a00": {
          "model_module": "@jupyter-widgets/controls",
          "model_name": "HBoxModel",
          "model_module_version": "1.5.0",
          "state": {
            "_dom_classes": [],
            "_model_module": "@jupyter-widgets/controls",
            "_model_module_version": "1.5.0",
            "_model_name": "HBoxModel",
            "_view_count": null,
            "_view_module": "@jupyter-widgets/controls",
            "_view_module_version": "1.5.0",
            "_view_name": "HBoxView",
            "box_style": "",
            "children": [
              "IPY_MODEL_edf58080b5ae4123ad72fbe5f7045083",
              "IPY_MODEL_07dd253961f84ca0aa1cb09a896a5779",
              "IPY_MODEL_fb58f50d98d944d5a3231d11fb04c01b"
            ],
            "layout": "IPY_MODEL_9ca0348924be4dffab5e86ffbd0ee5c4"
          }
        },
        "edf58080b5ae4123ad72fbe5f7045083": {
          "model_module": "@jupyter-widgets/controls",
          "model_name": "HTMLModel",
          "model_module_version": "1.5.0",
          "state": {
            "_dom_classes": [],
            "_model_module": "@jupyter-widgets/controls",
            "_model_module_version": "1.5.0",
            "_model_name": "HTMLModel",
            "_view_count": null,
            "_view_module": "@jupyter-widgets/controls",
            "_view_module_version": "1.5.0",
            "_view_name": "HTMLView",
            "description": "",
            "description_tooltip": null,
            "layout": "IPY_MODEL_8e74a10fb43440f0accf8f48b23eb830",
            "placeholder": "​",
            "style": "IPY_MODEL_04ed1645d7fd4b66a48587db689dce8b",
            "value": "model.safetensors: 100%"
          }
        },
        "07dd253961f84ca0aa1cb09a896a5779": {
          "model_module": "@jupyter-widgets/controls",
          "model_name": "FloatProgressModel",
          "model_module_version": "1.5.0",
          "state": {
            "_dom_classes": [],
            "_model_module": "@jupyter-widgets/controls",
            "_model_module_version": "1.5.0",
            "_model_name": "FloatProgressModel",
            "_view_count": null,
            "_view_module": "@jupyter-widgets/controls",
            "_view_module_version": "1.5.0",
            "_view_name": "ProgressView",
            "bar_style": "success",
            "description": "",
            "description_tooltip": null,
            "layout": "IPY_MODEL_90bd8006f97342d0b7416c65c0a9eb95",
            "max": 548105171,
            "min": 0,
            "orientation": "horizontal",
            "style": "IPY_MODEL_79910b27ea584e22b1638982c4581c2b",
            "value": 548105171
          }
        },
        "fb58f50d98d944d5a3231d11fb04c01b": {
          "model_module": "@jupyter-widgets/controls",
          "model_name": "HTMLModel",
          "model_module_version": "1.5.0",
          "state": {
            "_dom_classes": [],
            "_model_module": "@jupyter-widgets/controls",
            "_model_module_version": "1.5.0",
            "_model_name": "HTMLModel",
            "_view_count": null,
            "_view_module": "@jupyter-widgets/controls",
            "_view_module_version": "1.5.0",
            "_view_name": "HTMLView",
            "description": "",
            "description_tooltip": null,
            "layout": "IPY_MODEL_0656255741d04ff7ae02d7669e47a59a",
            "placeholder": "​",
            "style": "IPY_MODEL_7ab0782824b241709be23ef6f776a250",
            "value": " 548M/548M [00:06&lt;00:00, 127MB/s]"
          }
        },
        "9ca0348924be4dffab5e86ffbd0ee5c4": {
          "model_module": "@jupyter-widgets/base",
          "model_name": "LayoutModel",
          "model_module_version": "1.2.0",
          "state": {
            "_model_module": "@jupyter-widgets/base",
            "_model_module_version": "1.2.0",
            "_model_name": "LayoutModel",
            "_view_count": null,
            "_view_module": "@jupyter-widgets/base",
            "_view_module_version": "1.2.0",
            "_view_name": "LayoutView",
            "align_content": null,
            "align_items": null,
            "align_self": null,
            "border": null,
            "bottom": null,
            "display": null,
            "flex": null,
            "flex_flow": null,
            "grid_area": null,
            "grid_auto_columns": null,
            "grid_auto_flow": null,
            "grid_auto_rows": null,
            "grid_column": null,
            "grid_gap": null,
            "grid_row": null,
            "grid_template_areas": null,
            "grid_template_columns": null,
            "grid_template_rows": null,
            "height": null,
            "justify_content": null,
            "justify_items": null,
            "left": null,
            "margin": null,
            "max_height": null,
            "max_width": null,
            "min_height": null,
            "min_width": null,
            "object_fit": null,
            "object_position": null,
            "order": null,
            "overflow": null,
            "overflow_x": null,
            "overflow_y": null,
            "padding": null,
            "right": null,
            "top": null,
            "visibility": null,
            "width": null
          }
        },
        "8e74a10fb43440f0accf8f48b23eb830": {
          "model_module": "@jupyter-widgets/base",
          "model_name": "LayoutModel",
          "model_module_version": "1.2.0",
          "state": {
            "_model_module": "@jupyter-widgets/base",
            "_model_module_version": "1.2.0",
            "_model_name": "LayoutModel",
            "_view_count": null,
            "_view_module": "@jupyter-widgets/base",
            "_view_module_version": "1.2.0",
            "_view_name": "LayoutView",
            "align_content": null,
            "align_items": null,
            "align_self": null,
            "border": null,
            "bottom": null,
            "display": null,
            "flex": null,
            "flex_flow": null,
            "grid_area": null,
            "grid_auto_columns": null,
            "grid_auto_flow": null,
            "grid_auto_rows": null,
            "grid_column": null,
            "grid_gap": null,
            "grid_row": null,
            "grid_template_areas": null,
            "grid_template_columns": null,
            "grid_template_rows": null,
            "height": null,
            "justify_content": null,
            "justify_items": null,
            "left": null,
            "margin": null,
            "max_height": null,
            "max_width": null,
            "min_height": null,
            "min_width": null,
            "object_fit": null,
            "object_position": null,
            "order": null,
            "overflow": null,
            "overflow_x": null,
            "overflow_y": null,
            "padding": null,
            "right": null,
            "top": null,
            "visibility": null,
            "width": null
          }
        },
        "04ed1645d7fd4b66a48587db689dce8b": {
          "model_module": "@jupyter-widgets/controls",
          "model_name": "DescriptionStyleModel",
          "model_module_version": "1.5.0",
          "state": {
            "_model_module": "@jupyter-widgets/controls",
            "_model_module_version": "1.5.0",
            "_model_name": "DescriptionStyleModel",
            "_view_count": null,
            "_view_module": "@jupyter-widgets/base",
            "_view_module_version": "1.2.0",
            "_view_name": "StyleView",
            "description_width": ""
          }
        },
        "90bd8006f97342d0b7416c65c0a9eb95": {
          "model_module": "@jupyter-widgets/base",
          "model_name": "LayoutModel",
          "model_module_version": "1.2.0",
          "state": {
            "_model_module": "@jupyter-widgets/base",
            "_model_module_version": "1.2.0",
            "_model_name": "LayoutModel",
            "_view_count": null,
            "_view_module": "@jupyter-widgets/base",
            "_view_module_version": "1.2.0",
            "_view_name": "LayoutView",
            "align_content": null,
            "align_items": null,
            "align_self": null,
            "border": null,
            "bottom": null,
            "display": null,
            "flex": null,
            "flex_flow": null,
            "grid_area": null,
            "grid_auto_columns": null,
            "grid_auto_flow": null,
            "grid_auto_rows": null,
            "grid_column": null,
            "grid_gap": null,
            "grid_row": null,
            "grid_template_areas": null,
            "grid_template_columns": null,
            "grid_template_rows": null,
            "height": null,
            "justify_content": null,
            "justify_items": null,
            "left": null,
            "margin": null,
            "max_height": null,
            "max_width": null,
            "min_height": null,
            "min_width": null,
            "object_fit": null,
            "object_position": null,
            "order": null,
            "overflow": null,
            "overflow_x": null,
            "overflow_y": null,
            "padding": null,
            "right": null,
            "top": null,
            "visibility": null,
            "width": null
          }
        },
        "79910b27ea584e22b1638982c4581c2b": {
          "model_module": "@jupyter-widgets/controls",
          "model_name": "ProgressStyleModel",
          "model_module_version": "1.5.0",
          "state": {
            "_model_module": "@jupyter-widgets/controls",
            "_model_module_version": "1.5.0",
            "_model_name": "ProgressStyleModel",
            "_view_count": null,
            "_view_module": "@jupyter-widgets/base",
            "_view_module_version": "1.2.0",
            "_view_name": "StyleView",
            "bar_color": null,
            "description_width": ""
          }
        },
        "0656255741d04ff7ae02d7669e47a59a": {
          "model_module": "@jupyter-widgets/base",
          "model_name": "LayoutModel",
          "model_module_version": "1.2.0",
          "state": {
            "_model_module": "@jupyter-widgets/base",
            "_model_module_version": "1.2.0",
            "_model_name": "LayoutModel",
            "_view_count": null,
            "_view_module": "@jupyter-widgets/base",
            "_view_module_version": "1.2.0",
            "_view_name": "LayoutView",
            "align_content": null,
            "align_items": null,
            "align_self": null,
            "border": null,
            "bottom": null,
            "display": null,
            "flex": null,
            "flex_flow": null,
            "grid_area": null,
            "grid_auto_columns": null,
            "grid_auto_flow": null,
            "grid_auto_rows": null,
            "grid_column": null,
            "grid_gap": null,
            "grid_row": null,
            "grid_template_areas": null,
            "grid_template_columns": null,
            "grid_template_rows": null,
            "height": null,
            "justify_content": null,
            "justify_items": null,
            "left": null,
            "margin": null,
            "max_height": null,
            "max_width": null,
            "min_height": null,
            "min_width": null,
            "object_fit": null,
            "object_position": null,
            "order": null,
            "overflow": null,
            "overflow_x": null,
            "overflow_y": null,
            "padding": null,
            "right": null,
            "top": null,
            "visibility": null,
            "width": null
          }
        },
        "7ab0782824b241709be23ef6f776a250": {
          "model_module": "@jupyter-widgets/controls",
          "model_name": "DescriptionStyleModel",
          "model_module_version": "1.5.0",
          "state": {
            "_model_module": "@jupyter-widgets/controls",
            "_model_module_version": "1.5.0",
            "_model_name": "DescriptionStyleModel",
            "_view_count": null,
            "_view_module": "@jupyter-widgets/base",
            "_view_module_version": "1.2.0",
            "_view_name": "StyleView",
            "description_width": ""
          }
        },
        "3db9b44b0be742a9af8886bde5f21b58": {
          "model_module": "@jupyter-widgets/controls",
          "model_name": "HBoxModel",
          "model_module_version": "1.5.0",
          "state": {
            "_dom_classes": [],
            "_model_module": "@jupyter-widgets/controls",
            "_model_module_version": "1.5.0",
            "_model_name": "HBoxModel",
            "_view_count": null,
            "_view_module": "@jupyter-widgets/controls",
            "_view_module_version": "1.5.0",
            "_view_name": "HBoxView",
            "box_style": "",
            "children": [
              "IPY_MODEL_34a4faf33a0547aea9ef475cc9db9911",
              "IPY_MODEL_7db15ed84fae41dda657239d4bef8363",
              "IPY_MODEL_4ef7ded53ffa4bffbae93f83c27ac6de"
            ],
            "layout": "IPY_MODEL_bf7413e3ccb94921ba7791fb5a3187d5"
          }
        },
        "34a4faf33a0547aea9ef475cc9db9911": {
          "model_module": "@jupyter-widgets/controls",
          "model_name": "HTMLModel",
          "model_module_version": "1.5.0",
          "state": {
            "_dom_classes": [],
            "_model_module": "@jupyter-widgets/controls",
            "_model_module_version": "1.5.0",
            "_model_name": "HTMLModel",
            "_view_count": null,
            "_view_module": "@jupyter-widgets/controls",
            "_view_module_version": "1.5.0",
            "_view_name": "HTMLView",
            "description": "",
            "description_tooltip": null,
            "layout": "IPY_MODEL_f324c82a94704a4a952c457ab9d8c47a",
            "placeholder": "​",
            "style": "IPY_MODEL_5e3380dc9fa34b42bdb09aa3eb3b54d8",
            "value": "generation_config.json: 100%"
          }
        },
        "7db15ed84fae41dda657239d4bef8363": {
          "model_module": "@jupyter-widgets/controls",
          "model_name": "FloatProgressModel",
          "model_module_version": "1.5.0",
          "state": {
            "_dom_classes": [],
            "_model_module": "@jupyter-widgets/controls",
            "_model_module_version": "1.5.0",
            "_model_name": "FloatProgressModel",
            "_view_count": null,
            "_view_module": "@jupyter-widgets/controls",
            "_view_module_version": "1.5.0",
            "_view_name": "ProgressView",
            "bar_style": "success",
            "description": "",
            "description_tooltip": null,
            "layout": "IPY_MODEL_c91afa2b2a2946cc8de7f7af99c0c94e",
            "max": 124,
            "min": 0,
            "orientation": "horizontal",
            "style": "IPY_MODEL_bc7b5aef55c440459e2840b02e9f8998",
            "value": 124
          }
        },
        "4ef7ded53ffa4bffbae93f83c27ac6de": {
          "model_module": "@jupyter-widgets/controls",
          "model_name": "HTMLModel",
          "model_module_version": "1.5.0",
          "state": {
            "_dom_classes": [],
            "_model_module": "@jupyter-widgets/controls",
            "_model_module_version": "1.5.0",
            "_model_name": "HTMLModel",
            "_view_count": null,
            "_view_module": "@jupyter-widgets/controls",
            "_view_module_version": "1.5.0",
            "_view_name": "HTMLView",
            "description": "",
            "description_tooltip": null,
            "layout": "IPY_MODEL_0ee7333392dd43fb95c5b922d1f3ecbc",
            "placeholder": "​",
            "style": "IPY_MODEL_c615f4530cbd4d968ccc69e07de80b60",
            "value": " 124/124 [00:00&lt;00:00, 4.94kB/s]"
          }
        },
        "bf7413e3ccb94921ba7791fb5a3187d5": {
          "model_module": "@jupyter-widgets/base",
          "model_name": "LayoutModel",
          "model_module_version": "1.2.0",
          "state": {
            "_model_module": "@jupyter-widgets/base",
            "_model_module_version": "1.2.0",
            "_model_name": "LayoutModel",
            "_view_count": null,
            "_view_module": "@jupyter-widgets/base",
            "_view_module_version": "1.2.0",
            "_view_name": "LayoutView",
            "align_content": null,
            "align_items": null,
            "align_self": null,
            "border": null,
            "bottom": null,
            "display": null,
            "flex": null,
            "flex_flow": null,
            "grid_area": null,
            "grid_auto_columns": null,
            "grid_auto_flow": null,
            "grid_auto_rows": null,
            "grid_column": null,
            "grid_gap": null,
            "grid_row": null,
            "grid_template_areas": null,
            "grid_template_columns": null,
            "grid_template_rows": null,
            "height": null,
            "justify_content": null,
            "justify_items": null,
            "left": null,
            "margin": null,
            "max_height": null,
            "max_width": null,
            "min_height": null,
            "min_width": null,
            "object_fit": null,
            "object_position": null,
            "order": null,
            "overflow": null,
            "overflow_x": null,
            "overflow_y": null,
            "padding": null,
            "right": null,
            "top": null,
            "visibility": null,
            "width": null
          }
        },
        "f324c82a94704a4a952c457ab9d8c47a": {
          "model_module": "@jupyter-widgets/base",
          "model_name": "LayoutModel",
          "model_module_version": "1.2.0",
          "state": {
            "_model_module": "@jupyter-widgets/base",
            "_model_module_version": "1.2.0",
            "_model_name": "LayoutModel",
            "_view_count": null,
            "_view_module": "@jupyter-widgets/base",
            "_view_module_version": "1.2.0",
            "_view_name": "LayoutView",
            "align_content": null,
            "align_items": null,
            "align_self": null,
            "border": null,
            "bottom": null,
            "display": null,
            "flex": null,
            "flex_flow": null,
            "grid_area": null,
            "grid_auto_columns": null,
            "grid_auto_flow": null,
            "grid_auto_rows": null,
            "grid_column": null,
            "grid_gap": null,
            "grid_row": null,
            "grid_template_areas": null,
            "grid_template_columns": null,
            "grid_template_rows": null,
            "height": null,
            "justify_content": null,
            "justify_items": null,
            "left": null,
            "margin": null,
            "max_height": null,
            "max_width": null,
            "min_height": null,
            "min_width": null,
            "object_fit": null,
            "object_position": null,
            "order": null,
            "overflow": null,
            "overflow_x": null,
            "overflow_y": null,
            "padding": null,
            "right": null,
            "top": null,
            "visibility": null,
            "width": null
          }
        },
        "5e3380dc9fa34b42bdb09aa3eb3b54d8": {
          "model_module": "@jupyter-widgets/controls",
          "model_name": "DescriptionStyleModel",
          "model_module_version": "1.5.0",
          "state": {
            "_model_module": "@jupyter-widgets/controls",
            "_model_module_version": "1.5.0",
            "_model_name": "DescriptionStyleModel",
            "_view_count": null,
            "_view_module": "@jupyter-widgets/base",
            "_view_module_version": "1.2.0",
            "_view_name": "StyleView",
            "description_width": ""
          }
        },
        "c91afa2b2a2946cc8de7f7af99c0c94e": {
          "model_module": "@jupyter-widgets/base",
          "model_name": "LayoutModel",
          "model_module_version": "1.2.0",
          "state": {
            "_model_module": "@jupyter-widgets/base",
            "_model_module_version": "1.2.0",
            "_model_name": "LayoutModel",
            "_view_count": null,
            "_view_module": "@jupyter-widgets/base",
            "_view_module_version": "1.2.0",
            "_view_name": "LayoutView",
            "align_content": null,
            "align_items": null,
            "align_self": null,
            "border": null,
            "bottom": null,
            "display": null,
            "flex": null,
            "flex_flow": null,
            "grid_area": null,
            "grid_auto_columns": null,
            "grid_auto_flow": null,
            "grid_auto_rows": null,
            "grid_column": null,
            "grid_gap": null,
            "grid_row": null,
            "grid_template_areas": null,
            "grid_template_columns": null,
            "grid_template_rows": null,
            "height": null,
            "justify_content": null,
            "justify_items": null,
            "left": null,
            "margin": null,
            "max_height": null,
            "max_width": null,
            "min_height": null,
            "min_width": null,
            "object_fit": null,
            "object_position": null,
            "order": null,
            "overflow": null,
            "overflow_x": null,
            "overflow_y": null,
            "padding": null,
            "right": null,
            "top": null,
            "visibility": null,
            "width": null
          }
        },
        "bc7b5aef55c440459e2840b02e9f8998": {
          "model_module": "@jupyter-widgets/controls",
          "model_name": "ProgressStyleModel",
          "model_module_version": "1.5.0",
          "state": {
            "_model_module": "@jupyter-widgets/controls",
            "_model_module_version": "1.5.0",
            "_model_name": "ProgressStyleModel",
            "_view_count": null,
            "_view_module": "@jupyter-widgets/base",
            "_view_module_version": "1.2.0",
            "_view_name": "StyleView",
            "bar_color": null,
            "description_width": ""
          }
        },
        "0ee7333392dd43fb95c5b922d1f3ecbc": {
          "model_module": "@jupyter-widgets/base",
          "model_name": "LayoutModel",
          "model_module_version": "1.2.0",
          "state": {
            "_model_module": "@jupyter-widgets/base",
            "_model_module_version": "1.2.0",
            "_model_name": "LayoutModel",
            "_view_count": null,
            "_view_module": "@jupyter-widgets/base",
            "_view_module_version": "1.2.0",
            "_view_name": "LayoutView",
            "align_content": null,
            "align_items": null,
            "align_self": null,
            "border": null,
            "bottom": null,
            "display": null,
            "flex": null,
            "flex_flow": null,
            "grid_area": null,
            "grid_auto_columns": null,
            "grid_auto_flow": null,
            "grid_auto_rows": null,
            "grid_column": null,
            "grid_gap": null,
            "grid_row": null,
            "grid_template_areas": null,
            "grid_template_columns": null,
            "grid_template_rows": null,
            "height": null,
            "justify_content": null,
            "justify_items": null,
            "left": null,
            "margin": null,
            "max_height": null,
            "max_width": null,
            "min_height": null,
            "min_width": null,
            "object_fit": null,
            "object_position": null,
            "order": null,
            "overflow": null,
            "overflow_x": null,
            "overflow_y": null,
            "padding": null,
            "right": null,
            "top": null,
            "visibility": null,
            "width": null
          }
        },
        "c615f4530cbd4d968ccc69e07de80b60": {
          "model_module": "@jupyter-widgets/controls",
          "model_name": "DescriptionStyleModel",
          "model_module_version": "1.5.0",
          "state": {
            "_model_module": "@jupyter-widgets/controls",
            "_model_module_version": "1.5.0",
            "_model_name": "DescriptionStyleModel",
            "_view_count": null,
            "_view_module": "@jupyter-widgets/base",
            "_view_module_version": "1.2.0",
            "_view_name": "StyleView",
            "description_width": ""
          }
        }
      }
    }
  },
  "nbformat": 4,
  "nbformat_minor": 0
}