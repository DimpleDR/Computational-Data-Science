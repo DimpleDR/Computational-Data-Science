{
  "cells": [
    {
      "cell_type": "markdown",
      "metadata": {
        "id": "view-in-github",
        "colab_type": "text"
      },
      "source": [
        "<a href=\"https://colab.research.google.com/github/DimpleDR/Computational-Data-Science/blob/Projects/M4_SNB_MiniProject_01_MLR_MPI_OpenMP.ipynb\" target=\"_parent\"><img src=\"https://colab.research.google.com/assets/colab-badge.svg\" alt=\"Open In Colab\"/></a>"
      ]
    },
    {
      "cell_type": "markdown",
      "id": "heated-queens",
      "metadata": {
        "id": "heated-queens"
      },
      "source": [
        "# Advanced Certification Program in Computational Data Science\n",
        "## A program by IISc and TalentSprint\n",
        "### Mini-Project: Implementation of Multiple Linear Regression using MPI, OpenMP"
      ]
    },
    {
      "cell_type": "markdown",
      "id": "n-kxaHhwXEp9",
      "metadata": {
        "id": "n-kxaHhwXEp9"
      },
      "source": [
        "**DISCLAIMER:** THIS NOTEBOOK IS PROVIDED ONLY AS A REFERENCE SOLUTION NOTEBOOK FOR THE MINI-PROJECT. THERE MAY BE OTHER POSSIBLE APPROACHES/METHODS TO ACHIEVE THE SAME RESULTS."
      ]
    },
    {
      "cell_type": "markdown",
      "id": "military-proportion",
      "metadata": {
        "id": "military-proportion"
      },
      "source": [
        "## Learning Objectives"
      ]
    },
    {
      "cell_type": "markdown",
      "id": "durable-grounds",
      "metadata": {
        "id": "durable-grounds"
      },
      "source": [
        "At the end of the mini-project, you will be able to :\n",
        "\n",
        "* understand the collective communication operations like scatter, gather, broadcast\n",
        "* understand the blocking and non-blocking communication\n",
        "* implement multiple linear regression and run it using MPI\n",
        "* implement the multiple linear regression based predictions using OpenMP"
      ]
    },
    {
      "cell_type": "markdown",
      "id": "growing-queens",
      "metadata": {
        "id": "growing-queens"
      },
      "source": [
        "### Dataset"
      ]
    },
    {
      "cell_type": "markdown",
      "id": "raised-connection",
      "metadata": {
        "id": "raised-connection"
      },
      "source": [
        "The dataset chosen for this mini-project is [Combined Cycle Power Plant](https://archive.ics.uci.edu/ml/datasets/combined+cycle+power+plant). The dataset is made up of 9568 records and 5 columns. Each record contains the values for Ambient Temperature, Exhaust Vaccum, Ambient Pressure, Relative Humidity and Energy Output.\n",
        "\n",
        "Predicting full load electrical power output of a base load power plant is important in order to maximize the profit from the available megawatt hours.  The base load operation of a power plant is influenced by four main parameters, which are used as input variables in the dataset, such as ambient temperature, atmospheric pressure, relative humidity, and exhaust steam pressure. These parameters affect electrical power output, which is considered as the target variable.\n",
        "\n",
        "**Note:** The data was collected over a six year period (2006-11)."
      ]
    },
    {
      "cell_type": "markdown",
      "id": "dominant-residence",
      "metadata": {
        "id": "dominant-residence"
      },
      "source": [
        "## Information"
      ]
    },
    {
      "cell_type": "markdown",
      "id": "coated-timing",
      "metadata": {
        "id": "coated-timing"
      },
      "source": [
        "#### MPI in a Nutshell\n",
        "\n",
        "MPI stands for \"Message Passing Interface\". It is a library of functions (in C / Python) or subroutines (in Fortran) that you insert into source code to perform data communication between processes. MPI was developed over two years of discussions led by the MPI Forum, a group of roughly sixty people representing some forty organizations.\n",
        "\n",
        "To know more about MPI click [here](https://hpc-tutorials.llnl.gov/mpi/)\n",
        "\n",
        "\n",
        "#### Multiple Linear Regression\n",
        "\n",
        "Multiple regression is an extension of simple linear regression. It is used when we want to predict the value of a variable based on the value of two or more other variables. The variable we want to predict is called the dependent variable (or sometimes, the outcome, target or criterion variable). The variables we are using to predict the value of the dependent variable are called the independent variables (or sometimes, the predictor, explanatory or regressor variables)."
      ]
    },
    {
      "cell_type": "markdown",
      "id": "global-savings",
      "metadata": {
        "id": "global-savings"
      },
      "source": [
        "**Note:** We will be using the mpi4py Python package for MPI based code implementation"
      ]
    },
    {
      "cell_type": "markdown",
      "id": "ndQNKsjS7c04",
      "metadata": {
        "id": "ndQNKsjS7c04"
      },
      "source": [
        "## Grading = 20 Points"
      ]
    },
    {
      "cell_type": "markdown",
      "id": "green-deviation",
      "metadata": {
        "id": "green-deviation"
      },
      "source": [
        "**Run the below code to install mpi4py package**"
      ]
    },
    {
      "cell_type": "code",
      "execution_count": 1,
      "id": "designing-marketing",
      "metadata": {
        "colab": {
          "base_uri": "https://localhost:8080/"
        },
        "id": "designing-marketing",
        "scrolled": true,
        "outputId": "44dbd433-80c2-4307-b712-263b375e3860"
      },
      "outputs": [
        {
          "output_type": "stream",
          "name": "stdout",
          "text": [
            "Collecting mpi4py\n",
            "  Downloading mpi4py-4.0.1.tar.gz (466 kB)\n",
            "\u001b[?25l     \u001b[90m━━━━━━━━━━━━━━━━━━━━━━━━━━━━━━━━━━━━━━━━\u001b[0m \u001b[32m0.0/466.2 kB\u001b[0m \u001b[31m?\u001b[0m eta \u001b[36m-:--:--\u001b[0m\r\u001b[2K     \u001b[90m━━━━━━━━━━━━━━━━━━━━━━━━━━━━━━━━━━━━━━━━\u001b[0m \u001b[32m466.2/466.2 kB\u001b[0m \u001b[31m18.8 MB/s\u001b[0m eta \u001b[36m0:00:00\u001b[0m\n",
            "\u001b[?25h  Installing build dependencies ... \u001b[?25l\u001b[?25hdone\n",
            "  Getting requirements to build wheel ... \u001b[?25l\u001b[?25hdone\n",
            "  Installing backend dependencies ... \u001b[?25l\u001b[?25hdone\n",
            "  Preparing metadata (pyproject.toml) ... \u001b[?25l\u001b[?25hdone\n",
            "Building wheels for collected packages: mpi4py\n",
            "  Building wheel for mpi4py (pyproject.toml) ... \u001b[?25l\u001b[?25hdone\n",
            "  Created wheel for mpi4py: filename=mpi4py-4.0.1-cp310-cp310-linux_x86_64.whl size=4266342 sha256=4a353566d625827dab47482d50d0a37e5d0e83dd4d99e01734d9aa5c50d289f0\n",
            "  Stored in directory: /root/.cache/pip/wheels/3c/ca/13/13218a83854023ccec184e3af482f0f038b434aa32c19afee8\n",
            "Successfully built mpi4py\n",
            "Installing collected packages: mpi4py\n",
            "Successfully installed mpi4py-4.0.1\n"
          ]
        }
      ],
      "source": [
        "!pip install mpi4py"
      ]
    },
    {
      "cell_type": "markdown",
      "id": "dedicated-thong",
      "metadata": {
        "id": "dedicated-thong"
      },
      "source": [
        "#### Importing Necessary Packages"
      ]
    },
    {
      "cell_type": "code",
      "execution_count": 2,
      "id": "reported-acrobat",
      "metadata": {
        "id": "reported-acrobat",
        "scrolled": true
      },
      "outputs": [],
      "source": [
        "# Importing pandas\n",
        "import pandas as pd\n",
        "# Importing Numpy\n",
        "import numpy as np\n",
        "# Importing MPI from mpi4py package\n",
        "from mpi4py import MPI\n",
        "# Importing sqrt function from the Math\n",
        "from math import sqrt\n",
        "# Importing Decimal, ROUND_HALF_UP functions from the decimal package\n",
        "from decimal import Decimal, ROUND_HALF_UP\n",
        "import time"
      ]
    },
    {
      "cell_type": "code",
      "execution_count": 3,
      "id": "universal-jonathan",
      "metadata": {
        "cellView": "form",
        "id": "universal-jonathan",
        "scrolled": true
      },
      "outputs": [],
      "source": [
        "#@title Downloading the data\n",
        "!wget -qq https://cdn.iisc.talentsprint.com/CDS/Datasets/PowerPlantData.csv"
      ]
    },
    {
      "cell_type": "markdown",
      "id": "forty-still",
      "metadata": {
        "id": "forty-still"
      },
      "source": [
        "### Overview\n",
        "\n",
        "* Load the data and perform data pre-processing\n",
        "* Identify the features, target and split the data into train and test\n",
        "* Implement multiple Linear Regression by estimating the coefficients on the given data\n",
        "* Use MPI package to distribute the data and implement `communicator`\n",
        "* Define functions for each objective and make a script (.py) file to execute using MPI command\n",
        "* Use OpenMP component to predict the data and calculate the error on the predicted data\n",
        "* Implement the Linear Regression from `sklearn` and compare the results"
      ]
    },
    {
      "cell_type": "markdown",
      "id": "early-peace",
      "metadata": {
        "id": "early-peace"
      },
      "source": [
        "#### Exercise 1: Load data (1 point)\n",
        "\n",
        "Write a function that takes the filename as input and loads the data in a pandas dataframe with the column names as Ambient Temperature, Exhaust Vaccum, Ambient Pressure, Relative Humidity and Energy Output respectively.\n",
        "\n",
        "**Hint:** read_csv()\n"
      ]
    },
    {
      "cell_type": "code",
      "execution_count": 4,
      "id": "differential-vacation",
      "metadata": {
        "id": "differential-vacation",
        "scrolled": true
      },
      "outputs": [],
      "source": [
        "FILENAME = \"/content/PowerPlantData.csv\" # Storing File path\n",
        "# Defining a function to load the data\n",
        "def loadData(filename):\n",
        "    # Loading the dataset with column names as\n",
        "    data = pd.read_csv(filename, header=0 , names = ['AmbientTemperature', 'ExhaustVaccum', 'AmbientPressure', 'RelativeHumidity', 'EnergyOutput'])\n",
        "    # Returning the dataframe\n",
        "    return data\n",
        "# Calling the function loadData and storing the dataframe in a variable named df\n",
        "df = loadData(FILENAME)"
      ]
    },
    {
      "cell_type": "markdown",
      "id": "italian-expense",
      "metadata": {
        "id": "italian-expense"
      },
      "source": [
        "#### Exercise 2: Explore data (1 point)\n",
        "\n",
        "Write a function that takes the data loaded using the above defined function as input and explore it.\n",
        "\n",
        "**Hint:** You can define and check for following things in the dataset inside a function\n",
        "\n",
        "- checking for the number of rows and columns\n",
        "- summary of the dataset\n",
        "- check for the null values\n",
        "- check for the duplicate values"
      ]
    },
    {
      "cell_type": "code",
      "execution_count": 5,
      "id": "local-quarter",
      "metadata": {
        "id": "local-quarter",
        "scrolled": true
      },
      "outputs": [],
      "source": [
        "# Defining a function\n",
        "def exploreData(data):\n",
        "    print(data.shape) # Checking for number of rows and columns\n",
        "    print(data.describe()) # Summary of the data\n",
        "    print(data.isna()) # Checking for the null values in the data\n",
        "    print(sum(data.duplicated()))  # Checking for the duplicate values in the data"
      ]
    },
    {
      "cell_type": "code",
      "execution_count": 6,
      "id": "rapid-mobile",
      "metadata": {
        "id": "rapid-mobile",
        "scrolled": true,
        "colab": {
          "base_uri": "https://localhost:8080/"
        },
        "outputId": "4ef9aed0-921e-44e6-948b-541546572691"
      },
      "outputs": [
        {
          "output_type": "stream",
          "name": "stdout",
          "text": [
            "(9568, 5)\n",
            "       AmbientTemperature  ExhaustVaccum  AmbientPressure  RelativeHumidity  \\\n",
            "count         9568.000000    9568.000000      9568.000000       9568.000000   \n",
            "mean            19.651231      54.305804      1013.259078         73.308978   \n",
            "std              7.452473      12.707893         5.938784         14.600269   \n",
            "min              1.810000      25.360000       992.890000         25.560000   \n",
            "25%             13.510000      41.740000      1009.100000         63.327500   \n",
            "50%             20.345000      52.080000      1012.940000         74.975000   \n",
            "75%             25.720000      66.540000      1017.260000         84.830000   \n",
            "max             37.110000      81.560000      1033.300000        100.160000   \n",
            "\n",
            "       EnergyOutput  \n",
            "count   9568.000000  \n",
            "mean     454.365009  \n",
            "std       17.066995  \n",
            "min      420.260000  \n",
            "25%      439.750000  \n",
            "50%      451.550000  \n",
            "75%      468.430000  \n",
            "max      495.760000  \n",
            "      AmbientTemperature  ExhaustVaccum  AmbientPressure  RelativeHumidity  \\\n",
            "0                  False          False            False             False   \n",
            "1                  False          False            False             False   \n",
            "2                  False          False            False             False   \n",
            "3                  False          False            False             False   \n",
            "4                  False          False            False             False   \n",
            "...                  ...            ...              ...               ...   \n",
            "9563               False          False            False             False   \n",
            "9564               False          False            False             False   \n",
            "9565               False          False            False             False   \n",
            "9566               False          False            False             False   \n",
            "9567               False          False            False             False   \n",
            "\n",
            "      EnergyOutput  \n",
            "0            False  \n",
            "1            False  \n",
            "2            False  \n",
            "3            False  \n",
            "4            False  \n",
            "...            ...  \n",
            "9563         False  \n",
            "9564         False  \n",
            "9565         False  \n",
            "9566         False  \n",
            "9567         False  \n",
            "\n",
            "[9568 rows x 5 columns]\n",
            "41\n"
          ]
        }
      ],
      "source": [
        "# Calling the function exploreData to understand the dataset\n",
        "exploreData(df)"
      ]
    },
    {
      "cell_type": "markdown",
      "id": "whole-retailer",
      "metadata": {
        "id": "whole-retailer"
      },
      "source": [
        "#### Exercise 3: Handle missing data (1 point)\n",
        "\n",
        "After exploring the dataset if there are any null values present in the dataset then define a function that takes data loaded using the above defined function as input and handle the null values accordingly.\n",
        "\n",
        "**Hint:**\n",
        "\n",
        "- Drop the records containing the null values - dropna()\n",
        "- Replace the null values with the mean/median/mode - fillna()"
      ]
    },
    {
      "cell_type": "code",
      "execution_count": 7,
      "id": "incorporated-child",
      "metadata": {
        "id": "incorporated-child",
        "scrolled": true
      },
      "outputs": [],
      "source": [
        "# Function to handle missing data\n",
        "def handleMissingData(data):\n",
        "    data = data.dropna() # dropping the records containing null values using dropna function\n",
        "    # returning the dataframe after dropping the values\n",
        "    return data"
      ]
    },
    {
      "cell_type": "code",
      "execution_count": 8,
      "id": "intense-statistics",
      "metadata": {
        "id": "intense-statistics",
        "scrolled": true
      },
      "outputs": [],
      "source": [
        "newdf = handleMissingData(df) # storing the data after removing the null values from it"
      ]
    },
    {
      "cell_type": "markdown",
      "id": "loaded-arbitration",
      "metadata": {
        "id": "loaded-arbitration"
      },
      "source": [
        "#### Exercise 4: Scale the data (1 point)\n",
        "\n",
        "Write a function that takes the data after handling the missing data as input and returns the standardized data.\n",
        "\n",
        "**Hint:**\n",
        "\n",
        "- standardization of the data  can be performed using the below formula\n",
        "\n",
        "$ (x - mean(x)) / std(x) $"
      ]
    },
    {
      "cell_type": "code",
      "execution_count": 9,
      "id": "extraordinary-qatar",
      "metadata": {
        "id": "extraordinary-qatar",
        "scrolled": true
      },
      "outputs": [],
      "source": [
        "# Defining a function to standardize the data\n",
        "def standardizeData(dataFile):\n",
        "    # Applying standardization formula\n",
        "    dataFile = (dataFile - dataFile.mean()) / dataFile.std()\n",
        "    # returning the standardization data\n",
        "    return dataFile"
      ]
    },
    {
      "cell_type": "code",
      "execution_count": 10,
      "id": "ranking-viking",
      "metadata": {
        "id": "ranking-viking",
        "scrolled": true
      },
      "outputs": [],
      "source": [
        "ScaledData = standardizeData(newdf) # Storing the data after applying standardization on the data"
      ]
    },
    {
      "cell_type": "markdown",
      "id": "thermal-rehabilitation",
      "metadata": {
        "id": "thermal-rehabilitation"
      },
      "source": [
        "#### Exercise 5: Feature selection (1 point)\n",
        "\n",
        "Write a function that takes scaled data as input and returns the features and target variable values\n",
        "\n",
        "**Hint:**\n",
        "\n",
        "- Features: AmbientTemperature, ExhaustVaccum, AmbientPressure, RelativeHumidity\n",
        "- Target Variable: EnergyOutput"
      ]
    },
    {
      "cell_type": "code",
      "execution_count": 11,
      "id": "terminal-starter",
      "metadata": {
        "id": "terminal-starter",
        "scrolled": true
      },
      "outputs": [],
      "source": [
        "# Function which returns features and target variables\n",
        "def FeatureSelector(data, target_name):\n",
        "    target = data[target_name] # Storing the target values\n",
        "    features = data.drop([target_name],axis=1) # Storing the features by dropping the target variable column\n",
        "    return features, target # Returning the features and target"
      ]
    },
    {
      "cell_type": "code",
      "execution_count": 12,
      "id": "hungarian-repeat",
      "metadata": {
        "id": "hungarian-repeat",
        "scrolled": true
      },
      "outputs": [],
      "source": [
        "features, target = FeatureSelector(ScaledData,'EnergyOutput') # Storing the features and targets in variables respectively"
      ]
    },
    {
      "cell_type": "markdown",
      "id": "timely-bruce",
      "metadata": {
        "id": "timely-bruce"
      },
      "source": [
        "#### Exercise 6: Correlation (1 point)\n",
        "\n",
        "Calculate correlation between the variables"
      ]
    },
    {
      "cell_type": "code",
      "execution_count": 13,
      "id": "durable-making",
      "metadata": {
        "id": "durable-making",
        "scrolled": true,
        "colab": {
          "base_uri": "https://localhost:8080/",
          "height": 655
        },
        "outputId": "5217510c-e856-46f2-8b1a-a07ec37cc2e7"
      },
      "outputs": [
        {
          "output_type": "stream",
          "name": "stdout",
          "text": [
            "[[ 1.          0.84410673 -0.50754934 -0.54253465]\n",
            " [ 0.          1.         -0.41350216 -0.31218728]\n",
            " [ 0.          0.          1.          0.09957432]\n",
            " [ 0.          0.          0.          1.        ]]\n"
          ]
        },
        {
          "output_type": "execute_result",
          "data": {
            "text/plain": [
              "<Axes: >"
            ]
          },
          "metadata": {},
          "execution_count": 13
        },
        {
          "output_type": "display_data",
          "data": {
            "text/plain": [
              "<Figure size 640x480 with 2 Axes>"
            ],
            "image/png": "[encoded data removed]"
          },
          "metadata": {}
        }
      ],
      "source": [
        "def correlation_factor(features):\n",
        "    corr = features.corr()\n",
        "    print(np.triu(corr))\n",
        "    return np.triu(corr)\n",
        "\n",
        "import seaborn as sns\n",
        "sns.heatmap(correlation_factor(features),annot=True,xticklabels=features.columns, yticklabels=features.columns)\n",
        "# heatmap is optional"
      ]
    },
    {
      "cell_type": "markdown",
      "id": "honest-remainder",
      "metadata": {
        "id": "honest-remainder"
      },
      "source": [
        "#### Exercise 7: Estimate the coefficients (2 points)\n",
        "\n",
        "Write a function that takes features and target as input and returns the estimated coefficient values\n",
        "\n",
        "**Hint:**\n",
        "\n",
        "- Calculate the estimated coefficients using the below formula\n",
        "\n",
        "$ β = (X^T X)^{-1} X^T y $\n",
        "\n",
        "- transpose(), np.linalg.inv()"
      ]
    },
    {
      "cell_type": "code",
      "execution_count": 14,
      "id": "dimensional-victory",
      "metadata": {
        "id": "dimensional-victory",
        "scrolled": true
      },
      "outputs": [],
      "source": [
        "# Calculating the coefficients\n",
        "def estimatedCoefficients(x, y):\n",
        "    # Implementing above formula\n",
        "    xT = x.transpose() # Transpose of x\n",
        "    inversed = np.linalg.inv( xT.dot(x) ) # Inverse of a matrix\n",
        "    coefficients = inversed.dot( xT ).dot(y) # performing final dot operation\n",
        "    # Returning the coefficients\n",
        "    return coefficients"
      ]
    },
    {
      "cell_type": "code",
      "execution_count": 15,
      "id": "activated-packaging",
      "metadata": {
        "id": "activated-packaging",
        "scrolled": true,
        "colab": {
          "base_uri": "https://localhost:8080/"
        },
        "outputId": "9a68ce36-31be-4956-f136-a0c02e094216"
      },
      "outputs": [
        {
          "output_type": "execute_result",
          "data": {
            "text/plain": [
              "array([-0.86350078, -0.17417154,  0.02160293, -0.13521023])"
            ]
          },
          "metadata": {},
          "execution_count": 15
        }
      ],
      "source": [
        "estimatedCoefficients(features, target) # Calculating the estimatedCoefficients"
      ]
    },
    {
      "cell_type": "markdown",
      "id": "interior-bennett",
      "metadata": {
        "id": "interior-bennett"
      },
      "source": [
        "#### Exercise 8: Fit the data to estimate the coefficients (2 points)\n",
        "\n",
        "Write a function named fit which takes features and targets as input and returns the intercept and coefficient values.\n",
        "\n",
        "**Hint:**\n",
        "\n",
        "- create a dummy column in the features dataframe which is made up of all ones\n",
        "- convert the features dataframe into numpy array\n",
        "- call the estimated coefficients function which is defined above\n",
        "- np.ones(), np.concatenate()"
      ]
    },
    {
      "cell_type": "code",
      "execution_count": 16,
      "id": "respected-holiday",
      "metadata": {
        "id": "respected-holiday",
        "scrolled": true
      },
      "outputs": [],
      "source": [
        "# function to add dummy column into features dataframe and converting it into numpy array\n",
        "def dummyvariable(features):\n",
        "    # create a array of ones\n",
        "    m = np.ones((features.shape[0],1))\n",
        "    # combining the array of ones with features array\n",
        "    f = np.concatenate((m,features),axis=1)\n",
        "    # returning the features array\n",
        "    return f"
      ]
    },
    {
      "cell_type": "code",
      "execution_count": 17,
      "id": "local-texas",
      "metadata": {
        "id": "local-texas",
        "scrolled": true
      },
      "outputs": [],
      "source": [
        "# defining a fit function\n",
        "def fit(x, y):\n",
        "    # prepare x and y values for coefficient estimates\n",
        "    x = dummyvariable(x) # adding a dummy column\n",
        "    print(x)\n",
        "    #y = y.values\n",
        "    betas = estimatedCoefficients(x, y) # calculating the estimated coefficients\n",
        "    # intercept becomes a vector of ones\n",
        "    intercept = betas[0]\n",
        "    # coefficients becomes the rest of the betas\n",
        "    coefficients = betas[1:]\n",
        "    # returning the intercept and coefficients\n",
        "    return intercept, coefficients"
      ]
    },
    {
      "cell_type": "code",
      "execution_count": 18,
      "id": "informational-vessel",
      "metadata": {
        "id": "informational-vessel",
        "scrolled": true,
        "colab": {
          "base_uri": "https://localhost:8080/"
        },
        "outputId": "f23f57d0-38c7-4201-d8ec-deb24025ab93"
      },
      "outputs": [
        {
          "output_type": "stream",
          "name": "stdout",
          "text": [
            "[[ 1.         -1.5177822  -1.06514933 -0.40733563  1.14388457]\n",
            " [ 1.          0.53522753  0.32925964 -0.31304022  0.06102779]\n",
            " [ 1.          1.35374774  0.20414055 -1.02867497 -2.15057533]\n",
            " ...\n",
            " [ 1.         -0.49127733 -0.86291282  0.15843679  0.36650162]\n",
            " [ 1.         -0.26853249  0.43785357  0.89596154  1.46168694]\n",
            " [ 1.          0.54059487 -0.23653046 -0.23558329 -0.1417082 ]]\n"
          ]
        }
      ],
      "source": [
        "intercept, coefficients = fit(features, target) # fitting the data and calculating the intercept and coefficients"
      ]
    },
    {
      "cell_type": "markdown",
      "id": "hybrid-quick",
      "metadata": {
        "id": "hybrid-quick"
      },
      "source": [
        "#### Exercise 9: Predict the data on estimated coefficients (1 point)\n",
        "\n",
        "Write a function named predict which takes features, intercept and coefficient values as input and returns the predicted values.\n",
        "\n",
        "**Hint:**\n",
        "\n",
        "- Fit the intercept, coefficients values in the below equation\n",
        "\n",
        "  $y = b_0 + b_1*x + ... + b_i*x_i$"
      ]
    },
    {
      "cell_type": "code",
      "execution_count": 19,
      "id": "buried-attention",
      "metadata": {
        "id": "buried-attention",
        "scrolled": true
      },
      "outputs": [],
      "source": [
        "# fucntion to predict the values\n",
        "def predict(x, intercept, coefficients):\n",
        "    '''\n",
        "    y = b_0 + b_1*x + ... + b_i*x_i\n",
        "    '''\n",
        "    predictions = [] # Defining empty list to store the predicted values\n",
        "    for index, row in x.iterrows(): # iterating over features\n",
        "        values = row.values # converting each row into a array\n",
        "        pred = np.multiply(values, coefficients) # multiply the coefficients with the features values\n",
        "        pred = sum(pred) # storing the sum of each features\n",
        "        pred += intercept # finally adding the intercept value\n",
        "        predictions.append(pred) # appending the values to the list\n",
        "    # returning the predictions\n",
        "    return predictions"
      ]
    },
    {
      "cell_type": "code",
      "execution_count": 20,
      "id": "falling-project",
      "metadata": {
        "id": "falling-project",
        "scrolled": true,
        "colab": {
          "base_uri": "https://localhost:8080/"
        },
        "outputId": "8f93fff3-7f22-4760-c2dd-3276bf554c02"
      },
      "outputs": [
        {
          "output_type": "execute_result",
          "data": {
            "text/plain": [
              "[1.3326602684962532,\n",
              " -0.534531215676839,\n",
              " -0.9359603112233181,\n",
              " 0.07640425272942543,\n",
              " 0.8895610687748654,\n",
              " 0.7714443944520104,\n",
              " -0.5540970083885285,\n",
              " 0.7567708975439726,\n",
              " -1.225428897304561,\n",
              " 1.6576241437761516,\n",
              " -1.1901941130364457,\n",
              " -0.06129230454304889,\n",
              " -1.2301682902993172,\n",
              " 1.4838856543859635,\n",
              " 0.5991596163999586,\n",
              " -0.3417226488979441,\n",
              " 0.5635378395088407,\n",
              " 0.986459157623272,\n",
              " 1.3799471435419097,\n",
              " 0.016165506010771144,\n",
              " 0.5509266925803942,\n",
              " -1.5941946090140569,\n",
              " -0.8408643749820686,\n",
              " 1.506303737020057,\n",
              " 0.8948976502458776,\n",
              " 1.8016617438510405,\n",
              " -0.9186668554398943,\n",
              " 1.391217520691067,\n",
              " -0.23382065669812407,\n",
              " -0.8177208734031945,\n",
              " 0.6235815159730987,\n",
              " -0.26320528498949175,\n",
              " 1.515968094723442,\n",
              " -1.227342437435259,\n",
              " -1.4377625642757779,\n",
              " 0.6428679501226959,\n",
              " -0.7731004649629747,\n",
              " -0.9002495713576709,\n",
              " 1.4934873187019408,\n",
              " -0.5178002934355983,\n",
              " -1.2498121464812149,\n",
              " -0.5052113845219308,\n",
              " 0.6706893189169838,\n",
              " -0.7472770960987134,\n",
              " 0.13863203801119178,\n",
              " -0.9615082705451118,\n",
              " 0.4441725290988102,\n",
              " -0.3864348727260724,\n",
              " 1.49417131033227,\n",
              " -0.8067795685985268,\n",
              " -0.57520664758777,\n",
              " -1.064195317409725,\n",
              " 0.40730126374980624,\n",
              " -1.119067431050417,\n",
              " -1.3900164247568556,\n",
              " 0.44545196627973893,\n",
              " 1.3144709750702184,\n",
              " -0.6780368889684731,\n",
              " 0.425797309382389,\n",
              " -1.4209078697791988,\n",
              " -0.6274560900828307,\n",
              " -0.8669968650332696,\n",
              " 0.6215050926754951,\n",
              " -1.683036504304156,\n",
              " -1.3107988283059575,\n",
              " -1.146169308382114,\n",
              " 1.7195710376828006,\n",
              " 0.7220301036808564,\n",
              " 0.12423814751930674,\n",
              " -0.9704057842680427,\n",
              " -0.7616813206533999,\n",
              " -1.7542886299907174,\n",
              " -0.34528251113545927,\n",
              " 1.0937639784452637,\n",
              " 1.182238947159423,\n",
              " -0.15206077735537263,\n",
              " -1.3153387386215873,\n",
              " -1.3595123511591576,\n",
              " -1.171724085015715,\n",
              " -1.5957472590385606,\n",
              " 0.20405643009496763,\n",
              " -1.6440558325457857,\n",
              " -0.902277469467118,\n",
              " 0.24196645900452435,\n",
              " 0.7203053088516238,\n",
              " 1.641021954909292,\n",
              " -0.8478338924874055,\n",
              " -1.85711668459896,\n",
              " 1.6536995858609653,\n",
              " -1.0586828064352656,\n",
              " -0.7118923689548342,\n",
              " -0.7991346997879991,\n",
              " 0.9554316078258218,\n",
              " 0.20931935685523637,\n",
              " -0.6435352569825096,\n",
              " -0.8374585039990557,\n",
              " -0.1477871138975135,\n",
              " 1.6951407848855744,\n",
              " -1.324431094693704,\n",
              " 1.4544311926734772,\n",
              " 0.439376198461331,\n",
              " -1.0144093389643498,\n",
              " -0.5291953825892459,\n",
              " 1.0116094314084214,\n",
              " 1.2481620042958264,\n",
              " 1.170332408564758,\n",
              " -1.5177483315372557,\n",
              " -1.0867594464179504,\n",
              " -1.3775968865805603,\n",
              " -0.10124739280717891,\n",
              " 0.010782955503774462,\n",
              " -0.6951109320855093,\n",
              " -0.16326078874542232,\n",
              " -0.3655329190169777,\n",
              " 1.4031800993417167,\n",
              " -0.8428591308102158,\n",
              " -0.7732869870563783,\n",
              " -0.4044433647441904,\n",
              " -0.3625607803718944,\n",
              " 0.0654266145707924,\n",
              " 0.5505846615646734,\n",
              " 0.9041578804077994,\n",
              " -0.8835160765148613,\n",
              " -0.05039292563869319,\n",
              " -0.5573624549342806,\n",
              " 0.4134290994180342,\n",
              " 0.10131098030400984,\n",
              " 0.6240095242920503,\n",
              " 0.7041965084827526,\n",
              " -1.2247905321375883,\n",
              " 1.0062458720139706,\n",
              " -1.0060675164477162,\n",
              " 0.16364443955728014,\n",
              " 1.5958508263893811,\n",
              " 1.411560471133277,\n",
              " -0.20004135303215076,\n",
              " 0.43965677677088166,\n",
              " 1.2556567760512245,\n",
              " -0.22744075781116616,\n",
              " 1.354766281684431,\n",
              " 1.6270398829512298,\n",
              " 0.9135209906843663,\n",
              " -0.42235792147524276,\n",
              " 0.6933174359891442,\n",
              " -1.004924865071106,\n",
              " 0.9944221748975337,\n",
              " 0.8623851594665675,\n",
              " -0.5347758296589386,\n",
              " 1.017534629788833,\n",
              " -0.4040479307010274,\n",
              " 1.369013874514664,\n",
              " 0.5023283455710971,\n",
              " 0.1030867413319805,\n",
              " 1.296724845559756,\n",
              " 1.0583797069158118,\n",
              " 0.5731883112652925,\n",
              " 0.4990870779642367,\n",
              " -0.4918828462233051,\n",
              " 0.26180666122054397,\n",
              " -0.09363506720490757,\n",
              " 0.9217304392461328,\n",
              " -0.9241376241730941,\n",
              " 0.6559515141571362,\n",
              " 0.9327629543504627,\n",
              " 0.8996929599391847,\n",
              " -1.6748768594485524,\n",
              " -0.31849921946258336,\n",
              " 1.0133184759248361,\n",
              " 0.0433516037246381,\n",
              " 0.49204144898917374,\n",
              " -0.4575449166406066,\n",
              " -0.7748213714134794,\n",
              " 0.8092494385619465,\n",
              " 0.5301597012077451,\n",
              " -0.11222324495175273,\n",
              " -1.0125440729880713,\n",
              " 0.7813524794345575,\n",
              " 0.7697628631618838,\n",
              " -1.446183406434939,\n",
              " -0.9117737755264078,\n",
              " -1.7207065607264755,\n",
              " -0.7777800480170498,\n",
              " 1.361589352461922,\n",
              " 0.6970498896831728,\n",
              " 0.7412072212787657,\n",
              " 1.271909636385763,\n",
              " -1.2751700624495728,\n",
              " -0.8632554703295489,\n",
              " 1.4294413622237596,\n",
              " -0.6048513133455176,\n",
              " -0.2663662208591616,\n",
              " -0.21745699320650477,\n",
              " 0.8580914137383948,\n",
              " -0.5237482885743119,\n",
              " 1.7006319688296625,\n",
              " -0.04530379328967692,\n",
              " -0.46361379885841714,\n",
              " -0.5544866525568101,\n",
              " -1.017010208870362,\n",
              " 1.2630232863142823,\n",
              " -0.809445279078023,\n",
              " -0.6166933174823721,\n",
              " 0.27270965577096085,\n",
              " -1.628831529707943,\n",
              " 0.8137850287863545,\n",
              " 0.5915120257087114,\n",
              " -1.0325902421492936,\n",
              " 1.6853765006112995,\n",
              " 1.6795260909251855,\n",
              " 1.2592990571386105,\n",
              " 0.8289104374283782,\n",
              " -1.2866477983711244,\n",
              " 1.7601193293910944,\n",
              " -0.8953667173537001,\n",
              " -0.5589486755475374,\n",
              " 0.4368644744453053,\n",
              " -1.024615432522403,\n",
              " -0.8619689594618654,\n",
              " 0.9983093744688782,\n",
              " -0.33107546536411736,\n",
              " -0.19020653171664645,\n",
              " -0.2668266392800999,\n",
              " -0.7276432028997107,\n",
              " -0.7264335778298439,\n",
              " 0.4875416966249812,\n",
              " 0.004064296316553305,\n",
              " 0.7680777156963953,\n",
              " -0.22256010974096813,\n",
              " -0.28180347623683527,\n",
              " 1.3790182688698898,\n",
              " -1.1216915722053322,\n",
              " -1.4803966975414284,\n",
              " 0.32313930087233295,\n",
              " -0.9426525181573644,\n",
              " 1.1892033769973596,\n",
              " 0.4359929067179129,\n",
              " 0.8393874481995302,\n",
              " -1.1962734152516543,\n",
              " 0.2891957052743748,\n",
              " 1.4373862286930683,\n",
              " -0.9478692389586963,\n",
              " -0.4256659107936115,\n",
              " -0.8666617895172075,\n",
              " -1.173878181074794,\n",
              " 0.3274274950703642,\n",
              " 0.7516027141744134,\n",
              " 1.1433969725882691,\n",
              " -0.019769938612743274,\n",
              " -0.7142859013367794,\n",
              " -0.23971409429658666,\n",
              " -0.3947561847619488,\n",
              " -1.1999694640191874,\n",
              " 1.296030320425304,\n",
              " 0.4909901057968187,\n",
              " -0.5075541206075406,\n",
              " 0.6818366302153205,\n",
              " -0.9071297590557887,\n",
              " 1.3548918813878286,\n",
              " 0.9642224076786718,\n",
              " 0.4125329615832085,\n",
              " -1.6219919837745715,\n",
              " 1.5205777695934248,\n",
              " -0.11705685149642338,\n",
              " -0.7532860428089434,\n",
              " -0.16311114471119648,\n",
              " 0.7807041359168698,\n",
              " 1.2040414857169535,\n",
              " -1.0564936290551896,\n",
              " 0.5294568145664656,\n",
              " -0.6550337328860261,\n",
              " -0.6466130496202996,\n",
              " -1.3702359148425152,\n",
              " 0.0017809722722493034,\n",
              " -1.5601943704620245,\n",
              " -1.5439404906140275,\n",
              " -1.4707717313115463,\n",
              " 1.8177542100846784,\n",
              " -1.380883737358058,\n",
              " -0.8258402451493397,\n",
              " 1.1591045469583867,\n",
              " -0.5892164657386307,\n",
              " 1.1223107769914074,\n",
              " 1.3690600412192053,\n",
              " 0.8341539266182922,\n",
              " -0.8721337915874614,\n",
              " 1.5247307183387966,\n",
              " 0.40861891088321295,\n",
              " -1.1827329585539685,\n",
              " 1.279439972323585,\n",
              " -1.4323526759007164,\n",
              " -1.4825963460004914,\n",
              " -0.06657964230781678,\n",
              " -0.9625638763701346,\n",
              " -1.5863557577520144,\n",
              " -0.9693235050896511,\n",
              " 1.9492450936110566,\n",
              " -1.2832620072533054,\n",
              " 0.7236465845306431,\n",
              " 0.5656099354432502,\n",
              " 1.3036014993954856,\n",
              " 1.0237158666329997,\n",
              " 1.5093586381722046,\n",
              " 0.019761020433208362,\n",
              " 1.6160052306154453,\n",
              " 1.320847884733184,\n",
              " 0.17086335145652282,\n",
              " -1.455116945121685,\n",
              " 0.6516870892435016,\n",
              " -1.3253603170387993,\n",
              " 0.7589030828418128,\n",
              " 1.894794238651087,\n",
              " 1.2537060215330864,\n",
              " -1.5234122437738,\n",
              " 0.47305144766550233,\n",
              " 0.7779062336573321,\n",
              " -0.33024965706980036,\n",
              " -0.30032658728395545,\n",
              " -0.7016587841255107,\n",
              " 1.7193186959588804,\n",
              " -1.513655036852142,\n",
              " -0.6689443458151911,\n",
              " -0.7359564144819054,\n",
              " -1.2983898143817132,\n",
              " -0.6344543143784602,\n",
              " -0.5535109520841065,\n",
              " -0.905934349600701,\n",
              " 0.8977000049594801,\n",
              " -0.39961239667909343,\n",
              " 0.1270635221668602,\n",
              " 1.2430995203972466,\n",
              " 0.4064987837346875,\n",
              " 1.64819733484214,\n",
              " 0.6094827874714865,\n",
              " -0.4771315336785749,\n",
              " 0.958071741290441,\n",
              " -0.8853756890017366,\n",
              " 1.5861581300681793,\n",
              " 1.1209718401039896,\n",
              " 0.5654071265854843,\n",
              " 0.0215942552715118,\n",
              " -0.47598022442174703,\n",
              " -1.6199537130694928,\n",
              " 0.9708979808011651,\n",
              " -1.0898124632185684,\n",
              " 1.4319463531691792,\n",
              " 1.095932776721768,\n",
              " -0.16461515567829307,\n",
              " 1.8905782331552328,\n",
              " -0.8165937016818505,\n",
              " 0.7583081152030826,\n",
              " -1.3313203267867055,\n",
              " -0.07216724949028379,\n",
              " -0.42883000582430586,\n",
              " 1.291022833754626,\n",
              " 0.7836740101946975,\n",
              " -0.25286382372800575,\n",
              " -0.6739985209630954,\n",
              " 0.17076411832219676,\n",
              " -0.47273121992000433,\n",
              " -0.019202143916188116,\n",
              " -0.9369379749423156,\n",
              " -0.22198200815176747,\n",
              " -1.0119442589188266,\n",
              " 1.3035436494199282,\n",
              " -1.5251825138986086,\n",
              " -0.24857558516254952,\n",
              " 0.5149239389500678,\n",
              " -0.869635816188922,\n",
              " -1.3779817898062936,\n",
              " -0.3400940409689639,\n",
              " -1.2084204362984745,\n",
              " 0.8667517175880812,\n",
              " 0.4215584418540895,\n",
              " -0.43265147802764714,\n",
              " -0.4534154877876998,\n",
              " -1.64634585156556,\n",
              " 0.6504917394787801,\n",
              " 0.5624875179922386,\n",
              " 1.2445675004805736,\n",
              " 0.6025394826233477,\n",
              " 1.417128135193238,\n",
              " 0.735696561381133,\n",
              " -0.7352168490585176,\n",
              " -0.31901102104680623,\n",
              " -0.9990618554350563,\n",
              " -1.7342802112265951,\n",
              " -1.4304495757453728,\n",
              " 0.8152872745263336,\n",
              " 0.6967999929717626,\n",
              " 0.956019450336164,\n",
              " -0.36354904940119753,\n",
              " -1.1559824170909996,\n",
              " -0.13779938732718613,\n",
              " -0.6559306907495515,\n",
              " 1.2774060607096605,\n",
              " -0.7830780690251431,\n",
              " 1.5804345900272285,\n",
              " 1.938322874348191,\n",
              " -0.4607349671114723,\n",
              " 1.2556891967935526,\n",
              " 0.3854926003072463,\n",
              " 0.2503669656478633,\n",
              " 1.1588006808965683,\n",
              " 1.4071008897880004,\n",
              " 0.520252989638108,\n",
              " 1.1372703549291143,\n",
              " -0.049616683371040665,\n",
              " 1.392947774042953,\n",
              " 0.8510561257884127,\n",
              " -0.6112329826345918,\n",
              " 0.1791545650303503,\n",
              " 0.5217423130508462,\n",
              " -1.3575134045313149,\n",
              " 1.4376365778835918,\n",
              " 1.551011149347877,\n",
              " -0.8041993848448444,\n",
              " -0.2299712880962783,\n",
              " -0.5461743502674685,\n",
              " -0.2694274671699744,\n",
              " -0.761287106239059,\n",
              " -0.3022621887025123,\n",
              " -0.05545094667979418,\n",
              " 0.9448809267858441,\n",
              " -0.42592714861716424,\n",
              " -0.5934876118580286,\n",
              " 1.5447929488083876,\n",
              " 0.11651901660617445,\n",
              " -0.9779685147057621,\n",
              " -0.5283729424856478,\n",
              " 1.0771553703691565,\n",
              " 0.8608414752140865,\n",
              " -1.079767129434603,\n",
              " 0.8681911772945368,\n",
              " -1.236079586015319,\n",
              " -1.7035451054844366,\n",
              " -1.1202507812301046,\n",
              " 0.8869903804435765,\n",
              " 1.634734901035738,\n",
              " -1.3297578187941193,\n",
              " -0.3896406967411297,\n",
              " -1.2061206933737978,\n",
              " -0.0028188257334803724,\n",
              " -0.08538285739957029,\n",
              " 1.1653773100982483,\n",
              " -0.7539996364285603,\n",
              " 1.4347203619516942,\n",
              " -1.3686181110968794,\n",
              " -0.7634304629871136,\n",
              " -0.4366766013464637,\n",
              " 0.7332056587549071,\n",
              " 1.2405470159562906,\n",
              " 0.24504830965998511,\n",
              " -1.148582889876202,\n",
              " -0.010611058139186393,\n",
              " -1.0921681240257228,\n",
              " -0.3621750412329669,\n",
              " 0.5836653780210023,\n",
              " 1.441090081170706,\n",
              " 0.8412609926480832,\n",
              " 1.0909930810419952,\n",
              " -1.2309607955084951,\n",
              " 0.8367410485579019,\n",
              " -1.545451185522433,\n",
              " -1.512565427276636,\n",
              " -0.7034678151360451,\n",
              " 0.7817154010577378,\n",
              " -0.03482899508725555,\n",
              " -0.5785250742595479,\n",
              " -0.7517818301211855,\n",
              " 0.48024957209539276,\n",
              " 0.7331578134592766,\n",
              " -0.7926071327409119,\n",
              " -0.3011537537982984,\n",
              " -1.709158425343858,\n",
              " 0.1626020866012239,\n",
              " -0.8861363929029036,\n",
              " -0.020169951217527973,\n",
              " -0.7342607905182801,\n",
              " 1.1877875802159354,\n",
              " -0.8650632326294471,\n",
              " -0.470300525525457,\n",
              " -1.0088383502181546,\n",
              " 1.4233100721269432,\n",
              " -1.5150917369849977,\n",
              " -1.5999087129577791,\n",
              " 1.434752908948697,\n",
              " 0.44070242152533806,\n",
              " -0.9058158590745076,\n",
              " -0.9252989136848544,\n",
              " 1.2688221912490754,\n",
              " -1.5188502767244172,\n",
              " -0.6954154624991578,\n",
              " 1.5347315001643114,\n",
              " -0.6177642012751899,\n",
              " -0.4143127795784785,\n",
              " 1.3001018294264786,\n",
              " 0.6386790563225628,\n",
              " -0.4659933605667165,\n",
              " -1.209834156550401,\n",
              " -0.28913799595525225,\n",
              " -0.939932240777354,\n",
              " -0.5740323981742081,\n",
              " 1.3702621951028469,\n",
              " 0.48409379991144763,\n",
              " 1.6643798524002198,\n",
              " -0.5427634720706798,\n",
              " -1.2707105295927739,\n",
              " 0.3955881756492322,\n",
              " -0.2924919384188344,\n",
              " -0.8698194149999751,\n",
              " 0.44305885860550653,\n",
              " -0.9546347465376682,\n",
              " 0.9901108122093129,\n",
              " -0.586971669963434,\n",
              " 1.5433899817295182,\n",
              " -1.4112284066607854,\n",
              " 0.3293413746119524,\n",
              " 1.6131430002095295,\n",
              " 1.4378067530956742,\n",
              " -1.3501933246636024,\n",
              " -0.9160956236466626,\n",
              " 1.3166013871811735,\n",
              " 0.7046381294138366,\n",
              " -0.5198678989014064,\n",
              " -1.2044452519685325,\n",
              " -0.7928296763203798,\n",
              " 1.0990049453588202,\n",
              " -1.2070007889801158,\n",
              " 0.7060237351318699,\n",
              " -0.6841893099650015,\n",
              " 0.7047266059566117,\n",
              " 0.3641441788044595,\n",
              " 0.868727627017652,\n",
              " 0.4165294551690444,\n",
              " 0.0025670148265285863,\n",
              " 1.7055668058746252,\n",
              " -0.9062296024202225,\n",
              " 0.8063909060042922,\n",
              " -1.4716688327936953,\n",
              " 0.8056254684873013,\n",
              " 0.7455873208229374,\n",
              " -0.5868823085501073,\n",
              " 1.3884248507256698,\n",
              " -1.1008835835277513,\n",
              " 1.1740051995458445,\n",
              " -0.8895104861733264,\n",
              " 0.000806181372698383,\n",
              " -0.8481646109924871,\n",
              " 0.5198344902200194,\n",
              " -1.373779400989558,\n",
              " -0.9944314595072667,\n",
              " 1.0305813430748463,\n",
              " -1.1068127058360449,\n",
              " 0.5035100131640124,\n",
              " 1.0419313788265163,\n",
              " -0.23862754509785375,\n",
              " 0.09538217022270844,\n",
              " 1.5955788694440207,\n",
              " 1.5914130043609322,\n",
              " 1.444224960970582,\n",
              " 0.620795128383457,\n",
              " 1.429759070350963,\n",
              " 1.618661578804069,\n",
              " 1.5697371556138158,\n",
              " 1.0959714128151783,\n",
              " -0.13942214281381787,\n",
              " -1.3719479717236258,\n",
              " -0.9063457437102795,\n",
              " -1.1935021899378215,\n",
              " 0.8709305487764376,\n",
              " -1.3980419485640314,\n",
              " -0.5573479200071463,\n",
              " -1.4384766488281824,\n",
              " -0.3148179873853111,\n",
              " 0.6174956155509634,\n",
              " 1.3575849895233179,\n",
              " 1.346404768310454,\n",
              " 1.6330840188889977,\n",
              " 0.8649363619129411,\n",
              " -0.6768687927387409,\n",
              " 1.1885187429985646,\n",
              " -1.409506978965875,\n",
              " 1.3306787787284742,\n",
              " 0.2881935677588175,\n",
              " -1.3150342113143407,\n",
              " -1.2002486783407982,\n",
              " -1.3440362401416432,\n",
              " -0.49071026651215266,\n",
              " 1.3120873136119766,\n",
              " 0.7385138678031007,\n",
              " 0.22573312297166814,\n",
              " -0.1671465538650657,\n",
              " -1.4945295573491266,\n",
              " -0.06031803656782531,\n",
              " -1.2322575467439507,\n",
              " -0.3741034796645428,\n",
              " -1.6403519699774445,\n",
              " -0.004997980555778896,\n",
              " -0.4780342533112141,\n",
              " -1.5287695444503997,\n",
              " -0.9387896880619315,\n",
              " -0.6780440726437857,\n",
              " -1.672949435547885,\n",
              " -0.5573234159391459,\n",
              " 0.8535824087387411,\n",
              " -1.1626158073583792,\n",
              " 1.0692917757042542,\n",
              " 0.10857415298038553,\n",
              " 1.0378519220052567,\n",
              " -0.26318196382098075,\n",
              " -0.8299548038813062,\n",
              " -0.8776045162812018,\n",
              " 1.3863318100481445,\n",
              " -0.06252007936805647,\n",
              " 1.721512452110789,\n",
              " -0.4690686521985851,\n",
              " 0.1282956978583019,\n",
              " 1.6329598442618936,\n",
              " -0.9728152204150979,\n",
              " -1.4075163312618644,\n",
              " -0.77733435672702,\n",
              " -0.3808859573304691,\n",
              " 1.710213110994941,\n",
              " -0.7237000937195155,\n",
              " 0.3586871442206508,\n",
              " 1.216186110628164,\n",
              " -0.116014258125371,\n",
              " 0.09851998905798386,\n",
              " 0.008694752690533039,\n",
              " 0.7763426767254009,\n",
              " -1.706305428244165,\n",
              " -1.006302266115302,\n",
              " -0.2984458856939265,\n",
              " -1.5201952552758744,\n",
              " 0.4640646432780991,\n",
              " 0.3487817186521907,\n",
              " 0.6920780965710447,\n",
              " -0.5798122101418226,\n",
              " 0.8129246226476716,\n",
              " -0.2922849361856086,\n",
              " -1.424804683889705,\n",
              " -0.46941019239992615,\n",
              " 1.6026360170787546,\n",
              " 1.0009956986218733,\n",
              " -0.6541257965715837,\n",
              " 1.3523963079804568,\n",
              " 0.3295271275912879,\n",
              " -0.39010204305305274,\n",
              " 0.07788522783854296,\n",
              " 1.4139156710706275,\n",
              " -0.05423382205225144,\n",
              " -1.153676754384601,\n",
              " 1.7657554220950347,\n",
              " 0.6473561086420279,\n",
              " -0.9052873764065166,\n",
              " -1.1478260865228835,\n",
              " -0.7997909866107829,\n",
              " 0.7654691921646339,\n",
              " -1.041906605505632,\n",
              " -0.5991154443386517,\n",
              " -0.9753472400282585,\n",
              " -1.332351547597203,\n",
              " -0.6775254219573872,\n",
              " -1.1189266637482915,\n",
              " -1.3872313823774214,\n",
              " 0.08375246194507914,\n",
              " 0.2279905264972816,\n",
              " 1.4072603460337398,\n",
              " 1.1560998623793908,\n",
              " 0.10395595640425968,\n",
              " 0.1704415117568965,\n",
              " -0.4203742668843323,\n",
              " -0.47503981638301424,\n",
              " -1.2443696476959798,\n",
              " 0.9276154014729652,\n",
              " 1.6515713877477618,\n",
              " 0.23983228793165942,\n",
              " -1.1120839246537584,\n",
              " -0.7436566679892981,\n",
              " 0.5913649163577346,\n",
              " -1.2034385129228566,\n",
              " 0.3472467907138475,\n",
              " -0.3599885842966153,\n",
              " -1.4360804732566064,\n",
              " 0.09650471326059089,\n",
              " -1.2278672472767926,\n",
              " 1.3034460931858962,\n",
              " 0.7373169603492018,\n",
              " 0.8314019029638758,\n",
              " 1.0462382485318302,\n",
              " 1.5683962982118744,\n",
              " 1.6829787695669003,\n",
              " 0.07297067862518451,\n",
              " 0.4490181542126519,\n",
              " -0.7212994363097996,\n",
              " -1.5329613970838556,\n",
              " -0.653327801812317,\n",
              " -0.41983816274662283,\n",
              " -0.7540057982145828,\n",
              " 1.057156079710979,\n",
              " 0.5661803480947384,\n",
              " -1.0334391133078802,\n",
              " 0.6530392636474268,\n",
              " -1.0767086071393401,\n",
              " -1.0599429230666273,\n",
              " -0.5064190090539475,\n",
              " -0.8281475229545264,\n",
              " -0.009479777952364614,\n",
              " 1.3967106086407783,\n",
              " 1.6167627197735046,\n",
              " 0.7721916948451665,\n",
              " -0.13321125992936514,\n",
              " -1.6861961548995061,\n",
              " 0.8559378795097835,\n",
              " -1.1568520111686833,\n",
              " 0.8144566423471592,\n",
              " 1.0184976625763313,\n",
              " -1.3131126762958822,\n",
              " -0.7756139276278076,\n",
              " -0.8217844128544384,\n",
              " -1.1513850812338502,\n",
              " -0.2295747005156918,\n",
              " -1.290953798845209,\n",
              " 0.3374293545386024,\n",
              " -0.40598503222172566,\n",
              " -0.6871818469036818,\n",
              " 0.5388482719700618,\n",
              " -0.77061615026668,\n",
              " 0.05411395207812421,\n",
              " 1.4856653964094384,\n",
              " -0.942333870406456,\n",
              " -0.6717750966019683,\n",
              " 0.12939211337044335,\n",
              " 1.1190858871111045,\n",
              " -0.6784713484466215,\n",
              " 0.9361674651964772,\n",
              " 0.5208246742367522,\n",
              " 0.5704814217172893,\n",
              " -0.7926004747211659,\n",
              " 0.5272721382370967,\n",
              " 0.8234537470536949,\n",
              " 0.15370557486629402,\n",
              " 0.1913929466847425,\n",
              " 0.5527528498061804,\n",
              " -0.7728802571431801,\n",
              " -0.8332597383011175,\n",
              " -1.1526741366530433,\n",
              " 1.193852958430194,\n",
              " -1.0647947384875878,\n",
              " 0.6228356297364518,\n",
              " -0.20701202572615107,\n",
              " 1.4809770367051682,\n",
              " -1.3060794457589624,\n",
              " 0.6542289547041238,\n",
              " 1.1889188470846517,\n",
              " 0.477469637044212,\n",
              " 0.03495877647965675,\n",
              " -0.8015701101021203,\n",
              " 1.6028530811565975,\n",
              " -0.5373899385135129,\n",
              " 1.0340803577691904,\n",
              " 1.4508932301096362,\n",
              " -1.4043731080993245,\n",
              " -0.4776111944562559,\n",
              " -0.4718877767130945,\n",
              " 1.2833838332967868,\n",
              " 0.47262533165687565,\n",
              " 1.9909634363199673,\n",
              " -0.6404103448429852,\n",
              " 0.7013964151644899,\n",
              " -0.9818734290530542,\n",
              " -0.7116787762475192,\n",
              " 1.1782661233708733,\n",
              " 0.5960495542264421,\n",
              " -0.5340350968209603,\n",
              " -0.6737501647506315,\n",
              " -0.07215619428530634,\n",
              " 1.1998813463468172,\n",
              " -1.219739716062087,\n",
              " -1.0456459417639024,\n",
              " -0.3311918865059202,\n",
              " -0.49618581502172854,\n",
              " -0.46629644860937736,\n",
              " -1.5454934727445304,\n",
              " -0.2753145908255367,\n",
              " 0.9216839494043155,\n",
              " -0.9012228071576863,\n",
              " 1.0298424673910953,\n",
              " -0.6672452185981262,\n",
              " -1.4162714561210537,\n",
              " -0.5372136027981038,\n",
              " -1.0769095149102506,\n",
              " 1.3080310803419994,\n",
              " 1.3379745712463358,\n",
              " -1.3127147856281773,\n",
              " -1.4116256245870469,\n",
              " -0.2549908710523118,\n",
              " -0.23024108281769642,\n",
              " 0.9528014421414424,\n",
              " -0.47726328894911374,\n",
              " -1.463395018205417,\n",
              " 0.1989270616552428,\n",
              " -0.3379107286008435,\n",
              " 1.03268947336675,\n",
              " -0.7952035796028833,\n",
              " 1.353565483078246,\n",
              " 0.7503808831316713,\n",
              " -0.24724679199130464,\n",
              " 1.1591338177050399,\n",
              " -0.16566270709397798,\n",
              " -0.5313842036351815,\n",
              " -0.13444462885815714,\n",
              " -0.6312106387036411,\n",
              " 0.6858294173052957,\n",
              " 0.04768256911535958,\n",
              " 0.08337333256426087,\n",
              " -0.7007823894306068,\n",
              " -0.7639610621319806,\n",
              " -0.3256497445580716,\n",
              " 0.304297823144151,\n",
              " -0.4131296333066713,\n",
              " 0.44007909055480504,\n",
              " 0.7280818704339543,\n",
              " 0.7223392080309146,\n",
              " 1.403785815554021,\n",
              " -0.45270962742152315,\n",
              " -0.9374915335114153,\n",
              " -0.8856426453135862,\n",
              " -0.925152046042712,\n",
              " -0.7166960702415587,\n",
              " -1.628025846280165,\n",
              " -0.1526594668015022,\n",
              " -0.9505360659627203,\n",
              " 1.109915875431408,\n",
              " 1.0263031350927645,\n",
              " 1.120708038719863,\n",
              " -1.0804213941070715,\n",
              " -0.9836391244493016,\n",
              " -1.286487009365743,\n",
              " -0.5688077565992651,\n",
              " -1.571333620179842,\n",
              " -0.8554747518406295,\n",
              " -0.5703443340354755,\n",
              " 0.9252420749326776,\n",
              " 1.2594594403116,\n",
              " 1.2344421457684487,\n",
              " 1.2532557104313184,\n",
              " -1.0661231401356064,\n",
              " 1.040216414209016,\n",
              " -0.31707514106290424,\n",
              " -0.43458926345368104,\n",
              " -0.6384060959593878,\n",
              " -0.6884143581037597,\n",
              " -1.0232552295139739,\n",
              " -0.03222620377099393,\n",
              " 0.29611505344471845,\n",
              " 0.5609531455064409,\n",
              " 1.33392458477265,\n",
              " -0.5602452214458898,\n",
              " -0.35478055321099566,\n",
              " -0.9685294472507717,\n",
              " -1.2286747906187074,\n",
              " 0.6145585875282877,\n",
              " -0.20619732790731207,\n",
              " 0.6139963527728385,\n",
              " 1.0016339503345328,\n",
              " -0.9085174899398277,\n",
              " -0.04833138150683901,\n",
              " 1.3359101561335422,\n",
              " 1.354429937437462,\n",
              " -0.8584863693086703,\n",
              " 0.19807198876624751,\n",
              " -1.0635169746620936,\n",
              " -1.149609357827318,\n",
              " -0.7924647716500671,\n",
              " -1.6521737054393353,\n",
              " -1.4772433159031568,\n",
              " 0.38439210493068443,\n",
              " -1.0997174977418427,\n",
              " 1.0542931349807438,\n",
              " -1.5753813101919916,\n",
              " 0.7792480259690843,\n",
              " -0.57938462190939,\n",
              " 0.13938807321527025,\n",
              " -0.7030513082832739,\n",
              " 1.1757313787698707,\n",
              " -1.027501227924844,\n",
              " 0.3454663037637422,\n",
              " -0.2696564557671639,\n",
              " 1.2215924972520236,\n",
              " 0.6549984030200839,\n",
              " 0.6168777844350797,\n",
              " -0.7834194824729823,\n",
              " 1.0725163465069216,\n",
              " -0.9303049483101123,\n",
              " -0.8210735906956048,\n",
              " -1.297456821753334,\n",
              " 1.3385481970770374,\n",
              " 0.43874572674901474,\n",
              " 0.7985745384538879,\n",
              " -1.2701845793833448,\n",
              " -0.44943959895216334,\n",
              " 0.4030631312047671,\n",
              " 0.881161811397239,\n",
              " -1.2913662019283467,\n",
              " 1.3795513338786314,\n",
              " -1.1138570043274167,\n",
              " 0.5956786682450843,\n",
              " -0.2586629883090965,\n",
              " -1.1907285422152787,\n",
              " 0.6182972518754571,\n",
              " -1.4795585592469975,\n",
              " 1.1836570788300784,\n",
              " -0.5462692532801601,\n",
              " -1.6913580697010653,\n",
              " -0.09535782126026386,\n",
              " 0.315306521883779,\n",
              " -0.5973133093964385,\n",
              " -0.43897194959497055,\n",
              " 1.301976779667583,\n",
              " 1.5885523374357258,\n",
              " 0.7803914579186152,\n",
              " 1.1925030864676487,\n",
              " 1.329859682313435,\n",
              " 1.0330701038089436,\n",
              " 0.6784877676091827,\n",
              " 1.35387434064806,\n",
              " 0.4000519656526419,\n",
              " -0.8333978110394458,\n",
              " 0.8984186930897309,\n",
              " 0.8550259305157476,\n",
              " 0.511734368404487,\n",
              " -0.7579718471831665,\n",
              " -1.6465814058266421,\n",
              " -1.4996721148300274,\n",
              " -1.3172582672080984,\n",
              " 1.3947086237346547,\n",
              " -0.9829454228055875,\n",
              " -1.491861091189825,\n",
              " 1.5350119851768256,\n",
              " 1.0857359005087617,\n",
              " 1.063384367972036,\n",
              " 0.6507186840027751,\n",
              " 1.1803959790106586,\n",
              " 0.35377263884985594,\n",
              " -1.40548589479586,\n",
              " -1.4871939370636786,\n",
              " -0.8562584784007293,\n",
              " -0.6606632986364381,\n",
              " -1.047774037052691,\n",
              " -0.015532494544186037,\n",
              " 0.4136516422078516,\n",
              " -0.4896962574744703,\n",
              " -1.286751426846997,\n",
              " -0.3750313818069604,\n",
              " -0.4660208746283747,\n",
              " 0.9747819835292207,\n",
              " 0.47430009696753533,\n",
              " -0.9403954077177006,\n",
              " -1.250596626523697,\n",
              " -1.3574932410020366,\n",
              " -0.8960565480862998,\n",
              " -1.4553083101170734,\n",
              " 0.7092209851183491,\n",
              " -1.220708708945474,\n",
              " -1.902371353393112,\n",
              " -0.38974968713975433,\n",
              " -0.8912933121560636,\n",
              " -1.6639975348369522,\n",
              " -0.9353352920645832,\n",
              " 1.6571810969039207,\n",
              " -1.4777651616913936,\n",
              " -0.42599262917342984,\n",
              " 0.8416071329450843,\n",
              " -0.5093997074447343,\n",
              " -1.5380324131732377,\n",
              " 0.4987229755665155,\n",
              " 1.7357053714015782,\n",
              " -1.6009621267617025,\n",
              " -0.8630799962648769,\n",
              " -1.0612849747457895,\n",
              " 1.5073987732589877,\n",
              " 0.3010001494807226,\n",
              " -1.5728932943379001,\n",
              " 0.17430771246954055,\n",
              " -0.8311582962912719,\n",
              " -0.5294005249512671,\n",
              " -0.6931118768122676,\n",
              " 1.0129163335924796,\n",
              " -0.13317278836959773,\n",
              " -1.3005188951443734,\n",
              " 1.1196699384067863,\n",
              " 0.719577859635252,\n",
              " 0.013406565783564845,\n",
              " 1.71602752010555,\n",
              " 1.5854426473266938,\n",
              " -1.2162328218489034,\n",
              " -0.5730976277201602,\n",
              " 0.9140929631091212,\n",
              " -1.2826377360430754,\n",
              " ...]"
            ]
          },
          "metadata": {},
          "execution_count": 20
        }
      ],
      "source": [
        "predict(features, intercept, coefficients ) # Calling the predict function"
      ]
    },
    {
      "cell_type": "markdown",
      "id": "rolled-consultancy",
      "metadata": {
        "id": "rolled-consultancy"
      },
      "source": [
        "#### Exercise 10: Root mean squared error (1 point)\n",
        "\n",
        "Write a function to calculate the RMSE error.\n",
        "\n",
        "**Hint:**\n",
        "\n",
        "- [How to calculate the RSME error](https://towardsdatascience.com/what-does-rmse-really-mean-806b65f2e48e)"
      ]
    },
    {
      "cell_type": "code",
      "execution_count": 21,
      "id": "phantom-alabama",
      "metadata": {
        "id": "phantom-alabama",
        "scrolled": true
      },
      "outputs": [],
      "source": [
        "# function to calculate the error\n",
        "def rmse(actual, predicted):\n",
        "        # To store the value\n",
        "        sum_err = 0.0\n",
        "        # iterating over the actual values\n",
        "        for i in range(len(actual)):\n",
        "            # calculating mean squared error\n",
        "            pred_err = predicted[i] - actual[i]\n",
        "            sum_err += pred_err ** 2\n",
        "        mean_err = sum_err / float(len(actual))\n",
        "        # squaring the mean squared error to get the RMSE error value\n",
        "        return sqrt(mean_err)"
      ]
    },
    {
      "cell_type": "markdown",
      "id": "experimental-discrimination",
      "metadata": {
        "id": "experimental-discrimination"
      },
      "source": [
        "#### Exercise 11: Split the data into train and test (1 point)\n",
        "\n",
        "Write a function named train_test_split which takes features and targets as input and returns the train and test sets respectively.\n",
        "\n",
        "**Hint:**\n",
        "\n",
        "- Shuffle the data\n",
        "- Consider 70 % of data as a train set and the rest of the data as a test set"
      ]
    },
    {
      "cell_type": "code",
      "execution_count": 22,
      "id": "dangerous-salmon",
      "metadata": {
        "id": "dangerous-salmon",
        "scrolled": true
      },
      "outputs": [],
      "source": [
        "# Divide the data into 70% train set and 30% test set\n",
        "def train_test_split(features_X , expected_target_Y ):\n",
        "    #Randomly pick 70% 0f the data\n",
        "    set_of_data = np.random.rand(len(features_X)) <= 0.7\n",
        "    X_train = features_X[set_of_data] # Training features set\n",
        "    Y_train = expected_target_Y[set_of_data] # target train set\n",
        "    #the remaining 30% is for the test set\n",
        "    X_test  = features_X[~set_of_data] # Test features set\n",
        "    Y_test  = expected_target_Y[~set_of_data] # target test sets\n",
        "    # Returning the train features set, train targets set, test features sets, test target sets\n",
        "    return X_train, X_test, Y_train, Y_test"
      ]
    },
    {
      "cell_type": "markdown",
      "id": "lLR4ELZOIehN",
      "metadata": {
        "id": "lLR4ELZOIehN"
      },
      "source": [
        "#### Exercise 12: Implement predict using OpenMP (1 point)\n",
        "\n",
        "Get the predictions for test data and calculate the test error(RMSE) by implementing the OpenMP (pymp)\n",
        "\n",
        "**Hints:**\n",
        "\n",
        "* Using the pymp.Parallel implement the predict function (use from above)\n",
        "\n",
        "* Call the predict function by passing test data as an argument\n",
        "\n",
        "* calculate the error (RMSE) by comparing the Actual test data and predicted test data"
      ]
    },
    {
      "cell_type": "code",
      "execution_count": 23,
      "id": "X_65P0TxIyYM",
      "metadata": {
        "id": "X_65P0TxIyYM",
        "colab": {
          "base_uri": "https://localhost:8080/"
        },
        "outputId": "31977b20-e329-4ff4-f2ae-cc21d3155996"
      },
      "outputs": [
        {
          "output_type": "stream",
          "name": "stdout",
          "text": [
            "Collecting pymp-pypi\n",
            "  Downloading pymp-pypi-0.5.0.tar.gz (12 kB)\n",
            "  Preparing metadata (setup.py) ... \u001b[?25l\u001b[?25hdone\n",
            "Building wheels for collected packages: pymp-pypi\n",
            "  Building wheel for pymp-pypi (setup.py) ... \u001b[?25l\u001b[?25hdone\n",
            "  Created wheel for pymp-pypi: filename=pymp_pypi-0.5.0-py3-none-any.whl size=10316 sha256=bc59d6b2ce714afeb9ad7d45af70e481df8984116e3318b13a8f0bdaed7599d4\n",
            "  Stored in directory: /root/.cache/pip/wheels/5e/db/4b/4c02f5b91b1abcde14433d1b336ac00a09761383e7bb1013cf\n",
            "Successfully built pymp-pypi\n",
            "Installing collected packages: pymp-pypi\n",
            "Successfully installed pymp-pypi-0.5.0\n"
          ]
        }
      ],
      "source": [
        "!pip install pymp-pypi"
      ]
    },
    {
      "cell_type": "code",
      "execution_count": 24,
      "id": "tYh3pq9oI70J",
      "metadata": {
        "id": "tYh3pq9oI70J"
      },
      "outputs": [],
      "source": [
        "import pymp\n",
        "def predict(x, intercept, coefficients):\n",
        "    '''\n",
        "    y = b_0 + b_1*x + ... + b_i*x_i\n",
        "    '''\n",
        "    st = time.perf_counter()\n",
        "    predictions = pymp.shared.array(Y_test.shape) # Defining empty list to store the predicted values\n",
        "    with pymp.Parallel(4) as p:\n",
        "      for index in p.range(len(x)): # iterating over features\n",
        "          values = x[index] # converting eaach row into a array\n",
        "          pred = np.multiply(values, coefficients) # multiply the coefficients with the features values\n",
        "          pred = sum(pred) # storing the sum of each features\n",
        "          pred += intercept # finally adding the intercept value\n",
        "          predictions[index]= pred # appending the values to the list\n",
        "    # returning the predictions\n",
        "    print(time.perf_counter() - st)\n",
        "\n",
        "    return predictions"
      ]
    },
    {
      "cell_type": "code",
      "execution_count": 25,
      "id": "HM1azKJFLV7_",
      "metadata": {
        "id": "HM1azKJFLV7_"
      },
      "outputs": [],
      "source": [
        "X_train, X_test, Y_train, Y_test =  train_test_split(features, target)"
      ]
    },
    {
      "cell_type": "code",
      "execution_count": 26,
      "id": "OpNpVHFQLMgC",
      "metadata": {
        "id": "OpNpVHFQLMgC",
        "colab": {
          "base_uri": "https://localhost:8080/"
        },
        "outputId": "0ec0c8f0-ceea-4db9-8fb9-9c4815f0aa8b"
      },
      "outputs": [
        {
          "output_type": "stream",
          "name": "stdout",
          "text": [
            "[[ 1.         -1.5177822  -1.06514933 -0.40733563  1.14388457]\n",
            " [ 1.          0.53522753  0.32925964 -0.31304022  0.06102779]\n",
            " [ 1.         -0.07799172 -0.36322337 -1.01688805  0.23842179]\n",
            " ...\n",
            " [ 1.         -0.6080171  -0.42381563 -0.24568636 -0.02595691]\n",
            " [ 1.          1.84620171  1.86059139 -0.49826334 -0.93073477]\n",
            " [ 1.         -0.26853249  0.43785357  0.89596154  1.46168694]]\n"
          ]
        }
      ],
      "source": [
        "# fit the data with x, y to calculate the coefficients\n",
        "b0_openmp, new_coefficients_openmp = fit(X_train, Y_train)"
      ]
    },
    {
      "cell_type": "code",
      "execution_count": 27,
      "id": "xQeibuzrJCKb",
      "metadata": {
        "id": "xQeibuzrJCKb",
        "colab": {
          "base_uri": "https://localhost:8080/"
        },
        "outputId": "ef47d05d-e047-4592-eb60-0ced335a7306"
      },
      "outputs": [
        {
          "output_type": "stream",
          "name": "stdout",
          "text": [
            "0.492420372999959\n",
            "Test set error(RMSE) is 0.2696607275199812\n"
          ]
        }
      ],
      "source": [
        "# predicting the test data\n",
        "test_predictions = np.array(predict(X_test.values, b0_openmp, new_coefficients_openmp))\n",
        "\n",
        "# calculating the error\n",
        "print(\"Test set error(RMSE) is {}\" .format(rmse(Y_test.values, test_predictions)))"
      ]
    },
    {
      "cell_type": "markdown",
      "id": "covered-canon",
      "metadata": {
        "id": "covered-canon"
      },
      "source": [
        "#### Exercise 13: Create a communicator (1 point)\n",
        "\n",
        "Create a comunicator and define the rank and size"
      ]
    },
    {
      "cell_type": "code",
      "execution_count": 28,
      "id": "radio-origin",
      "metadata": {
        "id": "radio-origin",
        "scrolled": true
      },
      "outputs": [],
      "source": [
        "# Initialize communicator\n",
        "comm = MPI.COMM_WORLD\n",
        "# ID of the current worker\n",
        "rank = comm.Get_rank()\n",
        "# Rank ID of sender\n",
        "status = MPI.Status()\n",
        "# Number of workers\n",
        "size = comm.Get_size()\n",
        "root = 0   # Root\n",
        "# to calculate time\n",
        "t_start = 0\n",
        "t_diff = 0"
      ]
    },
    {
      "cell_type": "markdown",
      "id": "miniature-plaza",
      "metadata": {
        "id": "miniature-plaza"
      },
      "source": [
        "#### Exercise 14: Divide the data into slices (1 point)\n",
        "\n",
        "Write a function named dividing_data which takes train features set, train target set, and size of workers as inputs and returns the sliced data for each worker.\n",
        "\n",
        "![img](https://cdn.iisc.talentsprint.com/CDS/Images/MiniProject_MPI_DataSlice.JPG)\n",
        "\n",
        "For Example, if there are 4 processes, slice the data into 4 equal parts with 25% ratio\n",
        "\n",
        "**Hint:**\n",
        "\n",
        "- Divide the Data equally among the workers\n",
        "  - Create an empty list\n",
        "  - Iterate over the size of workers\n",
        "  - Append each slice of data to the list"
      ]
    },
    {
      "cell_type": "code",
      "execution_count": 29,
      "id": "signal-medicaid",
      "metadata": {
        "id": "signal-medicaid",
        "scrolled": true
      },
      "outputs": [],
      "source": [
        "def dividing_data(x_train, y_train, size_of_workers):\n",
        "    #Divide the data among the workers\n",
        "    slice_for_each_worker = int(Decimal(x_train.shape[0]/size_of_workers).quantize(Decimal('1.'), rounding = ROUND_HALF_UP))\n",
        "    print('Slice of data for each worker: {}'.format(slice_for_each_worker))\n",
        "    x_data_for_worker = []\n",
        "    y_data_for_worker = []\n",
        "    for i in range(0,size_of_workers):\n",
        "        if i < size_of_workers - 1:\n",
        "            x_data_for_worker.append(x_train[slice_for_each_worker*i:slice_for_each_worker*(i+1)])\n",
        "            y_data_for_worker.append(y_train[slice_for_each_worker*i:slice_for_each_worker*(i+1)])\n",
        "        else:\n",
        "            x_data_for_worker.append(x_train[slice_for_each_worker*i:])\n",
        "            y_data_for_worker.append(y_train[slice_for_each_worker*i:])\n",
        "    return x_data_for_worker, y_data_for_worker\n",
        "\n",
        "# Alternate way is to use np.split()"
      ]
    },
    {
      "cell_type": "markdown",
      "id": "changing-conditioning",
      "metadata": {
        "id": "changing-conditioning"
      },
      "source": [
        "#### Exercise 15: Prepare the data in root worker to assign data for all the workers (1 point)\n",
        "\n",
        "- When it is the root worker, perform the below operation:\n",
        "    - Store the features and target values in separate variables\n",
        "    - Split the data into train and test sets using the train_test_split function defined above\n",
        "    - Divide the data among the workers using the dividing_data function above"
      ]
    },
    {
      "cell_type": "code",
      "execution_count": 30,
      "id": "hybrid-tamil",
      "metadata": {
        "id": "hybrid-tamil",
        "scrolled": true,
        "colab": {
          "base_uri": "https://localhost:8080/"
        },
        "outputId": "d9f339fe-6c8b-44ed-b572-b50b893a9c93"
      },
      "outputs": [
        {
          "output_type": "stream",
          "name": "stdout",
          "text": [
            "Slice of data for each worker: 6681\n"
          ]
        }
      ],
      "source": [
        "if rank == root:\n",
        "    t_start = MPI.Wtime()\n",
        "    # Splitting the data into train and test\n",
        "    X_train, X_test, Y_train, Y_test =  train_test_split(features, target)\n",
        "    #Divide the data among the workers\n",
        "    x_data_for_worker, y_data_for_worker = dividing_data(X_train, Y_train, size)\n",
        "wt = MPI.Wtime()"
      ]
    },
    {
      "cell_type": "markdown",
      "id": "breathing-baking",
      "metadata": {
        "id": "breathing-baking"
      },
      "source": [
        "#### Exercise 16: Scatter and gather the data (1 point)\n",
        "\n",
        "Perform the below operations:\n",
        "\n",
        "- Send slices of the training set(the features data X and the expected target data Y) to every worker including the root worker\n",
        "    - **Hint:** scatter()\n",
        "    - use `barrier()` to block workers until all workers in the group reach a Barrier, to scatter from root worker.\n",
        "- Every worker should get the predicted target Y(yhat) for each slice\n",
        "- Get the new coefficient of each instance in a slice\n",
        "    - **Hint:** fit function defined above\n",
        "- Gather the new coefficient from each worker\n",
        "    - **Hint:** gather()\n",
        "    - Take the mean of the gathered coefficients\n",
        "- Calculate the root mean square error for the test set\n",
        "\n",
        "To know more about `scatter`, `gather` and `barrier` click [here](https://nyu-cds.github.io/python-mpi/05-collectives/)"
      ]
    },
    {
      "cell_type": "code",
      "execution_count": 31,
      "id": "consistent-union",
      "metadata": {
        "id": "consistent-union",
        "scrolled": true
      },
      "outputs": [],
      "source": [
        "# Send the slice of data to work on to each worker\n",
        "sliced_features_X_train = comm.scatter(x_data_for_worker, root = root)\n",
        "sliced_expected_target_Y_train = comm.scatter(y_data_for_worker, root = root)\n",
        "Xm = sliced_features_X_train.values\n",
        "ym = sliced_expected_target_Y_train.values"
      ]
    },
    {
      "cell_type": "code",
      "execution_count": 32,
      "id": "educated-spiritual",
      "metadata": {
        "id": "educated-spiritual",
        "scrolled": true,
        "colab": {
          "base_uri": "https://localhost:8080/"
        },
        "outputId": "615bc9ee-4f72-4a5a-807b-3e8e8f0013ef"
      },
      "outputs": [
        {
          "output_type": "execute_result",
          "data": {
            "text/plain": [
              "((6681, 4), (6681,))"
            ]
          },
          "metadata": {},
          "execution_count": 32
        }
      ],
      "source": [
        "# checking the shape of features and target received scatter\n",
        "Xm.shape, ym.shape"
      ]
    },
    {
      "cell_type": "code",
      "execution_count": 33,
      "id": "animal-mercy",
      "metadata": {
        "id": "animal-mercy",
        "scrolled": true,
        "colab": {
          "base_uri": "https://localhost:8080/"
        },
        "outputId": "c328338d-7981-46cd-97ec-590e247059ff"
      },
      "outputs": [
        {
          "output_type": "stream",
          "name": "stdout",
          "text": [
            "[[ 1.          0.53522753  0.32925964 -0.31304022  0.06102779]\n",
            " [ 1.          1.35374774  0.20414055 -1.02867497 -2.15057533]\n",
            " [ 1.         -0.07799172 -0.36322337 -1.01688805  0.23842179]\n",
            " ...\n",
            " [ 1.          1.84620171  1.86059139 -0.49826334 -0.93073477]\n",
            " [ 1.         -0.49127733 -0.86291282  0.15843679  0.36650162]\n",
            " [ 1.         -0.26853249  0.43785357  0.89596154  1.46168694]]\n"
          ]
        }
      ],
      "source": [
        "# fit the data with x, y to calculate the coefficients\n",
        "b0, new_coefficients = fit(Xm, ym)"
      ]
    },
    {
      "cell_type": "code",
      "execution_count": 34,
      "id": "specialized-temple",
      "metadata": {
        "id": "specialized-temple",
        "scrolled": true,
        "colab": {
          "base_uri": "https://localhost:8080/"
        },
        "outputId": "6995c6f1-6d69-4146-9d08-f8ee5d710060"
      },
      "outputs": [
        {
          "output_type": "execute_result",
          "data": {
            "text/plain": [
              "(-0.0015997899499831762,\n",
              " array([-0.86761405, -0.16999414,  0.0197517 , -0.133663  ]))"
            ]
          },
          "metadata": {},
          "execution_count": 34
        }
      ],
      "source": [
        "b0, new_coefficients"
      ]
    },
    {
      "cell_type": "markdown",
      "id": "exterior-armor",
      "metadata": {
        "id": "exterior-armor"
      },
      "source": [
        "#### Predict the output using the new coefficients"
      ]
    },
    {
      "cell_type": "code",
      "execution_count": 35,
      "id": "2tPhEfV_PLpX",
      "metadata": {
        "id": "2tPhEfV_PLpX"
      },
      "outputs": [],
      "source": [
        "# fucntion to predict the values\n",
        "def predict(x, intercept, coefficients):\n",
        "    '''\n",
        "    y = b_0 + b_1*x + ... + b_i*x_i\n",
        "    '''\n",
        "    predictions = [] # Defining empty list to store the predicted values\n",
        "    for index, row in x.iterrows(): # iterating over features\n",
        "        values = row.values # converting each row into a array\n",
        "        pred = np.multiply(values, coefficients) # multiply the coefficients with the features values\n",
        "        pred = sum(pred) # storing the sum of each features\n",
        "        pred += intercept # finally adding the intercept value\n",
        "        predictions.append(pred) # appending the values to the list\n",
        "    # returning the predictions\n",
        "    return predictions"
      ]
    },
    {
      "cell_type": "code",
      "execution_count": 36,
      "id": "waiting-sugar",
      "metadata": {
        "id": "waiting-sugar",
        "scrolled": true
      },
      "outputs": [],
      "source": [
        "predicted_y_sliced = predict(sliced_features_X_train, b0, new_coefficients)"
      ]
    },
    {
      "cell_type": "markdown",
      "id": "legitimate-burden",
      "metadata": {
        "id": "legitimate-burden"
      },
      "source": [
        "#### Gather the new coefficients and calculate the error on train and test data"
      ]
    },
    {
      "cell_type": "code",
      "execution_count": 37,
      "id": "julian-yemen",
      "metadata": {
        "id": "julian-yemen",
        "scrolled": true,
        "colab": {
          "base_uri": "https://localhost:8080/"
        },
        "outputId": "4afc6160-ac6e-46aa-db2a-0d92b490559f"
      },
      "outputs": [
        {
          "output_type": "stream",
          "name": "stdout",
          "text": [
            "Test set error(RMSE) is 0.26861091331568576\n",
            "Process 0: 33.81012303 secs.\n"
          ]
        }
      ],
      "source": [
        "# Gather the new coeffiecient for each slice of the training data\n",
        "gather_new_coefficients = pd.DataFrame(comm.gather(new_coefficients, root=0))\n",
        "comm.barrier()\n",
        "if rank == root:\n",
        "    coef = gather_new_coefficients.mean()\n",
        "    #print(coef)\n",
        "    predicted_y = predict(X_test, intercept, coef)\n",
        "    print(\"Test set error(RMSE) is {}\" .format(rmse(Y_test.values, np.array(predicted_y))))\n",
        "    #print(\"Train set error(RMSE) is {}\" .format( rmse(Y_train.values, np.array(predicted_y_sliced))))\n",
        "t_diff = MPI.Wtime() - t_start\n",
        "print('Process {}: {} secs.' .format(rank,t_diff))"
      ]
    },
    {
      "cell_type": "markdown",
      "id": "hired-uniform",
      "metadata": {
        "id": "hired-uniform"
      },
      "source": [
        "#### Exercise 17: Make a script and execute everything in one place (1 point)\n",
        "\n",
        "Write a script(.py) file which contains the code of all the above exercises in it so that you can run the code on multiple processes using MPI.\n",
        "\n",
        "**Hint:**\n",
        "\n",
        "- magic commands\n",
        "- put MPI related code under main function\n",
        "- !mpirun --allow-run-as-root -np 4 python filename.py"
      ]
    },
    {
      "cell_type": "code",
      "execution_count": 38,
      "id": "bottom-assessment",
      "metadata": {
        "id": "bottom-assessment",
        "scrolled": true,
        "colab": {
          "base_uri": "https://localhost:8080/"
        },
        "outputId": "2395fb27-c245-4750-e96e-5fb7f79feaa6"
      },
      "outputs": [
        {
          "output_type": "stream",
          "name": "stdout",
          "text": [
            "Writing mlrMPI.py\n"
          ]
        }
      ],
      "source": [
        "%%writefile mlrMPI.py\n",
        "\n",
        "import pandas as pd # Importing pandas package under a name pd\n",
        "import numpy as np # Importing Numpy package under a name np\n",
        "from mpi4py import MPI # Importing MPI fro mpi4py package\n",
        "from math import sqrt # Importing sqrt function from the Math package\n",
        "from decimal import Decimal, ROUND_HALF_UP # Importing Decimal, ROUND_HALF_UP functions from the decimal package\n",
        "\n",
        "FILENAME = \"/content/PowerPlantData.csv\" # Storing File path\n",
        "# Defining a function to load the data\n",
        "def loadData(filename):\n",
        "    # Loading the dataset with column names as\n",
        "    data = pd.read_csv(filename, header=0 , names = ['AmbientTemperature', 'ExhaustVaccum', 'AmbientPressure', 'RelativeHumidity', 'EnergyOutput'])\n",
        "    # Returning the dataframe\n",
        "    return data\n",
        "# Calling the function loadData and storing the dataframe in a variable named df\n",
        "df = loadData(FILENAME)\n",
        "\n",
        " # Defining a function\n",
        "def exploreData(data):\n",
        "    print(data.shape) # Checking for number of rows and columns\n",
        "    print(data.describe()) # Summary of the data\n",
        "    print(data.isna()) # Checking for the null values in the data\n",
        "    print(sum(data.duplicated()))  # Checking for the duplicate values in the data\n",
        " # Function to handle missing data\n",
        "def handleMissingData(data):\n",
        "    data = data.dropna() # dropping the records containing null values using dropna function\n",
        "    # returning the dataframe after dropping the values\n",
        "    return data\n",
        "\n",
        "newdf = handleMissingData(df) # storing the data after removing the null values from it\n",
        "\n",
        " # Defining a function to standardization the data\n",
        "def standardizeData(dataFile):\n",
        "    # Applying standardize formula\n",
        "    dataFile = (dataFile - dataFile.mean()) / dataFile.std()\n",
        "    # returning the standardization data\n",
        "    return dataFile\n",
        "\n",
        "ScaledData = standardizeData(newdf) # Storing the data after applying normalization on the data\n",
        "\n",
        "# Function which returns features and target variables\n",
        "def FeatureSelector(data,target_name):\n",
        "    target = data[target_name] # Storing the target values\n",
        "    features = data.drop([target_name],axis=1) # Storing the features by dropping the target variable column\n",
        "    return features, target # Returning the features and target\n",
        "\n",
        "features, target = FeatureSelector(ScaledData,'EnergyOutput') # Storing the features and targets in variables respectively\n",
        "\n",
        " # Calculating the coefficients\n",
        "def estimatedCoefficients(x, y):\n",
        "    # Implementing above formula\n",
        "    xT = x.transpose() # Transpose of x\n",
        "    inversed = np.linalg.inv( xT.dot(x) ) # Inverse of a matrix\n",
        "    coefficients = inversed.dot( xT ).dot(y) # performing final dot operation\n",
        "    # Returning the coefficients\n",
        "    return coefficients\n",
        "\n",
        " # function to add dummy column into features dataframe and converting it into numpy array\n",
        "def dummyvariable(features):\n",
        "    # create a array of ones\n",
        "    m = np.ones((features.shape[0],1))\n",
        "    # combining the array of ones with features array\n",
        "    f = np.concatenate((m,features),axis=1)\n",
        "    # returning the features array\n",
        "    return f\n",
        "\n",
        " # defining a fit function\n",
        "def fit(x, y):\n",
        "    # prepare x and y values for coefficient estimates\n",
        "    x = dummyvariable(x) # adding a dummy column\n",
        "    # y = y.values\n",
        "    betas = estimatedCoefficients(x, y) # calculating the estimated coefficients\n",
        "    # intercept becomes a vector of ones\n",
        "    intercept = betas[0]\n",
        "    # coefficients becomes the rest of the betas\n",
        "    coefficients = betas[1:]\n",
        "    # returning the intercept and coefficients\n",
        "    return intercept, coefficients\n",
        "\n",
        "intercept, coefficients = fit(features, target) # fitting the data and calculating the intercept and coefficients\n",
        "\n",
        "  # function to predict the values\n",
        "def predict(x, intercept, coefficients):\n",
        "    '''\n",
        "    y = b_0 + b_1*x + ... + b_i*x_i\n",
        "    '''\n",
        "    predictions = [] # Defining empty list to store the predicted values\n",
        "    for index, row in x.iterrows(): # iterating over features\n",
        "        values = row.values # converting eaach row into a array\n",
        "        pred = np.multiply(values, coefficients) # multiply the coefficients with the features values\n",
        "        pred = sum(pred) # storing the sum of each features\n",
        "        pred += intercept # finally adding the intercept value\n",
        "        predictions.append(pred) # appending the values to the list\n",
        "    # returning the predictions\n",
        "    return predictions\n",
        "\n",
        " # function to calculate the error\n",
        "def rmse(actual, predicted):\n",
        "        # To store the value\n",
        "        sum_err = 0.0\n",
        "        # iterating over the actual values\n",
        "        for i in range(len(actual)):\n",
        "            # calculating mean squared error\n",
        "            pred_err = predicted[i] - actual[i]\n",
        "            sum_err += pred_err ** 2\n",
        "        mean_err = sum_err / float(len(actual))\n",
        "        # squaring the mean squared error to get the RMSE error value\n",
        "        return sqrt(mean_err)\n",
        "\n",
        " # Divide the data into 70% train set and 30% test set\n",
        "def train_test_split(features_X , expected_target_Y ):\n",
        "    #Randomly pick 70% 0f the data\n",
        "    set_of_data = np.random.rand(len(features_X)) <= 0.7\n",
        "    X_train = features_X[set_of_data] # Training features set\n",
        "    Y_train = expected_target_Y[set_of_data] # target train set\n",
        "    #the remaining 30% is for the test set\n",
        "    X_test  = features_X[~set_of_data] # Test features set\n",
        "    Y_test  = expected_target_Y[~set_of_data] # target test sets\n",
        "    # Returning the train features set, train targets set, test features sets, test target sets\n",
        "    return X_train, X_test, Y_train, Y_test\n",
        "\n",
        "def dividing_data(x_train, y_train, size_of_workers):\n",
        "    #Divide the data among the workers\n",
        "    slice_for_each_worker = int(Decimal(x_train.shape[0]/size_of_workers).quantize(Decimal('1.'), rounding = ROUND_HALF_UP))\n",
        "    print('Slice of data for each worker: {}'.format(slice_for_each_worker))\n",
        "    x_data_for_worker = []\n",
        "    y_data_for_worker = []\n",
        "    for i in range(0,size_of_workers):\n",
        "        if i < size_of_workers - 1:\n",
        "            x_data_for_worker.append(x_train[slice_for_each_worker*i:slice_for_each_worker*(i+1)])\n",
        "            y_data_for_worker.append(y_train[slice_for_each_worker*i:slice_for_each_worker*(i+1)])\n",
        "        else:\n",
        "            x_data_for_worker.append(x_train[slice_for_each_worker*i:])\n",
        "            y_data_for_worker.append(y_train[slice_for_each_worker*i:])\n",
        "    return x_data_for_worker, y_data_for_worker\n",
        "\n",
        "def main():\n",
        "    comm = MPI.COMM_WORLD                       # Initialize communicator\n",
        "    rank = comm.Get_rank()                        # ID of the cureent worker\n",
        "    status = MPI.Status()                       # Rank ID of sender\n",
        "    size = comm.Get_size()                      # Number odf workers\n",
        "    root = 0   # Root\n",
        "    x_data_for_worker, y_data_for_worker = [], []\n",
        "    if rank == root:\n",
        "        # Splitting the data into train and test\n",
        "        X_train, X_test, Y_train, Y_test =  train_test_split(features, target)\n",
        "        #Divide the data among the workers\n",
        "        x_data_for_worker, y_data_for_worker = dividing_data(X_train, Y_train, size)\n",
        "\n",
        "    # Send the slice of data to work on to each worker\n",
        "    sliced_features_X_train = comm.scatter(x_data_for_worker, root = root)\n",
        "    sliced_expected_target_Y_train = comm.scatter(y_data_for_worker, root = root)\n",
        "    Xm = sliced_features_X_train.values\n",
        "    ym = sliced_expected_target_Y_train.values\n",
        "    # fit the data with x, y to calculate the coefficients\n",
        "    b0, new_coefficients = fit(Xm, ym)\n",
        "    ##predicted_y_sliced = predict(sliced_features_X_train, b0, new_coefficients)\n",
        "    # Gather the new coeffiecient for each slice of the training data\n",
        "    gather_new_coefficients = pd.DataFrame(comm.gather(new_coefficients, root=0))\n",
        "    comm.barrier()\n",
        "    if rank == root:\n",
        "        coef = gather_new_coefficients.mean()\n",
        "        #print(coef)\n",
        "        predicted_y = predict(X_test, intercept, coef)\n",
        "        print(\"Test set error(RMSE) is {}\" .format(rmse(Y_test.values, np.array(predicted_y))))\n",
        "\n",
        "main()"
      ]
    },
    {
      "cell_type": "code",
      "execution_count": 39,
      "id": "experimental-waterproof",
      "metadata": {
        "id": "experimental-waterproof",
        "scrolled": true
      },
      "outputs": [],
      "source": [
        "!mpirun --allow-run-as-root -np 4 python mlrMPI.py"
      ]
    },
    {
      "cell_type": "markdown",
      "id": "mhPRoQhL-OVu",
      "metadata": {
        "id": "mhPRoQhL-OVu"
      },
      "source": [
        "Note: In case any issue is encountered while executing MPI file then please copy only the MPI related code in the new notebook and execute."
      ]
    },
    {
      "cell_type": "markdown",
      "id": "protecting-assets",
      "metadata": {
        "id": "protecting-assets"
      },
      "source": [
        "#### Exercise 18: Use Sklearn to compare (1 point)\n",
        "\n",
        "Apply the Linear regression on the given data using sklearn package and compare with the above results\n",
        "\n",
        "**Hint:**\n",
        "* Split the data into train and test\n",
        "* Fit the train data and predict the test data using `sklearn Linear Regression`\n",
        "* Compare the coefficients and intercept with above estimated coefficients\n",
        "* calculate loss (RMSE) on test data and predictions and compare"
      ]
    },
    {
      "cell_type": "code",
      "execution_count": 40,
      "id": "alternate-constraint",
      "metadata": {
        "id": "alternate-constraint",
        "scrolled": true
      },
      "outputs": [],
      "source": [
        "xtrain, xtest, ytrain, ytest = train_test_split(features, target)"
      ]
    },
    {
      "cell_type": "code",
      "execution_count": 41,
      "id": "consecutive-zealand",
      "metadata": {
        "id": "consecutive-zealand",
        "scrolled": true
      },
      "outputs": [],
      "source": [
        "from sklearn.linear_model import LinearRegression\n",
        "\n",
        "reg = LinearRegression()\n",
        "reg.fit(xtrain, ytrain)\n",
        "predictions = reg.predict(xtest)"
      ]
    },
    {
      "cell_type": "code",
      "execution_count": 42,
      "id": "compound-papua",
      "metadata": {
        "id": "compound-papua",
        "scrolled": true,
        "colab": {
          "base_uri": "https://localhost:8080/"
        },
        "outputId": "73dca478-f65b-4ee1-afae-30ebc715469c"
      },
      "outputs": [
        {
          "output_type": "stream",
          "name": "stdout",
          "text": [
            "[-0.86682578 -0.16932242  0.01883755 -0.13386733]\n",
            "-0.003692628180680963\n"
          ]
        }
      ],
      "source": [
        "# coefficients from sklearn Linear Regression\n",
        "print(reg.coef_)\n",
        "# intercept from sklearn Linear Regression\n",
        "print(reg.intercept_)"
      ]
    },
    {
      "cell_type": "code",
      "execution_count": 43,
      "id": "sophisticated-attention",
      "metadata": {
        "id": "sophisticated-attention",
        "scrolled": true,
        "colab": {
          "base_uri": "https://localhost:8080/"
        },
        "outputId": "a854f0b4-0f38-49bf-a7fe-0f402d2d42f8"
      },
      "outputs": [
        {
          "output_type": "stream",
          "name": "stdout",
          "text": [
            "0.27400773017599866\n"
          ]
        }
      ],
      "source": [
        "from sklearn.metrics import mean_squared_error\n",
        "print(sqrt(mean_squared_error(predictions, ytest)))"
      ]
    }
  ],
  "metadata": {
    "colab": {
      "provenance": [],
      "include_colab_link": true
    },
    "kernelspec": {
      "display_name": "Python 3",
      "language": "python",
      "name": "python3"
    },
    "language_info": {
      "codemirror_mode": {
        "name": "ipython",
        "version": 3
      },
      "file_extension": ".py",
      "mimetype": "text/x-python",
      "name": "python",
      "nbconvert_exporter": "python",
      "pygments_lexer": "ipython3",
      "version": "3.6.7rc1"
    }
  },
  "nbformat": 4,
  "nbformat_minor": 5
}