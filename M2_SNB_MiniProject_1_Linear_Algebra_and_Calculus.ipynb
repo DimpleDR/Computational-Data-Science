{
  "nbformat": 4,
  "nbformat_minor": 0,
  "metadata": {
    "colab": {
      "provenance": [],
      "include_colab_link": true
    },
    "kernelspec": {
      "display_name": "Python 3",
      "language": "python",
      "name": "python3"
    },
    "language_info": {
      "codemirror_mode": {
        "name": "ipython",
        "version": 3
      },
      "file_extension": ".py",
      "mimetype": "text/x-python",
      "name": "python",
      "nbconvert_exporter": "python",
      "pygments_lexer": "ipython3",
      "version": "3.8.5"
    }
  },
  "cells": [
    {
      "cell_type": "markdown",
      "metadata": {
        "id": "view-in-github",
        "colab_type": "text"
      },
      "source": [
        "<a href=\"https://colab.research.google.com/github/DimpleDR/Computational-Data-Science/blob/Projects/M2_SNB_MiniProject_1_Linear_Algebra_and_Calculus.ipynb\" target=\"_parent\"><img src=\"https://colab.research.google.com/assets/colab-badge.svg\" alt=\"Open In Colab\"/></a>"
      ]
    },
    {
      "cell_type": "markdown",
      "metadata": {
        "id": "Vf7UdufgUVRm"
      },
      "source": [
        "# Advanced Certification Program in Computational Data Science\n",
        "## A program by IISc and TalentSprint\n",
        "### Mini Project Solution Notebook: Linear Algebra and Calculus"
      ]
    },
    {
      "cell_type": "markdown",
      "metadata": {
        "id": "n-kxaHhwXEp9"
      },
      "source": [
        "**DISCLAIMER:** THIS NOTEBOOK IS PROVIDED ONLY AS A REFERENCE SOLUTION NOTEBOOK FOR THE MINI-PROJECT. THERE MAY BE OTHER POSSIBLE APPROACHES/METHODS TO ACHIEVE THE SAME RESULTS."
      ]
    },
    {
      "cell_type": "markdown",
      "metadata": {
        "id": "TnGEuHJusOup"
      },
      "source": [
        "## Problem Statement"
      ]
    },
    {
      "cell_type": "markdown",
      "metadata": {
        "id": "xlkm2qM2sQ-T"
      },
      "source": [
        " The task is to advise a petroleum company on how to meet the demands of their customers for motor oil, diesel oil and gasoline."
      ]
    },
    {
      "cell_type": "markdown",
      "metadata": {
        "id": "cs0B3ScgUVRv"
      },
      "source": [
        "## Learning Objectives"
      ]
    },
    {
      "cell_type": "markdown",
      "metadata": {
        "id": "Sq5piVQRUVRw"
      },
      "source": [
        "At the end of the Mini-project, you will be able to\n",
        "\n",
        "* create arrays and matrices in python\n",
        "* understand the concepts of linear equations\n",
        "* solve the system of linear equations"
      ]
    },
    {
      "cell_type": "markdown",
      "metadata": {
        "id": "IvKa0MVttqXf"
      },
      "source": [
        "### Data"
      ]
    },
    {
      "cell_type": "markdown",
      "metadata": {
        "id": "dRrGFyZOtsAj"
      },
      "source": [
        "From a barrel of crude oil, in one day, factory $A$ can produce\n",
        "* 20 gallons of motor oil,\n",
        "* 10 gallons of diesel oil, and\n",
        "* 5 gallons of gasoline\n",
        "\n",
        "Similarly, factory $B$ can produce\n",
        "* 4 gallons of motor oil,\n",
        "* 14 gallons of diesel oil, and\n",
        "* 5 gallons of gasoline\n",
        "\n",
        "while factory $C$ can produce\n",
        "* 4 gallons of motor oil,\n",
        "* 5 gallons of diesel oil, and\n",
        "* 12 gallons of gasoline\n",
        "\n",
        "There is also waste in the form of paraffin, among other things. Factory $A$ has 3 gallons of paraffin to dispose of per barrel of crude, factory $B$ 5 gallons, and factory $C$ 2 gallons."
      ]
    },
    {
      "cell_type": "markdown",
      "metadata": {
        "id": "UK_englE4HnA"
      },
      "source": [
        "**Note:** Your conclusion should include a discussion of the nature of the terms *unique*, *no solution*, *overdetermined* and *underdetermined* as they apply in the context of the oil plants."
      ]
    },
    {
      "cell_type": "markdown",
      "metadata": {
        "id": "operating-latter"
      },
      "source": [
        "## Grading = 10 Points"
      ]
    },
    {
      "cell_type": "markdown",
      "metadata": {
        "id": "zAitCztdraex"
      },
      "source": [
        "### Create an array\n",
        "\n",
        "Create an array of size 2x3 with arbitrary values."
      ]
    },
    {
      "cell_type": "code",
      "metadata": {
        "id": "owKFXLLzrqVb",
        "outputId": "2f1bce4c-fddd-4a55-ce00-434130e2d472",
        "colab": {
          "base_uri": "https://localhost:8080/"
        }
      },
      "source": [
        "import numpy as np\n",
        "a = np.array([[1, 2, 3],\n",
        "              [4, 5, 6]])\n",
        "a"
      ],
      "execution_count": 1,
      "outputs": [
        {
          "output_type": "execute_result",
          "data": {
            "text/plain": [
              "array([[1, 2, 3],\n",
              "       [4, 5, 6]])"
            ]
          },
          "metadata": {},
          "execution_count": 1
        }
      ]
    },
    {
      "cell_type": "markdown",
      "metadata": {
        "id": "K_7EztnGvzDK"
      },
      "source": [
        "### Create the system of Linear Equation"
      ]
    },
    {
      "cell_type": "markdown",
      "metadata": {
        "id": "zL9M9kmrv_ZA"
      },
      "source": [
        "Suppose the current daily demand from distributors is 6600 gallons of motor oil, 5100 gallons of diesel oil and 3100 of gasoline.\n",
        "\n",
        "Set up the system of equations which describes the above situation. Please include the units as well."
      ]
    },
    {
      "cell_type": "markdown",
      "metadata": {
        "id": "nbOcii0EZpUI"
      },
      "source": [
        "Let the number of barrels used by factory $A$, $B$ and $C$ are $x$, $y$ and $z$ respectively.\n",
        "\n",
        "Then the system of linear equations will be\n",
        "\n",
        "$$Motor\\ oil:\\ \\ \\ 20x + 4y + 4z = 6600$$\n",
        "\n",
        "$$Diesel\\ oil:\\ \\ \\ 10x + 14y + 5z = 5100$$\n",
        "\n",
        "$$Gasoline:\\ \\ \\ 5x + 5y + 12z = 3100$$"
      ]
    },
    {
      "cell_type": "markdown",
      "metadata": {
        "id": "1qLF2LvG2I8Y"
      },
      "source": [
        "### Solve the system of Linear Equation (2 points)"
      ]
    },
    {
      "cell_type": "markdown",
      "metadata": {
        "id": "FzjOkaq21_8L"
      },
      "source": [
        "How many barrels of crude oil each plant should get in order to meet the demand as a group. Remember that we can only provide each plant with an integral number of barrels."
      ]
    },
    {
      "cell_type": "code",
      "metadata": {
        "id": "Plx-kStlcGOW",
        "outputId": "4329420c-affa-4195-bc2d-7f8fb620b7ec",
        "colab": {
          "base_uri": "https://localhost:8080/"
        }
      },
      "source": [
        "from scipy.linalg import solve\n",
        "A = np.array([[20, 4, 4],\n",
        "              [10, 14, 5],\n",
        "              [5, 5, 12]])\n",
        "b = np.array([6600, 5100, 3100])\n",
        "X1 = solve(A,b)\n",
        "X1"
      ],
      "execution_count": 2,
      "outputs": [
        {
          "output_type": "execute_result",
          "data": {
            "text/plain": [
              "array([287.25, 128.75,  85.  ])"
            ]
          },
          "metadata": {},
          "execution_count": 2
        }
      ]
    },
    {
      "cell_type": "markdown",
      "metadata": {
        "id": "Ty3T5jSSabeV"
      },
      "source": [
        "Therefore, the number of barrels required by factory $A$, $B$ and $C$ are 288, 129 and 85 respectively."
      ]
    },
    {
      "cell_type": "markdown",
      "metadata": {
        "id": "nY-rFiKAbVl3"
      },
      "source": [
        "Suppose the total demand for all products **doubled**. What would the solution now be? How does it compare to the original solution? Why, mathematically, should this have been expected?"
      ]
    },
    {
      "cell_type": "code",
      "metadata": {
        "id": "OODSS2bFcjKV",
        "outputId": "21fe581e-0dcc-433f-9ab9-df020c29e823",
        "colab": {
          "base_uri": "https://localhost:8080/"
        }
      },
      "source": [
        "A = np.array([[20, 4, 4],\n",
        "              [10, 14, 5],\n",
        "              [5, 5, 12]])\n",
        "b = np.array([6600 * 2, 5100 * 2, 3100 * 2])\n",
        "X2 = solve(A,b)\n",
        "X2"
      ],
      "execution_count": 3,
      "outputs": [
        {
          "output_type": "execute_result",
          "data": {
            "text/plain": [
              "array([574.5, 257.5, 170. ])"
            ]
          },
          "metadata": {},
          "execution_count": 3
        }
      ]
    },
    {
      "cell_type": "markdown",
      "metadata": {
        "id": "PHDbishydIcD"
      },
      "source": [
        "From above it can be seen that as the demand doubled the number of barrels required also gets doubled."
      ]
    },
    {
      "cell_type": "markdown",
      "metadata": {
        "id": "p_1a-z0Gds6D"
      },
      "source": [
        "Suppose that the company acquires another group of distributors and that the daily demand of this group is 2000 gallons of motor oil, 4000 gallons of gasoline, and 4000 gallons of diesel oil. How would you set up production of just this supply? Are there any options (more than one way)?"
      ]
    },
    {
      "cell_type": "code",
      "metadata": {
        "id": "gWaeKh6eQe2W",
        "outputId": "19872c6b-3600-4362-e614-2c59e1536a30",
        "colab": {
          "base_uri": "https://localhost:8080/"
        }
      },
      "source": [
        "A = np.array([[20, 4, 4],\n",
        "              [10, 14, 5],\n",
        "              [5, 5, 12]])\n",
        "b = np.array([2000, 4000, 4000])\n",
        "X3 = solve(A,b)\n",
        "X3"
      ],
      "execution_count": 4,
      "outputs": [
        {
          "output_type": "execute_result",
          "data": {
            "text/plain": [
              "array([ 12.5, 187.5, 250. ])"
            ]
          },
          "metadata": {},
          "execution_count": 4
        }
      ]
    },
    {
      "cell_type": "markdown",
      "metadata": {
        "id": "E9ap7rd5uGaL"
      },
      "source": [
        "From above it can be seen that for the demand (2000, 4000, 4000), the barrel requirement for factories $A$, $B$ and $C$ are 13, 188 and 250 respectively. As it is a *unique* solution, this is the only way to fulfill the demand."
      ]
    },
    {
      "cell_type": "markdown",
      "metadata": {
        "id": "H4sayZf1etbN"
      },
      "source": [
        "Next, calculate the needs of each factory (in barrels of crude, as usual) to meet the total demand of both groups of distributors. When you have done this, compare your answer to results already obtained. What mathematical conclusion can you draw?"
      ]
    },
    {
      "cell_type": "code",
      "metadata": {
        "id": "Hjm5kcawewgT",
        "outputId": "1e7bbc1b-54ea-4f7f-defa-f7d0c8002e14",
        "colab": {
          "base_uri": "https://localhost:8080/"
        }
      },
      "source": [
        "A = np.array([[20, 4, 4],\n",
        "              [10, 14, 5],\n",
        "              [5, 5, 12]])\n",
        "b = np.array([6600 + 2000, 5100 + 4000, 3100 + 4000])\n",
        "X4 = solve(A,b)\n",
        "X4"
      ],
      "execution_count": 5,
      "outputs": [
        {
          "output_type": "execute_result",
          "data": {
            "text/plain": [
              "array([299.75, 316.25, 335.  ])"
            ]
          },
          "metadata": {},
          "execution_count": 5
        }
      ]
    },
    {
      "cell_type": "code",
      "metadata": {
        "id": "Zkl1Y11pe4Q-",
        "outputId": "03bf447a-5fe0-4fb6-a862-d940a8bc607c",
        "colab": {
          "base_uri": "https://localhost:8080/"
        }
      },
      "source": [
        "X1 + X3 == X4"
      ],
      "execution_count": 6,
      "outputs": [
        {
          "output_type": "execute_result",
          "data": {
            "text/plain": [
              "array([ True,  True,  True])"
            ]
          },
          "metadata": {},
          "execution_count": 6
        }
      ]
    },
    {
      "cell_type": "markdown",
      "metadata": {
        "id": "a3v7j_5uwri_"
      },
      "source": [
        "From above we can conclude that the number of barrels required by the plants to meet the total demand (6600 + 2000, 5100 + 4000, 3100 + 4000) is equal to the sum of number of barrels required by the plants to meet the demands individually."
      ]
    },
    {
      "cell_type": "markdown",
      "metadata": {
        "id": "VxgiCFNbCqTc"
      },
      "source": [
        "### Sensitivity and Robustness (1 point)"
      ]
    },
    {
      "cell_type": "markdown",
      "metadata": {
        "id": "G1MVw0x_fQMC"
      },
      "source": [
        "In real life applications, constants are rarely ever exactly equal to their stated value; certain amounts of uncertainty are always present. This is part of the reason for the science of statistics. In the above model, the daily productions for the plants would be averages over a period of time. Explore what effect small changes in the parameters have on the output.\n",
        "\n",
        "To do this, pick any 3 coefficients, one at a time, and increase or decrease them by 3%. For each case , note what effect this has on the solution, as a percentage change. Can you draw any overall conclusion?"
      ]
    },
    {
      "cell_type": "code",
      "metadata": {
        "id": "ObBZDKvYfqie",
        "outputId": "51575e52-8e8a-40ad-8ff4-e2f9d376a959",
        "colab": {
          "base_uri": "https://localhost:8080/"
        }
      },
      "source": [
        "# Increasing the coefficient value for factory A by 3%\n",
        "A = np.array([[20 * 1.03, 4, 4],\n",
        "              [10 * 1.03, 14, 5],\n",
        "              [5 * 1.03, 5, 12]])\n",
        "\n",
        "b = np.array([6600, 5100, 3100])\n",
        "X5 = solve(A,b)\n",
        "X5"
      ],
      "execution_count": 7,
      "outputs": [
        {
          "output_type": "execute_result",
          "data": {
            "text/plain": [
              "array([278.88349515, 128.75      ,  85.        ])"
            ]
          },
          "metadata": {},
          "execution_count": 7
        }
      ]
    },
    {
      "cell_type": "code",
      "metadata": {
        "id": "KdB7v9IpyirH",
        "outputId": "87b6cb1f-23d3-40d8-ceb9-e2002198daa5",
        "colab": {
          "base_uri": "https://localhost:8080/"
        }
      },
      "source": [
        "# Percentage change in solution\n",
        "(X5 - X1) / X1"
      ],
      "execution_count": 8,
      "outputs": [
        {
          "output_type": "execute_result",
          "data": {
            "text/plain": [
              "array([-0.02912621,  0.        ,  0.        ])"
            ]
          },
          "metadata": {},
          "execution_count": 8
        }
      ]
    },
    {
      "cell_type": "markdown",
      "metadata": {
        "id": "UbGXpK5qU0G2"
      },
      "source": [
        "From above it can be seen that after increasing the coefficients of factory $A$ by 3%, barrel requirement for factory $A$ has decreased by around 3% while for factory $B$ and $C$ it is constant.\n",
        "\n",
        "Now, lets decrease the coefficient by 3%."
      ]
    },
    {
      "cell_type": "code",
      "metadata": {
        "id": "b-4Apq8Qzt8E",
        "outputId": "50f89567-7f58-44e1-e933-66a576beab88",
        "colab": {
          "base_uri": "https://localhost:8080/"
        }
      },
      "source": [
        "# Decreasing the coefficient value for factory A by 3%\n",
        "A = np.array([[20 * 0.97, 4, 4],\n",
        "              [10 * 0.97, 14, 5],\n",
        "              [5 * 0.97, 5, 12]])\n",
        "\n",
        "b = np.array([6600, 5100, 3100])\n",
        "X6 = solve(A,b)\n",
        "X6"
      ],
      "execution_count": 9,
      "outputs": [
        {
          "output_type": "execute_result",
          "data": {
            "text/plain": [
              "array([296.13402062, 128.75      ,  85.        ])"
            ]
          },
          "metadata": {},
          "execution_count": 9
        }
      ]
    },
    {
      "cell_type": "code",
      "metadata": {
        "id": "kDRYKrWMz4OE",
        "outputId": "b074c3f8-cc69-4ce2-83c3-06a9a96c0622",
        "colab": {
          "base_uri": "https://localhost:8080/"
        }
      },
      "source": [
        "# Percentage change in solution\n",
        "(X6 - X1) / X1"
      ],
      "execution_count": 10,
      "outputs": [
        {
          "output_type": "execute_result",
          "data": {
            "text/plain": [
              "array([0.03092784, 0.        , 0.        ])"
            ]
          },
          "metadata": {},
          "execution_count": 10
        }
      ]
    },
    {
      "cell_type": "markdown",
      "metadata": {
        "id": "sqrAzA3nV1_M"
      },
      "source": [
        "After decreasing the coefficient by 3% the barrel requirement for factory $A$ has increased by around 3% while for factory $B$ and $C$ it still remains constant.\n",
        "\n",
        "Similarly, for factory $B$ we can do the same."
      ]
    },
    {
      "cell_type": "code",
      "metadata": {
        "id": "F8sGHcqo1f1Z",
        "outputId": "c5f9e443-2a8e-4373-e507-711b3d187611",
        "colab": {
          "base_uri": "https://localhost:8080/"
        }
      },
      "source": [
        "# Increasing the coefficient value for factory B by 3%\n",
        "A = np.array([[20, 4 * 1.03, 4],\n",
        "              [10, 14 * 1.03, 5],\n",
        "              [5, 5 * 1.03, 12]])\n",
        "\n",
        "b = np.array([6600, 5100, 3100])\n",
        "X7 = solve(A,b)\n",
        "X7"
      ],
      "execution_count": 11,
      "outputs": [
        {
          "output_type": "execute_result",
          "data": {
            "text/plain": [
              "array([287.25, 125.  ,  85.  ])"
            ]
          },
          "metadata": {},
          "execution_count": 11
        }
      ]
    },
    {
      "cell_type": "code",
      "metadata": {
        "id": "TmVCxHkM1rZc",
        "outputId": "52e52230-2eb7-4693-e332-0c95d5f49344",
        "colab": {
          "base_uri": "https://localhost:8080/"
        }
      },
      "source": [
        "# Percentage change in solution\n",
        "(X7 - X1) / X1"
      ],
      "execution_count": 12,
      "outputs": [
        {
          "output_type": "execute_result",
          "data": {
            "text/plain": [
              "array([ 0.00000000e+00, -2.91262136e-02, -1.67186526e-16])"
            ]
          },
          "metadata": {},
          "execution_count": 12
        }
      ]
    },
    {
      "cell_type": "code",
      "metadata": {
        "id": "HWEprVUi2e3r",
        "outputId": "04554312-9e5f-409b-8b09-b60e69e1fb8a",
        "colab": {
          "base_uri": "https://localhost:8080/"
        }
      },
      "source": [
        "# Decreasing the coefficient value for factory B by 3%\n",
        "A = np.array([[20, 4 * 0.97, 4], [10, 14 * 0.97, 5], [5, 5 * 0.97, 12]])\n",
        "b = np.array([6600, 5100, 3100])\n",
        "X8 = solve(A,b)\n",
        "X8"
      ],
      "execution_count": 13,
      "outputs": [
        {
          "output_type": "execute_result",
          "data": {
            "text/plain": [
              "array([287.25      , 132.73195876,  85.        ])"
            ]
          },
          "metadata": {},
          "execution_count": 13
        }
      ]
    },
    {
      "cell_type": "code",
      "metadata": {
        "id": "75rWcR8_2mah",
        "outputId": "f2dd7e5f-0bcd-4551-8716-5caba71949e9",
        "colab": {
          "base_uri": "https://localhost:8080/"
        }
      },
      "source": [
        "# Percentage change in solution\n",
        "(X8 - X1) / X1"
      ],
      "execution_count": 14,
      "outputs": [
        {
          "output_type": "execute_result",
          "data": {
            "text/plain": [
              "array([0.        , 0.03092784, 0.        ])"
            ]
          },
          "metadata": {},
          "execution_count": 14
        }
      ]
    },
    {
      "cell_type": "markdown",
      "metadata": {
        "id": "_LbBsnJS2qx7"
      },
      "source": [
        "The results are similar for factory $B$ as well.\n",
        "\n",
        "So, we conclude that if we increase the value of coefficient by n% then its output is decreased by approximately n% and vice-versa."
      ]
    },
    {
      "cell_type": "markdown",
      "metadata": {
        "id": "sk8sWbjPCqTw"
      },
      "source": [
        "### A Plant Off-Line (1 point)"
      ]
    },
    {
      "cell_type": "markdown",
      "metadata": {
        "id": "Dbm0HcJ7frNz"
      },
      "source": [
        "Suppose factory $C$ is shut down by the EPA (Environmental Protection Agency) temporarily for excessive emissions into the atmosphere. If your demand is as it was originally (6600,5100,3100), what would you now say about the companies ability to meet it? What do you recommend they schedule for production now?"
      ]
    },
    {
      "cell_type": "markdown",
      "metadata": {
        "id": "hfM_gQJp-XSU"
      },
      "source": [
        "Let the number of barrels used by factory $A$ and $B$ are $x$ and $y$ respectively.\n",
        "\n",
        "Then the system of linear equations will be\n",
        "\n",
        "$$20x + 4y = 6600$$\n",
        "\n",
        "$$10x + 14y = 5100$$\n",
        "\n",
        "$$5x + 5y = 3100$$\n",
        "\n",
        "The above system has 3 equations and 2 unknowns (x and y), which is *overdetermined* because number of linearly independent equations in the system are more than the unknowns."
      ]
    },
    {
      "cell_type": "code",
      "metadata": {
        "id": "CfbiZgWOf7dz",
        "outputId": "88958f31-76ba-470a-d1bf-ff1a714707dc",
        "colab": {
          "base_uri": "https://localhost:8080/"
        }
      },
      "source": [
        "# For the first and second equations\n",
        "A = np.array([[20, 4], [10, 14]])\n",
        "b = np.array([6600, 5100])\n",
        "X9 = solve(A,b)\n",
        "X9"
      ],
      "execution_count": 15,
      "outputs": [
        {
          "output_type": "execute_result",
          "data": {
            "text/plain": [
              "array([300., 150.])"
            ]
          },
          "metadata": {},
          "execution_count": 15
        }
      ]
    },
    {
      "cell_type": "code",
      "metadata": {
        "id": "HmTYbGK7tQnK",
        "outputId": "03fda07c-7146-4837-f5da-4595ecfa04e7",
        "colab": {
          "base_uri": "https://localhost:8080/"
        }
      },
      "source": [
        "# For the first and third equations\n",
        "A = np.array([[20, 4], [5, 5]])\n",
        "b = np.array([6600, 3100])\n",
        "X10 = solve(A,b)\n",
        "X10"
      ],
      "execution_count": 16,
      "outputs": [
        {
          "output_type": "execute_result",
          "data": {
            "text/plain": [
              "array([257.5, 362.5])"
            ]
          },
          "metadata": {},
          "execution_count": 16
        }
      ]
    },
    {
      "cell_type": "code",
      "metadata": {
        "id": "gpbtzvrVAST3",
        "outputId": "109f6978-c64a-41e1-91f0-66f23a1ac7d9",
        "colab": {
          "base_uri": "https://localhost:8080/"
        }
      },
      "source": [
        "# For the second and third equations\n",
        "A = np.array([[10, 14], [5, 5]])\n",
        "b = np.array([5100, 3100])\n",
        "X11 = solve(A,b)\n",
        "X11"
      ],
      "execution_count": 17,
      "outputs": [
        {
          "output_type": "execute_result",
          "data": {
            "text/plain": [
              "array([ 895., -275.])"
            ]
          },
          "metadata": {},
          "execution_count": 17
        }
      ]
    },
    {
      "cell_type": "markdown",
      "metadata": {
        "id": "tTq5jL5s7LOx"
      },
      "source": [
        "There is one solution for each pair of linear equations: for the first and second equations (300, 150), for the first and third (258, 363), and for the second and third (895, -275). We can discard the third one as number of barrels can't be negative. However, there is no exact solution that satisfies all three simultaneously."
      ]
    },
    {
      "cell_type": "markdown",
      "metadata": {
        "id": "0fcfoTHcCqT4"
      },
      "source": [
        "### Buying another plant"
      ]
    },
    {
      "cell_type": "markdown",
      "metadata": {
        "id": "X0ghbS-s3Mel"
      },
      "source": [
        "####(Note the following given information. You will see questions in continuation to this, in the subsequent sections)\n",
        "\n",
        "\n",
        "This situation has caused enough concern that the CEO is considering buying another plant, identical to the third, and use it permanently. Assuming that all 4 plants are on line, what production do you recommend to meet the current demand (5000, 8500, 10000)? In general, what can you say about any increased flexibility that the 4th plant might provide?"
      ]
    },
    {
      "cell_type": "markdown",
      "metadata": {
        "id": "t4k0r7RrA8qu"
      },
      "source": [
        "Let the number of barrels used by factory $A$, $B$, $C$ and $D$ are $x$, $y$, $z$ and $w$ respectively.\n",
        "\n",
        "Then the system of linear equations will be\n",
        "\n",
        "$$20x + 4y + 4z + 4w = 5000$$\n",
        "\n",
        "$$10x + 14y + 5z + 5w = 8500$$\n",
        "\n",
        "$$5x + 5y + 12z + 12w = 10000$$\n",
        "\n",
        "The above system of linear equation has fewer equations than variables, hence it is *underdetermined* and cannot have a unique solution. In this case, there are either infinitely many solutions or no exact solution. We can solve it by keeping $w$ as constant and using [rref](http://linear.ups.edu/html/section-RREF.html) form to solve the system of linear equation.\n",
        "\n",
        "To know about rref implementation in python refer [here](https://docs.sympy.org/latest/tutorial/matrices.html#rref)."
      ]
    },
    {
      "cell_type": "code",
      "metadata": {
        "id": "DnCYG65tB8gp",
        "outputId": "595eb363-7aae-499e-e446-3676af29e23e",
        "colab": {
          "base_uri": "https://localhost:8080/"
        }
      },
      "source": [
        "import sympy as sy\n",
        "\n",
        "# create symbol 'w'\n",
        "w = sy.Symbol(\"w\")\n",
        "A_aug = sy.Matrix([[20, 4, 4, 5000-4*w],\n",
        "                   [10, 14, 5, 8500-5*w],\n",
        "                   [5, 5, 12, 10000-12*w]])\n",
        "# show rref form\n",
        "A_aug.rref()"
      ],
      "execution_count": 18,
      "outputs": [
        {
          "output_type": "execute_result",
          "data": {
            "text/plain": [
              "(Matrix([\n",
              " [1, 0, 0,   195/4],\n",
              " [0, 1, 0,  1325/4],\n",
              " [0, 0, 1, 675 - w]]),\n",
              " (0, 1, 2))"
            ]
          },
          "metadata": {},
          "execution_count": 18
        }
      ]
    },
    {
      "cell_type": "markdown",
      "metadata": {
        "id": "5v60g4UQ3s7M"
      },
      "source": [
        "From the above result, it can be seen that 4th plant will share the number of barrels required by the 3rd plant only, while the requirement of 1st and 2nd plant will remain unaffected."
      ]
    },
    {
      "cell_type": "markdown",
      "metadata": {
        "id": "FxN_4mrWCqT-"
      },
      "source": [
        "### Calculate the amount of Paraffin supplied (1 point)"
      ]
    },
    {
      "cell_type": "markdown",
      "metadata": {
        "id": "u9HSGUeZquXD"
      },
      "source": [
        "The company has just found a candle company that will buy its paraffin. Under the current conditions (i.e, after buying another plant) for demand (5000, 8500, 10000), how much can be supplied to them per day?"
      ]
    },
    {
      "cell_type": "markdown",
      "metadata": {
        "id": "ilEui1GHA3Oh"
      },
      "source": [
        "According to the problem statement, factory $A$ has 3 gallons of paraffin to dispose of per barrel of crude oil, factory $B$ 5 gallons, and factory $C$ 2 gallons."
      ]
    },
    {
      "cell_type": "code",
      "metadata": {
        "id": "gJnUalG2_r0i",
        "outputId": "2c69ab62-6f60-4419-93ee-6d7041855d05",
        "colab": {
          "base_uri": "https://localhost:8080/"
        }
      },
      "source": [
        "import sympy as sy\n",
        "\n",
        "# create symbol 'w'\n",
        "w = sy.Symbol(\"w\")\n",
        "A_aug = sy.Matrix([[20, 4, 4, 5000-4*w],\n",
        "                   [10, 14, 5, 8500-5*w],\n",
        "                   [5, 5, 12, 10000-12*w]])\n",
        "# show rref form\n",
        "A_aug.rref()"
      ],
      "execution_count": 19,
      "outputs": [
        {
          "output_type": "execute_result",
          "data": {
            "text/plain": [
              "(Matrix([\n",
              " [1, 0, 0,   195/4],\n",
              " [0, 1, 0,  1325/4],\n",
              " [0, 0, 1, 675 - w]]),\n",
              " (0, 1, 2))"
            ]
          },
          "metadata": {},
          "execution_count": 19
        }
      ]
    },
    {
      "cell_type": "code",
      "metadata": {
        "id": "pOXADk3eDSbB",
        "outputId": "578f828e-6009-41ad-bfc5-344cb6ef2c8a",
        "colab": {
          "base_uri": "https://localhost:8080/"
        }
      },
      "source": [
        "paraffin_from_A = np.ceil(195/4) * 3\n",
        "paraffin_from_B = np.ceil(1325/4) * 5\n",
        "paraffin_from_C_and_D = 675 * 2\n",
        "paraffin_supplied_per_day = paraffin_from_A + paraffin_from_B + paraffin_from_C_and_D\n",
        "paraffin_supplied_per_day"
      ],
      "execution_count": 20,
      "outputs": [
        {
          "output_type": "execute_result",
          "data": {
            "text/plain": [
              "3157.0"
            ]
          },
          "metadata": {},
          "execution_count": 20
        }
      ]
    },
    {
      "cell_type": "markdown",
      "metadata": {
        "id": "kdOsIWkkCqUE"
      },
      "source": [
        "### Selling the first plant (1 point)"
      ]
    },
    {
      "cell_type": "markdown",
      "metadata": {
        "id": "8l3c1GN14EDp"
      },
      "source": [
        "The management is also considering selling the first plant due to aging equipment and high workman's compensation costs for the state it is located in. They would like to know what this would do to their production capability. Specifically, they would like an example of a demand they could not meet with only plants 2 and 3, and also what effect having plant 4 has (recall it is identical to plant 3). They would also like an example of a demand that they could meet with just plants 2 and 3. Any general statements you could make here would be helpful."
      ]
    },
    {
      "cell_type": "markdown",
      "metadata": {
        "id": "qYz46wb2GTo7"
      },
      "source": [
        "Let the number of barrels used by factory $B$, $C$ and $D$ are $y$, $z$ and $w$ respectively.\n",
        "\n",
        "When considering only plants 2 and 3, and demand (5000, 8500, 10000) then we have\n",
        "\n",
        "$$4y + 4z = 5000$$\n",
        "\n",
        "$$14y + 5z = 8500$$\n",
        "\n",
        "$$5y + 12z = 10000$$\n",
        "\n",
        "The system becomes *overdetermined*."
      ]
    },
    {
      "cell_type": "code",
      "metadata": {
        "id": "Ru-prbsHGwH_",
        "outputId": "6c753686-bdad-44e4-83ee-7c6429947451",
        "colab": {
          "base_uri": "https://localhost:8080/"
        }
      },
      "source": [
        "# For the first and second equations\n",
        "A = np.array([[4, 4], [14, 5]])\n",
        "b = np.array([5000, 8500])\n",
        "X12 = solve(A,b)\n",
        "X12"
      ],
      "execution_count": 21,
      "outputs": [
        {
          "output_type": "execute_result",
          "data": {
            "text/plain": [
              "array([ 250., 1000.])"
            ]
          },
          "metadata": {},
          "execution_count": 21
        }
      ]
    },
    {
      "cell_type": "code",
      "metadata": {
        "id": "M0tdc6hQGwIP",
        "outputId": "f193abef-d33c-4626-c8ac-855421b141b2",
        "colab": {
          "base_uri": "https://localhost:8080/"
        }
      },
      "source": [
        "# For the first and third equations\n",
        "A = np.array([[4, 4], [5, 12]])\n",
        "b = np.array([5000, 10000])\n",
        "X13 = solve(A,b)\n",
        "X13"
      ],
      "execution_count": 22,
      "outputs": [
        {
          "output_type": "execute_result",
          "data": {
            "text/plain": [
              "array([714.28571429, 535.71428571])"
            ]
          },
          "metadata": {},
          "execution_count": 22
        }
      ]
    },
    {
      "cell_type": "code",
      "metadata": {
        "id": "UAvra8DmGwIQ",
        "outputId": "65be93de-4896-4b82-c475-93b090207158",
        "colab": {
          "base_uri": "https://localhost:8080/"
        }
      },
      "source": [
        "# For the second and third equations\n",
        "A = np.array([[14, 5], [5, 12]])\n",
        "b = np.array([8500, 10000])\n",
        "X14 = solve(A,b)\n",
        "X14"
      ],
      "execution_count": 23,
      "outputs": [
        {
          "output_type": "execute_result",
          "data": {
            "text/plain": [
              "array([363.63636364, 681.81818182])"
            ]
          },
          "metadata": {},
          "execution_count": 23
        }
      ]
    },
    {
      "cell_type": "markdown",
      "metadata": {
        "id": "0mMNupX5Oo-5"
      },
      "source": [
        "There is one solution for each pair of linear equations: for the first and second equations (250, 1000), for the first and third (715, 536), and for the second and third (364, 682). However, there is no exact solution that satisfies all three simultaneously."
      ]
    },
    {
      "cell_type": "markdown",
      "metadata": {
        "id": "bLsK1-zNEP0T"
      },
      "source": [
        "Taking 4th plant into consideration.\n",
        "Let the number of barrels used by factory $B$, $C$ and $D$ are $y$, $z$ and $w$ respectively.\n",
        "\n",
        "Then for demand (5000, 8500, 10000) the system of linear equations will be\n",
        "\n",
        "$$4y + 4z + 4w = 5000$$\n",
        "\n",
        "$$14y + 5z + 5w = 8500$$\n",
        "\n",
        "$$5y + 12z + 12w = 10000$$\n",
        "\n",
        "Solve it using rref form."
      ]
    },
    {
      "cell_type": "code",
      "metadata": {
        "id": "5lqPcpJ9F9xx",
        "outputId": "698847b1-38a4-48f8-ac28-0146aa581aa3",
        "colab": {
          "base_uri": "https://localhost:8080/"
        }
      },
      "source": [
        "import sympy as sy\n",
        "A_aug = sy.Matrix([[4, 4, 4, 5000],\n",
        "                   [14, 5, 5, 8500],\n",
        "                   [5, 12, 12, 10000]])\n",
        "A_aug.rref()"
      ],
      "execution_count": 24,
      "outputs": [
        {
          "output_type": "execute_result",
          "data": {
            "text/plain": [
              "(Matrix([\n",
              " [1, 0, 0, 0],\n",
              " [0, 1, 1, 0],\n",
              " [0, 0, 0, 1]]),\n",
              " (0, 1, 3))"
            ]
          },
          "metadata": {},
          "execution_count": 24
        }
      ]
    },
    {
      "cell_type": "markdown",
      "metadata": {
        "id": "u7SDjgFkP5fj"
      },
      "source": [
        "From above it can be seen that the above system of equation has *no exact solution*.\n",
        "\n",
        "Now, changing demand to (6600, 5100, 3100) and solving the system of equation using rref form."
      ]
    },
    {
      "cell_type": "code",
      "metadata": {
        "id": "nwSpgbqAGlON",
        "outputId": "796873c4-0279-48b6-e127-f4b167bebb87",
        "colab": {
          "base_uri": "https://localhost:8080/"
        }
      },
      "source": [
        "import sympy as sy\n",
        "A_aug = sy.Matrix([[4, 4, 4, 6600],\n",
        "                   [14, 5, 5, 5100],\n",
        "                   [5, 12, 12, 3100]])\n",
        "A_aug.rref()"
      ],
      "execution_count": 25,
      "outputs": [
        {
          "output_type": "execute_result",
          "data": {
            "text/plain": [
              "(Matrix([\n",
              " [1, 0, 0, 0],\n",
              " [0, 1, 1, 0],\n",
              " [0, 0, 0, 1]]),\n",
              " (0, 1, 3))"
            ]
          },
          "metadata": {},
          "execution_count": 25
        }
      ]
    },
    {
      "cell_type": "markdown",
      "metadata": {
        "id": "CciYj9HYQiPI"
      },
      "source": [
        "Therefore, irrespective of the demand the system has *no exact solution*."
      ]
    },
    {
      "cell_type": "markdown",
      "metadata": {
        "id": "2GALjPSkCqUR"
      },
      "source": [
        "### Set rates for Products (1 point)"
      ]
    },
    {
      "cell_type": "markdown",
      "metadata": {
        "id": "leUf_VMdCqUS"
      },
      "source": [
        "Company wants to set the rates of motor oil, diesel oil, and gasoline. For this purpose they have few suggestions given as follows:\n",
        "\n",
        "* 100, 66, 102 Rupees per gallon,\n",
        "\n",
        "* 104, 64, 100 Rupees per gallon,\n",
        "\n",
        "* 102, 68, 98 Rupees per gallon, and\n",
        "\n",
        "* 96, 68, 100 Rupees per gallon\n",
        "\n",
        "for motor oil, diesel oil, and gasoline respectively.\n",
        "\n",
        "Using matrix multiplication, find the rates which results in maximum total price."
      ]
    },
    {
      "cell_type": "markdown",
      "metadata": {
        "id": "C7z6smq1CqUT"
      },
      "source": [
        "Let $M$ denotes the matrix such that rows represents different plants (A, B and C), columns represents different products (motor oil, diesel oil and gasoline) and each value represents production of that product from one barrel of crude oil for that plant.\n",
        "\n",
        "$$M = \\begin{bmatrix}\n",
        "20 & 10 & 5 \\\\\n",
        "4 & 14 & 5  \\\\\n",
        " 4 & 5 & 12 \\end{bmatrix}$$\n",
        "\n",
        "Also, $R$ is a matrix having different rates as its columns.\n",
        "\n",
        "$$R = \\begin{bmatrix}\n",
        "100 & 104 & 102 & 96 \\\\\n",
        "66 & 64 & 68 & 68  \\\\\n",
        "102 & 100 & 98 & 100 \\end{bmatrix}$$"
      ]
    },
    {
      "cell_type": "code",
      "metadata": {
        "id": "6vrlTDtWCqUV",
        "outputId": "c9613d65-ef60-403a-b05e-e89409ce4e56",
        "colab": {
          "base_uri": "https://localhost:8080/"
        }
      },
      "source": [
        "# Matrix multiplication\n",
        "M = np.array([[20, 10, 5],\n",
        "              [4, 14, 5],\n",
        "              [4, 5, 12]])\n",
        "\n",
        "R = np.array([[100, 104, 102, 96],\n",
        "              [66, 64, 68, 70],\n",
        "              [102, 100, 98, 100]])\n",
        "\n",
        "M @ R"
      ],
      "execution_count": 26,
      "outputs": [
        {
          "output_type": "execute_result",
          "data": {
            "text/plain": [
              "array([[3170, 3220, 3210, 3120],\n",
              "       [1834, 1812, 1850, 1864],\n",
              "       [1954, 1936, 1924, 1934]])"
            ]
          },
          "metadata": {},
          "execution_count": 26
        }
      ]
    },
    {
      "cell_type": "markdown",
      "metadata": {
        "id": "kFJ52O1JCqUY"
      },
      "source": [
        "The resultant matrix contains total prices for each plant, taking different rates into consideration.\n",
        "\n",
        "In order to get the total price we need to sum up the prices for each plant and take those rates for which the total price is maximum."
      ]
    },
    {
      "cell_type": "code",
      "metadata": {
        "id": "mCNvVMPsCqUa",
        "outputId": "20e8c6d4-243f-43b3-b1cd-eaf3117be365",
        "colab": {
          "base_uri": "https://localhost:8080/"
        }
      },
      "source": [
        "# Total price for each rate\n",
        "total_price = sum(M @ R)\n",
        "print(\"Price: \", total_price)\n",
        "\n",
        "# Get index of highest value in array\n",
        "index = np.argmax(total_price)\n",
        "\n",
        "# Extract desired rates\n",
        "rate = R[:,index]\n",
        "print(\"Desired rate: \", rate)"
      ],
      "execution_count": 27,
      "outputs": [
        {
          "output_type": "stream",
          "name": "stdout",
          "text": [
            "Price:  [6958 6968 6984 6918]\n",
            "Desired rate:  [102  68  98]\n"
          ]
        }
      ]
    },
    {
      "cell_type": "markdown",
      "metadata": {
        "id": "75lj2gJLCqUc"
      },
      "source": [
        "Hence, the desired rates are 102, 68, 98 Rupees per gallon for motor oil, diesel oil, and gasoline respectively."
      ]
    },
    {
      "cell_type": "markdown",
      "metadata": {
        "id": "IIRzNdIOCqUd"
      },
      "source": [
        "### Marginal Cost (1 point)"
      ]
    },
    {
      "cell_type": "markdown",
      "metadata": {
        "id": "MizO5BZfCqUd"
      },
      "source": [
        "The total cost $C(x)$ in Rupees, associated with the production of $x$ gallons of gasoline is given by\n",
        "\n",
        "$$C(x) = 0.005 x^3 – 0.02 x^2 + 30x + 5000$$\n",
        "\n",
        "Find the marginal cost when $22$ gallons are produced, where by marginal cost we\n",
        "mean the instantaneous rate of change of total cost at any level of output."
      ]
    },
    {
      "cell_type": "markdown",
      "metadata": {
        "id": "zJLuaNPZCqUf"
      },
      "source": [
        "**Solution:** Since marginal cost is the rate of change of total cost with respect to the\n",
        "output, we have\n",
        "\n",
        "Marginal cost (MC) given by,\n",
        "\n",
        "$$\\frac{dC}{dx} = 0.005(3 x^2) - 0.02(2 x) + 30$$\n",
        "\n",
        "When $x = 22$, $$MC = 0.015(22^2) - 0.04(22) + 30$$\n",
        "\n",
        "$$= 7.26 – 0.88 + 30 = 36.38$$\n",
        "\n",
        "Hence, the required marginal cost is around  36.38 Rupees.\n",
        "\n",
        "We can also compute it using derivative function of `scipy` package."
      ]
    },
    {
      "cell_type": "code",
      "metadata": {
        "id": "tr2h_EPPCqUg",
        "outputId": "b34b6476-0b29-43fd-cd61-c5cfccf0d5db",
        "colab": {
          "base_uri": "https://localhost:8080/"
        }
      },
      "source": [
        "from scipy.misc import derivative\n",
        "\n",
        "f = lambda x: 0.005 * x**3 - 0.02 * x**2 + 30 * x + 5000\n",
        "x = 22\n",
        "derivative(f, x)"
      ],
      "execution_count": 28,
      "outputs": [
        {
          "output_type": "stream",
          "name": "stderr",
          "text": [
            "<ipython-input-28-9b81f93af791>:5: DeprecationWarning: scipy.misc.derivative is deprecated in SciPy v1.10.0; and will be completely removed in SciPy v1.12.0. You may consider using findiff: https://github.com/maroba/findiff or numdifftools: https://github.com/pbrod/numdifftools\n",
            "  derivative(f, x)\n"
          ]
        },
        {
          "output_type": "execute_result",
          "data": {
            "text/plain": [
              "36.38500000000022"
            ]
          },
          "metadata": {},
          "execution_count": 28
        }
      ]
    },
    {
      "cell_type": "markdown",
      "metadata": {
        "id": "jvhtZOR3CqUh"
      },
      "source": [
        "### Marginal Revenue (1 point)"
      ]
    },
    {
      "cell_type": "markdown",
      "metadata": {
        "id": "oDpszpgBCqUh"
      },
      "source": [
        "The total revenue in Rupees received from the sale of $x$ gallons of a motor oil is given by\n",
        "\n",
        "$$R(x) = 3x^2 + 36x + 5.$$\n",
        "\n",
        "Find the marginal revenue, when $x = 28$, where by marginal revenue we mean the rate of change of total revenue with respect to the number of items sold at an instant."
      ]
    },
    {
      "cell_type": "markdown",
      "metadata": {
        "id": "8WuxfPUECqUi"
      },
      "source": [
        "**Solution:** Since marginal revenue is the rate of change of total revenue with respect to the number of units sold, we have\n",
        "\n",
        "Marginal Revenue (MR) given by,\n",
        "\n",
        "$$\\frac{dR}{dx} = 6x + 36$$\n",
        "\n",
        "When $x = 28$,\n",
        "\n",
        "$$MR = 6(28) + 36 = 204$$\n",
        "\n",
        "Hence, the required marginal revenue is 204 Rupees.\n",
        "\n",
        "We can also compute it using derivative function of `scipy` package."
      ]
    },
    {
      "cell_type": "code",
      "metadata": {
        "id": "flndPX6-CqUj",
        "outputId": "f2ae32ef-3809-4aac-faa2-d9034120e931",
        "colab": {
          "base_uri": "https://localhost:8080/"
        }
      },
      "source": [
        "from scipy.misc import derivative\n",
        "\n",
        "f = lambda x: 3 * x**2 + 36 * x + 5\n",
        "x = 28\n",
        "derivative(f,x)"
      ],
      "execution_count": 29,
      "outputs": [
        {
          "output_type": "stream",
          "name": "stderr",
          "text": [
            "<ipython-input-29-c5856479620b>:5: DeprecationWarning: scipy.misc.derivative is deprecated in SciPy v1.10.0; and will be completely removed in SciPy v1.12.0. You may consider using findiff: https://github.com/maroba/findiff or numdifftools: https://github.com/pbrod/numdifftools\n",
            "  derivative(f,x)\n"
          ]
        },
        {
          "output_type": "execute_result",
          "data": {
            "text/plain": [
              "204.0"
            ]
          },
          "metadata": {},
          "execution_count": 29
        }
      ]
    },
    {
      "cell_type": "markdown",
      "metadata": {
        "id": "W3rZ8pXSCqUl"
      },
      "source": [
        "### Pour crude oil in tank (1 point)"
      ]
    },
    {
      "cell_type": "markdown",
      "metadata": {
        "id": "POBPDDx-CqUm"
      },
      "source": [
        "In a cylindrical tank of radius 10 meter, crude oil is being poured at the rate of 314 cubic meter per hour. Then find\n",
        "\n",
        "* the rate at which the height of crude oil is increasing in the tank, and\n",
        "* the height of crude oil in tank after 2 hours."
      ]
    },
    {
      "cell_type": "markdown",
      "metadata": {
        "id": "T1NqVHbTCqUn"
      },
      "source": [
        "**Solution:** Let $m$ be the rate at which the height of the tank is increasing.\n",
        "\n",
        "Then the height of crude oil in cylinder, increasing with time t, is given by\n",
        "\n",
        "$$h = m \\times t$$\n",
        "\n",
        "And volume of crude oil inside cylinder is given by,\n",
        "\n",
        "$$V = \\pi r^2 h$$\n",
        "\n",
        "Then, rate of change of volume is given by,\n",
        "\n",
        "$$\\frac{dV}{dt} = \\pi r^2 m$$"
      ]
    },
    {
      "cell_type": "code",
      "metadata": {
        "id": "tDTBRRLjCqUo",
        "outputId": "91bb6bd3-2513-4181-bb6a-268440200761",
        "colab": {
          "base_uri": "https://localhost:8080/",
          "height": 39
        }
      },
      "source": [
        "import numpy as np\n",
        "import sympy as sym\n",
        "\n",
        "# radius\n",
        "r = 10\n",
        "# time symbol\n",
        "t = sym.Symbol('t')\n",
        "# height rate symbol\n",
        "m = sym.Symbol('m')\n",
        "# height of tank\n",
        "h = m * t\n",
        "# volume of tank\n",
        "v = np.pi * r**2 * h\n",
        "\n",
        "# derivative(v,t)\n",
        "sym.Derivative(v, t).doit()"
      ],
      "execution_count": 30,
      "outputs": [
        {
          "output_type": "execute_result",
          "data": {
            "text/plain": [
              "314.159265358979*m"
            ],
            "text/latex": "$\\displaystyle 314.159265358979 m$"
          },
          "metadata": {},
          "execution_count": 30
        }
      ]
    },
    {
      "cell_type": "code",
      "metadata": {
        "id": "ViQOJFWpCqUq",
        "outputId": "b63ecdfe-0422-4f5b-a3ee-28fa9c9bff61",
        "colab": {
          "base_uri": "https://localhost:8080/"
        }
      },
      "source": [
        "# Given volume flow rate = 314 cubic meter/hr, solve for m\n",
        "m = solve([[314.16]], [[314]])\n",
        "print(\"Rate at which height of tank is increasing: \", m)"
      ],
      "execution_count": 31,
      "outputs": [
        {
          "output_type": "stream",
          "name": "stdout",
          "text": [
            "Rate at which height of tank is increasing:  [[0.99949071]]\n"
          ]
        }
      ]
    },
    {
      "cell_type": "markdown",
      "metadata": {
        "id": "KQ3EiJUJCqUs"
      },
      "source": [
        "Therefore, the rate at which the height of the tank is increasing is $1 meter/hour$.\n",
        "\n",
        "Now, let's calculate the height after two hours:"
      ]
    },
    {
      "cell_type": "code",
      "metadata": {
        "id": "0vBTCyn7CqUs",
        "outputId": "5d3bfd79-961e-46a7-ae2e-b65c3bcad36b",
        "colab": {
          "base_uri": "https://localhost:8080/"
        }
      },
      "source": [
        "t = 2\n",
        "h_2 = m * t\n",
        "print(\"Height of crude oil in tank after 2 hours: \", h_2)"
      ],
      "execution_count": 32,
      "outputs": [
        {
          "output_type": "stream",
          "name": "stdout",
          "text": [
            "Height of crude oil in tank after 2 hours:  [[1.99898141]]\n"
          ]
        }
      ]
    }
  ]
}