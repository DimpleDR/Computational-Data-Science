{
  "cells": [
    {
      "cell_type": "markdown",
      "metadata": {
        "id": "view-in-github",
        "colab_type": "text"
      },
      "source": [
        "<a href=\"https://colab.research.google.com/github/DimpleDR/Computational-Data-Science/blob/Projects/M6_SNB_MiniProject_1_Image_Classification_MLP.ipynb\" target=\"_parent\"><img src=\"https://colab.research.google.com/assets/colab-badge.svg\" alt=\"Open In Colab\"/></a>"
      ]
    },
    {
      "cell_type": "markdown",
      "id": "another-optimum",
      "metadata": {
        "id": "another-optimum"
      },
      "source": [
        "# Advanced Certification Program in Computational Data Science\n",
        "\n",
        "##  A program by IISc and TalentSprint\n",
        "\n",
        "### Mini Project Notebook: Image Classification using Multi Layer Perceptron"
      ]
    },
    {
      "cell_type": "markdown",
      "id": "n-kxaHhwXEp9",
      "metadata": {
        "id": "n-kxaHhwXEp9"
      },
      "source": [
        "**DISCLAIMER:** THIS NOTEBOOK IS PROVIDED ONLY AS A REFERENCE SOLUTION NOTEBOOK FOR THE MINI-PROJECT. THERE MAY BE OTHER POSSIBLE APPROACHES/METHODS TO ACHIEVE THE SAME RESULTS."
      ]
    },
    {
      "cell_type": "markdown",
      "id": "maritime-miami",
      "metadata": {
        "id": "maritime-miami"
      },
      "source": [
        "## Learning Objectives"
      ]
    },
    {
      "cell_type": "markdown",
      "id": "nljJR6CwfZN_",
      "metadata": {
        "id": "nljJR6CwfZN_"
      },
      "source": [
        "At the end of the experiment, you will be able to :\n",
        "\n",
        "* load and extract features of images\n",
        "\n",
        "* implement the Multi-Layer perceptron to classify images\n",
        "\n",
        "* implement simple neural network from keras"
      ]
    },
    {
      "cell_type": "markdown",
      "id": "29152de7",
      "metadata": {
        "id": "29152de7"
      },
      "source": [
        "## Introduction\n",
        "\n",
        "Traffic sign recognition is a challenging, real-world problem relevant for AI based transportation systems. Traffic signs show a wide range of variations between classes in terms of color, shape, and the presence of pictograms or text. However, there exist subsets of\n",
        "classes (e.g., speed limit signs) that are very similar to each other. Further, the classifier\n",
        "has to be robust against large variations in visual appearances due to changes in illumination, partial\n",
        "occlusions, rotations, weather conditions etc. Using a comprehensive traffic sign detection dataset, here we will perform classification of traffic signs, train and evaluate the different models and compare to the performance of MLPs."
      ]
    },
    {
      "cell_type": "markdown",
      "id": "58facc94",
      "metadata": {
        "id": "58facc94"
      },
      "source": [
        "![img](https://paperswithcode.com/media/datasets/GTSRB-0000000633-9ce3c5f6_Dki5Rsf.jpg)"
      ]
    },
    {
      "cell_type": "markdown",
      "id": "surprising-uruguay",
      "metadata": {
        "id": "surprising-uruguay"
      },
      "source": [
        "## Dataset\n",
        "\n",
        "The data for this mini-project is from the German Traffic Sign Detection Benchmark [GTSDB](https://benchmark.ini.rub.de/gtsdb_dataset.html). This archive contains the training set used during the IJCNN 2013 competition.\n",
        "\n",
        "The German Traffic Sign Detection Benchmark is a single-image detection assessment for researchers with interest in the field of computer vision, pattern recognition and image-based driver assistance. It is introduced on the IEEE International Joint Conference on Neural Networks 2013.\n",
        "\n",
        "It features ...\n",
        "\n",
        "* The main archive FullIJCNN2013.zip includes the images (1360 x 800 pixels) in PPM format, the image sections containing only the traffic signs\n",
        "* A file in CSV format with the ground truth\n",
        "* A ReadMe.txt with more details.\n",
        "\n",
        "Note that we will be using the images inside the image sections subfolders, containing only the traffic signs."
      ]
    },
    {
      "cell_type": "markdown",
      "id": "ih-oasWmdZul",
      "metadata": {
        "id": "ih-oasWmdZul"
      },
      "source": [
        "## Problem Statement"
      ]
    },
    {
      "cell_type": "markdown",
      "id": "qfWGmjNHdZul",
      "metadata": {
        "id": "qfWGmjNHdZul"
      },
      "source": [
        "To build and improve upon a machine learning model for the classification of images and achieve a high accuracy final model."
      ]
    },
    {
      "cell_type": "markdown",
      "id": "L3YEtPWvfexN",
      "metadata": {
        "id": "L3YEtPWvfexN"
      },
      "source": [
        "## Grading = 10 Points"
      ]
    },
    {
      "cell_type": "markdown",
      "source": [
        "##<b><font color=\"red\">Please run this solution notebook on your Google Colab T4 GPU runtime</font></b>"
      ],
      "metadata": {
        "id": "colQe_91LKJ7"
      },
      "id": "colQe_91LKJ7"
    },
    {
      "cell_type": "code",
      "execution_count": 1,
      "id": "812a816f",
      "metadata": {
        "cellView": "form",
        "id": "812a816f"
      },
      "outputs": [],
      "source": [
        "#@title Download the data\n",
        "!wget -qq https://sid.erda.dk/public/archives/ff17dc924eba88d5d01a807357d6614c/FullIJCNN2013.zip\n",
        "!unzip -qq FullIJCNN2013.zip"
      ]
    },
    {
      "cell_type": "markdown",
      "id": "abstract-stocks",
      "metadata": {
        "id": "abstract-stocks"
      },
      "source": [
        "### Import Required packages"
      ]
    },
    {
      "cell_type": "code",
      "execution_count": 2,
      "id": "advisory-knowing",
      "metadata": {
        "id": "advisory-knowing"
      },
      "outputs": [],
      "source": [
        "import pandas as pd\n",
        "import numpy as np\n",
        "from sklearn.model_selection import train_test_split\n",
        "import matplotlib.pyplot as plt\n",
        "from sklearn.neural_network import MLPClassifier\n",
        "from skimage.io import imread, imshow\n",
        "from sklearn import preprocessing\n",
        "import os, glob\n",
        "from PIL import Image\n",
        "from sklearn.model_selection import GridSearchCV\n",
        "# Keras\n",
        "import tensorflow as tf\n",
        "from tensorflow import keras\n",
        "from keras.models import Sequential\n",
        "from keras.layers import Dense, Dropout, BatchNormalization"
      ]
    },
    {
      "cell_type": "markdown",
      "id": "gp4bF_GJdZuo",
      "metadata": {
        "id": "gp4bF_GJdZuo"
      },
      "source": [
        "### Data Loading and Feature Extraction (2 points)\n",
        "\n",
        "#### Get the features and labels of data\n",
        "\n",
        "* Extract the features of the images within image sections only (do not use images located outside these folders)\n",
        "* Extract labels of the images\n",
        "* Resize the images to (30, 30) and convert to numpy 1-D array\n",
        "\n",
        "   Hint: [Link](https://machinelearningmastery.com/how-to-load-and-manipulate-images-for-deep-learning-in-python-with-pil-pillow/)"
      ]
    },
    {
      "cell_type": "code",
      "execution_count": 3,
      "id": "fc5c2362",
      "metadata": {
        "id": "fc5c2362",
        "colab": {
          "base_uri": "https://localhost:8080/"
        },
        "outputId": "39eb46ad-aaf5-41ad-f505-6e3a303234c4"
      },
      "outputs": [
        {
          "output_type": "execute_result",
          "data": {
            "text/plain": [
              "(1213, '/content/FullIJCNN2013/22/00003.ppm')"
            ]
          },
          "metadata": {},
          "execution_count": 3
        }
      ],
      "source": [
        "images_data = glob.glob(\"/content/FullIJCNN2013/*/*.ppm\")\n",
        "len(images_data), images_data[0]"
      ]
    },
    {
      "cell_type": "code",
      "execution_count": 4,
      "id": "c5b433fd",
      "metadata": {
        "id": "c5b433fd"
      },
      "outputs": [],
      "source": [
        "features, labels = [], []\n",
        "for i in images_data:\n",
        "    try:\n",
        "        img = Image.open(i)\n",
        "        img = img.resize((30,30))#.reshape(30*30*3)\n",
        "        labels.append(int(i.split(\"/\")[3]))\n",
        "        features.append(np.array(img))\n",
        "    except:\n",
        "        pass"
      ]
    },
    {
      "cell_type": "code",
      "execution_count": 5,
      "id": "HRbd6SBE_0vY",
      "metadata": {
        "id": "HRbd6SBE_0vY",
        "colab": {
          "base_uri": "https://localhost:8080/"
        },
        "outputId": "374463c3-e178-418f-cfb3-2011d7d33991"
      },
      "outputs": [
        {
          "output_type": "execute_result",
          "data": {
            "text/plain": [
              "(30, 30, 3)"
            ]
          },
          "metadata": {},
          "execution_count": 5
        }
      ],
      "source": [
        "features[0].shape"
      ]
    },
    {
      "cell_type": "code",
      "execution_count": 6,
      "id": "ccbb94db",
      "metadata": {
        "id": "ccbb94db",
        "colab": {
          "base_uri": "https://localhost:8080/"
        },
        "outputId": "00eb19bd-359b-4e92-e5b4-ef56123ca606"
      },
      "outputs": [
        {
          "output_type": "execute_result",
          "data": {
            "text/plain": [
              "(1213, 2700)"
            ]
          },
          "metadata": {},
          "execution_count": 6
        }
      ],
      "source": [
        "features1 = np.array([i.reshape(-1) for i in features])\n",
        "features1.shape"
      ]
    },
    {
      "cell_type": "code",
      "execution_count": 7,
      "id": "7W4QNo-w0prA",
      "metadata": {
        "id": "7W4QNo-w0prA",
        "colab": {
          "base_uri": "https://localhost:8080/"
        },
        "outputId": "1a18ca57-2348-440a-a05b-5f9a3437ec04"
      },
      "outputs": [
        {
          "output_type": "execute_result",
          "data": {
            "text/plain": [
              "43"
            ]
          },
          "metadata": {},
          "execution_count": 7
        }
      ],
      "source": [
        "n_classes = len(set(labels))\n",
        "n_classes"
      ]
    },
    {
      "cell_type": "markdown",
      "id": "Vky31w5Ef5YV",
      "metadata": {
        "id": "Vky31w5Ef5YV"
      },
      "source": [
        "### Data Exploration and Preprocessing ( 2 points)"
      ]
    },
    {
      "cell_type": "markdown",
      "id": "9ca63666",
      "metadata": {
        "id": "9ca63666"
      },
      "source": [
        "#### Plot the sample image of each class\n",
        "\n",
        "Hint: plt.subplot"
      ]
    },
    {
      "cell_type": "code",
      "execution_count": 8,
      "id": "c414e14e",
      "metadata": {
        "id": "c414e14e",
        "colab": {
          "base_uri": "https://localhost:8080/",
          "height": 450
        },
        "outputId": "2052ae13-7b60-4578-ddc5-eeb68ee2084c"
      },
      "outputs": [
        {
          "output_type": "execute_result",
          "data": {
            "text/plain": [
              "(80, 77, 3)"
            ]
          },
          "metadata": {},
          "execution_count": 8
        },
        {
          "output_type": "display_data",
          "data": {
            "text/plain": [
              "<Figure size 640x480 with 1 Axes>"
            ],
            "image/png": "[encoded data removed]"
          },
          "metadata": {}
        }
      ],
      "source": [
        "plt.imshow(imread('/content/FullIJCNN2013/01/00002.ppm'))\n",
        "imread('/content/FullIJCNN2013/01/00002.ppm').shape"
      ]
    },
    {
      "cell_type": "code",
      "execution_count": 9,
      "id": "08IEGHf80lhP",
      "metadata": {
        "id": "08IEGHf80lhP",
        "colab": {
          "base_uri": "https://localhost:8080/",
          "height": 758
        },
        "outputId": "052ba664-f9f3-4e26-cd24-af46cc03a5c8"
      },
      "outputs": [
        {
          "output_type": "display_data",
          "data": {
            "text/plain": [
              "<Figure size 1600x1600 with 43 Axes>"
            ],
            "image/png": "[encoded data removed]"
          },
          "metadata": {}
        }
      ],
      "source": [
        "targets = np.array(labels)\n",
        "plt.figure(figsize=(16, 16))\n",
        "for c in range(n_classes):\n",
        "    i = np.random.choice(np.where(targets == c)[0])\n",
        "    plt.subplot(8, 8, c+1)\n",
        "    plt.axis('off')\n",
        "    plt.title('class: {}'.format(c))\n",
        "    plt.imshow(features[i])"
      ]
    },
    {
      "cell_type": "markdown",
      "id": "8a2rqCM-sIbY",
      "metadata": {
        "id": "8a2rqCM-sIbY"
      },
      "source": [
        "#### Plot the distribution of Classes"
      ]
    },
    {
      "cell_type": "code",
      "execution_count": 10,
      "id": "nwWKGQMFsIDP",
      "metadata": {
        "id": "nwWKGQMFsIDP",
        "colab": {
          "base_uri": "https://localhost:8080/",
          "height": 469
        },
        "outputId": "0ec2dda9-dd26-4372-e662-54cd051abe33"
      },
      "outputs": [
        {
          "output_type": "execute_result",
          "data": {
            "text/plain": [
              "Text(0.5, 1.0, 'histogram')"
            ]
          },
          "metadata": {},
          "execution_count": 10
        },
        {
          "output_type": "display_data",
          "data": {
            "text/plain": [
              "<Figure size 640x480 with 1 Axes>"
            ],
            "image/png": "[encoded data removed]"
          },
          "metadata": {}
        }
      ],
      "source": [
        "# Visulization of the histogram\n",
        "images_per_class, bins, _ = plt.hist(labels,bins=range(n_classes))\n",
        "plt.xticks(range(n_classes))\n",
        "plt.title('histogram')"
      ]
    },
    {
      "cell_type": "markdown",
      "id": "37b23a0b",
      "metadata": {
        "id": "37b23a0b"
      },
      "source": [
        "#### Normalize the features\n",
        "\n",
        "For most image data, the pixel values are integers with values between 0 and 255.\n",
        "\n",
        "Neural networks process inputs using small weight values, and inputs with large integer values can disrupt or slow down the learning process. As such it is good practice to normalize the pixel values.\n",
        "\n",
        "Hint: sklearn.preprocessing.normalize"
      ]
    },
    {
      "cell_type": "code",
      "execution_count": 11,
      "id": "82239736",
      "metadata": {
        "id": "82239736",
        "colab": {
          "base_uri": "https://localhost:8080/"
        },
        "outputId": "9c98fa40-d06b-48dc-90d1-fbb841ab49ed"
      },
      "outputs": [
        {
          "output_type": "execute_result",
          "data": {
            "text/plain": [
              "(1213, 2700)"
            ]
          },
          "metadata": {},
          "execution_count": 11
        }
      ],
      "source": [
        "features_norm = preprocessing.normalize(features1, norm='l2')\n",
        "features_norm.shape"
      ]
    },
    {
      "cell_type": "markdown",
      "id": "28ea9c3a",
      "metadata": {
        "id": "28ea9c3a"
      },
      "source": [
        "### Train the MLP classifier on features (1 point)\n",
        "\n",
        "* Split the data into train and test\n",
        "\n",
        "* Train the MLP classifier with different parameters\n",
        "\n",
        "* Get the accuracy score and performance metrics"
      ]
    },
    {
      "cell_type": "code",
      "execution_count": 12,
      "id": "7f952950",
      "metadata": {
        "id": "7f952950",
        "colab": {
          "base_uri": "https://localhost:8080/"
        },
        "outputId": "722a2e3a-d920-4a0d-ff25-d56078a12fba"
      },
      "outputs": [
        {
          "output_type": "execute_result",
          "data": {
            "text/plain": [
              "((970, 2700), (243, 2700), (970,), (243,))"
            ]
          },
          "metadata": {},
          "execution_count": 12
        }
      ],
      "source": [
        "X_train, X_test, Y_train, Y_test = train_test_split(np.array(features_norm), np.array(labels), test_size=0.2)\n",
        "X_train.shape, X_test.shape, Y_train.shape, Y_test.shape"
      ]
    },
    {
      "cell_type": "markdown",
      "id": "dfe1e294",
      "metadata": {
        "id": "dfe1e294"
      },
      "source": [
        "### Tune the hyper-parameters (2 points)\n",
        "\n",
        "* Use the GridSearchCV and select best parameters\n",
        "\n",
        "  (or)\n",
        "* Manually change and find the best parameters\n",
        "\n",
        "To know about all the parameters, click [here](https://scikit-learn.org/stable/modules/generated/sklearn.neural_network.MLPClassifier.html)"
      ]
    },
    {
      "cell_type": "code",
      "execution_count": 13,
      "id": "fa798fa3",
      "metadata": {
        "id": "fa798fa3"
      },
      "outputs": [],
      "source": [
        "mlp = MLPClassifier(max_iter=100)\n",
        "parameter_space = {\n",
        "    'hidden_layer_sizes': [(450,225,100,50), (100,100,50), (100,)],\n",
        "    'activation': ['tanh', 'relu'],\n",
        "    'solver': ['sgd', 'adam'],\n",
        "    'alpha': [0.0001, 0.05],\n",
        "    'learning_rate': ['constant','adaptive'],\n",
        "}"
      ]
    },
    {
      "cell_type": "markdown",
      "source": [
        "<b><font color=\"red\">The following code cell will take execution time ~ 8 mins on GPU</font></b>\n"
      ],
      "metadata": {
        "id": "v15wPBJOKlB5"
      },
      "id": "v15wPBJOKlB5"
    },
    {
      "cell_type": "code",
      "execution_count": 14,
      "id": "eed63fc8",
      "metadata": {
        "id": "eed63fc8",
        "colab": {
          "base_uri": "https://localhost:8080/",
          "height": 254
        },
        "outputId": "8420cf5e-f4e9-454e-f271-13091abc0ac6"
      },
      "outputs": [
        {
          "output_type": "stream",
          "name": "stderr",
          "text": [
            "/usr/local/lib/python3.10/dist-packages/sklearn/model_selection/_split.py:805: UserWarning: The least populated class in y has only 1 members, which is less than n_splits=2.\n",
            "  warnings.warn(\n",
            "/usr/local/lib/python3.10/dist-packages/sklearn/neural_network/_multilayer_perceptron.py:691: ConvergenceWarning: Stochastic Optimizer: Maximum iterations (100) reached and the optimization hasn't converged yet.\n",
            "  warnings.warn(\n"
          ]
        },
        {
          "output_type": "execute_result",
          "data": {
            "text/plain": [
              "GridSearchCV(cv=2, estimator=MLPClassifier(max_iter=100), n_jobs=-1,\n",
              "             param_grid={'activation': ['tanh', 'relu'],\n",
              "                         'alpha': [0.0001, 0.05],\n",
              "                         'hidden_layer_sizes': [(450, 225, 100, 50),\n",
              "                                                (100, 100, 50), (100,)],\n",
              "                         'learning_rate': ['constant', 'adaptive'],\n",
              "                         'solver': ['sgd', 'adam']})"
            ],
            "text/html": [
              "<style>#sk-container-id-1 {\n",
              "  /* Definition of color scheme common for light and dark mode */\n",
              "  --sklearn-color-text: #000;\n",
              "  --sklearn-color-text-muted: #666;\n",
              "  --sklearn-color-line: gray;\n",
              "  /* Definition of color scheme for unfitted estimators */\n",
              "  --sklearn-color-unfitted-level-0: #fff5e6;\n",
              "  --sklearn-color-unfitted-level-1: #f6e4d2;\n",
              "  --sklearn-color-unfitted-level-2: #ffe0b3;\n",
              "  --sklearn-color-unfitted-level-3: chocolate;\n",
              "  /* Definition of color scheme for fitted estimators */\n",
              "  --sklearn-color-fitted-level-0: #f0f8ff;\n",
              "  --sklearn-color-fitted-level-1: #d4ebff;\n",
              "  --sklearn-color-fitted-level-2: #b3dbfd;\n",
              "  --sklearn-color-fitted-level-3: cornflowerblue;\n",
              "\n",
              "  /* Specific color for light theme */\n",
              "  --sklearn-color-text-on-default-background: var(--sg-text-color, var(--theme-code-foreground, var(--jp-content-font-color1, black)));\n",
              "  --sklearn-color-background: var(--sg-background-color, var(--theme-background, var(--jp-layout-color0, white)));\n",
              "  --sklearn-color-border-box: var(--sg-text-color, var(--theme-code-foreground, var(--jp-content-font-color1, black)));\n",
              "  --sklearn-color-icon: #696969;\n",
              "\n",
              "  @media (prefers-color-scheme: dark) {\n",
              "    /* Redefinition of color scheme for dark theme */\n",
              "    --sklearn-color-text-on-default-background: var(--sg-text-color, var(--theme-code-foreground, var(--jp-content-font-color1, white)));\n",
              "    --sklearn-color-background: var(--sg-background-color, var(--theme-background, var(--jp-layout-color0, #111)));\n",
              "    --sklearn-color-border-box: var(--sg-text-color, var(--theme-code-foreground, var(--jp-content-font-color1, white)));\n",
              "    --sklearn-color-icon: #878787;\n",
              "  }\n",
              "}\n",
              "\n",
              "#sk-container-id-1 {\n",
              "  color: var(--sklearn-color-text);\n",
              "}\n",
              "\n",
              "#sk-container-id-1 pre {\n",
              "  padding: 0;\n",
              "}\n",
              "\n",
              "#sk-container-id-1 input.sk-hidden--visually {\n",
              "  border: 0;\n",
              "  clip: rect(1px 1px 1px 1px);\n",
              "  clip: rect(1px, 1px, 1px, 1px);\n",
              "  height: 1px;\n",
              "  margin: -1px;\n",
              "  overflow: hidden;\n",
              "  padding: 0;\n",
              "  position: absolute;\n",
              "  width: 1px;\n",
              "}\n",
              "\n",
              "#sk-container-id-1 div.sk-dashed-wrapped {\n",
              "  border: 1px dashed var(--sklearn-color-line);\n",
              "  margin: 0 0.4em 0.5em 0.4em;\n",
              "  box-sizing: border-box;\n",
              "  padding-bottom: 0.4em;\n",
              "  background-color: var(--sklearn-color-background);\n",
              "}\n",
              "\n",
              "#sk-container-id-1 div.sk-container {\n",
              "  /* jupyter's `normalize.less` sets `[hidden] { display: none; }`\n",
              "     but bootstrap.min.css set `[hidden] { display: none !important; }`\n",
              "     so we also need the `!important` here to be able to override the\n",
              "     default hidden behavior on the sphinx rendered scikit-learn.org.\n",
              "     See: https://github.com/scikit-learn/scikit-learn/issues/21755 */\n",
              "  display: inline-block !important;\n",
              "  position: relative;\n",
              "}\n",
              "\n",
              "#sk-container-id-1 div.sk-text-repr-fallback {\n",
              "  display: none;\n",
              "}\n",
              "\n",
              "div.sk-parallel-item,\n",
              "div.sk-serial,\n",
              "div.sk-item {\n",
              "  /* draw centered vertical line to link estimators */\n",
              "  background-image: linear-gradient(var(--sklearn-color-text-on-default-background), var(--sklearn-color-text-on-default-background));\n",
              "  background-size: 2px 100%;\n",
              "  background-repeat: no-repeat;\n",
              "  background-position: center center;\n",
              "}\n",
              "\n",
              "/* Parallel-specific style estimator block */\n",
              "\n",
              "#sk-container-id-1 div.sk-parallel-item::after {\n",
              "  content: \"\";\n",
              "  width: 100%;\n",
              "  border-bottom: 2px solid var(--sklearn-color-text-on-default-background);\n",
              "  flex-grow: 1;\n",
              "}\n",
              "\n",
              "#sk-container-id-1 div.sk-parallel {\n",
              "  display: flex;\n",
              "  align-items: stretch;\n",
              "  justify-content: center;\n",
              "  background-color: var(--sklearn-color-background);\n",
              "  position: relative;\n",
              "}\n",
              "\n",
              "#sk-container-id-1 div.sk-parallel-item {\n",
              "  display: flex;\n",
              "  flex-direction: column;\n",
              "}\n",
              "\n",
              "#sk-container-id-1 div.sk-parallel-item:first-child::after {\n",
              "  align-self: flex-end;\n",
              "  width: 50%;\n",
              "}\n",
              "\n",
              "#sk-container-id-1 div.sk-parallel-item:last-child::after {\n",
              "  align-self: flex-start;\n",
              "  width: 50%;\n",
              "}\n",
              "\n",
              "#sk-container-id-1 div.sk-parallel-item:only-child::after {\n",
              "  width: 0;\n",
              "}\n",
              "\n",
              "/* Serial-specific style estimator block */\n",
              "\n",
              "#sk-container-id-1 div.sk-serial {\n",
              "  display: flex;\n",
              "  flex-direction: column;\n",
              "  align-items: center;\n",
              "  background-color: var(--sklearn-color-background);\n",
              "  padding-right: 1em;\n",
              "  padding-left: 1em;\n",
              "}\n",
              "\n",
              "\n",
              "/* Toggleable style: style used for estimator/Pipeline/ColumnTransformer box that is\n",
              "clickable and can be expanded/collapsed.\n",
              "- Pipeline and ColumnTransformer use this feature and define the default style\n",
              "- Estimators will overwrite some part of the style using the `sk-estimator` class\n",
              "*/\n",
              "\n",
              "/* Pipeline and ColumnTransformer style (default) */\n",
              "\n",
              "#sk-container-id-1 div.sk-toggleable {\n",
              "  /* Default theme specific background. It is overwritten whether we have a\n",
              "  specific estimator or a Pipeline/ColumnTransformer */\n",
              "  background-color: var(--sklearn-color-background);\n",
              "}\n",
              "\n",
              "/* Toggleable label */\n",
              "#sk-container-id-1 label.sk-toggleable__label {\n",
              "  cursor: pointer;\n",
              "  display: flex;\n",
              "  width: 100%;\n",
              "  margin-bottom: 0;\n",
              "  padding: 0.5em;\n",
              "  box-sizing: border-box;\n",
              "  text-align: center;\n",
              "  align-items: start;\n",
              "  justify-content: space-between;\n",
              "  gap: 0.5em;\n",
              "}\n",
              "\n",
              "#sk-container-id-1 label.sk-toggleable__label .caption {\n",
              "  font-size: 0.6rem;\n",
              "  font-weight: lighter;\n",
              "  color: var(--sklearn-color-text-muted);\n",
              "}\n",
              "\n",
              "#sk-container-id-1 label.sk-toggleable__label-arrow:before {\n",
              "  /* Arrow on the left of the label */\n",
              "  content: \"▸\";\n",
              "  float: left;\n",
              "  margin-right: 0.25em;\n",
              "  color: var(--sklearn-color-icon);\n",
              "}\n",
              "\n",
              "#sk-container-id-1 label.sk-toggleable__label-arrow:hover:before {\n",
              "  color: var(--sklearn-color-text);\n",
              "}\n",
              "\n",
              "/* Toggleable content - dropdown */\n",
              "\n",
              "#sk-container-id-1 div.sk-toggleable__content {\n",
              "  max-height: 0;\n",
              "  max-width: 0;\n",
              "  overflow: hidden;\n",
              "  text-align: left;\n",
              "  /* unfitted */\n",
              "  background-color: var(--sklearn-color-unfitted-level-0);\n",
              "}\n",
              "\n",
              "#sk-container-id-1 div.sk-toggleable__content.fitted {\n",
              "  /* fitted */\n",
              "  background-color: var(--sklearn-color-fitted-level-0);\n",
              "}\n",
              "\n",
              "#sk-container-id-1 div.sk-toggleable__content pre {\n",
              "  margin: 0.2em;\n",
              "  border-radius: 0.25em;\n",
              "  color: var(--sklearn-color-text);\n",
              "  /* unfitted */\n",
              "  background-color: var(--sklearn-color-unfitted-level-0);\n",
              "}\n",
              "\n",
              "#sk-container-id-1 div.sk-toggleable__content.fitted pre {\n",
              "  /* unfitted */\n",
              "  background-color: var(--sklearn-color-fitted-level-0);\n",
              "}\n",
              "\n",
              "#sk-container-id-1 input.sk-toggleable__control:checked~div.sk-toggleable__content {\n",
              "  /* Expand drop-down */\n",
              "  max-height: 200px;\n",
              "  max-width: 100%;\n",
              "  overflow: auto;\n",
              "}\n",
              "\n",
              "#sk-container-id-1 input.sk-toggleable__control:checked~label.sk-toggleable__label-arrow:before {\n",
              "  content: \"▾\";\n",
              "}\n",
              "\n",
              "/* Pipeline/ColumnTransformer-specific style */\n",
              "\n",
              "#sk-container-id-1 div.sk-label input.sk-toggleable__control:checked~label.sk-toggleable__label {\n",
              "  color: var(--sklearn-color-text);\n",
              "  background-color: var(--sklearn-color-unfitted-level-2);\n",
              "}\n",
              "\n",
              "#sk-container-id-1 div.sk-label.fitted input.sk-toggleable__control:checked~label.sk-toggleable__label {\n",
              "  background-color: var(--sklearn-color-fitted-level-2);\n",
              "}\n",
              "\n",
              "/* Estimator-specific style */\n",
              "\n",
              "/* Colorize estimator box */\n",
              "#sk-container-id-1 div.sk-estimator input.sk-toggleable__control:checked~label.sk-toggleable__label {\n",
              "  /* unfitted */\n",
              "  background-color: var(--sklearn-color-unfitted-level-2);\n",
              "}\n",
              "\n",
              "#sk-container-id-1 div.sk-estimator.fitted input.sk-toggleable__control:checked~label.sk-toggleable__label {\n",
              "  /* fitted */\n",
              "  background-color: var(--sklearn-color-fitted-level-2);\n",
              "}\n",
              "\n",
              "#sk-container-id-1 div.sk-label label.sk-toggleable__label,\n",
              "#sk-container-id-1 div.sk-label label {\n",
              "  /* The background is the default theme color */\n",
              "  color: var(--sklearn-color-text-on-default-background);\n",
              "}\n",
              "\n",
              "/* On hover, darken the color of the background */\n",
              "#sk-container-id-1 div.sk-label:hover label.sk-toggleable__label {\n",
              "  color: var(--sklearn-color-text);\n",
              "  background-color: var(--sklearn-color-unfitted-level-2);\n",
              "}\n",
              "\n",
              "/* Label box, darken color on hover, fitted */\n",
              "#sk-container-id-1 div.sk-label.fitted:hover label.sk-toggleable__label.fitted {\n",
              "  color: var(--sklearn-color-text);\n",
              "  background-color: var(--sklearn-color-fitted-level-2);\n",
              "}\n",
              "\n",
              "/* Estimator label */\n",
              "\n",
              "#sk-container-id-1 div.sk-label label {\n",
              "  font-family: monospace;\n",
              "  font-weight: bold;\n",
              "  display: inline-block;\n",
              "  line-height: 1.2em;\n",
              "}\n",
              "\n",
              "#sk-container-id-1 div.sk-label-container {\n",
              "  text-align: center;\n",
              "}\n",
              "\n",
              "/* Estimator-specific */\n",
              "#sk-container-id-1 div.sk-estimator {\n",
              "  font-family: monospace;\n",
              "  border: 1px dotted var(--sklearn-color-border-box);\n",
              "  border-radius: 0.25em;\n",
              "  box-sizing: border-box;\n",
              "  margin-bottom: 0.5em;\n",
              "  /* unfitted */\n",
              "  background-color: var(--sklearn-color-unfitted-level-0);\n",
              "}\n",
              "\n",
              "#sk-container-id-1 div.sk-estimator.fitted {\n",
              "  /* fitted */\n",
              "  background-color: var(--sklearn-color-fitted-level-0);\n",
              "}\n",
              "\n",
              "/* on hover */\n",
              "#sk-container-id-1 div.sk-estimator:hover {\n",
              "  /* unfitted */\n",
              "  background-color: var(--sklearn-color-unfitted-level-2);\n",
              "}\n",
              "\n",
              "#sk-container-id-1 div.sk-estimator.fitted:hover {\n",
              "  /* fitted */\n",
              "  background-color: var(--sklearn-color-fitted-level-2);\n",
              "}\n",
              "\n",
              "/* Specification for estimator info (e.g. \"i\" and \"?\") */\n",
              "\n",
              "/* Common style for \"i\" and \"?\" */\n",
              "\n",
              ".sk-estimator-doc-link,\n",
              "a:link.sk-estimator-doc-link,\n",
              "a:visited.sk-estimator-doc-link {\n",
              "  float: right;\n",
              "  font-size: smaller;\n",
              "  line-height: 1em;\n",
              "  font-family: monospace;\n",
              "  background-color: var(--sklearn-color-background);\n",
              "  border-radius: 1em;\n",
              "  height: 1em;\n",
              "  width: 1em;\n",
              "  text-decoration: none !important;\n",
              "  margin-left: 0.5em;\n",
              "  text-align: center;\n",
              "  /* unfitted */\n",
              "  border: var(--sklearn-color-unfitted-level-1) 1pt solid;\n",
              "  color: var(--sklearn-color-unfitted-level-1);\n",
              "}\n",
              "\n",
              ".sk-estimator-doc-link.fitted,\n",
              "a:link.sk-estimator-doc-link.fitted,\n",
              "a:visited.sk-estimator-doc-link.fitted {\n",
              "  /* fitted */\n",
              "  border: var(--sklearn-color-fitted-level-1) 1pt solid;\n",
              "  color: var(--sklearn-color-fitted-level-1);\n",
              "}\n",
              "\n",
              "/* On hover */\n",
              "div.sk-estimator:hover .sk-estimator-doc-link:hover,\n",
              ".sk-estimator-doc-link:hover,\n",
              "div.sk-label-container:hover .sk-estimator-doc-link:hover,\n",
              ".sk-estimator-doc-link:hover {\n",
              "  /* unfitted */\n",
              "  background-color: var(--sklearn-color-unfitted-level-3);\n",
              "  color: var(--sklearn-color-background);\n",
              "  text-decoration: none;\n",
              "}\n",
              "\n",
              "div.sk-estimator.fitted:hover .sk-estimator-doc-link.fitted:hover,\n",
              ".sk-estimator-doc-link.fitted:hover,\n",
              "div.sk-label-container:hover .sk-estimator-doc-link.fitted:hover,\n",
              ".sk-estimator-doc-link.fitted:hover {\n",
              "  /* fitted */\n",
              "  background-color: var(--sklearn-color-fitted-level-3);\n",
              "  color: var(--sklearn-color-background);\n",
              "  text-decoration: none;\n",
              "}\n",
              "\n",
              "/* Span, style for the box shown on hovering the info icon */\n",
              ".sk-estimator-doc-link span {\n",
              "  display: none;\n",
              "  z-index: 9999;\n",
              "  position: relative;\n",
              "  font-weight: normal;\n",
              "  right: .2ex;\n",
              "  padding: .5ex;\n",
              "  margin: .5ex;\n",
              "  width: min-content;\n",
              "  min-width: 20ex;\n",
              "  max-width: 50ex;\n",
              "  color: var(--sklearn-color-text);\n",
              "  box-shadow: 2pt 2pt 4pt #999;\n",
              "  /* unfitted */\n",
              "  background: var(--sklearn-color-unfitted-level-0);\n",
              "  border: .5pt solid var(--sklearn-color-unfitted-level-3);\n",
              "}\n",
              "\n",
              ".sk-estimator-doc-link.fitted span {\n",
              "  /* fitted */\n",
              "  background: var(--sklearn-color-fitted-level-0);\n",
              "  border: var(--sklearn-color-fitted-level-3);\n",
              "}\n",
              "\n",
              ".sk-estimator-doc-link:hover span {\n",
              "  display: block;\n",
              "}\n",
              "\n",
              "/* \"?\"-specific style due to the `<a>` HTML tag */\n",
              "\n",
              "#sk-container-id-1 a.estimator_doc_link {\n",
              "  float: right;\n",
              "  font-size: 1rem;\n",
              "  line-height: 1em;\n",
              "  font-family: monospace;\n",
              "  background-color: var(--sklearn-color-background);\n",
              "  border-radius: 1rem;\n",
              "  height: 1rem;\n",
              "  width: 1rem;\n",
              "  text-decoration: none;\n",
              "  /* unfitted */\n",
              "  color: var(--sklearn-color-unfitted-level-1);\n",
              "  border: var(--sklearn-color-unfitted-level-1) 1pt solid;\n",
              "}\n",
              "\n",
              "#sk-container-id-1 a.estimator_doc_link.fitted {\n",
              "  /* fitted */\n",
              "  border: var(--sklearn-color-fitted-level-1) 1pt solid;\n",
              "  color: var(--sklearn-color-fitted-level-1);\n",
              "}\n",
              "\n",
              "/* On hover */\n",
              "#sk-container-id-1 a.estimator_doc_link:hover {\n",
              "  /* unfitted */\n",
              "  background-color: var(--sklearn-color-unfitted-level-3);\n",
              "  color: var(--sklearn-color-background);\n",
              "  text-decoration: none;\n",
              "}\n",
              "\n",
              "#sk-container-id-1 a.estimator_doc_link.fitted:hover {\n",
              "  /* fitted */\n",
              "  background-color: var(--sklearn-color-fitted-level-3);\n",
              "}\n",
              "</style><div id=\"sk-container-id-1\" class=\"sk-top-container\"><div class=\"sk-text-repr-fallback\"><pre>GridSearchCV(cv=2, estimator=MLPClassifier(max_iter=100), n_jobs=-1,\n",
              "             param_grid={&#x27;activation&#x27;: [&#x27;tanh&#x27;, &#x27;relu&#x27;],\n",
              "                         &#x27;alpha&#x27;: [0.0001, 0.05],\n",
              "                         &#x27;hidden_layer_sizes&#x27;: [(450, 225, 100, 50),\n",
              "                                                (100, 100, 50), (100,)],\n",
              "                         &#x27;learning_rate&#x27;: [&#x27;constant&#x27;, &#x27;adaptive&#x27;],\n",
              "                         &#x27;solver&#x27;: [&#x27;sgd&#x27;, &#x27;adam&#x27;]})</pre><b>In a Jupyter environment, please rerun this cell to show the HTML representation or trust the notebook. <br />On GitHub, the HTML representation is unable to render, please try loading this page with nbviewer.org.</b></div><div class=\"sk-container\" hidden><div class=\"sk-item sk-dashed-wrapped\"><div class=\"sk-label-container\"><div class=\"sk-label fitted sk-toggleable\"><input class=\"sk-toggleable__control sk-hidden--visually\" id=\"sk-estimator-id-1\" type=\"checkbox\" ><label for=\"sk-estimator-id-1\" class=\"sk-toggleable__label fitted sk-toggleable__label-arrow\"><div><div>GridSearchCV</div></div><div><a class=\"sk-estimator-doc-link fitted\" rel=\"noreferrer\" target=\"_blank\" href=\"https://scikit-learn.org/1.6/modules/generated/sklearn.model_selection.GridSearchCV.html\">?<span>Documentation for GridSearchCV</span></a><span class=\"sk-estimator-doc-link fitted\">i<span>Fitted</span></span></div></label><div class=\"sk-toggleable__content fitted\"><pre>GridSearchCV(cv=2, estimator=MLPClassifier(max_iter=100), n_jobs=-1,\n",
              "             param_grid={&#x27;activation&#x27;: [&#x27;tanh&#x27;, &#x27;relu&#x27;],\n",
              "                         &#x27;alpha&#x27;: [0.0001, 0.05],\n",
              "                         &#x27;hidden_layer_sizes&#x27;: [(450, 225, 100, 50),\n",
              "                                                (100, 100, 50), (100,)],\n",
              "                         &#x27;learning_rate&#x27;: [&#x27;constant&#x27;, &#x27;adaptive&#x27;],\n",
              "                         &#x27;solver&#x27;: [&#x27;sgd&#x27;, &#x27;adam&#x27;]})</pre></div> </div></div><div class=\"sk-parallel\"><div class=\"sk-parallel-item\"><div class=\"sk-item\"><div class=\"sk-label-container\"><div class=\"sk-label fitted sk-toggleable\"><input class=\"sk-toggleable__control sk-hidden--visually\" id=\"sk-estimator-id-2\" type=\"checkbox\" ><label for=\"sk-estimator-id-2\" class=\"sk-toggleable__label fitted sk-toggleable__label-arrow\"><div><div>best_estimator_: MLPClassifier</div></div></label><div class=\"sk-toggleable__content fitted\"><pre>MLPClassifier(activation=&#x27;tanh&#x27;, alpha=0.05,\n",
              "              hidden_layer_sizes=(450, 225, 100, 50), learning_rate=&#x27;adaptive&#x27;,\n",
              "              max_iter=100)</pre></div> </div></div><div class=\"sk-serial\"><div class=\"sk-item\"><div class=\"sk-estimator fitted sk-toggleable\"><input class=\"sk-toggleable__control sk-hidden--visually\" id=\"sk-estimator-id-3\" type=\"checkbox\" ><label for=\"sk-estimator-id-3\" class=\"sk-toggleable__label fitted sk-toggleable__label-arrow\"><div><div>MLPClassifier</div></div><div><a class=\"sk-estimator-doc-link fitted\" rel=\"noreferrer\" target=\"_blank\" href=\"https://scikit-learn.org/1.6/modules/generated/sklearn.neural_network.MLPClassifier.html\">?<span>Documentation for MLPClassifier</span></a></div></label><div class=\"sk-toggleable__content fitted\"><pre>MLPClassifier(activation=&#x27;tanh&#x27;, alpha=0.05,\n",
              "              hidden_layer_sizes=(450, 225, 100, 50), learning_rate=&#x27;adaptive&#x27;,\n",
              "              max_iter=100)</pre></div> </div></div></div></div></div></div></div></div></div>"
            ]
          },
          "metadata": {},
          "execution_count": 14
        }
      ],
      "source": [
        "#clf = GridSearchCV(mlp, parameter_space, n_jobs=-1, cv=3)\n",
        "clf = GridSearchCV(mlp, parameter_space, n_jobs=-1, cv=2)\n",
        "clf.fit(X_train, Y_train)"
      ]
    },
    {
      "cell_type": "code",
      "execution_count": 15,
      "id": "c3ac351f",
      "metadata": {
        "colab": {
          "base_uri": "https://localhost:8080/"
        },
        "id": "c3ac351f",
        "outputId": "6afa593e-bd9d-4b1a-cf52-d3c729f5a05c"
      },
      "outputs": [
        {
          "output_type": "stream",
          "name": "stdout",
          "text": [
            "Best parameters found:\n",
            " {'activation': 'tanh', 'alpha': 0.05, 'hidden_layer_sizes': (450, 225, 100, 50), 'learning_rate': 'adaptive', 'solver': 'adam'}\n"
          ]
        }
      ],
      "source": [
        "# Best parameter set\n",
        "print('Best parameters found:\\n', clf.best_params_)"
      ]
    },
    {
      "cell_type": "code",
      "execution_count": 16,
      "id": "f29ce38e",
      "metadata": {
        "colab": {
          "base_uri": "https://localhost:8080/"
        },
        "id": "f29ce38e",
        "outputId": "1418ea19-748a-4fad-f821-f1675e4c34cf"
      },
      "outputs": [
        {
          "output_type": "execute_result",
          "data": {
            "text/plain": [
              "0.8847736625514403"
            ]
          },
          "metadata": {},
          "execution_count": 16
        }
      ],
      "source": [
        "mlp = MLPClassifier(activation='tanh',momentum=0.99,alpha=0.0001,max_iter=1000,\n",
        "                    hidden_layer_sizes=(450,225,100, 50),learning_rate='adaptive',solver='adam')\n",
        "mlp.fit(X_train, Y_train)\n",
        "mlp.score(X_test, Y_test)"
      ]
    },
    {
      "cell_type": "markdown",
      "id": "y7nh3qVgFCJg",
      "metadata": {
        "id": "y7nh3qVgFCJg"
      },
      "source": [
        "#### Classification report (only for internal purpose)"
      ]
    },
    {
      "cell_type": "code",
      "execution_count": 17,
      "id": "ImMJgHngFHSD",
      "metadata": {
        "colab": {
          "base_uri": "https://localhost:8080/"
        },
        "id": "ImMJgHngFHSD",
        "outputId": "e4d9ca77-c93b-42c5-8493-d45ac94c74ae"
      },
      "outputs": [
        {
          "output_type": "stream",
          "name": "stdout",
          "text": [
            "              precision    recall  f1-score   support\n",
            "\n",
            "           0       0.50      1.00      0.67         1\n",
            "           1       1.00      0.75      0.86        12\n",
            "           2       0.94      0.76      0.84        21\n",
            "           3       0.67      0.50      0.57         4\n",
            "           4       1.00      1.00      1.00        13\n",
            "           5       0.75      1.00      0.86        12\n",
            "           6       0.67      1.00      0.80         2\n",
            "           7       0.78      1.00      0.88         7\n",
            "           8       1.00      0.93      0.97        15\n",
            "           9       1.00      1.00      1.00         7\n",
            "          10       1.00      1.00      1.00        13\n",
            "          11       0.88      1.00      0.93         7\n",
            "          12       0.88      1.00      0.94        22\n",
            "          13       1.00      1.00      1.00        19\n",
            "          14       1.00      1.00      1.00         5\n",
            "          15       0.75      1.00      0.86         3\n",
            "          16       0.50      1.00      0.67         1\n",
            "          17       1.00      1.00      1.00         3\n",
            "          18       0.71      1.00      0.83         5\n",
            "          19       0.00      0.00      0.00         0\n",
            "          20       0.00      0.00      0.00         4\n",
            "          21       0.00      0.00      0.00         0\n",
            "          22       1.00      1.00      1.00         4\n",
            "          23       0.67      0.67      0.67         6\n",
            "          24       0.00      0.00      0.00         1\n",
            "          25       1.00      1.00      1.00         4\n",
            "          26       0.83      1.00      0.91         5\n",
            "          27       0.00      0.00      0.00         2\n",
            "          28       0.67      0.67      0.67         3\n",
            "          29       0.00      0.00      0.00         1\n",
            "          30       1.00      1.00      1.00         2\n",
            "          32       1.00      1.00      1.00         1\n",
            "          33       0.50      0.50      0.50         2\n",
            "          34       1.00      1.00      1.00         1\n",
            "          35       1.00      0.80      0.89         5\n",
            "          36       1.00      1.00      1.00         2\n",
            "          37       0.00      0.00      0.00         1\n",
            "          38       0.95      1.00      0.98        20\n",
            "          39       1.00      0.50      0.67         2\n",
            "          40       0.50      0.50      0.50         2\n",
            "          41       1.00      0.50      0.67         2\n",
            "          42       1.00      1.00      1.00         1\n",
            "\n",
            "    accuracy                           0.88       243\n",
            "   macro avg       0.72      0.74      0.72       243\n",
            "weighted avg       0.88      0.88      0.87       243\n",
            "\n"
          ]
        },
        {
          "output_type": "stream",
          "name": "stderr",
          "text": [
            "/usr/local/lib/python3.10/dist-packages/sklearn/metrics/_classification.py:1565: UndefinedMetricWarning: Precision is ill-defined and being set to 0.0 in labels with no predicted samples. Use `zero_division` parameter to control this behavior.\n",
            "  _warn_prf(average, modifier, f\"{metric.capitalize()} is\", len(result))\n",
            "/usr/local/lib/python3.10/dist-packages/sklearn/metrics/_classification.py:1565: UndefinedMetricWarning: Recall is ill-defined and being set to 0.0 in labels with no true samples. Use `zero_division` parameter to control this behavior.\n",
            "  _warn_prf(average, modifier, f\"{metric.capitalize()} is\", len(result))\n",
            "/usr/local/lib/python3.10/dist-packages/sklearn/metrics/_classification.py:1565: UndefinedMetricWarning: Precision is ill-defined and being set to 0.0 in labels with no predicted samples. Use `zero_division` parameter to control this behavior.\n",
            "  _warn_prf(average, modifier, f\"{metric.capitalize()} is\", len(result))\n",
            "/usr/local/lib/python3.10/dist-packages/sklearn/metrics/_classification.py:1565: UndefinedMetricWarning: Recall is ill-defined and being set to 0.0 in labels with no true samples. Use `zero_division` parameter to control this behavior.\n",
            "  _warn_prf(average, modifier, f\"{metric.capitalize()} is\", len(result))\n",
            "/usr/local/lib/python3.10/dist-packages/sklearn/metrics/_classification.py:1565: UndefinedMetricWarning: Precision is ill-defined and being set to 0.0 in labels with no predicted samples. Use `zero_division` parameter to control this behavior.\n",
            "  _warn_prf(average, modifier, f\"{metric.capitalize()} is\", len(result))\n",
            "/usr/local/lib/python3.10/dist-packages/sklearn/metrics/_classification.py:1565: UndefinedMetricWarning: Recall is ill-defined and being set to 0.0 in labels with no true samples. Use `zero_division` parameter to control this behavior.\n",
            "  _warn_prf(average, modifier, f\"{metric.capitalize()} is\", len(result))\n"
          ]
        }
      ],
      "source": [
        "pred_test = mlp.predict(X_test)\n",
        "from sklearn import metrics\n",
        "print(metrics.classification_report(Y_test, pred_test))"
      ]
    },
    {
      "cell_type": "code",
      "execution_count": 18,
      "id": "8dva2S313pIU",
      "metadata": {
        "colab": {
          "base_uri": "https://localhost:8080/"
        },
        "id": "8dva2S313pIU",
        "outputId": "911f4bf8-976e-48f8-eab7-8ee23ddb9f75"
      },
      "outputs": [
        {
          "output_type": "execute_result",
          "data": {
            "text/plain": [
              "array([[ 1,  0,  0, ...,  0,  0,  0],\n",
              "       [ 1,  9,  0, ...,  0,  0,  0],\n",
              "       [ 0,  0, 16, ...,  0,  0,  0],\n",
              "       ...,\n",
              "       [ 0,  0,  0, ...,  1,  0,  0],\n",
              "       [ 0,  0,  0, ...,  0,  1,  0],\n",
              "       [ 0,  0,  0, ...,  0,  0,  1]])"
            ]
          },
          "metadata": {},
          "execution_count": 18
        }
      ],
      "source": [
        "metrics.confusion_matrix(Y_test, pred_test)"
      ]
    },
    {
      "cell_type": "code",
      "execution_count": 19,
      "id": "_aL1cw5L30tq",
      "metadata": {
        "colab": {
          "base_uri": "https://localhost:8080/",
          "height": 706
        },
        "id": "_aL1cw5L30tq",
        "outputId": "dbdfa9af-6b7c-4f8f-837e-56a3b4acb3fd"
      },
      "outputs": [
        {
          "output_type": "display_data",
          "data": {
            "text/plain": [
              "<Figure size 720x720 with 12 Axes>"
            ],
            "image/png": "[encoded data removed]"
          },
          "metadata": {}
        }
      ],
      "source": [
        "def plot_gallery(images, titles, h, w, n_row=3, n_col=4):\n",
        "    \"\"\"Helper function to plot a gallery of portraits\"\"\"\n",
        "    plt.figure(figsize=(1.8 * n_col, 2.4 * n_row))\n",
        "    plt.subplots_adjust(bottom=0, left=.01, right=.99, top=.90, hspace=.35)\n",
        "    for i in range(n_row * n_col):\n",
        "        plt.subplot(n_row, n_col, i + 1)\n",
        "        plt.imshow(images[i].reshape((h, w,3)), cmap=plt.cm.gray)\n",
        "        plt.title(titles[i], size=12)\n",
        "        plt.xticks(())\n",
        "        plt.yticks(())\n",
        "\n",
        "def title(y_pred, y_test, target_names, i):\n",
        "    pred_name = target_names[y_pred[i]]\n",
        "    true_name = target_names[y_test[i]]\n",
        "    return 'predicted: %s\\ntrue:      %s' % (pred_name, true_name)\n",
        "\n",
        "prediction_titles = [title(pred_test, Y_test, Y_test, i)\n",
        "                     for i in range(pred_test.shape[0])]\n",
        "\n",
        "plot_gallery(X_test, prediction_titles, 30, 30)"
      ]
    },
    {
      "cell_type": "markdown",
      "id": "hvKwKPdfpY6N",
      "metadata": {
        "id": "hvKwKPdfpY6N"
      },
      "source": [
        "#### Use RandomSearchCV to search the hyper parameters\n",
        "\n",
        "<b><font color=\"red\">The following code cell will take execution time ~ 5 mins on GPU</font></b>"
      ]
    },
    {
      "cell_type": "code",
      "execution_count": 20,
      "id": "JmYAR0zKn_5n",
      "metadata": {
        "colab": {
          "base_uri": "https://localhost:8080/"
        },
        "id": "JmYAR0zKn_5n",
        "outputId": "75f95fdb-22f4-446a-aa9c-f77f9827594a"
      },
      "outputs": [
        {
          "output_type": "stream",
          "name": "stderr",
          "text": [
            "/usr/local/lib/python3.10/dist-packages/sklearn/model_selection/_split.py:805: UserWarning: The least populated class in y has only 1 members, which is less than n_splits=5.\n",
            "  warnings.warn(\n"
          ]
        },
        {
          "output_type": "execute_result",
          "data": {
            "text/plain": [
              "{'solver': 'adam',\n",
              " 'learning_rate': 'constant',\n",
              " 'hidden_layer_sizes': (450, 225, 100, 50),\n",
              " 'alpha': 0.0001,\n",
              " 'activation': 'relu'}"
            ]
          },
          "metadata": {},
          "execution_count": 20
        }
      ],
      "source": [
        "import scipy.stats\n",
        "from sklearn.model_selection import RandomizedSearchCV\n",
        "\n",
        "mlp = MLPClassifier(early_stopping=True)\n",
        "randomCV = RandomizedSearchCV(mlp,parameter_space)\n",
        "search = randomCV.fit(X_train, Y_train)\n",
        "search.best_params_"
      ]
    },
    {
      "cell_type": "markdown",
      "id": "911d0a39",
      "metadata": {
        "id": "911d0a39"
      },
      "source": [
        "#### Try the different algorithms and compare the results with MLP classifier"
      ]
    },
    {
      "cell_type": "code",
      "execution_count": 21,
      "id": "3727222f",
      "metadata": {
        "id": "3727222f"
      },
      "outputs": [],
      "source": [
        "from sklearn import tree\n",
        "from sklearn.ensemble import RandomForestClassifier\n",
        "from sklearn.svm import LinearSVC\n",
        "from xgboost import XGBClassifier\n",
        "from sklearn.svm import SVC"
      ]
    },
    {
      "cell_type": "code",
      "execution_count": 22,
      "id": "ae52e208",
      "metadata": {
        "colab": {
          "base_uri": "https://localhost:8080/"
        },
        "id": "ae52e208",
        "outputId": "3e115176-d93a-41ec-e6c1-16f799546c65"
      },
      "outputs": [
        {
          "output_type": "stream",
          "name": "stdout",
          "text": [
            "Requirement already satisfied: xgboost in /usr/local/lib/python3.10/dist-packages (2.1.3)\n",
            "Requirement already satisfied: numpy in /usr/local/lib/python3.10/dist-packages (from xgboost) (1.26.4)\n",
            "Requirement already satisfied: nvidia-nccl-cu12 in /usr/local/lib/python3.10/dist-packages (from xgboost) (2.23.4)\n",
            "Requirement already satisfied: scipy in /usr/local/lib/python3.10/dist-packages (from xgboost) (1.13.1)\n"
          ]
        }
      ],
      "source": [
        "!pip install  xgboost\n",
        "from xgboost import XGBClassifier"
      ]
    },
    {
      "cell_type": "code",
      "execution_count": 23,
      "id": "5eb43876",
      "metadata": {
        "colab": {
          "base_uri": "https://localhost:8080/"
        },
        "id": "5eb43876",
        "outputId": "73e3ce2c-df33-4898-ecf3-5fbadaeb9be8"
      },
      "outputs": [
        {
          "output_type": "execute_result",
          "data": {
            "text/plain": [
              "(0.5596707818930041, 1.0)"
            ]
          },
          "metadata": {},
          "execution_count": 23
        }
      ],
      "source": [
        "# Decision Tree\n",
        "dt_model_team = tree.DecisionTreeClassifier(random_state=42)\n",
        "dt_model_team = dt_model_team.fit(X_train, Y_train)\n",
        "dt_model_team.score(X_test, Y_test), dt_model_team.score(X_train, Y_train)"
      ]
    },
    {
      "cell_type": "code",
      "execution_count": 24,
      "id": "034293e7",
      "metadata": {
        "colab": {
          "base_uri": "https://localhost:8080/"
        },
        "id": "034293e7",
        "outputId": "d2510b07-b123-4b00-d18c-5363737a7b7d"
      },
      "outputs": [
        {
          "output_type": "execute_result",
          "data": {
            "text/plain": [
              "(0.8395061728395061, 1.0)"
            ]
          },
          "metadata": {},
          "execution_count": 24
        }
      ],
      "source": [
        "# Random Forest\n",
        "rf_model_team = RandomForestClassifier(max_depth=10, n_estimators=250,criterion='entropy',random_state=42)\n",
        "rf_model_team.fit(X_train, Y_train)\n",
        "rf_model_team.score(X_test, Y_test), rf_model_team.score(X_train, Y_train)"
      ]
    },
    {
      "cell_type": "code",
      "execution_count": 25,
      "id": "433a7879",
      "metadata": {
        "id": "433a7879",
        "colab": {
          "base_uri": "https://localhost:8080/"
        },
        "outputId": "c3f326dd-16e8-4f7d-e04f-2a425263e9eb"
      },
      "outputs": [
        {
          "output_type": "execute_result",
          "data": {
            "text/plain": [
              "0.7818930041152263"
            ]
          },
          "metadata": {},
          "execution_count": 25
        }
      ],
      "source": [
        "#Linear SVC\n",
        "Lsvm = LinearSVC(random_state=0, tol=1e-5)\n",
        "Lsvm.fit(X_train, Y_train)\n",
        "Lsvm.score(X_test, Y_test)"
      ]
    },
    {
      "cell_type": "code",
      "execution_count": 26,
      "id": "f2ca6b82",
      "metadata": {
        "id": "f2ca6b82",
        "colab": {
          "base_uri": "https://localhost:8080/"
        },
        "outputId": "a261a65b-fa61-4a16-84b4-22e3d506427e"
      },
      "outputs": [
        {
          "output_type": "execute_result",
          "data": {
            "text/plain": [
              "0.7160493827160493"
            ]
          },
          "metadata": {},
          "execution_count": 26
        }
      ],
      "source": [
        "svm_clf = SVC(kernel=\"rbf\",C=1.0)\n",
        "svm_clf.fit(X_train, Y_train)\n",
        "svm_clf.score(X_test, Y_test)"
      ]
    },
    {
      "cell_type": "code",
      "execution_count": 27,
      "id": "08b0c234",
      "metadata": {
        "id": "08b0c234",
        "colab": {
          "base_uri": "https://localhost:8080/"
        },
        "outputId": "b643aad5-2e72-4a1f-edb8-1a171ede6fb5"
      },
      "outputs": [
        {
          "output_type": "execute_result",
          "data": {
            "text/plain": [
              "0.7613168724279835"
            ]
          },
          "metadata": {},
          "execution_count": 27
        }
      ],
      "source": [
        "xgb = XGBClassifier()\n",
        "xgb.fit(X_train, Y_train)\n",
        "xgb.score(X_test, Y_test)"
      ]
    },
    {
      "cell_type": "markdown",
      "id": "af9cd34e",
      "metadata": {
        "id": "af9cd34e"
      },
      "source": [
        "### Implement simple Neural Networks using keras (3 points)\n",
        "\n",
        "* Define the keras model and initialize the layers\n",
        "  - Ensure the input layer has the right number of input features. This can be specified when creating the first layer with the input_dim argument.\n",
        "* Compile the model\n",
        "  - Specify the loss function (to evaluate a set of weights), the optimizer (is used to search through different weights for the network) and any optional metrics to collect and report during training.\n",
        "* Fit and Evaluate the model\n",
        "  - Fit the data by specifying epochs and evaluate the model"
      ]
    },
    {
      "cell_type": "code",
      "execution_count": 28,
      "id": "fcf8d025",
      "metadata": {
        "id": "fcf8d025",
        "colab": {
          "base_uri": "https://localhost:8080/"
        },
        "outputId": "3107a73d-38b4-4f47-f63a-6ed280735396"
      },
      "outputs": [
        {
          "output_type": "stream",
          "name": "stdout",
          "text": [
            "2.17.1\n"
          ]
        }
      ],
      "source": [
        "print(tf.__version__) # 1.12.0"
      ]
    },
    {
      "cell_type": "code",
      "execution_count": 29,
      "id": "1ecbe0db",
      "metadata": {
        "id": "1ecbe0db",
        "colab": {
          "base_uri": "https://localhost:8080/",
          "height": 320
        },
        "outputId": "fa8a4f95-e72a-4c1c-80e9-8efb653c14a2"
      },
      "outputs": [
        {
          "output_type": "stream",
          "name": "stderr",
          "text": [
            "/usr/local/lib/python3.10/dist-packages/keras/src/layers/reshaping/flatten.py:37: UserWarning: Do not pass an `input_shape`/`input_dim` argument to a layer. When using Sequential models, prefer using an `Input(shape)` object as the first layer in the model instead.\n",
            "  super().__init__(**kwargs)\n"
          ]
        },
        {
          "output_type": "display_data",
          "data": {
            "text/plain": [
              "\u001b[1mModel: \"sequential\"\u001b[0m\n"
            ],
            "text/html": [
              "<pre style=\"white-space:pre;overflow-x:auto;line-height:normal;font-family:Menlo,'DejaVu Sans Mono',consolas,'Courier New',monospace\"><span style=\"font-weight: bold\">Model: \"sequential\"</span>\n",
              "</pre>\n"
            ]
          },
          "metadata": {}
        },
        {
          "output_type": "display_data",
          "data": {
            "text/plain": [
              "┏━━━━━━━━━━━━━━━━━━━━━━━━━━━━━━━━━━━━━━┳━━━━━━━━━━━━━━━━━━━━━━━━━━━━━┳━━━━━━━━━━━━━━━━━┓\n",
              "┃\u001b[1m \u001b[0m\u001b[1mLayer (type)                        \u001b[0m\u001b[1m \u001b[0m┃\u001b[1m \u001b[0m\u001b[1mOutput Shape               \u001b[0m\u001b[1m \u001b[0m┃\u001b[1m \u001b[0m\u001b[1m        Param #\u001b[0m\u001b[1m \u001b[0m┃\n",
              "┡━━━━━━━━━━━━━━━━━━━━━━━━━━━━━━━━━━━━━━╇━━━━━━━━━━━━━━━━━━━━━━━━━━━━━╇━━━━━━━━━━━━━━━━━┩\n",
              "│ flatten (\u001b[38;5;33mFlatten\u001b[0m)                    │ (\u001b[38;5;45mNone\u001b[0m, \u001b[38;5;34m2700\u001b[0m)                │               \u001b[38;5;34m0\u001b[0m │\n",
              "├──────────────────────────────────────┼─────────────────────────────┼─────────────────┤\n",
              "│ dense (\u001b[38;5;33mDense\u001b[0m)                        │ (\u001b[38;5;45mNone\u001b[0m, \u001b[38;5;34m1350\u001b[0m)                │       \u001b[38;5;34m3,646,350\u001b[0m │\n",
              "├──────────────────────────────────────┼─────────────────────────────┼─────────────────┤\n",
              "│ dense_1 (\u001b[38;5;33mDense\u001b[0m)                      │ (\u001b[38;5;45mNone\u001b[0m, \u001b[38;5;34m675\u001b[0m)                 │         \u001b[38;5;34m911,925\u001b[0m │\n",
              "├──────────────────────────────────────┼─────────────────────────────┼─────────────────┤\n",
              "│ dense_2 (\u001b[38;5;33mDense\u001b[0m)                      │ (\u001b[38;5;45mNone\u001b[0m, \u001b[38;5;34m43\u001b[0m)                  │          \u001b[38;5;34m29,068\u001b[0m │\n",
              "└──────────────────────────────────────┴─────────────────────────────┴─────────────────┘\n"
            ],
            "text/html": [
              "<pre style=\"white-space:pre;overflow-x:auto;line-height:normal;font-family:Menlo,'DejaVu Sans Mono',consolas,'Courier New',monospace\">┏━━━━━━━━━━━━━━━━━━━━━━━━━━━━━━━━━━━━━━┳━━━━━━━━━━━━━━━━━━━━━━━━━━━━━┳━━━━━━━━━━━━━━━━━┓\n",
              "┃<span style=\"font-weight: bold\"> Layer (type)                         </span>┃<span style=\"font-weight: bold\"> Output Shape                </span>┃<span style=\"font-weight: bold\">         Param # </span>┃\n",
              "┡━━━━━━━━━━━━━━━━━━━━━━━━━━━━━━━━━━━━━━╇━━━━━━━━━━━━━━━━━━━━━━━━━━━━━╇━━━━━━━━━━━━━━━━━┩\n",
              "│ flatten (<span style=\"color: #0087ff; text-decoration-color: #0087ff\">Flatten</span>)                    │ (<span style=\"color: #00d7ff; text-decoration-color: #00d7ff\">None</span>, <span style=\"color: #00af00; text-decoration-color: #00af00\">2700</span>)                │               <span style=\"color: #00af00; text-decoration-color: #00af00\">0</span> │\n",
              "├──────────────────────────────────────┼─────────────────────────────┼─────────────────┤\n",
              "│ dense (<span style=\"color: #0087ff; text-decoration-color: #0087ff\">Dense</span>)                        │ (<span style=\"color: #00d7ff; text-decoration-color: #00d7ff\">None</span>, <span style=\"color: #00af00; text-decoration-color: #00af00\">1350</span>)                │       <span style=\"color: #00af00; text-decoration-color: #00af00\">3,646,350</span> │\n",
              "├──────────────────────────────────────┼─────────────────────────────┼─────────────────┤\n",
              "│ dense_1 (<span style=\"color: #0087ff; text-decoration-color: #0087ff\">Dense</span>)                      │ (<span style=\"color: #00d7ff; text-decoration-color: #00d7ff\">None</span>, <span style=\"color: #00af00; text-decoration-color: #00af00\">675</span>)                 │         <span style=\"color: #00af00; text-decoration-color: #00af00\">911,925</span> │\n",
              "├──────────────────────────────────────┼─────────────────────────────┼─────────────────┤\n",
              "│ dense_2 (<span style=\"color: #0087ff; text-decoration-color: #0087ff\">Dense</span>)                      │ (<span style=\"color: #00d7ff; text-decoration-color: #00d7ff\">None</span>, <span style=\"color: #00af00; text-decoration-color: #00af00\">43</span>)                  │          <span style=\"color: #00af00; text-decoration-color: #00af00\">29,068</span> │\n",
              "└──────────────────────────────────────┴─────────────────────────────┴─────────────────┘\n",
              "</pre>\n"
            ]
          },
          "metadata": {}
        },
        {
          "output_type": "display_data",
          "data": {
            "text/plain": [
              "\u001b[1m Total params: \u001b[0m\u001b[38;5;34m4,587,343\u001b[0m (17.50 MB)\n"
            ],
            "text/html": [
              "<pre style=\"white-space:pre;overflow-x:auto;line-height:normal;font-family:Menlo,'DejaVu Sans Mono',consolas,'Courier New',monospace\"><span style=\"font-weight: bold\"> Total params: </span><span style=\"color: #00af00; text-decoration-color: #00af00\">4,587,343</span> (17.50 MB)\n",
              "</pre>\n"
            ]
          },
          "metadata": {}
        },
        {
          "output_type": "display_data",
          "data": {
            "text/plain": [
              "\u001b[1m Trainable params: \u001b[0m\u001b[38;5;34m4,587,343\u001b[0m (17.50 MB)\n"
            ],
            "text/html": [
              "<pre style=\"white-space:pre;overflow-x:auto;line-height:normal;font-family:Menlo,'DejaVu Sans Mono',consolas,'Courier New',monospace\"><span style=\"font-weight: bold\"> Trainable params: </span><span style=\"color: #00af00; text-decoration-color: #00af00\">4,587,343</span> (17.50 MB)\n",
              "</pre>\n"
            ]
          },
          "metadata": {}
        },
        {
          "output_type": "display_data",
          "data": {
            "text/plain": [
              "\u001b[1m Non-trainable params: \u001b[0m\u001b[38;5;34m0\u001b[0m (0.00 B)\n"
            ],
            "text/html": [
              "<pre style=\"white-space:pre;overflow-x:auto;line-height:normal;font-family:Menlo,'DejaVu Sans Mono',consolas,'Courier New',monospace\"><span style=\"font-weight: bold\"> Non-trainable params: </span><span style=\"color: #00af00; text-decoration-color: #00af00\">0</span> (0.00 B)\n",
              "</pre>\n"
            ]
          },
          "metadata": {}
        }
      ],
      "source": [
        "# Step 1 - Build the architecture\n",
        "# Model a simple 3-layer neural network\n",
        "nn_model = keras.Sequential([\n",
        "    keras.layers.Flatten(input_shape=[2700]),\n",
        "    keras.layers.Dense(1350, activation=tf.nn.relu),\n",
        "    keras.layers.Dense(675, activation=tf.nn.relu),\n",
        "    keras.layers.Dense(43, activation=tf.nn.softmax)\n",
        "])\n",
        "nn_model.summary()"
      ]
    },
    {
      "cell_type": "code",
      "execution_count": 30,
      "id": "53e1db62",
      "metadata": {
        "id": "53e1db62",
        "colab": {
          "base_uri": "https://localhost:8080/"
        },
        "outputId": "54c36d50-b50f-4e2e-ba7e-6aea0c17e2dd"
      },
      "outputs": [
        {
          "output_type": "execute_result",
          "data": {
            "text/plain": [
              "((970, 2700), (970,), 43)"
            ]
          },
          "metadata": {},
          "execution_count": 30
        }
      ],
      "source": [
        "np.array(X_train).shape, Y_train.shape, len(set(labels))"
      ]
    },
    {
      "cell_type": "code",
      "execution_count": 31,
      "id": "d4c7bc66",
      "metadata": {
        "id": "d4c7bc66"
      },
      "outputs": [],
      "source": [
        "# Step 2 - Compile the model\n",
        "nn_model.compile(optimizer='adam',\n",
        "              loss='sparse_categorical_crossentropy',\n",
        "              metrics=['accuracy'])"
      ]
    },
    {
      "cell_type": "code",
      "execution_count": 32,
      "id": "27400de2",
      "metadata": {
        "id": "27400de2",
        "colab": {
          "base_uri": "https://localhost:8080/"
        },
        "outputId": "4fb2a039-76b4-401f-bc31-c439dbcb6f0d"
      },
      "outputs": [
        {
          "output_type": "stream",
          "name": "stdout",
          "text": [
            "Epoch 1/20\n",
            "\u001b[1m31/31\u001b[0m \u001b[32m━━━━━━━━━━━━━━━━━━━━\u001b[0m\u001b[37m\u001b[0m \u001b[1m4s\u001b[0m 54ms/step - accuracy: 0.0677 - loss: 3.5158\n",
            "Epoch 2/20\n",
            "\u001b[1m31/31\u001b[0m \u001b[32m━━━━━━━━━━━━━━━━━━━━\u001b[0m\u001b[37m\u001b[0m \u001b[1m0s\u001b[0m 3ms/step - accuracy: 0.2088 - loss: 3.1071\n",
            "Epoch 3/20\n",
            "\u001b[1m31/31\u001b[0m \u001b[32m━━━━━━━━━━━━━━━━━━━━\u001b[0m\u001b[37m\u001b[0m \u001b[1m0s\u001b[0m 3ms/step - accuracy: 0.3323 - loss: 2.5097\n",
            "Epoch 4/20\n",
            "\u001b[1m31/31\u001b[0m \u001b[32m━━━━━━━━━━━━━━━━━━━━\u001b[0m\u001b[37m\u001b[0m \u001b[1m0s\u001b[0m 3ms/step - accuracy: 0.4014 - loss: 2.0585\n",
            "Epoch 5/20\n",
            "\u001b[1m31/31\u001b[0m \u001b[32m━━━━━━━━━━━━━━━━━━━━\u001b[0m\u001b[37m\u001b[0m \u001b[1m0s\u001b[0m 3ms/step - accuracy: 0.4764 - loss: 1.7078\n",
            "Epoch 6/20\n",
            "\u001b[1m31/31\u001b[0m \u001b[32m━━━━━━━━━━━━━━━━━━━━\u001b[0m\u001b[37m\u001b[0m \u001b[1m0s\u001b[0m 3ms/step - accuracy: 0.5455 - loss: 1.5007\n",
            "Epoch 7/20\n",
            "\u001b[1m31/31\u001b[0m \u001b[32m━━━━━━━━━━━━━━━━━━━━\u001b[0m\u001b[37m\u001b[0m \u001b[1m0s\u001b[0m 3ms/step - accuracy: 0.6042 - loss: 1.3385\n",
            "Epoch 8/20\n",
            "\u001b[1m31/31\u001b[0m \u001b[32m━━━━━━━━━━━━━━━━━━━━\u001b[0m\u001b[37m\u001b[0m \u001b[1m0s\u001b[0m 3ms/step - accuracy: 0.6104 - loss: 1.2244\n",
            "Epoch 9/20\n",
            "\u001b[1m31/31\u001b[0m \u001b[32m━━━━━━━━━━━━━━━━━━━━\u001b[0m\u001b[37m\u001b[0m \u001b[1m0s\u001b[0m 3ms/step - accuracy: 0.6830 - loss: 1.0387\n",
            "Epoch 10/20\n",
            "\u001b[1m31/31\u001b[0m \u001b[32m━━━━━━━━━━━━━━━━━━━━\u001b[0m\u001b[37m\u001b[0m \u001b[1m0s\u001b[0m 5ms/step - accuracy: 0.7264 - loss: 0.9251\n",
            "Epoch 11/20\n",
            "\u001b[1m31/31\u001b[0m \u001b[32m━━━━━━━━━━━━━━━━━━━━\u001b[0m\u001b[37m\u001b[0m \u001b[1m0s\u001b[0m 3ms/step - accuracy: 0.7806 - loss: 0.8040\n",
            "Epoch 12/20\n",
            "\u001b[1m31/31\u001b[0m \u001b[32m━━━━━━━━━━━━━━━━━━━━\u001b[0m\u001b[37m\u001b[0m \u001b[1m0s\u001b[0m 4ms/step - accuracy: 0.7650 - loss: 0.7812\n",
            "Epoch 13/20\n",
            "\u001b[1m31/31\u001b[0m \u001b[32m━━━━━━━━━━━━━━━━━━━━\u001b[0m\u001b[37m\u001b[0m \u001b[1m0s\u001b[0m 5ms/step - accuracy: 0.8167 - loss: 0.5933\n",
            "Epoch 14/20\n",
            "\u001b[1m31/31\u001b[0m \u001b[32m━━━━━━━━━━━━━━━━━━━━\u001b[0m\u001b[37m\u001b[0m \u001b[1m0s\u001b[0m 4ms/step - accuracy: 0.8625 - loss: 0.5732\n",
            "Epoch 15/20\n",
            "\u001b[1m31/31\u001b[0m \u001b[32m━━━━━━━━━━━━━━━━━━━━\u001b[0m\u001b[37m\u001b[0m \u001b[1m0s\u001b[0m 4ms/step - accuracy: 0.8175 - loss: 0.6069\n",
            "Epoch 16/20\n",
            "\u001b[1m31/31\u001b[0m \u001b[32m━━━━━━━━━━━━━━━━━━━━\u001b[0m\u001b[37m\u001b[0m \u001b[1m0s\u001b[0m 4ms/step - accuracy: 0.8721 - loss: 0.4723\n",
            "Epoch 17/20\n",
            "\u001b[1m31/31\u001b[0m \u001b[32m━━━━━━━━━━━━━━━━━━━━\u001b[0m\u001b[37m\u001b[0m \u001b[1m0s\u001b[0m 4ms/step - accuracy: 0.8913 - loss: 0.4026\n",
            "Epoch 18/20\n",
            "\u001b[1m31/31\u001b[0m \u001b[32m━━━━━━━━━━━━━━━━━━━━\u001b[0m\u001b[37m\u001b[0m \u001b[1m0s\u001b[0m 4ms/step - accuracy: 0.8752 - loss: 0.4055\n",
            "Epoch 19/20\n",
            "\u001b[1m31/31\u001b[0m \u001b[32m━━━━━━━━━━━━━━━━━━━━\u001b[0m\u001b[37m\u001b[0m \u001b[1m0s\u001b[0m 4ms/step - accuracy: 0.9036 - loss: 0.3471\n",
            "Epoch 20/20\n",
            "\u001b[1m31/31\u001b[0m \u001b[32m━━━━━━━━━━━━━━━━━━━━\u001b[0m\u001b[37m\u001b[0m \u001b[1m0s\u001b[0m 4ms/step - accuracy: 0.9313 - loss: 0.2726\n"
          ]
        },
        {
          "output_type": "execute_result",
          "data": {
            "text/plain": [
              "<keras.src.callbacks.history.History at 0x7beb4fbbc160>"
            ]
          },
          "metadata": {},
          "execution_count": 32
        }
      ],
      "source": [
        "nn_model.fit(X_train, Y_train, epochs=20)"
      ]
    },
    {
      "cell_type": "code",
      "execution_count": 33,
      "id": "ee941659",
      "metadata": {
        "id": "ee941659",
        "colab": {
          "base_uri": "https://localhost:8080/"
        },
        "outputId": "30dc1745-3a84-4ff4-e7fd-06fb5580bbcc"
      },
      "outputs": [
        {
          "output_type": "stream",
          "name": "stdout",
          "text": [
            "\u001b[1m8/8\u001b[0m \u001b[32m━━━━━━━━━━━━━━━━━━━━\u001b[0m\u001b[37m\u001b[0m \u001b[1m2s\u001b[0m 119ms/step - accuracy: 0.7820 - loss: 0.7333\n"
          ]
        },
        {
          "output_type": "execute_result",
          "data": {
            "text/plain": [
              "[0.6555255055427551, 0.806584358215332]"
            ]
          },
          "metadata": {},
          "execution_count": 33
        }
      ],
      "source": [
        "nn_model.evaluate(X_test, Y_test)"
      ]
    },
    {
      "cell_type": "markdown",
      "id": "cSUDO2lLmQJO",
      "metadata": {
        "id": "cSUDO2lLmQJO"
      },
      "source": [
        "#### Try the same parameters used for MLP Classifier and build the keras model"
      ]
    },
    {
      "cell_type": "code",
      "execution_count": 34,
      "id": "_BUQ57D9jXQh",
      "metadata": {
        "id": "_BUQ57D9jXQh",
        "colab": {
          "base_uri": "https://localhost:8080/"
        },
        "outputId": "5b9d0da4-e891-42cf-ab05-a63259b49ef7"
      },
      "outputs": [
        {
          "output_type": "stream",
          "name": "stdout",
          "text": [
            "Epoch 1/20\n",
            "\u001b[1m31/31\u001b[0m \u001b[32m━━━━━━━━━━━━━━━━━━━━\u001b[0m\u001b[37m\u001b[0m \u001b[1m6s\u001b[0m 90ms/step - accuracy: 0.0957 - loss: 3.5434\n",
            "Epoch 2/20\n",
            "\u001b[1m31/31\u001b[0m \u001b[32m━━━━━━━━━━━━━━━━━━━━\u001b[0m\u001b[37m\u001b[0m \u001b[1m1s\u001b[0m 4ms/step - accuracy: 0.2646 - loss: 2.8808\n",
            "Epoch 3/20\n",
            "\u001b[1m31/31\u001b[0m \u001b[32m━━━━━━━━━━━━━━━━━━━━\u001b[0m\u001b[37m\u001b[0m \u001b[1m0s\u001b[0m 3ms/step - accuracy: 0.3862 - loss: 2.2933\n",
            "Epoch 4/20\n",
            "\u001b[1m31/31\u001b[0m \u001b[32m━━━━━━━━━━━━━━━━━━━━\u001b[0m\u001b[37m\u001b[0m \u001b[1m0s\u001b[0m 3ms/step - accuracy: 0.5345 - loss: 1.7739\n",
            "Epoch 5/20\n",
            "\u001b[1m31/31\u001b[0m \u001b[32m━━━━━━━━━━━━━━━━━━━━\u001b[0m\u001b[37m\u001b[0m \u001b[1m0s\u001b[0m 4ms/step - accuracy: 0.5697 - loss: 1.5116\n",
            "Epoch 6/20\n",
            "\u001b[1m31/31\u001b[0m \u001b[32m━━━━━━━━━━━━━━━━━━━━\u001b[0m\u001b[37m\u001b[0m \u001b[1m0s\u001b[0m 3ms/step - accuracy: 0.6319 - loss: 1.2555\n",
            "Epoch 7/20\n",
            "\u001b[1m31/31\u001b[0m \u001b[32m━━━━━━━━━━━━━━━━━━━━\u001b[0m\u001b[37m\u001b[0m \u001b[1m0s\u001b[0m 4ms/step - accuracy: 0.7081 - loss: 1.0543\n",
            "Epoch 8/20\n",
            "\u001b[1m31/31\u001b[0m \u001b[32m━━━━━━━━━━━━━━━━━━━━\u001b[0m\u001b[37m\u001b[0m \u001b[1m0s\u001b[0m 4ms/step - accuracy: 0.7618 - loss: 0.9376\n",
            "Epoch 9/20\n",
            "\u001b[1m31/31\u001b[0m \u001b[32m━━━━━━━━━━━━━━━━━━━━\u001b[0m\u001b[37m\u001b[0m \u001b[1m0s\u001b[0m 3ms/step - accuracy: 0.7581 - loss: 0.8299\n",
            "Epoch 10/20\n",
            "\u001b[1m31/31\u001b[0m \u001b[32m━━━━━━━━━━━━━━━━━━━━\u001b[0m\u001b[37m\u001b[0m \u001b[1m0s\u001b[0m 4ms/step - accuracy: 0.8403 - loss: 0.6622\n",
            "Epoch 11/20\n",
            "\u001b[1m31/31\u001b[0m \u001b[32m━━━━━━━━━━━━━━━━━━━━\u001b[0m\u001b[37m\u001b[0m \u001b[1m0s\u001b[0m 4ms/step - accuracy: 0.8657 - loss: 0.5917\n",
            "Epoch 12/20\n",
            "\u001b[1m31/31\u001b[0m \u001b[32m━━━━━━━━━━━━━━━━━━━━\u001b[0m\u001b[37m\u001b[0m \u001b[1m0s\u001b[0m 2ms/step - accuracy: 0.8048 - loss: 0.6049\n",
            "Epoch 13/20\n",
            "\u001b[1m31/31\u001b[0m \u001b[32m━━━━━━━━━━━━━━━━━━━━\u001b[0m\u001b[37m\u001b[0m \u001b[1m0s\u001b[0m 2ms/step - accuracy: 0.8707 - loss: 0.5400\n",
            "Epoch 14/20\n",
            "\u001b[1m31/31\u001b[0m \u001b[32m━━━━━━━━━━━━━━━━━━━━\u001b[0m\u001b[37m\u001b[0m \u001b[1m0s\u001b[0m 2ms/step - accuracy: 0.9202 - loss: 0.4047\n",
            "Epoch 15/20\n",
            "\u001b[1m31/31\u001b[0m \u001b[32m━━━━━━━━━━━━━━━━━━━━\u001b[0m\u001b[37m\u001b[0m \u001b[1m0s\u001b[0m 2ms/step - accuracy: 0.9414 - loss: 0.3295\n",
            "Epoch 16/20\n",
            "\u001b[1m31/31\u001b[0m \u001b[32m━━━━━━━━━━━━━━━━━━━━\u001b[0m\u001b[37m\u001b[0m \u001b[1m0s\u001b[0m 2ms/step - accuracy: 0.9144 - loss: 0.3277\n",
            "Epoch 17/20\n",
            "\u001b[1m31/31\u001b[0m \u001b[32m━━━━━━━━━━━━━━━━━━━━\u001b[0m\u001b[37m\u001b[0m \u001b[1m0s\u001b[0m 2ms/step - accuracy: 0.9442 - loss: 0.3058\n",
            "Epoch 18/20\n",
            "\u001b[1m31/31\u001b[0m \u001b[32m━━━━━━━━━━━━━━━━━━━━\u001b[0m\u001b[37m\u001b[0m \u001b[1m0s\u001b[0m 2ms/step - accuracy: 0.9509 - loss: 0.2522\n",
            "Epoch 19/20\n",
            "\u001b[1m31/31\u001b[0m \u001b[32m━━━━━━━━━━━━━━━━━━━━\u001b[0m\u001b[37m\u001b[0m \u001b[1m0s\u001b[0m 2ms/step - accuracy: 0.9248 - loss: 0.2958\n",
            "Epoch 20/20\n",
            "\u001b[1m31/31\u001b[0m \u001b[32m━━━━━━━━━━━━━━━━━━━━\u001b[0m\u001b[37m\u001b[0m \u001b[1m0s\u001b[0m 2ms/step - accuracy: 0.9409 - loss: 0.2482\n"
          ]
        },
        {
          "output_type": "execute_result",
          "data": {
            "text/plain": [
              "<keras.src.callbacks.history.History at 0x7beb4fbbfaf0>"
            ]
          },
          "metadata": {},
          "execution_count": 34
        }
      ],
      "source": [
        "nn_model = keras.Sequential([\n",
        "    keras.layers.Flatten(input_shape=[2700]),\n",
        "    keras.layers.Dense(450, activation=tf.nn.tanh),\n",
        "    keras.layers.Dense(225, activation=tf.nn.tanh),\n",
        "    keras.layers.Dense(100, activation=tf.nn.tanh),\n",
        "    keras.layers.Dense(50, activation=tf.nn.softmax)\n",
        "])\n",
        "nn_model.compile(optimizer='adam', loss='sparse_categorical_crossentropy', metrics=['accuracy'])\n",
        "nn_model.fit(X_train, Y_train, epochs=20)"
      ]
    },
    {
      "cell_type": "code",
      "execution_count": 35,
      "id": "DuODt8Xzl0Vg",
      "metadata": {
        "id": "DuODt8Xzl0Vg",
        "colab": {
          "base_uri": "https://localhost:8080/"
        },
        "outputId": "f7ada475-e203-45a5-cb7e-c50edf8a46cb"
      },
      "outputs": [
        {
          "output_type": "stream",
          "name": "stdout",
          "text": [
            "\u001b[1m8/8\u001b[0m \u001b[32m━━━━━━━━━━━━━━━━━━━━\u001b[0m\u001b[37m\u001b[0m \u001b[1m1s\u001b[0m 110ms/step - accuracy: 0.8405 - loss: 0.6440\n"
          ]
        },
        {
          "output_type": "execute_result",
          "data": {
            "text/plain": [
              "[0.6228020787239075, 0.8395061492919922]"
            ]
          },
          "metadata": {},
          "execution_count": 35
        }
      ],
      "source": [
        "nn_model.evaluate(X_test, Y_test)"
      ]
    },
    {
      "cell_type": "markdown",
      "id": "IAHzeVx_tImO",
      "metadata": {
        "id": "IAHzeVx_tImO"
      },
      "source": [
        "#### Experiment using Dropout, Regularization and Batch Normalization"
      ]
    },
    {
      "cell_type": "code",
      "execution_count": 36,
      "id": "U1jmTcxftqpq",
      "metadata": {
        "id": "U1jmTcxftqpq",
        "colab": {
          "base_uri": "https://localhost:8080/"
        },
        "outputId": "e1f8f82d-51a0-4efd-8674-91ff44beec38"
      },
      "outputs": [
        {
          "output_type": "stream",
          "name": "stdout",
          "text": [
            "Epoch 1/20\n",
            "\u001b[1m31/31\u001b[0m \u001b[32m━━━━━━━━━━━━━━━━━━━━\u001b[0m\u001b[37m\u001b[0m \u001b[1m6s\u001b[0m 59ms/step - accuracy: 0.2698 - loss: 16.8966\n",
            "Epoch 2/20\n",
            "\u001b[1m31/31\u001b[0m \u001b[32m━━━━━━━━━━━━━━━━━━━━\u001b[0m\u001b[37m\u001b[0m \u001b[1m1s\u001b[0m 3ms/step - accuracy: 0.6105 - loss: 4.8911\n",
            "Epoch 3/20\n",
            "\u001b[1m31/31\u001b[0m \u001b[32m━━━━━━━━━━━━━━━━━━━━\u001b[0m\u001b[37m\u001b[0m \u001b[1m0s\u001b[0m 3ms/step - accuracy: 0.7091 - loss: 2.1693\n",
            "Epoch 4/20\n",
            "\u001b[1m31/31\u001b[0m \u001b[32m━━━━━━━━━━━━━━━━━━━━\u001b[0m\u001b[37m\u001b[0m \u001b[1m0s\u001b[0m 3ms/step - accuracy: 0.7808 - loss: 1.5259\n",
            "Epoch 5/20\n",
            "\u001b[1m31/31\u001b[0m \u001b[32m━━━━━━━━━━━━━━━━━━━━\u001b[0m\u001b[37m\u001b[0m \u001b[1m0s\u001b[0m 3ms/step - accuracy: 0.8217 - loss: 1.2177\n",
            "Epoch 6/20\n",
            "\u001b[1m31/31\u001b[0m \u001b[32m━━━━━━━━━━━━━━━━━━━━\u001b[0m\u001b[37m\u001b[0m \u001b[1m0s\u001b[0m 3ms/step - accuracy: 0.8276 - loss: 1.1521\n",
            "Epoch 7/20\n",
            "\u001b[1m31/31\u001b[0m \u001b[32m━━━━━━━━━━━━━━━━━━━━\u001b[0m\u001b[37m\u001b[0m \u001b[1m0s\u001b[0m 3ms/step - accuracy: 0.8730 - loss: 1.0064\n",
            "Epoch 8/20\n",
            "\u001b[1m31/31\u001b[0m \u001b[32m━━━━━━━━━━━━━━━━━━━━\u001b[0m\u001b[37m\u001b[0m \u001b[1m0s\u001b[0m 3ms/step - accuracy: 0.8545 - loss: 1.0519\n",
            "Epoch 9/20\n",
            "\u001b[1m31/31\u001b[0m \u001b[32m━━━━━━━━━━━━━━━━━━━━\u001b[0m\u001b[37m\u001b[0m \u001b[1m0s\u001b[0m 3ms/step - accuracy: 0.8344 - loss: 1.0371\n",
            "Epoch 10/20\n",
            "\u001b[1m31/31\u001b[0m \u001b[32m━━━━━━━━━━━━━━━━━━━━\u001b[0m\u001b[37m\u001b[0m \u001b[1m0s\u001b[0m 3ms/step - accuracy: 0.8568 - loss: 0.9802\n",
            "Epoch 11/20\n",
            "\u001b[1m31/31\u001b[0m \u001b[32m━━━━━━━━━━━━━━━━━━━━\u001b[0m\u001b[37m\u001b[0m \u001b[1m0s\u001b[0m 3ms/step - accuracy: 0.8726 - loss: 0.9472\n",
            "Epoch 12/20\n",
            "\u001b[1m31/31\u001b[0m \u001b[32m━━━━━━━━━━━━━━━━━━━━\u001b[0m\u001b[37m\u001b[0m \u001b[1m0s\u001b[0m 3ms/step - accuracy: 0.8636 - loss: 0.8807\n",
            "Epoch 13/20\n",
            "\u001b[1m31/31\u001b[0m \u001b[32m━━━━━━━━━━━━━━━━━━━━\u001b[0m\u001b[37m\u001b[0m \u001b[1m0s\u001b[0m 3ms/step - accuracy: 0.8358 - loss: 0.9471\n",
            "Epoch 14/20\n",
            "\u001b[1m31/31\u001b[0m \u001b[32m━━━━━━━━━━━━━━━━━━━━\u001b[0m\u001b[37m\u001b[0m \u001b[1m0s\u001b[0m 3ms/step - accuracy: 0.8716 - loss: 0.8843\n",
            "Epoch 15/20\n",
            "\u001b[1m31/31\u001b[0m \u001b[32m━━━━━━━━━━━━━━━━━━━━\u001b[0m\u001b[37m\u001b[0m \u001b[1m0s\u001b[0m 3ms/step - accuracy: 0.9204 - loss: 0.7206\n",
            "Epoch 16/20\n",
            "\u001b[1m31/31\u001b[0m \u001b[32m━━━━━━━━━━━━━━━━━━━━\u001b[0m\u001b[37m\u001b[0m \u001b[1m0s\u001b[0m 3ms/step - accuracy: 0.8916 - loss: 0.7888\n",
            "Epoch 17/20\n",
            "\u001b[1m31/31\u001b[0m \u001b[32m━━━━━━━━━━━━━━━━━━━━\u001b[0m\u001b[37m\u001b[0m \u001b[1m0s\u001b[0m 3ms/step - accuracy: 0.9013 - loss: 0.7412\n",
            "Epoch 18/20\n",
            "\u001b[1m31/31\u001b[0m \u001b[32m━━━━━━━━━━━━━━━━━━━━\u001b[0m\u001b[37m\u001b[0m \u001b[1m0s\u001b[0m 3ms/step - accuracy: 0.9126 - loss: 0.6782\n",
            "Epoch 19/20\n",
            "\u001b[1m31/31\u001b[0m \u001b[32m━━━━━━━━━━━━━━━━━━━━\u001b[0m\u001b[37m\u001b[0m \u001b[1m0s\u001b[0m 3ms/step - accuracy: 0.8945 - loss: 0.7293\n",
            "Epoch 20/20\n",
            "\u001b[1m31/31\u001b[0m \u001b[32m━━━━━━━━━━━━━━━━━━━━\u001b[0m\u001b[37m\u001b[0m \u001b[1m0s\u001b[0m 3ms/step - accuracy: 0.9168 - loss: 0.6771\n"
          ]
        },
        {
          "output_type": "execute_result",
          "data": {
            "text/plain": [
              "<keras.src.callbacks.history.History at 0x7beb201c15d0>"
            ]
          },
          "metadata": {},
          "execution_count": 36
        }
      ],
      "source": [
        "# With Regularization and DropOut and BatchNormalization\n",
        "nn_model = keras.Sequential([\n",
        "    keras.layers.Flatten(input_shape=[2700]),\n",
        "    keras.layers.Dense(1350, activation=tf.nn.relu,kernel_regularizer=keras.regularizers.l2(0.01)),\n",
        "    keras.layers.Dense(675, activation=tf.nn.relu),\n",
        "    Dropout(rate=0.1),\n",
        "    BatchNormalization(),\n",
        "    keras.layers.Dense(43, activation=tf.nn.softmax)\n",
        "])\n",
        "\n",
        "nn_model.compile(optimizer='adam',\n",
        "              loss='sparse_categorical_crossentropy',\n",
        "              metrics=['accuracy'])\n",
        "nn_model.fit(X_train, Y_train, epochs=20)"
      ]
    },
    {
      "cell_type": "code",
      "execution_count": 37,
      "id": "F0Qesi0dt0Gu",
      "metadata": {
        "id": "F0Qesi0dt0Gu",
        "colab": {
          "base_uri": "https://localhost:8080/"
        },
        "outputId": "30a91e13-da7a-4bae-fe4c-7158addb1f85"
      },
      "outputs": [
        {
          "output_type": "stream",
          "name": "stdout",
          "text": [
            "\u001b[1m8/8\u001b[0m \u001b[32m━━━━━━━━━━━━━━━━━━━━\u001b[0m\u001b[37m\u001b[0m \u001b[1m1s\u001b[0m 88ms/step - accuracy: 0.6577 - loss: 1.7199\n"
          ]
        },
        {
          "output_type": "execute_result",
          "data": {
            "text/plain": [
              "[1.7225359678268433, 0.6707819104194641]"
            ]
          },
          "metadata": {},
          "execution_count": 37
        }
      ],
      "source": [
        "nn_model.evaluate(X_test, Y_test)"
      ]
    },
    {
      "cell_type": "markdown",
      "id": "MhWaGRRfs7tv",
      "metadata": {
        "id": "MhWaGRRfs7tv"
      },
      "source": [
        "### Report Analysis\n",
        "\n",
        "* According to the confusion matrix, for which sign were the maximum misclassifications observed? Comment on the misclassification, owing to similar appearing traffic signs, if any.\n",
        "* Comment on the performance of the MLP Classifier\n",
        "* Discuss the optimal number of layers, activation functions, optimizers etc. that yielded the best accuracy\n",
        "* Report on training time vs convergence"
      ]
    },
    {
      "cell_type": "code",
      "execution_count": 38,
      "id": "CjZOi2tsKuMn",
      "metadata": {
        "id": "CjZOi2tsKuMn",
        "colab": {
          "base_uri": "https://localhost:8080/"
        },
        "outputId": "53513dd1-5b4a-43d2-a84e-ec51318c0e54"
      },
      "outputs": [
        {
          "output_type": "stream",
          "name": "stdout",
          "text": [
            "\u001b[1m8/8\u001b[0m \u001b[32m━━━━━━━━━━━━━━━━━━━━\u001b[0m\u001b[37m\u001b[0m \u001b[1m0s\u001b[0m 35ms/step\n"
          ]
        },
        {
          "output_type": "execute_result",
          "data": {
            "text/plain": [
              "array([38, 12, 38, 35, 23, 13,  4,  1,  1,  8,  8, 35, 23,  1,  5,  4,  1,\n",
              "        8,  9, 26,  1, 30, 17, 35, 38,  1,  9, 12,  6, 12,  1, 16, 12,  1,\n",
              "       24, 23,  7, 13,  1, 12, 38,  4,  4, 12,  1, 23,  3, 35, 12,  6, 28,\n",
              "       11, 13,  4, 26,  1, 23, 23, 38,  4,  6,  4, 17, 12,  4, 11, 23,  7,\n",
              "       38, 41, 22,  1, 35, 28, 42, 12, 41, 42, 13, 13,  4,  4,  4, 26,  1,\n",
              "        4,  1,  8, 22,  8,  1, 26,  1, 13, 42,  1, 13, 23, 36, 38,  8,  4,\n",
              "       38, 24, 10,  1,  4, 22, 12, 42, 13, 12, 38,  4, 10, 13, 20,  6,  1,\n",
              "       13, 38,  1, 23, 22, 10, 20,  4, 10, 20, 39, 25, 12,  1,  8, 20,  1,\n",
              "       35, 10,  1,  7, 35, 11,  9, 12, 26,  1,  8, 13,  4, 14, 14, 10,  1,\n",
              "       38, 38,  1,  9,  3, 12,  6,  4,  1,  1,  9, 38,  1,  4, 38, 26, 23,\n",
              "       38,  8,  4,  1, 13,  1,  4,  1,  2,  4, 38,  4, 13,  8, 13,  4, 13,\n",
              "        1, 20,  7, 38, 10, 10, 42, 12,  9, 23, 13,  1, 20, 26, 17, 12,  7,\n",
              "       38, 11, 12, 12, 26,  1,  1, 38,  4, 39, 13, 15, 38,  9, 38,  7, 35,\n",
              "       12, 10, 26, 13,  4, 11, 12,  1,  4, 35, 12, 10,  1, 13, 12, 13, 14,\n",
              "        1, 13,  4, 36, 41])"
            ]
          },
          "metadata": {},
          "execution_count": 38
        }
      ],
      "source": [
        "predict_test = nn_model.predict(X_test)\n",
        "predict_test = np.argmax(predict_test,axis=1)\n",
        "predict_test"
      ]
    },
    {
      "cell_type": "code",
      "execution_count": 39,
      "id": "OImi9JCWLXRm",
      "metadata": {
        "id": "OImi9JCWLXRm",
        "colab": {
          "base_uri": "https://localhost:8080/"
        },
        "outputId": "7c093803-357a-4243-fb07-9ef0e3991415"
      },
      "outputs": [
        {
          "output_type": "execute_result",
          "data": {
            "text/plain": [
              "array([[ 0,  1,  0, ...,  0,  0,  0],\n",
              "       [ 0, 10,  0, ...,  0,  0,  0],\n",
              "       [ 0, 16,  1, ...,  0,  0,  0],\n",
              "       ...,\n",
              "       [ 0,  0,  0, ...,  0,  0,  1],\n",
              "       [ 0,  0,  0, ...,  0,  2,  0],\n",
              "       [ 0,  0,  0, ...,  0,  0,  1]])"
            ]
          },
          "metadata": {},
          "execution_count": 39
        }
      ],
      "source": [
        "metrics.confusion_matrix(Y_test, predict_test)"
      ]
    },
    {
      "cell_type": "code",
      "execution_count": 40,
      "id": "FyGQBXTOLhzF",
      "metadata": {
        "id": "FyGQBXTOLhzF",
        "colab": {
          "base_uri": "https://localhost:8080/"
        },
        "outputId": "30e5da98-9515-432b-f97f-462ff18f7814"
      },
      "outputs": [
        {
          "output_type": "stream",
          "name": "stdout",
          "text": [
            "              precision    recall  f1-score   support\n",
            "\n",
            "           0       0.00      0.00      0.00         1\n",
            "           1       0.26      0.83      0.39        12\n",
            "           2       1.00      0.05      0.09        21\n",
            "           3       1.00      0.50      0.67         4\n",
            "           4       0.46      1.00      0.63        13\n",
            "           5       1.00      0.08      0.15        12\n",
            "           6       0.40      1.00      0.57         2\n",
            "           7       1.00      0.86      0.92         7\n",
            "           8       1.00      0.67      0.80        15\n",
            "           9       1.00      1.00      1.00         7\n",
            "          10       1.00      0.77      0.87        13\n",
            "          11       1.00      0.71      0.83         7\n",
            "          12       0.91      0.91      0.91        22\n",
            "          13       0.86      0.95      0.90        19\n",
            "          14       1.00      0.60      0.75         5\n",
            "          15       1.00      0.33      0.50         3\n",
            "          16       1.00      1.00      1.00         1\n",
            "          17       0.67      0.67      0.67         3\n",
            "          18       0.00      0.00      0.00         5\n",
            "          20       0.50      0.75      0.60         4\n",
            "          22       1.00      1.00      1.00         4\n",
            "          23       0.45      0.83      0.59         6\n",
            "          24       0.00      0.00      0.00         1\n",
            "          25       1.00      0.25      0.40         4\n",
            "          26       0.44      0.80      0.57         5\n",
            "          27       0.00      0.00      0.00         2\n",
            "          28       0.50      0.33      0.40         3\n",
            "          29       0.00      0.00      0.00         1\n",
            "          30       1.00      0.50      0.67         2\n",
            "          32       0.00      0.00      0.00         1\n",
            "          33       0.00      0.00      0.00         2\n",
            "          34       0.00      0.00      0.00         1\n",
            "          35       0.56      1.00      0.71         5\n",
            "          36       1.00      1.00      1.00         2\n",
            "          37       0.00      0.00      0.00         1\n",
            "          38       0.95      1.00      0.98        20\n",
            "          39       1.00      1.00      1.00         2\n",
            "          40       0.00      0.00      0.00         2\n",
            "          41       0.67      1.00      0.80         2\n",
            "          42       0.20      1.00      0.33         1\n",
            "\n",
            "    accuracy                           0.67       243\n",
            "   macro avg       0.60      0.56      0.52       243\n",
            "weighted avg       0.78      0.67      0.64       243\n",
            "\n"
          ]
        },
        {
          "output_type": "stream",
          "name": "stderr",
          "text": [
            "/usr/local/lib/python3.10/dist-packages/sklearn/metrics/_classification.py:1565: UndefinedMetricWarning: Precision is ill-defined and being set to 0.0 in labels with no predicted samples. Use `zero_division` parameter to control this behavior.\n",
            "  _warn_prf(average, modifier, f\"{metric.capitalize()} is\", len(result))\n",
            "/usr/local/lib/python3.10/dist-packages/sklearn/metrics/_classification.py:1565: UndefinedMetricWarning: Precision is ill-defined and being set to 0.0 in labels with no predicted samples. Use `zero_division` parameter to control this behavior.\n",
            "  _warn_prf(average, modifier, f\"{metric.capitalize()} is\", len(result))\n",
            "/usr/local/lib/python3.10/dist-packages/sklearn/metrics/_classification.py:1565: UndefinedMetricWarning: Precision is ill-defined and being set to 0.0 in labels with no predicted samples. Use `zero_division` parameter to control this behavior.\n",
            "  _warn_prf(average, modifier, f\"{metric.capitalize()} is\", len(result))\n"
          ]
        }
      ],
      "source": [
        "print(metrics.classification_report(Y_test, predict_test))"
      ]
    },
    {
      "cell_type": "markdown",
      "id": "d4978243",
      "metadata": {
        "id": "d4978243"
      },
      "source": [
        "Reference: J. Stallkamp, M. Schlipsing, J. Salmen, and C. Igel. The German Traffic Sign Recognition Benchmark: A multi-class classification competition. In Proceedings of the IEEE International Joint Conference on Neural Networks, pages 1453–1460. 2011."
      ]
    }
  ],
  "metadata": {
    "accelerator": "GPU",
    "colab": {
      "gpuType": "T4",
      "provenance": [],
      "include_colab_link": true
    },
    "kernelspec": {
      "display_name": "Python 3",
      "name": "python3"
    },
    "language_info": {
      "codemirror_mode": {
        "name": "ipython",
        "version": 3
      },
      "file_extension": ".py",
      "mimetype": "text/x-python",
      "name": "python",
      "nbconvert_exporter": "python",
      "pygments_lexer": "ipython3",
      "version": "3.6.9"
    }
  },
  "nbformat": 4,
  "nbformat_minor": 5
}